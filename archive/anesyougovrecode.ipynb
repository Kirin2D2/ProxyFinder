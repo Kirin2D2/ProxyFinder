{
 "cells": [
  {
   "cell_type": "code",
   "execution_count": 85,
   "metadata": {},
   "outputs": [],
   "source": [
    "# Recode YouGov File to match ANES\n",
    "#including changing ANES predictor column names\n",
    "#and data from both files"
   ]
  },
  {
   "cell_type": "code",
   "execution_count": 86,
   "metadata": {},
   "outputs": [],
   "source": [
    "import pandas as pd\n",
    "import numpy as np\n",
    "\n",
    "\n",
    "df_yougov_filepath = r\"C:\\Users\\kirin\\Downloads\\W1_W2_W3_Merged_saved (1).dta\" # raw .dta yougov file\n",
    "df_anes_filepath = r\"C:\\Users\\kirin\\Downloads\\anes2020\\anes_timeseries_2020_stata_20220210.dta\" # raw ANES 2020 timeseries\n",
    "\n",
    "df_yougov = pd.read_stata(df_yougov_filepath, convert_categoricals=True) # categorical data for easy recoding\n",
    "df_yougov_nums = pd.read_stata(df_yougov_filepath, convert_categoricals=False) # we set a few columns to numeric to allow for easier code matching. \n",
    "\n",
    "df_yougov['abortion'] = df_yougov_nums['abortion'] ### adding abortion\n",
    "mapping = {\n",
    "    4.0 : 1.0,\n",
    "    3.0 : 2.0,\n",
    "    2.0 : 3.0,\n",
    "    1.0 : 4.0\n",
    "}\n",
    "\n",
    "df_anes = pd.read_stata(df_anes_filepath, convert_categoricals=False)\n",
    "### pre election variables: start with V201\n",
    "post_col_names = {'V202242x', 'V202245x', 'V202266', 'V202267', 'V202268', 'V202468x'} ## add predictors from post election . Remove these if not enough data\n",
    "mask = df_anes.columns.str.startswith(\"V201\") | df_anes.columns.isin(post_col_names) # keep pre election plus extra vars\n",
    "df_anes = df_anes.loc[:, mask]\n",
    "\n",
    "df_anes[df_anes < 0] = np.nan #negative numbers are used to signify categories like \"refused\" or \"inapplicable\"\n",
    "df_anes[(df_anes == 998) | (df_anes == 999) | (df_anes == 99)] = np.nan # 998/999 are don't know how to respond and 99 is no response\n"
   ]
  },
  {
   "cell_type": "code",
   "execution_count": 87,
   "metadata": {},
   "outputs": [
    {
     "name": "stdout",
     "output_type": "stream",
     "text": [
      "1:  1154\n",
      "2:  301\n",
      "3:  656\n",
      "4:  331\n",
      "1:  4017\n",
      "2:  1097\n",
      "1:  1916\n",
      "2:  870\n"
     ]
    }
   ],
   "source": [
    "### todo: Racial Resentment, Moral Traditionalism, Republican Party / Democratic Party\n",
    "df_anes = df_anes.rename(columns={#'V201028': 'turnout20post', \n",
    "                                  #'V201029': 'presvote20post',\n",
    "                                  #'V201039': 'housevote20post',\n",
    "                                  #'V201049': 'senvote20post',\n",
    "                                  #'V201128': 'trump_presidential_approval',\n",
    "                                  'V201151': 'pff_jb',\n",
    "                                  'V201152': 'pff_dt',\n",
    "                                  'V201200': 'ideo7',\n",
    "                                  'V201231x': 'pid7',\n",
    "                                  #'V201234': 'para_social_grid_2',\n",
    "                                  'V201351': 'election_fairnness',\n",
    "                                 # 'V201370': 'cab_b', #w123\n",
    "                                  'V201510': 'educ',\n",
    "                                  'V201549x': 'race', \n",
    "                                  'V201558x': 'hispanic',\n",
    "                                  'V201602': 'partisan_violence',\n",
    "                                  'V201336': 'abortion',\n",
    "                                  'V202242x': 'immigrant_citizenship',\n",
    "                                  'V202245x': 'immigrant_deport',\n",
    "                                  'V202266': 'auth_grid_1',\n",
    "                                  'V202267': 'auth_grid_3',\n",
    "                                  'V202268': 'auth_grid_2', # potentially incorrect numbering\n",
    "                                  'V202468x': 'faminc_new' #reordered\n",
    "                                  #'V202483': 'wc_together', # all of these are separated by wave\n",
    "                                 # 'V202487': 'wc_jobs',\n",
    "                                 # 'V202516': 'hardworkingvlazy',\n",
    "                                  #'V202522': 'pronenot_violence',\n",
    "                                  #'V202527': 'group_disc_black',\n",
    "                                  #'V202528': 'group_disc_hispanic',\n",
    "                                  #'V202530': 'group_disc_white'\n",
    "                                  })\n",
    "combined = [\n",
    "                   #'christian_nationalism',\n",
    "                   #'turnout20post', \n",
    "                   #'presvote20post',\n",
    "                   #'housevote20post',\n",
    "                   #'senvote20post',\n",
    "                   #'trump_presidential_approval',\n",
    "                   'pff_jb',\n",
    "                   'pff_dt',\n",
    "                   'ideo7',\n",
    "                   'pid7',\n",
    "                  # 'para_social_grid_2',\n",
    "                   'election_fairnness',\n",
    "                   #'cab_b', w1, w2, w3\n",
    "                   'educ',\n",
    "                   'race',\n",
    "                   'hispanic',\n",
    "                   'partisan_violence',\n",
    "                   'immigrant_citizenship',\n",
    "                   'immigrant_deport',\n",
    "                   'auth_grid_1',\n",
    "                   'auth_grid_3',\n",
    "                   'auth_grid_2',\n",
    "                   'faminc_new',\n",
    "                   'abortion'\n",
    "                  # 'wc_together', w1, w2, w3\n",
    "                   #'wc_jobs',\n",
    "                   #'racial_id',\n",
    "                   #'hardworkingvlazy',\n",
    "                   #'pronenot_violence',\n",
    "                   #'group_disc_black',\n",
    "                   #'group_disc_hispanic',\n",
    "                   #'group_disc_white'\n",
    "                   ] \n",
    "#df_yougov = df_yougov[combined] # disable this to generate test set\n",
    "df_anes['abortion'] = df_anes['abortion'].map(mapping).fillna(np.nan).astype('float') \n",
    "\n",
    "# Count the number of 1.0s and 2.0s\n",
    "counts = df_yougov['abortion'].value_counts()\n",
    "\n",
    "# Print the counts for 1.0 and 2.0\n",
    "print('1: ', counts.get(1.0, 0))\n",
    "print('2: ', counts.get(2.0, 0))\n",
    "print('3: ', counts.get(3.0, 0))\n",
    "print('4: ', counts.get(4.0, 0))\n",
    "\n",
    "counts = df_anes['abortion'].value_counts()\n",
    "# Print the counts for 1.0 and 2.0\n",
    "print('1: ', counts.get(1.0, 0))\n",
    "print('2: ', counts.get(2.0, 0))\n",
    "print('1: ', counts.get(3.0, 0))\n",
    "print('2: ', counts.get(4.0, 0))\n"
   ]
  },
  {
   "cell_type": "code",
   "execution_count": 88,
   "metadata": {},
   "outputs": [],
   "source": [
    "#import re \n",
    "# function to extract the number from the string\n",
    "#def extract_number(entry):\n",
    "#    if isinstance(entry, str):\n",
    "#        match = re.search(r'-?\\d+(\\.\\d+)?', entry)\n",
    "#        if match:\n",
    "#            return float(match.group())  # Convert matched number to float\n",
    "#    elif isinstance(entry, (int, float)):\n",
    "#        return entry  # In case the entry already a float or int, return it as is\n",
    "#    return np.nan # if not a number , nan\n",
    "#\n",
    "# Apply function to all relevant columns\n",
    "#for column in df_anes.columns:\n",
    "#    df_anes[column] = df_anes[column].apply(extract_number).astype(float, errors='ignore')"
   ]
  },
  {
   "cell_type": "code",
   "execution_count": 89,
   "metadata": {},
   "outputs": [
    {
     "data": {
      "text/plain": [
       "\"print(df_anes['turnout20post'].unique())\""
      ]
     },
     "execution_count": 89,
     "metadata": {},
     "output_type": "execute_result"
    }
   ],
   "source": [
    "'''print(df_anes['turnout20post'].unique())'''"
   ]
  },
  {
   "cell_type": "code",
   "execution_count": 90,
   "metadata": {},
   "outputs": [],
   "source": [
    "#RACE\n",
    "#1. White, non-Hispanic\n",
    "#2. Black, non-Hispanic\n",
    "#3. Hispanic\n",
    "#4. Asian or Native Hawaiian/other Pacific Islander, non-Hispanic\n",
    "#alone\n",
    "\n",
    "\n",
    "# Create the 'white' column based on the 'race' column\n",
    "df_yougov['white'] = df_yougov['race'].apply(lambda x: 1 if x == 'White' else 0)"
   ]
  },
  {
   "cell_type": "code",
   "execution_count": 91,
   "metadata": {},
   "outputs": [
    {
     "name": "stdout",
     "output_type": "stream",
     "text": [
      "0       3.0\n",
      "1       4.0\n",
      "2       1.0\n",
      "3       4.0\n",
      "4       5.0\n",
      "       ... \n",
      "8275    1.0\n",
      "8276    1.0\n",
      "8277    3.0\n",
      "8278    1.0\n",
      "8279    4.0\n",
      "Name: race, Length: 8280, dtype: float64\n"
     ]
    }
   ],
   "source": [
    "print(df_anes['race'])"
   ]
  },
  {
   "cell_type": "code",
   "execution_count": 92,
   "metadata": {},
   "outputs": [],
   "source": [
    "df_anes['white'] = df_anes['race'].apply(lambda x: 1 if x == 1.0 else 0)"
   ]
  },
  {
   "cell_type": "code",
   "execution_count": 93,
   "metadata": {},
   "outputs": [],
   "source": [
    "#turnout20post = V201028\n",
    "# ANES: \n",
    "#-9 refused\n",
    "# -1 inapplicable\n",
    "# 1 Yes\n",
    "# 2 No\n",
    "\n",
    "mapping = {\n",
    "    'Yes': 1.0,\n",
    "    'No': 2.0\n",
    "}\n",
    "\n",
    "# Apply the mapping to the yougov column, using NaN for other entries\n",
    "#df_yougov['turnout20post'] = df_yougov['turnout20post'].map(mapping).fillna(np.nan).astype('float')"
   ]
  },
  {
   "cell_type": "code",
   "execution_count": 94,
   "metadata": {},
   "outputs": [],
   "source": [
    "# Count the number of 1.0s and 2.0s\n",
    "#counts = df_yougov['turnout20post'].value_counts()\n",
    "\n",
    "# Print the counts for 1.0 and 2.0\n",
    "#print('1: ', counts.get(1.0, 0))\n",
    "#print('2: ', counts.get(2.0, 0))\n",
    "#print(df_yougov['turnout20post'].unique())"
   ]
  },
  {
   "cell_type": "code",
   "execution_count": 95,
   "metadata": {},
   "outputs": [],
   "source": [
    "# now recode ANES\n",
    "#print(df_anes['turnout20post'].unique())\n",
    "#already done; nan, 1, 2"
   ]
  },
  {
   "cell_type": "code",
   "execution_count": 96,
   "metadata": {},
   "outputs": [
    {
     "data": {
      "text/plain": [
       "\"\\nmapping = {\\n    'Joe Biden': 1.0,\\n    'Donald Trump': 2.0,\\n}\\n# Apply the mapping to the yougov column, using NaN for other entries\\ndf_yougov['presvote20post'] = df_yougov['presvote20post'].map(mapping).fillna(np.nan).astype('float')'\\n\""
      ]
     },
     "execution_count": 96,
     "metadata": {},
     "output_type": "execute_result"
    }
   ],
   "source": [
    "#presvote20post = V201029\n",
    "#-9. Refused\n",
    "#-1. Inapplicable\n",
    "#1. Joe Biden\n",
    "#2. Donald Trump\n",
    "#3. Jo Jorgensen\n",
    "#4. Howie Hawkins\n",
    "#5. Other candidate {SPECIFY}\n",
    "#12. Specified as refused\n",
    "\n",
    "#remapping biden = 1 trump = 2\n",
    "'''\n",
    "mapping = {\n",
    "    'Joe Biden': 1.0,\n",
    "    'Donald Trump': 2.0,\n",
    "}\n",
    "# Apply the mapping to the yougov column, using NaN for other entries\n",
    "df_yougov['presvote20post'] = df_yougov['presvote20post'].map(mapping).fillna(np.nan).astype('float')'\n",
    "'''"
   ]
  },
  {
   "cell_type": "code",
   "execution_count": 97,
   "metadata": {},
   "outputs": [
    {
     "data": {
      "text/plain": [
       "\"print(df_yougov['presvote20post'].unique())\""
      ]
     },
     "execution_count": 97,
     "metadata": {},
     "output_type": "execute_result"
    }
   ],
   "source": [
    "'''print(df_yougov['presvote20post'].unique())'''"
   ]
  },
  {
   "cell_type": "code",
   "execution_count": 98,
   "metadata": {},
   "outputs": [
    {
     "data": {
      "text/plain": [
       "\"df_anes.loc[~df_anes['presvote20post'].isin([1.0, 2.0]), 'presvote20post'] = np.nan\""
      ]
     },
     "execution_count": 98,
     "metadata": {},
     "output_type": "execute_result"
    }
   ],
   "source": [
    "'''df_anes.loc[~df_anes['presvote20post'].isin([1.0, 2.0]), 'presvote20post'] = np.nan'''"
   ]
  },
  {
   "cell_type": "code",
   "execution_count": 99,
   "metadata": {},
   "outputs": [
    {
     "data": {
      "text/plain": [
       "\"print(df_anes['presvote20post'].unique())\""
      ]
     },
     "execution_count": 99,
     "metadata": {},
     "output_type": "execute_result"
    }
   ],
   "source": [
    "'''print(df_anes['presvote20post'].unique())'''"
   ]
  },
  {
   "cell_type": "code",
   "execution_count": 100,
   "metadata": {},
   "outputs": [
    {
     "data": {
      "text/plain": [
       "\"### housevote20post = V201039\\n# map 1 to democrat 2 to republican \\nmapping = {\\n    'Yes, I voted for the Republican candidate': 2.0,\\n    'Yes, I voted for the Democratic candidate': 1.0,\\n}\\n# Apply the mapping to the yougov column, using NaN for other entries\\ndf_yougov['housevote20post'] = df_yougov['housevote20post'].map(mapping).fillna(np.nan).astype('float')\""
      ]
     },
     "execution_count": 100,
     "metadata": {},
     "output_type": "execute_result"
    }
   ],
   "source": [
    "'''### housevote20post = V201039\n",
    "# map 1 to democrat 2 to republican \n",
    "mapping = {\n",
    "    'Yes, I voted for the Republican candidate': 2.0,\n",
    "    'Yes, I voted for the Democratic candidate': 1.0,\n",
    "}\n",
    "# Apply the mapping to the yougov column, using NaN for other entries\n",
    "df_yougov['housevote20post'] = df_yougov['housevote20post'].map(mapping).fillna(np.nan).astype('float')'''"
   ]
  },
  {
   "cell_type": "code",
   "execution_count": 101,
   "metadata": {},
   "outputs": [
    {
     "data": {
      "text/plain": [
       "\"print(df_yougov['housevote20post'].unique())\""
      ]
     },
     "execution_count": 101,
     "metadata": {},
     "output_type": "execute_result"
    }
   ],
   "source": [
    "'''print(df_yougov['housevote20post'].unique())'''"
   ]
  },
  {
   "cell_type": "code",
   "execution_count": 102,
   "metadata": {},
   "outputs": [
    {
     "data": {
      "text/plain": [
       "\"df_anes.loc[~df_anes['housevote20post'].isin([1.0, 2.0]), 'housevote20post'] = np.nan\""
      ]
     },
     "execution_count": 102,
     "metadata": {},
     "output_type": "execute_result"
    }
   ],
   "source": [
    "'''df_anes.loc[~df_anes['housevote20post'].isin([1.0, 2.0]), 'housevote20post'] = np.nan'''"
   ]
  },
  {
   "cell_type": "code",
   "execution_count": 103,
   "metadata": {},
   "outputs": [
    {
     "data": {
      "text/plain": [
       "\"print(df_anes['housevote20post'].unique())\""
      ]
     },
     "execution_count": 103,
     "metadata": {},
     "output_type": "execute_result"
    }
   ],
   "source": [
    "'''print(df_anes['housevote20post'].unique())'''"
   ]
  },
  {
   "cell_type": "code",
   "execution_count": 104,
   "metadata": {},
   "outputs": [
    {
     "data": {
      "text/plain": [
       "\"###senvote20post = V201049\\n# 1 dem 2 rep\\n\\nmapping = {\\n    'Yes, I voted for the Republican candidate': 2.0,\\n    'Yes, I voted for the Democratic candidate': 1.0,\\n}\\n# Apply the mapping to the yougov column, using NaN for other entries\\ndf_yougov['senvote20post'] = df_yougov['senvote20post'].map(mapping).fillna(np.nan).astype('float')\""
      ]
     },
     "execution_count": 104,
     "metadata": {},
     "output_type": "execute_result"
    }
   ],
   "source": [
    "'''###senvote20post = V201049\n",
    "# 1 dem 2 rep\n",
    "\n",
    "mapping = {\n",
    "    'Yes, I voted for the Republican candidate': 2.0,\n",
    "    'Yes, I voted for the Democratic candidate': 1.0,\n",
    "}\n",
    "# Apply the mapping to the yougov column, using NaN for other entries\n",
    "df_yougov['senvote20post'] = df_yougov['senvote20post'].map(mapping).fillna(np.nan).astype('float')'''"
   ]
  },
  {
   "cell_type": "code",
   "execution_count": 105,
   "metadata": {},
   "outputs": [
    {
     "data": {
      "text/plain": [
       "\"print(df_yougov['senvote20post'].unique())\""
      ]
     },
     "execution_count": 105,
     "metadata": {},
     "output_type": "execute_result"
    }
   ],
   "source": [
    "'''print(df_yougov['senvote20post'].unique())'''"
   ]
  },
  {
   "cell_type": "code",
   "execution_count": 106,
   "metadata": {},
   "outputs": [
    {
     "data": {
      "text/plain": [
       "\"df_anes.loc[~df_anes['senvote20post'].isin([1.0, 2.0]), 'senvote20post'] = np.nan\""
      ]
     },
     "execution_count": 106,
     "metadata": {},
     "output_type": "execute_result"
    }
   ],
   "source": [
    "'''df_anes.loc[~df_anes['senvote20post'].isin([1.0, 2.0]), 'senvote20post'] = np.nan'''"
   ]
  },
  {
   "cell_type": "code",
   "execution_count": 107,
   "metadata": {},
   "outputs": [
    {
     "data": {
      "text/plain": [
       "\"print(df_anes['senvote20post'].unique())\""
      ]
     },
     "execution_count": 107,
     "metadata": {},
     "output_type": "execute_result"
    }
   ],
   "source": [
    "'''print(df_anes['senvote20post'].unique())'''"
   ]
  },
  {
   "cell_type": "code",
   "execution_count": 108,
   "metadata": {},
   "outputs": [],
   "source": [
    "### pff_jb = V201151\n",
    "\n",
    "mapping = {\n",
    "    'Very unfavorable': 5.0, ### reverse\n",
    "    'Somewhat unfavorable': 4.0,\n",
    "    'Neutral': 3.0,\n",
    "    'Somewhat favorable': 2.0,\n",
    "    'Very favorable': 1.0\n",
    "}\n",
    "# Apply the mapping to the yougov column, using NaN for other entries\n",
    "df_yougov['pff_jb'] = df_yougov['pff_jb'].map(mapping).fillna(np.nan).astype('float')\n"
   ]
  },
  {
   "cell_type": "code",
   "execution_count": 109,
   "metadata": {},
   "outputs": [
    {
     "name": "stdout",
     "output_type": "stream",
     "text": [
      "1:  479\n",
      "2:  430\n",
      "3:  362\n",
      "4:  244\n",
      "5:  902\n"
     ]
    }
   ],
   "source": [
    "# Count the number of 1.0s and 2.0s\n",
    "counts = df_yougov['pff_jb'].value_counts()\n",
    "\n",
    "# Print the counts for 1.0 and 2.0\n",
    "print('1: ', counts.get(1.0, 0))\n",
    "print('2: ', counts.get(2.0, 0))\n",
    "print('3: ', counts.get(3.0, 0))\n",
    "print('4: ', counts.get(4.0, 0))\n",
    "print('5: ', counts.get(5.0, 0))\n"
   ]
  },
  {
   "cell_type": "code",
   "execution_count": 110,
   "metadata": {},
   "outputs": [],
   "source": [
    "#anes feeling thermom\n",
    "\n",
    "# Convert all entries to numeric, setting errors='coerce' will replace non-numeric values with NaN\n",
    "df_anes['pff_jb'] = pd.to_numeric(df_anes['pff_jb'], errors='coerce')\n",
    "\n",
    "# Replace entries that are not between 0 and 100 (inclusive) with NaN\n",
    "df_anes.loc[~((df_anes['pff_jb'] >= 0) & (df_anes['pff_jb'] <= 100)), 'pff_jb'] = np.nan\n",
    "df_anes['pff_jb'] = 100 - df_anes['pff_jb']"
   ]
  },
  {
   "cell_type": "code",
   "execution_count": 111,
   "metadata": {},
   "outputs": [
    {
     "name": "stdout",
     "output_type": "stream",
     "text": [
      "[100.  35.  30.  85.  15.  50.   0.  40.  25.  60.  20.  70.  28.  nan\n",
      "  80.  10.   5.  45.  16.  65.   3.  90.  42.   4.  14.  38.  95.  99.\n",
      "  75.  49.  91.  39.  13.  51.  98.  52.  23.  34.  87.  97.  11.  55.\n",
      "  96.  12.   2.  33.  89.  94.   7.  67.  69.  17.  48.  74.  88.  37.\n",
      "  27.  93.  64.  31.  71.]\n"
     ]
    }
   ],
   "source": [
    "print(df_anes['pff_jb'].unique())"
   ]
  },
  {
   "cell_type": "code",
   "execution_count": 112,
   "metadata": {},
   "outputs": [],
   "source": [
    "### V201152 = pff_dt\n",
    "mapping = {\n",
    "    'Very unfavorable': 1.0,\n",
    "    'Somewhat unfavorable': 2.0,\n",
    "    'Neutral': 3.0,\n",
    "    'Somewhat favorable': 4.0,\n",
    "    'Very favorable': 5.0\n",
    "}\n",
    "# Apply the mapping to the yougov column, using NaN for other entries\n",
    "df_yougov['pff_dt'] = df_yougov['pff_dt'].map(mapping).fillna(np.nan).astype('float')"
   ]
  },
  {
   "cell_type": "code",
   "execution_count": 113,
   "metadata": {},
   "outputs": [
    {
     "name": "stdout",
     "output_type": "stream",
     "text": [
      "1:  1111\n",
      "2:  176\n",
      "3:  283\n",
      "4:  310\n",
      "5:  535\n"
     ]
    }
   ],
   "source": [
    "# Count the number of 1.0s and 2.0s\n",
    "counts = df_yougov['pff_dt'].value_counts()\n",
    "\n",
    "# Print the counts for 1.0 and 2.0\n",
    "print('1: ', counts.get(1.0, 0))\n",
    "print('2: ', counts.get(2.0, 0))\n",
    "print('3: ', counts.get(3.0, 0))\n",
    "print('4: ', counts.get(4.0, 0))\n",
    "print('5: ', counts.get(5.0, 0))\n"
   ]
  },
  {
   "cell_type": "code",
   "execution_count": 114,
   "metadata": {},
   "outputs": [],
   "source": [
    "#anes feeling thermom\n",
    "\n",
    "# Convert all entries to numeric, setting errors='coerce' will replace non-numeric values with NaN\n",
    "df_anes['pff_dt'] = pd.to_numeric(df_anes['pff_dt'], errors='coerce')\n",
    "\n",
    "# Replace entries that are not between 0 and 100 (inclusive) with NaN\n",
    "df_anes.loc[~((df_anes['pff_dt'] >= 0) & (df_anes['pff_dt'] <= 100)), 'pff_dt'] = np.nan"
   ]
  },
  {
   "cell_type": "code",
   "execution_count": 115,
   "metadata": {},
   "outputs": [
    {
     "name": "stdout",
     "output_type": "stream",
     "text": [
      "[100.   0.  15.  85.  75.  40.  95.   5.  60.  nan  70.  98.  80.  30.\n",
      "  65.  50.  90.  10.  20.  18.  68.   3.  66.  52.  25.  55.  86.  45.\n",
      "   9.   1.  89.  87.   8.   7.  88.  35.   6.  24.  69.  74.  92.  49.\n",
      "   2.  72.  77.  34.  12.  94.  91.  82.  29.  56.  51.  64.]\n"
     ]
    }
   ],
   "source": [
    "print(df_anes['pff_dt'].unique())"
   ]
  },
  {
   "cell_type": "code",
   "execution_count": 116,
   "metadata": {},
   "outputs": [],
   "source": [
    "### V201200 = ideo7\n",
    "### 1 liberal to 7 conservative \n",
    "### V201152 = pff_dt\n",
    "mapping = {\n",
    "    'Extremely liberal': 1.0,\n",
    "    'Liberal': 2.0,\n",
    "    'Slightly liberal': 3.0,\n",
    "    'Moderate; middle of the road': 4.0,\n",
    "    'Slightly conservative': 5.0,\n",
    "    'Conservative': 6.0,\n",
    "    'Extremely conservative': 7.0\n",
    "}\n",
    "# Apply the mapping to the yougov column, using NaN for other entries\n",
    "df_yougov['ideo7'] = df_yougov['ideo7'].map(mapping).fillna(np.nan).astype('float')"
   ]
  },
  {
   "cell_type": "code",
   "execution_count": 117,
   "metadata": {},
   "outputs": [
    {
     "name": "stdout",
     "output_type": "stream",
     "text": [
      "1:  202\n",
      "2:  404\n",
      "3:  159\n",
      "4:  811\n",
      "5:  190\n",
      "6:  443\n",
      "7:  233\n"
     ]
    }
   ],
   "source": [
    "# Count the number of 1.0s and 2.0s\n",
    "counts = df_yougov['ideo7'].value_counts()\n",
    "\n",
    "# Print the counts for 1.0 and 2.0\n",
    "print('1: ', counts.get(1.0, 0))\n",
    "print('2: ', counts.get(2.0, 0))\n",
    "print('3: ', counts.get(3.0, 0))\n",
    "print('4: ', counts.get(4.0, 0))\n",
    "print('5: ', counts.get(5.0, 0))\n",
    "print('6: ', counts.get(6.0, 0))\n",
    "print('7: ', counts.get(7.0, 0))\n"
   ]
  },
  {
   "cell_type": "code",
   "execution_count": 118,
   "metadata": {},
   "outputs": [],
   "source": [
    "df_anes.loc[~df_anes['ideo7'].isin([1.0, 2.0, 3.0, 4.0, 5.0, 6.0, 7.0]), 'ideo7'] = np.nan"
   ]
  },
  {
   "cell_type": "code",
   "execution_count": 119,
   "metadata": {},
   "outputs": [
    {
     "name": "stdout",
     "output_type": "stream",
     "text": [
      "[ 6.  4.  2.  3.  5. nan  1.  7.]\n"
     ]
    }
   ],
   "source": [
    "print(df_anes['ideo7'].unique())"
   ]
  },
  {
   "cell_type": "code",
   "execution_count": 120,
   "metadata": {},
   "outputs": [
    {
     "name": "stdout",
     "output_type": "stream",
     "text": [
      "[ 7.  4.  3.  6.  2.  1.  5. nan]\n"
     ]
    }
   ],
   "source": [
    "### pid7 = V201231x\n",
    "#1 dem to 7 republican\n",
    "df_anes.loc[~df_anes['pid7'].isin([1.0, 2.0, 3.0, 4.0, 5.0, 6.0, 7.0]), 'pid7'] = np.nan\n",
    "print(df_anes['pid7'].unique())"
   ]
  },
  {
   "cell_type": "code",
   "execution_count": 121,
   "metadata": {},
   "outputs": [],
   "source": [
    "\n",
    "mapping = {\n",
    "    'Strong Democrat': 1.0,\n",
    "    'Not very strong Democrat': 2.0,\n",
    "    'Lean Democrat': 3.0,\n",
    "    'Independent': 4.0,\n",
    "    'Lean Republican': 5.0,\n",
    "    'Not very strong Republican': 6.0,\n",
    "    'Strong Republican': 7.0\n",
    "}\n",
    "# Apply the mapping to the yougov column, using NaN for other entries\n",
    "df_yougov['pid7'] = df_yougov['pid7'].map(mapping).fillna(np.nan).astype('float')"
   ]
  },
  {
   "cell_type": "code",
   "execution_count": 122,
   "metadata": {},
   "outputs": [
    {
     "name": "stdout",
     "output_type": "stream",
     "text": [
      "1:  567\n",
      "2:  286\n",
      "3:  203\n",
      "4:  456\n",
      "5:  219\n",
      "6:  203\n",
      "7:  418\n"
     ]
    }
   ],
   "source": [
    "counts = df_yougov['pid7'].value_counts()\n",
    "# Print the counts \n",
    "print('1: ', counts.get(1.0, 0))\n",
    "print('2: ', counts.get(2.0, 0))\n",
    "print('3: ', counts.get(3.0, 0))\n",
    "print('4: ', counts.get(4.0, 0))\n",
    "print('5: ', counts.get(5.0, 0))\n",
    "print('6: ', counts.get(6.0, 0))\n",
    "print('7: ', counts.get(7.0, 0))"
   ]
  },
  {
   "cell_type": "code",
   "execution_count": 123,
   "metadata": {},
   "outputs": [
    {
     "data": {
      "text/plain": [
       "\"# V201351 = election_fairnness\\n#anes 1 not confident to 5 confident\\n\\ndf_anes.loc[~df_anes['election_fairnness'].isin([1.0, 2.0, 3.0, 4.0, 5.0]), 'election_fairnness'] = np.nan\\nprint(df_anes['election_fairnness'].unique())\""
      ]
     },
     "execution_count": 123,
     "metadata": {},
     "output_type": "execute_result"
    }
   ],
   "source": [
    "'''# V201351 = election_fairnness\n",
    "#anes 1 not confident to 5 confident\n",
    "\n",
    "df_anes.loc[~df_anes['election_fairnness'].isin([1.0, 2.0, 3.0, 4.0, 5.0]), 'election_fairnness'] = np.nan\n",
    "print(df_anes['election_fairnness'].unique())'''\n"
   ]
  },
  {
   "cell_type": "code",
   "execution_count": 124,
   "metadata": {},
   "outputs": [
    {
     "data": {
      "text/plain": [
       "\"\\nmapping = {\\n    'Extremely confident': 5.0,\\n    'Very confident': 4.0,\\n    'Moderately confident': 3.0,\\n    'A little confident': 2.0,\\n    'Not at all confident': 1.0\\n}\\n# Apply the mapping to the yougov column, using NaN for other entries\\ndf_yougov['election_fairnness'] = df_yougov['election_fairnness'].map(mapping).fillna(np.nan).astype('float')\""
      ]
     },
     "execution_count": 124,
     "metadata": {},
     "output_type": "execute_result"
    }
   ],
   "source": [
    "'''\n",
    "mapping = {\n",
    "    'Extremely confident': 5.0,\n",
    "    'Very confident': 4.0,\n",
    "    'Moderately confident': 3.0,\n",
    "    'A little confident': 2.0,\n",
    "    'Not at all confident': 1.0\n",
    "}\n",
    "# Apply the mapping to the yougov column, using NaN for other entries\n",
    "df_yougov['election_fairnness'] = df_yougov['election_fairnness'].map(mapping).fillna(np.nan).astype('float')'''"
   ]
  },
  {
   "cell_type": "code",
   "execution_count": 125,
   "metadata": {},
   "outputs": [
    {
     "data": {
      "text/plain": [
       "\"counts = df_yougov['election_fairnness'].value_counts()\\n# Print the counts \\nprint('1: ', counts.get(1.0, 0))\\nprint('2: ', counts.get(2.0, 0))\\nprint('3: ', counts.get(3.0, 0))\\nprint('4: ', counts.get(4.0, 0))\\nprint('5: ', counts.get(5.0, 0))\""
      ]
     },
     "execution_count": 125,
     "metadata": {},
     "output_type": "execute_result"
    }
   ],
   "source": [
    "'''counts = df_yougov['election_fairnness'].value_counts()\n",
    "# Print the counts \n",
    "print('1: ', counts.get(1.0, 0))\n",
    "print('2: ', counts.get(2.0, 0))\n",
    "print('3: ', counts.get(3.0, 0))\n",
    "print('4: ', counts.get(4.0, 0))\n",
    "print('5: ', counts.get(5.0, 0))'''"
   ]
  },
  {
   "cell_type": "code",
   "execution_count": 126,
   "metadata": {},
   "outputs": [
    {
     "name": "stdout",
     "output_type": "stream",
     "text": [
      "[ 1.  4.  5.  3. nan  6.  2.]\n"
     ]
    }
   ],
   "source": [
    "### V201510 = educ\n",
    "# ANES : \n",
    "# 1 less than hs\n",
    "# 2. high school\n",
    "#3. some college no degree\n",
    "#4. associate degree in college - occupational/vocational\n",
    "#5. Associate degree in college - academic\n",
    "# 6. bachelor's degree \n",
    "#7. Master's degree\n",
    "# 8. Professional/doctorate degree\n",
    "\n",
    "df_anes.loc[~df_anes['educ'].isin([1.0, 2.0, 3.0, 4.0, 5.0, 6.0, 7.0, 8.0]), 'educ'] = np.nan\n",
    "mapping = { # reverse coding so liberal (high education) is low\n",
    "    1.0: 6.0,\n",
    "    2.0: 5.0,\n",
    "    3.0: 4.0,\n",
    "    4.0: 3.0,\n",
    "    5.0: 2.0,\n",
    "    6.0: 1.0\n",
    "}\n",
    "df_anes['educ'] = df_anes['educ'].map(mapping).fillna(np.nan).astype('float')\n",
    "print(df_anes['educ'].unique())"
   ]
  },
  {
   "cell_type": "code",
   "execution_count": 127,
   "metadata": {},
   "outputs": [],
   "source": [
    "#YG: indirect mapping where 1 is no educ and 6 is high\n",
    "\n",
    "mapping = { # reverse coding so liberal (high education) is low\n",
    "    'No HS': 6.0,\n",
    "    'High school graduate': 5.0,\n",
    "    'Some college': 4.0,\n",
    "    '2-year': 3.0,\n",
    "    '4-year': 2.0,\n",
    "    'Post-grad': 1.0\n",
    "}\n",
    "# Apply the mapping to the yougov column, using NaN for other entries\n",
    "df_yougov['educ'] = df_yougov['educ'].map(mapping).fillna(np.nan).astype('float')"
   ]
  },
  {
   "cell_type": "code",
   "execution_count": 128,
   "metadata": {},
   "outputs": [
    {
     "data": {
      "text/plain": [
       "\"counts = df_yougov['educ'].value_counts()\\n# Print the counts \\nprint('1: ', counts.get(1.0, 0))\\nprint('2: ', counts.get(2.0, 0))\\nprint('3: ', counts.get(3.0, 0))\\nprint('4: ', counts.get(4.0, 0))\\nprint('5: ', counts.get(5.0, 0))\""
      ]
     },
     "execution_count": 128,
     "metadata": {},
     "output_type": "execute_result"
    }
   ],
   "source": [
    "'''counts = df_yougov['educ'].value_counts()\n",
    "# Print the counts \n",
    "print('1: ', counts.get(1.0, 0))\n",
    "print('2: ', counts.get(2.0, 0))\n",
    "print('3: ', counts.get(3.0, 0))\n",
    "print('4: ', counts.get(4.0, 0))\n",
    "print('5: ', counts.get(5.0, 0))'''"
   ]
  },
  {
   "cell_type": "code",
   "execution_count": 129,
   "metadata": {},
   "outputs": [
    {
     "data": {
      "text/plain": [
       "\"### V201558x = hispanic\\n# recoding all to 1. yes 2. no\\n\\nmapping = {\\n    1.0: 1.0,\\n    2.0: 1.0,\\n    3.0: 1.0,\\n    4.0: 1.0,\\n    7.0: 2.0\\n}\\ndf_anes['hispanic'] = df_anes['hispanic'].map(mapping).fillna(np.nan)\\ndf_anes.loc[~df_anes['hispanic'].isin([1.0, 2.0]), 'hispanic'] = np.nan\\nprint(df_anes['hispanic'].unique())\""
      ]
     },
     "execution_count": 129,
     "metadata": {},
     "output_type": "execute_result"
    }
   ],
   "source": [
    "'''### V201558x = hispanic\n",
    "# recoding all to 1. yes 2. no\n",
    "\n",
    "mapping = {\n",
    "    1.0: 1.0,\n",
    "    2.0: 1.0,\n",
    "    3.0: 1.0,\n",
    "    4.0: 1.0,\n",
    "    7.0: 2.0\n",
    "}\n",
    "df_anes['hispanic'] = df_anes['hispanic'].map(mapping).fillna(np.nan)\n",
    "df_anes.loc[~df_anes['hispanic'].isin([1.0, 2.0]), 'hispanic'] = np.nan\n",
    "print(df_anes['hispanic'].unique())'''\n"
   ]
  },
  {
   "cell_type": "code",
   "execution_count": 130,
   "metadata": {},
   "outputs": [
    {
     "data": {
      "text/plain": [
       "\"mapping = {\\n    'Yes': 1.0,\\n    'No': 2.0\\n}\\n#yougov column\\ndf_yougov['hispanic'] = df_yougov['hispanic'].map(mapping).fillna(np.nan).astype(float)\""
      ]
     },
     "execution_count": 130,
     "metadata": {},
     "output_type": "execute_result"
    }
   ],
   "source": [
    "'''mapping = {\n",
    "    'Yes': 1.0,\n",
    "    'No': 2.0\n",
    "}\n",
    "#yougov column\n",
    "df_yougov['hispanic'] = df_yougov['hispanic'].map(mapping).fillna(np.nan).astype(float)'''"
   ]
  },
  {
   "cell_type": "code",
   "execution_count": 131,
   "metadata": {},
   "outputs": [
    {
     "data": {
      "text/plain": [
       "\"counts = df_yougov['hispanic'].value_counts()\\n# Print the counts \\nprint('1: ', counts.get(1.0, 0))\\nprint('2: ', counts.get(2.0, 0))\\nprint('3: ', counts.get(3.0, 0))\""
      ]
     },
     "execution_count": 131,
     "metadata": {},
     "output_type": "execute_result"
    }
   ],
   "source": [
    "'''counts = df_yougov['hispanic'].value_counts()\n",
    "# Print the counts \n",
    "print('1: ', counts.get(1.0, 0))\n",
    "print('2: ', counts.get(2.0, 0))\n",
    "print('3: ', counts.get(3.0, 0))'''"
   ]
  },
  {
   "cell_type": "code",
   "execution_count": 132,
   "metadata": {},
   "outputs": [
    {
     "data": {
      "text/plain": [
       "\"# partisan_violence = V201602\\n# anes 1 not at all to 5 a great deal\\ndf_anes.loc[~df_anes['partisan_violence'].isin([1.0, 2.0, 3.0, 4.0, 5.0]), 'partisan_violence'] = np.nan\\nprint(df_anes['partisan_violence'].unique())\""
      ]
     },
     "execution_count": 132,
     "metadata": {},
     "output_type": "execute_result"
    }
   ],
   "source": [
    "'''# partisan_violence = V201602\n",
    "# anes 1 not at all to 5 a great deal\n",
    "df_anes.loc[~df_anes['partisan_violence'].isin([1.0, 2.0, 3.0, 4.0, 5.0]), 'partisan_violence'] = np.nan\n",
    "print(df_anes['partisan_violence'].unique())'''\n"
   ]
  },
  {
   "cell_type": "code",
   "execution_count": 133,
   "metadata": {},
   "outputs": [
    {
     "data": {
      "text/plain": [
       "\"mapping = {\\n    'Always': 1.0,\\n    'Frequently': 2.0,\\n    'Occasionally': 3.0,\\n    'Never': 4.0\\n}\\n# yougov column\\ndf_yougov['partisan_violence'] = df_yougov['partisan_violence'].map(mapping).fillna(np.nan).astype(float)\""
      ]
     },
     "execution_count": 133,
     "metadata": {},
     "output_type": "execute_result"
    }
   ],
   "source": [
    "'''mapping = {\n",
    "    'Always': 1.0,\n",
    "    'Frequently': 2.0,\n",
    "    'Occasionally': 3.0,\n",
    "    'Never': 4.0\n",
    "}\n",
    "# yougov column\n",
    "df_yougov['partisan_violence'] = df_yougov['partisan_violence'].map(mapping).fillna(np.nan).astype(float)'''"
   ]
  },
  {
   "cell_type": "code",
   "execution_count": 134,
   "metadata": {},
   "outputs": [
    {
     "data": {
      "text/plain": [
       "\"counts = df_yougov['partisan_violence'].value_counts()\\n# Print the counts \\nprint('1: ', counts.get(1.0, 0))\\nprint('2: ', counts.get(2.0, 0))\\nprint('3: ', counts.get(3.0, 0))\\nprint('4: ', counts.get(4.0, 0))\""
      ]
     },
     "execution_count": 134,
     "metadata": {},
     "output_type": "execute_result"
    }
   ],
   "source": [
    "'''counts = df_yougov['partisan_violence'].value_counts()\n",
    "# Print the counts \n",
    "print('1: ', counts.get(1.0, 0))\n",
    "print('2: ', counts.get(2.0, 0))\n",
    "print('3: ', counts.get(3.0, 0))\n",
    "print('4: ', counts.get(4.0, 0))'''"
   ]
  },
  {
   "cell_type": "code",
   "execution_count": 135,
   "metadata": {},
   "outputs": [
    {
     "name": "stdout",
     "output_type": "stream",
     "text": [
      "[ 7.  5.  6.  1.  4.  2.  3. nan]\n"
     ]
    }
   ],
   "source": [
    "### V202242x = immigrant_citizenship\n",
    "# 1 favor to 7 oppose\n",
    "\n",
    "df_anes.loc[~df_anes['immigrant_citizenship'].isin([1.0, 2.0, 3.0, 4.0, 5.0, 6.0, 7.0]), 'immigrant_citizenship'] = np.nan\n",
    "mapping = {\n",
    "    7.0: 1.0,\n",
    "    6.0: 2.0,\n",
    "    5.0: 3.0,\n",
    "    4.0: 4.0,\n",
    "    3.0: 5.0,\n",
    "    2.0: 6.0,\n",
    "    1.0: 7.0\n",
    "}\n",
    "df_anes['immigrant_citizenship'] = df_anes['immigrant_citizenship'].map(mapping).fillna(np.nan).astype(float)\n",
    "print(df_anes['immigrant_citizenship'].unique())"
   ]
  },
  {
   "cell_type": "code",
   "execution_count": 136,
   "metadata": {},
   "outputs": [],
   "source": [
    "mapping = {\n",
    "    'Favor a great deal': 7.0,\n",
    "    'Favor a moderate amount': 6.0,\n",
    "    'Favor a little': 5.0,\n",
    "    'Neither favor nor oppose': 4.0,\n",
    "    'Oppose a little': 3.0,\n",
    "    'Oppose a moderate amount': 2.0,\n",
    "    'Oppose a great deal': 1.0\n",
    "}\n",
    "#yougov column\n",
    "df_yougov['immigrant_citizenship'] = df_yougov['immigrant_citizenship'].map(mapping).fillna(np.nan).astype(float)"
   ]
  },
  {
   "cell_type": "code",
   "execution_count": 137,
   "metadata": {},
   "outputs": [
    {
     "name": "stdout",
     "output_type": "stream",
     "text": [
      "1:  417\n",
      "2:  159\n",
      "3:  131\n",
      "4:  446\n",
      "5:  295\n",
      "6:  337\n",
      "7:  657\n"
     ]
    }
   ],
   "source": [
    "counts = df_yougov['immigrant_citizenship'].value_counts()\n",
    "# Print the counts \n",
    "print('1: ', counts.get(1.0, 0))\n",
    "print('2: ', counts.get(2.0, 0))\n",
    "print('3: ', counts.get(3.0, 0))\n",
    "print('4: ', counts.get(4.0, 0))\n",
    "print('5: ', counts.get(5.0, 0))\n",
    "print('6: ', counts.get(6.0, 0))\n",
    "print('7: ', counts.get(7.0, 0))"
   ]
  },
  {
   "cell_type": "code",
   "execution_count": 138,
   "metadata": {},
   "outputs": [
    {
     "name": "stdout",
     "output_type": "stream",
     "text": [
      "[ 7.  4.  1.  6.  2.  3. nan  5.]\n"
     ]
    }
   ],
   "source": [
    "### immigrant_deport = V202245x\n",
    "# 1 favor to 7 oppose\n",
    "\n",
    "df_anes.loc[~df_anes['immigrant_deport'].isin([1.0, 2.0, 3.0, 4.0, 5.0, 6.0, 7.0]), 'immigrant_deport'] = np.nan\n",
    "mapping = {\n",
    "    1.0: 7.0, ### reverse order\n",
    "    2.0: 6.0,\n",
    "    3.0: 5.0,\n",
    "    4.0: 4.0,\n",
    "    5.0: 3.0,\n",
    "    6.0: 2.0,\n",
    "    7.0: 1.0\n",
    "}\n",
    "df_anes['immigrant_deport'] = df_anes['immigrant_deport'].map(mapping).fillna(np.nan).astype(float)\n",
    "print(df_anes['immigrant_deport'].unique())"
   ]
  },
  {
   "cell_type": "code",
   "execution_count": 139,
   "metadata": {},
   "outputs": [],
   "source": [
    "mapping = {\n",
    "    'Favor a great deal': 1.0, ### reverse order\n",
    "    'Favor a moderate amount': 2.0,\n",
    "    'Favor a little': 3.0,\n",
    "    'Neither favor nor oppose': 4.0,\n",
    "    'Oppose a little': 5.0,\n",
    "    'Oppose a moderate amount': 6.0,\n",
    "    'Oppose a great deal': 7.0\n",
    "}\n",
    "#yougov column\n",
    "df_yougov['immigrant_deport'] = df_yougov['immigrant_deport'].map(mapping).fillna(np.nan).astype(float)"
   ]
  },
  {
   "cell_type": "code",
   "execution_count": 140,
   "metadata": {},
   "outputs": [
    {
     "name": "stdout",
     "output_type": "stream",
     "text": [
      "1:  408\n",
      "2:  207\n",
      "3:  199\n",
      "4:  536\n",
      "5:  215\n",
      "6:  233\n",
      "7:  644\n"
     ]
    }
   ],
   "source": [
    "# NOTE: suspicious numbers differ from logged yougov data\n",
    "counts = df_yougov['immigrant_deport'].value_counts()\n",
    "# Print the counts \n",
    "print('1: ', counts.get(1.0, 0))\n",
    "print('2: ', counts.get(2.0, 0))\n",
    "print('3: ', counts.get(3.0, 0))\n",
    "print('4: ', counts.get(4.0, 0))\n",
    "print('5: ', counts.get(5.0, 0))\n",
    "print('6: ', counts.get(6.0, 0))\n",
    "print('7: ', counts.get(7.0, 0))"
   ]
  },
  {
   "cell_type": "code",
   "execution_count": 141,
   "metadata": {},
   "outputs": [
    {
     "name": "stdout",
     "output_type": "stream",
     "text": [
      "[ 2.  1. nan]\n"
     ]
    }
   ],
   "source": [
    "# V202266 =auth_grid_1\n",
    "# independence 1 respect for elders 2\n",
    "\n",
    "df_anes.loc[~df_anes['auth_grid_1'].isin([1.0, 2.0]), 'auth_grid_1'] = np.nan\n",
    "print(df_anes['auth_grid_1'].unique())"
   ]
  },
  {
   "cell_type": "code",
   "execution_count": 142,
   "metadata": {},
   "outputs": [],
   "source": [
    "mapping = {\n",
    "    'Independence': 1.0,\n",
    "    'Respect for Elders': 2.0\n",
    "}\n",
    "#yougov column\n",
    "df_yougov['auth_grid_1'] = df_yougov['auth_grid_1'].map(mapping).fillna(np.nan).astype(float)"
   ]
  },
  {
   "cell_type": "code",
   "execution_count": 143,
   "metadata": {},
   "outputs": [
    {
     "name": "stdout",
     "output_type": "stream",
     "text": [
      "1:  883\n",
      "2:  1559\n"
     ]
    }
   ],
   "source": [
    "counts = df_yougov['auth_grid_1'].value_counts()\n",
    "# Print the counts \n",
    "print('1: ', counts.get(1.0, 0))\n",
    "print('2: ', counts.get(2.0, 0))"
   ]
  },
  {
   "cell_type": "code",
   "execution_count": 144,
   "metadata": {},
   "outputs": [
    {
     "name": "stdout",
     "output_type": "stream",
     "text": [
      "[ 2.  1. nan]\n"
     ]
    }
   ],
   "source": [
    "### V202267= auth_grid_3\n",
    "#1. curiosity 2. good manners\n",
    "\n",
    "df_anes.loc[~df_anes['auth_grid_3'].isin([1.0, 2.0]), 'auth_grid_3'] = np.nan\n",
    "\n",
    "print(df_anes['auth_grid_3'].unique())\n"
   ]
  },
  {
   "cell_type": "code",
   "execution_count": 145,
   "metadata": {},
   "outputs": [],
   "source": [
    "mapping = {\n",
    "    'Curiosity': 1.0,\n",
    "    'Good Manners': 2.0\n",
    "}\n",
    "#yougov column\n",
    "df_yougov['auth_grid_3'] = df_yougov['auth_grid_3'].map(mapping).fillna(np.nan).astype(float)"
   ]
  },
  {
   "cell_type": "code",
   "execution_count": 146,
   "metadata": {},
   "outputs": [
    {
     "name": "stdout",
     "output_type": "stream",
     "text": [
      "1:  998\n",
      "2:  1444\n",
      "1:  3242\n",
      "2:  4092\n"
     ]
    }
   ],
   "source": [
    "counts = df_yougov['auth_grid_3'].value_counts()\n",
    "# Print the counts \n",
    "print('1: ', counts.get(1.0, 0))\n",
    "print('2: ', counts.get(2.0, 0))\n",
    "counts = df_anes['auth_grid_3'].value_counts()\n",
    "print('1: ', counts.get(1.0, 0))\n",
    "print('2: ', counts.get(2.0, 0))"
   ]
  },
  {
   "cell_type": "code",
   "execution_count": 147,
   "metadata": {},
   "outputs": [
    {
     "name": "stdout",
     "output_type": "stream",
     "text": [
      "[ 1.  2. nan]\n"
     ]
    }
   ],
   "source": [
    "### V202268 = auth_grid_2\n",
    "#1. obedience 2. self-reliance\n",
    "\n",
    "df_anes.loc[~df_anes['auth_grid_2'].isin([1.0, 2.0]), 'auth_grid_2'] = np.nan\n",
    "mapping = {\n",
    "    2.0 : 1.0,\n",
    "    1.0 : 2.0\n",
    "}\n",
    "#yougov column\n",
    "df_anes['auth_grid_2'] = df_anes['auth_grid_2'].map(mapping).fillna(np.nan).astype(float)\n",
    "\n",
    "print(df_anes['auth_grid_2'].unique())"
   ]
  },
  {
   "cell_type": "code",
   "execution_count": 148,
   "metadata": {},
   "outputs": [],
   "source": [
    "mapping = {\n",
    "    'Obedience': 1.0,\n",
    "    'Self-reliance': 2.0\n",
    "}\n",
    "#yougov column\n",
    "df_yougov['auth_grid_2'] = df_yougov['auth_grid_2'].map(mapping).fillna(np.nan).astype(float)"
   ]
  },
  {
   "cell_type": "code",
   "execution_count": 149,
   "metadata": {},
   "outputs": [
    {
     "name": "stdout",
     "output_type": "stream",
     "text": [
      "1:  1575\n",
      "2:  867\n",
      "1:  4357\n",
      "2:  2982\n"
     ]
    }
   ],
   "source": [
    "#DEBUG: answers appear to be reversed \n",
    "counts = df_yougov['auth_grid_2'].value_counts()\n",
    "# Print the counts \n",
    "print('1: ', counts.get(1.0, 0))\n",
    "print('2: ', counts.get(2.0, 0))\n",
    "\n",
    "counts = df_anes['auth_grid_2'].value_counts()\n",
    "print('1: ', counts.get(1.0, 0))\n",
    "print('2: ', counts.get(2.0, 0))"
   ]
  },
  {
   "cell_type": "code",
   "execution_count": 150,
   "metadata": {},
   "outputs": [
    {
     "name": "stdout",
     "output_type": "stream",
     "text": [
      "[21. 13. 17.  7. 22.  3.  4. 10. 11.  9. 18.  1. 20.  5. 12.  6. 15.  8.\n",
      " nan 19. 14. 16.  2.]\n"
     ]
    }
   ],
   "source": [
    "### faminc_new = V202468x\n",
    "# ANES: 1 low through 22 high (250000)\n",
    "\n",
    "# Convert all entries to numeric, setting errors='coerce' will replace non-numeric values with NaN\n",
    "df_anes['faminc_new'] = pd.to_numeric(df_anes['faminc_new'], errors='coerce')\n",
    "\n",
    "# Replace entries that are not between 0 and 100 (inclusive) with NaN\n",
    "df_anes.loc[~((df_anes['faminc_new'] >= 0) & (df_anes['faminc_new'] <= 22)), 'faminc_new'] = np.nan\n",
    "\n",
    "print(df_anes['faminc_new'].unique())\n"
   ]
  },
  {
   "cell_type": "code",
   "execution_count": 151,
   "metadata": {},
   "outputs": [],
   "source": [
    "mapping = { # recoding to match ANES data\n",
    "    'Less than $10,000': 1.0,\n",
    "    '$10,000 - $19,999': 2.5,\n",
    "    '$20,000 - $29,999': 4.5,\n",
    "    '$30,000 - $39,999': 6.5,\n",
    "    '$40,000 - $49,999': 8.5,\n",
    "    '$50,000 - $59,999': 10.0,\n",
    "    '$60,000 - $69,999': 11.5,\n",
    "    '$70,000 - $79,999': 13.5,\n",
    "    '$80,000 - $99,999': 15.5,\n",
    "    '$100,000 - $119,999': 17.5,\n",
    "    '$120,000 - $149,999': 18.83,\n",
    "    '$150,000 - $199,999': 20.5,\n",
    "    '$200,000 - $249,999': 21.0,\n",
    "    '$250,000 - $349,999': 22.0,\n",
    "    '$350,000 - $499,999': 22.0,\n",
    "    '$500,000 or more': 22.0\n",
    "}\n",
    "# yougov column\n",
    "df_yougov['faminc_new'] = df_yougov['faminc_new'].map(mapping).fillna(np.nan).astype(float)"
   ]
  },
  {
   "cell_type": "code",
   "execution_count": 152,
   "metadata": {},
   "outputs": [
    {
     "name": "stdout",
     "output_type": "stream",
     "text": [
      "1:  181\n",
      "2:  0\n",
      "12:  0\n"
     ]
    }
   ],
   "source": [
    "# DEBUG: this doesn't look right either\n",
    "counts = df_yougov['faminc_new'].value_counts()\n",
    "# Print the counts \n",
    "print('1: ', counts.get(1.0, 0))\n",
    "print('2: ', counts.get(2.0, 0))\n",
    "print('12: ', counts.get(12.0, 0))"
   ]
  },
  {
   "cell_type": "code",
   "execution_count": 153,
   "metadata": {},
   "outputs": [],
   "source": [
    "### RACE RESENT"
   ]
  },
  {
   "cell_type": "code",
   "execution_count": 154,
   "metadata": {},
   "outputs": [],
   "source": [
    "#DEBUG: w1, w2, w3 specifications\n",
    "### wc_together = V202483\n",
    "# 1 important to 5 not\n",
    "#df_anes.loc[~df_anes['wc_together'].isin([1.0, 2.0, 3.0, 4.0, 5.0]), 'wc_together'] = np.nan\n",
    "#print(df_anes['wc_together'].unique())"
   ]
  },
  {
   "cell_type": "code",
   "execution_count": 155,
   "metadata": {},
   "outputs": [
    {
     "data": {
      "text/plain": [
       "\"mapping = {\\n    'Extremely important': 1.0,\\n    'Very important': 2.0,\\n    'Moderately important': 3.0,\\n    'A little important': 4.0,\\n    'Not at all important': 5.0\\n}\\ndf_yougov['wc_together'] = df_yougov['wc_together'].map(mapping).fillna(np.nan)\\n\""
      ]
     },
     "execution_count": 155,
     "metadata": {},
     "output_type": "execute_result"
    }
   ],
   "source": [
    "'''mapping = {\n",
    "    'Extremely important': 1.0,\n",
    "    'Very important': 2.0,\n",
    "    'Moderately important': 3.0,\n",
    "    'A little important': 4.0,\n",
    "    'Not at all important': 5.0\n",
    "}\n",
    "df_yougov['wc_together'] = df_yougov['wc_together'].map(mapping).fillna(np.nan)\n",
    "'''"
   ]
  },
  {
   "cell_type": "code",
   "execution_count": 156,
   "metadata": {},
   "outputs": [
    {
     "data": {
      "text/plain": [
       "\"counts = df_yougov['wc_together'].value_counts()\\n# Print the counts \\nprint('1: ', counts.get(1.0, 0))\\nprint('2: ', counts.get(2.0, 0))\\nprint('3: ', counts.get(3.0, 0))\\nprint('4: ', counts.get(4.0, 0))\\nprint('5: ', counts.get(5.0, 0))\""
      ]
     },
     "execution_count": 156,
     "metadata": {},
     "output_type": "execute_result"
    }
   ],
   "source": [
    "\n",
    "'''counts = df_yougov['wc_together'].value_counts()\n",
    "# Print the counts \n",
    "print('1: ', counts.get(1.0, 0))\n",
    "print('2: ', counts.get(2.0, 0))\n",
    "print('3: ', counts.get(3.0, 0))\n",
    "print('4: ', counts.get(4.0, 0))\n",
    "print('5: ', counts.get(5.0, 0))'''\n"
   ]
  },
  {
   "cell_type": "code",
   "execution_count": 157,
   "metadata": {},
   "outputs": [],
   "source": [
    "### same with all vars past this point"
   ]
  },
  {
   "cell_type": "code",
   "execution_count": 158,
   "metadata": {},
   "outputs": [
    {
     "name": "stdout",
     "output_type": "stream",
     "text": [
      "0       1.0\n",
      "1       1.0\n",
      "2       1.0\n",
      "3       2.0\n",
      "4       1.0\n",
      "       ... \n",
      "8275    2.0\n",
      "8276    2.0\n",
      "8277    1.0\n",
      "8278    2.0\n",
      "8279    1.0\n",
      "Name: auth_grid_2, Length: 8280, dtype: float64\n"
     ]
    }
   ],
   "source": [
    "# Check the data type of the column \n",
    "print(df_anes['auth_grid_2'])"
   ]
  },
  {
   "cell_type": "code",
   "execution_count": 159,
   "metadata": {},
   "outputs": [],
   "source": [
    "### optional recode all variables to between 0 and 1\n",
    "from sklearn.preprocessing import MinMaxScaler\n",
    "\n",
    "# return a new df that is a copy of df, with: rescale all columns to be\n",
    "#  between 0 and 1, inclusive. Drop any non-numeric columns. Drop any\n",
    "# rows that are missing at least one predictor.\n",
    "def data_rescale(df, predictors):\n",
    "    df = df.copy() # preserve immutability\n",
    "\n",
    "    # Select only the numeric columns\n",
    "    numeric_cols = df.select_dtypes(include=['number']).columns\n",
    "\n",
    "    # drop any rows that are missing at least one predictor\n",
    "    df = df.dropna(subset=predictors)\n",
    "    # print('the dataframe we\\'re rescaling is size: ') # debug\n",
    "    # Initialize the scaler\n",
    "    scaler = MinMaxScaler()\n",
    "\n",
    "    # Fit the scaler to the data and transform it\n",
    "    scaled_values = scaler.fit_transform(df[numeric_cols])\n",
    "\n",
    "    # Create a new DataFrame with the scaled values, maintaining the original column names\n",
    "    scaled_df = pd.DataFrame(scaled_values, columns=numeric_cols, index=df.index)\n",
    "\n",
    "    return scaled_df\n"
   ]
  },
  {
   "cell_type": "code",
   "execution_count": 188,
   "metadata": {},
   "outputs": [],
   "source": [
    "combined = [\n",
    "                   #'christian_nationalism',\n",
    "                   #'turnout20post', \n",
    "                   #'presvote20post',\n",
    "                   #'housevote20post',\n",
    "                   #'senvote20post',\n",
    "                   #'trump_presidential_approval',\n",
    "                   'pff_jb',\n",
    "                   'pff_dt',\n",
    "                   'ideo7',\n",
    "                   'pid7',\n",
    "                  # 'para_social_grid_2',\n",
    "                   #'election_fairnness',\n",
    "                   #'cab_b', w1, w2, w3\n",
    "                   'educ',\n",
    "                   #'race',\n",
    "                   #'hispanic',\n",
    "                   #'partisan_violence',\n",
    "                   'immigrant_citizenship',\n",
    "                   'immigrant_deport',\n",
    "                   'auth_grid_1',\n",
    "                   'auth_grid_3',\n",
    "                   'auth_grid_2',\n",
    "                   'faminc_new',\n",
    "                   'abortion'\n",
    "                  # 'wc_together', w1, w2, w3\n",
    "                   #'wc_jobs',\n",
    "                   #'racial_id',\n",
    "                   #'hardworkingvlazy',\n",
    "                   #'pronenot_violence',\n",
    "                   #'group_disc_black',\n",
    "                   #'group_disc_hispanic',\n",
    "                   #'group_disc_white'\n",
    "                   ] "
   ]
  },
  {
   "cell_type": "code",
   "execution_count": 161,
   "metadata": {},
   "outputs": [
    {
     "name": "stderr",
     "output_type": "stream",
     "text": [
      "c:\\Users\\kirin\\anaconda3\\Lib\\site-packages\\sklearn\\utils\\_array_api.py:701: RuntimeWarning: All-NaN slice encountered\n",
      "  return xp.asarray(numpy.nanmin(X, axis=axis))\n",
      "c:\\Users\\kirin\\anaconda3\\Lib\\site-packages\\sklearn\\utils\\_array_api.py:718: RuntimeWarning: All-NaN slice encountered\n",
      "  return xp.asarray(numpy.nanmax(X, axis=axis))\n",
      "c:\\Users\\kirin\\anaconda3\\Lib\\site-packages\\sklearn\\utils\\_array_api.py:701: RuntimeWarning: All-NaN slice encountered\n",
      "  return xp.asarray(numpy.nanmin(X, axis=axis))\n",
      "c:\\Users\\kirin\\anaconda3\\Lib\\site-packages\\sklearn\\utils\\_array_api.py:718: RuntimeWarning: All-NaN slice encountered\n",
      "  return xp.asarray(numpy.nanmax(X, axis=axis))\n"
     ]
    }
   ],
   "source": [
    "# Save the DataFrames as Stata .dta files\n",
    "df_anes = data_rescale(df_anes, combined)\n",
    "df_yougov = data_rescale(df_yougov, combined)\n",
    "\n",
    "df_anes.to_stata('anes_recode_between01.dta')"
   ]
  },
  {
   "cell_type": "code",
   "execution_count": 162,
   "metadata": {},
   "outputs": [
    {
     "name": "stdout",
     "output_type": "stream",
     "text": [
      "Index(['V201001', 'V201002a', 'V201002b', 'V201003', 'V201004', 'V201005',\n",
      "       'V201006', 'V201007a', 'V201007b', 'V201007c',\n",
      "       ...\n",
      "       'V201658m', 'V201658n', 'V201658p', 'immigrant_citizenship',\n",
      "       'immigrant_deport', 'auth_grid_1', 'auth_grid_3', 'auth_grid_2',\n",
      "       'faminc_new', 'white'],\n",
      "      dtype='object', length=721)\n"
     ]
    }
   ],
   "source": [
    "#df_yougov = df_yougov.drop(columns=['race'])\n",
    "print(df_anes.select_dtypes(include=['number']).columns)"
   ]
  },
  {
   "cell_type": "code",
   "execution_count": 163,
   "metadata": {},
   "outputs": [],
   "source": [
    "df_yougov.to_stata('yougov_recode_between01.dta')"
   ]
  },
  {
   "cell_type": "code",
   "execution_count": 164,
   "metadata": {},
   "outputs": [
    {
     "name": "stdout",
     "output_type": "stream",
     "text": [
      "c:\\Users\\kirin\\OURSIP_summer24\n"
     ]
    }
   ],
   "source": [
    "import os\n",
    "print(os.getcwd())"
   ]
  },
  {
   "cell_type": "code",
   "execution_count": null,
   "metadata": {},
   "outputs": [
    {
     "name": "stdout",
     "output_type": "stream",
     "text": [
      "2       1.000000\n",
      "5       1.000000\n",
      "6       1.000000\n",
      "7       1.000000\n",
      "8       1.000000\n",
      "          ...   \n",
      "3266    0.666667\n",
      "3267    0.833333\n",
      "3268    1.000000\n",
      "3270    0.666667\n",
      "3274    1.000000\n",
      "Name: immigrant_citizenship, Length: 2050, dtype: float64\n"
     ]
    }
   ],
   "source": [
    "print(df_yougov['immigrant_citizenship'])"
   ]
  },
  {
   "cell_type": "code",
   "execution_count": null,
   "metadata": {},
   "outputs": [
    {
     "name": "stdout",
     "output_type": "stream",
     "text": [
      "Correlation between ideo7 and abortion in anes: 0.041372904636019586\n",
      "Correlation between ideo7 and abortion in yougov: 0.07683665415237151\n"
     ]
    }
   ],
   "source": [
    "#checking correlations to make sure everything looks ok\n",
    "\n",
    "correlation_value = df_anes['ideo7'].corr(df_anes['faminc_new'])\n",
    "print(\"Correlation between ideo7 and abortion in anes:\", correlation_value)\n",
    "\n",
    "correlation_value = df_yougov['ideo7'].corr(df_yougov['faminc_new'])\n",
    "print(\"Correlation between ideo7 and abortion in yougov:\", correlation_value)\n"
   ]
  },
  {
   "cell_type": "code",
   "execution_count": 190,
   "metadata": {},
   "outputs": [
    {
     "name": "stdout",
     "output_type": "stream",
     "text": [
      "Correlation in anes between ideo7 and  pff_jb :  0.5787371219428488\n",
      "Correlation in yougov between ideo7 and  pff_jb :  0.631810067474798\n",
      "\n",
      "Correlation in anes between ideo7 and  pff_dt :  0.6674760251161306\n",
      "Correlation in yougov between ideo7 and  pff_dt :  0.7240735805026022\n",
      "\n",
      "Correlation in anes between ideo7 and  ideo7 :  1.0\n",
      "Correlation in yougov between ideo7 and  ideo7 :  1.0\n",
      "\n",
      "Correlation in anes between ideo7 and  pid7 :  0.7112732478768897\n",
      "Correlation in yougov between ideo7 and  pid7 :  0.7336009501613181\n",
      "\n",
      "Correlation in anes between ideo7 and  educ :  0.13611467627225118\n",
      "Correlation in yougov between ideo7 and  educ :  0.1177024685913317\n",
      "\n",
      "Correlation in anes between ideo7 and  immigrant_citizenship :  -0.53330232428134\n",
      "Correlation in yougov between ideo7 and  immigrant_citizenship :  -0.35812844901602636\n",
      "\n",
      "Correlation in anes between ideo7 and  immigrant_deport :  0.5977907025105856\n",
      "Correlation in yougov between ideo7 and  immigrant_deport :  0.5349287140090618\n",
      "\n",
      "Correlation in anes between ideo7 and  auth_grid_1 :  0.33674815961188254\n",
      "Correlation in yougov between ideo7 and  auth_grid_1 :  0.33646493121163257\n",
      "\n",
      "Correlation in anes between ideo7 and  auth_grid_3 :  0.30188490615306424\n",
      "Correlation in yougov between ideo7 and  auth_grid_3 :  0.2928493304848209\n",
      "\n",
      "Correlation in anes between ideo7 and  auth_grid_2 :  0.19754755797086168\n",
      "Correlation in yougov between ideo7 and  auth_grid_2 :  0.2658242440942128\n",
      "\n",
      "Correlation in anes between ideo7 and  faminc_new :  0.07683665415237151\n",
      "Correlation in yougov between ideo7 and  faminc_new :  0.041372904636019586\n",
      "\n",
      "Correlation in anes between ideo7 and  abortion :  0.566242094340124\n",
      "Correlation in yougov between ideo7 and  abortion :  0.5575613522476792\n",
      "\n"
     ]
    }
   ],
   "source": [
    "df1 = pd.read_stata(\"/Users/kirin/OURSIP_summer24/yougov_recode_between01.dta\")\n",
    "df2 = pd.read_stata(\"/Users/kirin/OURSIP_summer24/anes_recode_between01.dta\")\n",
    "\n",
    "\n",
    "for var in combined:\n",
    "    correlation_value = df1['ideo7'].corr(df1[var])\n",
    "    print(\"Correlation in anes between ideo7 and \", var, \": \", correlation_value)\n",
    "\n",
    "    correlation_value = df2['ideo7'].corr(df2[var])\n",
    "    print(\"Correlation in yougov between ideo7 and \", var, \": \", correlation_value)\n",
    "    print()\n",
    "\n"
   ]
  }
 ],
 "metadata": {
  "kernelspec": {
   "display_name": "base",
   "language": "python",
   "name": "python3"
  },
  "language_info": {
   "codemirror_mode": {
    "name": "ipython",
    "version": 3
   },
   "file_extension": ".py",
   "mimetype": "text/x-python",
   "name": "python",
   "nbconvert_exporter": "python",
   "pygments_lexer": "ipython3",
   "version": "3.11.9"
  }
 },
 "nbformat": 4,
 "nbformat_minor": 4
}
