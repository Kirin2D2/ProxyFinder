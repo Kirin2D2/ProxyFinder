{
  "cells": [
    {
      "cell_type": "markdown",
      "metadata": {
        "id": "_uWUQYLoYUZb"
      },
      "source": [
        "# Monte Carlo Testing for Proxy Finder Algorithm\n"
      ]
    },
    {
      "cell_type": "code",
      "execution_count": null,
      "metadata": {
        "id": "CAwEOp8GYdEY"
      },
      "outputs": [],
      "source": [
        "import numpy as np\n",
        "import pandas as pd\n",
        "import statsmodels.api as sm\n",
        "import torch\n",
        "from torch.utils.data import DataLoader, TensorDataset\n",
        "from sklearn.metrics import mean_squared_error\n",
        "from sklearn.metrics import mean_squared_error\n",
        "from sklearn.model_selection import train_test_split\n",
        "from sklearn.preprocessing import MinMaxScaler\n",
        "import sys\n",
        "from gain import GAIN\n",
        "from usage_example import *\n",
        "import utils\n",
        "import models\n",
        "import matplotlib.pyplot as plt"
      ]
    },
    {
      "cell_type": "code",
      "source": [
        "def proxy_finder_validate(item, candidates, df1, df2, predictors, orthogonal_vars):\n",
        "    # validate proxies and st item\n",
        "    assert item in df1.columns, f'AssertionError: item {item} not in df1.columns'\n",
        "\n",
        "    assert predictors, f'AssertionError: missing predictors. If you would prefer to not specify predictors, do not pass in a variable.'\n",
        "\n",
        "    for c in predictors:\n",
        "        assert c in df1.columns, f'AssertionError: predictor {c} not in df1.columns'\n",
        "        assert c in df2.columns, f'AssertionError: predictor {c} not in df2.columns' # we need same variable in second dataset\n",
        "        assert c in df1.select_dtypes(include=['number']).columns, f'predictor {c} is not a numeric column in df1'\n",
        "        assert c in df2.select_dtypes(include=['number']).columns, f'predictor {c} is not a numeric column in df2'\n",
        "\n",
        "    for c in candidates:\n",
        "        assert c in df2.columns, f'AssertionError: candidate {c} not in df2.columns'\n",
        "\n",
        "    if (orthogonal_vars != None):\n",
        "        for c in orthogonal_vars:\n",
        "            assert c in df2.columns, f'AssertionError: orthogonal variable {c} not in df2.columns'"
      ],
      "metadata": {
        "id": "Y6w3BhrIRVq5"
      },
      "execution_count": null,
      "outputs": []
    },
    {
      "cell_type": "code",
      "source": [
        "def get_predictions(df_train, df_test, predictors, target, epochs=50, learning_rate=0.001, l2_lambda=0.001):\n",
        "  # CODE IMPLEMENTATION ASSISTED BY GENERATIVE AI\n",
        "\n",
        "  # Set parameters\n",
        "  SEED = 13\n",
        "  DEVICE = 'cuda' if torch.cuda.is_available() else 'cpu'\n",
        "  TRAIN_SIZE = 1.0  # Using all of df1 for training\n",
        "  np.random.seed(SEED)\n",
        "\n",
        "  df1 = df_train.copy()\n",
        "  df2 = df_test.copy()\n",
        "\n",
        "  # drop everything but predictors and target from df1\n",
        "  target_col_df1 = df1[target]\n",
        "  df1 = df1[predictors]\n",
        "  df1[target] = target_col_df1\n",
        "\n",
        "  # drop everything but predictors from df2\n",
        "  df2 = df2[predictors]\n",
        "  # add missing target\n",
        "  df2[target] = np.nan\n",
        "\n",
        "  combined_df = pd.concat([df1, df2])\n",
        "\n",
        "  # Step 3: Normalize the data\n",
        "  scaler = MinMaxScaler()\n",
        "  combined_data_std = scaler.fit_transform(combined_df)\n",
        "\n",
        "  # Split back into df1 (training) and df2 (prediction)\n",
        "  df1_std = combined_data_std[:len(df1)]\n",
        "  df2_std = combined_data_std[len(df1):]\n",
        "\n",
        "  # Create tensors and masks\n",
        "  X_train_tensor = torch.tensor(df1_std).float()\n",
        "  M_train_tensor = get_mask(X_train_tensor)  # This creates mask with 0s for observed values, 1s for missing values\n",
        "  train_dataset = TensorDataset(X_train_tensor, M_train_tensor)\n",
        "  train_loader = torch.utils.data.DataLoader(train_dataset, batch_size=128, shuffle=False)\n",
        "\n",
        "  X_test_tensor = torch.tensor(df2_std).float()\n",
        "  M_test_tensor = get_mask(X_test_tensor)  # This will mark all values in the target column as missing\n",
        "  test_dataset = TensorDataset(X_test_tensor, M_test_tensor)\n",
        "  test_loader = torch.utils.data.DataLoader(test_dataset, batch_size=128, shuffle=False)\n",
        "\n",
        "  # Step 4: Initialize and train the GAIN model\n",
        "  stopper = EarlyStopper(patience=2, min_delta=0.001)\n",
        "  model = GAIN(train_loader=train_loader, seed=SEED)\n",
        "\n",
        "  optimizer_G = torch.optim.Adam(model.G.parameters())\n",
        "  optimizer_D = torch.optim.Adam(model.D.parameters())\n",
        "  model.set_optimizer(optimizer=optimizer_G, generator=True)\n",
        "  model.set_optimizer(optimizer=optimizer_D, generator=False)\n",
        "\n",
        "  model.to(DEVICE)\n",
        "  model.train(n_epoches=100, verbose=True, stopper=stopper)\n",
        "\n",
        "  # Step 5: Use the trained model to predict (impute) target values for df2\n",
        "  predictions = []\n",
        "\n",
        "  for x_test_batch, m_batch in test_loader:\n",
        "      x_batch_imputed = model.imputation(x=x_test_batch, m=m_batch)\n",
        "      x_batch_imputed = x_batch_imputed.cpu().numpy()\n",
        "      predictions.append(x_batch_imputed)\n",
        "\n",
        "  # Combine predictions and inverse transform\n",
        "  predictions_combined = np.vstack(predictions)\n",
        "  predictions_original_scale = scaler.inverse_transform(predictions_combined)\n",
        "\n",
        "  # Extract the target column predictions\n",
        "  target_column_index = df1.columns.get_loc(target)\n",
        "  df2_predictions = predictions_original_scale[:, target_column_index]\n",
        "\n",
        "  return df2_predictions"
      ],
      "metadata": {
        "id": "AxyeAPQWRa_g"
      },
      "execution_count": null,
      "outputs": []
    },
    {
      "cell_type": "code",
      "source": [
        "# get predictions from the Torch neural network\n",
        "def get_predictionsTorch(df_train, df_test, predictors, target, epochs=100, learning_rate=0.001, l2_lambda=0.001):\n",
        "    import torch\n",
        "    import torch.nn as nn\n",
        "    import torch.optim as optim\n",
        "    import torch.nn.functional as F\n",
        "\n",
        "    # split data for training and testing.\n",
        "    training_features, validation_features, training_target, validation_target = train_test_split(df_train[predictors].to_numpy(), df_train[target].to_numpy(), test_size=0.2, random_state=42)\n",
        "\n",
        "    training_features = torch.FloatTensor(training_features)\n",
        "    training_target = torch.FloatTensor(training_target)\n",
        "    validation_features = torch.FloatTensor(validation_features)\n",
        "    validation_target = torch.FloatTensor(validation_target)\n",
        "\n",
        "    model = nn.Sequential(\n",
        "        nn.Linear(len(predictors), 64),\n",
        "        nn.ReLU(),\n",
        "        nn.Dropout(p=0.5),\n",
        "        nn.Linear(64, 32),\n",
        "        nn.ReLU(),\n",
        "        nn.Dropout(p=0.5),\n",
        "        nn.Linear(32, 1)\n",
        "    )\n",
        "\n",
        "    # Adam optimizer\n",
        "    optimizer = optim.Adam(model.parameters(), lr=learning_rate, weight_decay=l2_lambda)\n",
        "\n",
        "    # MSE loss\n",
        "    loss_func = nn.MSELoss()\n",
        "\n",
        "    # train the model\n",
        "    model.train()\n",
        "    for epoch in range(epochs):\n",
        "        optimizer.zero_grad()\n",
        "\n",
        "        # Forward pass\n",
        "        prediction = model(training_features)\n",
        "        loss = loss_func(prediction, training_target.unsqueeze(1))\n",
        "\n",
        "        # Backward pass\n",
        "        loss.backward()\n",
        "        optimizer.step()\n",
        "\n",
        "    # get predictions\n",
        "    model.eval()\n",
        "    test_data = torch.FloatTensor(df_test[predictors].to_numpy())\n",
        "\n",
        "    with torch.no_grad():\n",
        "        predictions = model(test_data)\n",
        "        predictions = predictions.numpy().flatten()\n",
        "\n",
        "        val_predictions = model(validation_features)\n",
        "        val_predictions = val_predictions.numpy().flatten()\n",
        "\n",
        "\n",
        "    # exit if correlation between predictions and item is bad\n",
        "    mse = mean_squared_error(val_predictions, validation_target)\n",
        "    print(f\"Debug statement: Neural Net test MSE = {mse}\") ####DEBUG\n",
        "    if (mse > 0.03):\n",
        "        print('Input Error: Predictors cannot predict {target} in df1', file=sys.stderr)\n",
        "        print('Aborting program')\n",
        "        sys.exit(-1)\n",
        "\n",
        "    return predictions"
      ],
      "metadata": {
        "id": "OIzCh5l2RoTN"
      },
      "execution_count": null,
      "outputs": []
    },
    {
      "cell_type": "code",
      "source": [
        " # orthogonalization method\n",
        "# all data is preprocessed and df test has been appended target preds\n",
        "def orthogonalize(candidates, df_test, orthogonal_vars):\n",
        "        orth_scores = {}\n",
        "        for c in candidates:\n",
        "            candset = df_test[[c, 'predicted_target']].copy().dropna() # assumes candidate has mostly non-NaN entries\n",
        "            candcol = candset[c]\n",
        "\n",
        "            X = sm.add_constant(candcol)\n",
        "            temp_orth_scores = []\n",
        "            for orth_var in orthogonal_vars:\n",
        "                orthset = df_test[[orth_var]].copy().dropna()\n",
        "                common_indices = candset.index.intersection(orthset.index)\n",
        "                if common_indices.empty:\n",
        "                    continue\n",
        "                orth_col = orthset.loc[common_indices, orth_var]\n",
        "                if np.var(orth_col) == 0:\n",
        "                    print(\"ortho:\", orth_var, \"candidate\", c)\n",
        "                    continue # zero variance leads to divide by zero error\n",
        "                candcol_common = candset.loc[common_indices, c]\n",
        "\n",
        "                X_common = sm.add_constant(candcol_common)\n",
        "                model = sm.OLS(orth_col, X_common).fit()\n",
        "                temp_orth_scores.append(model.rsquared)\n",
        "\n",
        "            if temp_orth_scores:\n",
        "                orth_scores[c] = sum(temp_orth_scores) / len(temp_orth_scores)\n",
        "            else:\n",
        "                orth_scores[c] = 0\n",
        "        return orth_scores"
      ],
      "metadata": {
        "id": "NtK6es9WRtsf"
      },
      "execution_count": null,
      "outputs": []
    },
    {
      "cell_type": "code",
      "source": [
        "def proxy_finder(df_train, df_test, target, predictors, num_proxies=1, orth_weight=0.65, candidates=None, orthogonal_vars=None, neural_net=\"original\", drop=True):\n",
        "    if candidates is None:\n",
        "        candidates = list(df_test.select_dtypes(include='number').columns) #only numerical data (don't encode categories, make user do that)\n",
        "\n",
        "\n",
        "    proxy_finder_validate(target, candidates, df_train, df_test, predictors, orthogonal_vars)\n",
        "\n",
        "    #print(f\"Predictors: {predictors}\") #DEBUGDEBUGDEBUG------------------------------------------------------------\n",
        "    #print(f\"Candidates: {candidates}\")\n",
        "\n",
        "    df_train = data_rescale(df_train, predictors, target, drop)\n",
        "    df_test = data_rescale(df_test, predictors, target, drop)\n",
        "    # drop any rows that are missing data from target\n",
        "    df_train = df_train.dropna(subset=target)\n",
        "\n",
        "    if neural_net == \"torch\":\n",
        "      predicted_scores = get_predictionsTorch(df_train, df_test, predictors, target)\n",
        "    else:\n",
        "      predicted_scores = get_predictions(df_train, df_test, predictors, target)\n",
        "\n",
        "\n",
        "    df_test['predicted_target'] = predicted_scores\n",
        "    #print(f\"Predicted scores: {predicted_scores[:10]}\")  #DEBUG DEBUG------------------------------------------------------------\n",
        "\n",
        "    results = {}\n",
        "\n",
        "    for c in candidates:\n",
        "        candset = df_test[[c, 'predicted_target']].copy().dropna()\n",
        "        if candset.empty:\n",
        "            continue\n",
        "\n",
        "        pred_scores = candset['predicted_target']\n",
        "        candcol = candset[c]\n",
        "\n",
        "        X_pred = sm.add_constant(candcol)\n",
        "        model_pred = sm.OLS(pred_scores, X_pred).fit()\n",
        "        results[c] = {\n",
        "            'R_squared': model_pred.rsquared,\n",
        "            'p_value': model_pred.pvalues.iloc[1],\n",
        "            'coef': model_pred.params.iloc[1]\n",
        "        }\n",
        "        #print(f\"candidate {c}: Results: {results}\")  # Debug statement------------------------------------------------------------\n",
        "\n",
        "    best_proxies = []\n",
        "\n",
        "    if orthogonal_vars:\n",
        "        orth_scores = orthogonalize(candidates, df_test, orthogonal_vars)\n",
        "        proxy_scores = {}\n",
        "        for c in candidates:\n",
        "            try:\n",
        "                proxy_scores[c] = (c, (1 - orth_weight) * results[c]['R_squared'] - orth_weight * orth_scores[c])\n",
        "            except KeyError as e:\n",
        "                continue\n",
        "\n",
        "        sorted_results = sorted(proxy_scores.values(), key=lambda x: x[1], reverse=True)\n",
        "\n",
        "        for i in range(min(num_proxies, len(sorted_results))):\n",
        "            proxy, score = sorted_results[i]\n",
        "            best_proxies.append(proxy)\n",
        "            print(f\"Proxy {i+1} for {target}: {proxy} with score: {score}\")\n",
        "    else:\n",
        "        sorted_results = sorted(results.items(), key=lambda x: (-x[1]['R_squared'], x[1]['p_value']))\n",
        "\n",
        "        for i in range(min(num_proxies, len(sorted_results))):\n",
        "            proxy, metrics = sorted_results[i]\n",
        "            best_proxies.append(proxy)\n",
        "            print(f\"Proxy {i+1} for {target}: {proxy} with R_squared: {metrics['R_squared']} and p_value: {metrics['p_value']}\")\n",
        "\n",
        "    return best_proxies"
      ],
      "metadata": {
        "id": "AbY1CTrZR32A"
      },
      "execution_count": null,
      "outputs": []
    },
    {
      "cell_type": "code",
      "source": [
        "# return a new df that is a copy of df, with: rescale all columns to be\n",
        "#  between 0 and 1, inclusive. Drop any non-numeric columns. Drop any\n",
        "# rows that are missing at least one predictor.\n",
        "def data_rescale(df, predictors, target, drop=True):\n",
        "    df = df.copy() # preserve immutability\n",
        "\n",
        "    # Select only the numeric columns\n",
        "    numeric_cols = df.select_dtypes(include=['number']).columns\n",
        "\n",
        "    if drop:\n",
        "      # drop any rows that are missing at least one predictor\n",
        "      df = df.dropna(subset=predictors)\n",
        "\n",
        "    # print('the dataframe we\\'re rescaling is size: ') # debug\n",
        "    # Initialize the scaler\n",
        "    scaler = MinMaxScaler()\n",
        "\n",
        "    # Fit the scaler to the data and transform it\n",
        "    scaled_values = scaler.fit_transform(df[numeric_cols])\n",
        "\n",
        "    # Create a new DataFrame with the scaled values, maintaining the original column names\n",
        "    scaled_df = pd.DataFrame(scaled_values, columns=numeric_cols, index=df.index)\n",
        "\n",
        "    return scaled_df"
      ],
      "metadata": {
        "id": "o1FlJwdXR8iL"
      },
      "execution_count": null,
      "outputs": []
    },
    {
      "cell_type": "code",
      "source": [
        "def generate_synthetic_proxies(target_column, target_correlation, noise_level=0.1):\n",
        "\n",
        "   # Convert target_column to numpy array and standardize\n",
        "    target = np.array(target_column)\n",
        "    length = len(target)\n",
        "\n",
        "    target = (target - np.mean(target)) / np.std(target)\n",
        "\n",
        "    synthetic_proxies = {}\n",
        "\n",
        "    # Generate independent standard normal variable\n",
        "    z = np.random.standard_normal(length)\n",
        "\n",
        "    # Create correlated variable using the correlation formula\n",
        "    proxy = target_correlation * target + np.sqrt(1 - target_correlation**2) * z\n",
        "\n",
        "    # Add controlled noise\n",
        "    proxy = proxy + np.random.normal(0, noise_level, length)\n",
        "\n",
        "    # Standardize final proxy\n",
        "    proxy = (proxy - np.mean(proxy)) / np.std(proxy)\n",
        "\n",
        "    synthetic_proxies[f'proxy_{target_correlation:.2f}'] = proxy\n",
        "\n",
        "    return synthetic_proxies"
      ],
      "metadata": {
        "id": "yjwms01LSAPF"
      },
      "execution_count": null,
      "outputs": []
    },
    {
      "cell_type": "code",
      "source": [
        "def prepare_dataset(df, target, target_correlation):\n",
        "  # split dataset in half\n",
        "  df_train = df.sample(frac=0.5, random_state=42)\n",
        "  df_test = df.drop(df_train.index)\n",
        "\n",
        "  # add synthetic proxies to test set\n",
        "  target_column = df_test[target]\n",
        "  synthetic_proxies = generate_synthetic_proxies(target_column, target_correlation)\n",
        "  for name, proxy in synthetic_proxies.items():\n",
        "    df_test[name] = proxy\n",
        "\n",
        "  # drop target from test set\n",
        "  df_test = df_test.drop(columns=[target])\n",
        "\n",
        "  return df_train, df_test"
      ],
      "metadata": {
        "id": "ynJNdpekPqTm"
      },
      "execution_count": null,
      "outputs": []
    },
    {
      "cell_type": "markdown",
      "metadata": {
        "id": "qOnUMZlYeqfW"
      },
      "source": [
        "# Stage 1: Testing Mean Penalty Approach with Several Target Correlations"
      ]
    },
    {
      "cell_type": "code",
      "source": [
        "def run_and_visualize_monte_carlo(df, weights, num_iterations, target, target_correlations, predictors, neural_net, drop):\n",
        "    selection_trackers = []\n",
        "    proxy_names = []\n",
        "\n",
        "    # Run Monte Carlo for each target correlation\n",
        "    for target_correlation in target_correlations:\n",
        "        # Prepare dataset\n",
        "        df_train, df_test = prepare_dataset(df, target, target_correlation) #######\n",
        "        selection_tracker = {orth_weight: {} for orth_weight in weights}\n",
        "\n",
        "        # Run iterations for each weight\n",
        "        for orth_weight in weights:\n",
        "            print(f\"Testing with orthogonality weight: {orth_weight}\")\n",
        "            print(f\"Testing with target correlation: {target_correlation}\")\n",
        "\n",
        "            for i in range(num_iterations):\n",
        "                print(f\"Running iteration {i+1}/{num_iterations}\")\n",
        "                top_proxies = proxy_finder(df_train=df_train,\n",
        "                                         df_test=df_test,\n",
        "                                         target=target,\n",
        "                                         predictors=predictors,\n",
        "                                         num_proxies=5,\n",
        "                                         orth_weight=orth_weight,\n",
        "                                         orthogonal_vars=predictors,\n",
        "                                         neural_net=neural_net,\n",
        "                                         )\n",
        "\n",
        "                # Update selection tracker for top pick\n",
        "                for rank, proxy in enumerate(top_proxies, 1):\n",
        "                    if rank == 1:\n",
        "                        selection_tracker[orth_weight][proxy] = selection_tracker[orth_weight].get(proxy, 0) + 1\n",
        "\n",
        "        selection_trackers.append(selection_tracker)\n",
        "        proxy_names.append(f'proxy_{target_correlation:.2f}')\n",
        "\n",
        "\n",
        "\n",
        "    # SAVE TO CSV --------------------\n",
        "    data = []\n",
        "\n",
        "    for target_correlation, selection_tracker in zip(proxy_names, selection_trackers):\n",
        "        for orth_weight, proxies in selection_tracker.items():\n",
        "            for proxy, count in proxies.items():\n",
        "                data.append({\n",
        "                    'Target Correlation': target_correlation,\n",
        "                    'Orthogonality Weight': orth_weight,\n",
        "                    'Proxy': proxy,\n",
        "                    'Count': count\n",
        "                })\n",
        "\n",
        "    df_selection_tracker = pd.DataFrame(data)\n",
        "    df_selection_tracker.to_csv('selection_tracker.csv', index=False)\n",
        "    # SAVE TO CSV --------------------\n",
        "\n",
        "\n",
        "    # # Visualization\n",
        "    # plt.figure(figsize=(10, 6))\n",
        "\n",
        "    # # Plot results for each target correlation\n",
        "    # for index, tracker in enumerate(selection_trackers):\n",
        "    #     results = []\n",
        "    #     for orth_weight, proxies in tracker.items():\n",
        "    #         for proxy, frequency in proxies.items():\n",
        "    #             results.append({\n",
        "    #                 'orth_weight': orth_weight,\n",
        "    #                 'proxy': proxy,\n",
        "    #                 'frequency': (frequency / num_iterations) * 100\n",
        "    #             })\n",
        "\n",
        "    #     results_df = pd.DataFrame(results)\n",
        "    #     pivot_data = results_df.pivot(index='orth_weight', columns='proxy', values='frequency')\n",
        "    #     pivot_data.fillna(0, inplace=True)\n",
        "    #     print(pivot_data)\n",
        "\n",
        "    #     # Plot each proxy as a separate line\n",
        "    #     name = proxy_names[index]\n",
        "    #     plt.plot(pivot_data.index, pivot_data[name], marker='o', label=name, linewidth=2)\n",
        "\n",
        "    # # Create the line plot\n",
        "    # plt.xlabel('Orthogonality Weight')\n",
        "    # plt.ylabel('Selection Frequency')\n",
        "    # plt.title('Selection Frequency vs Orthogonality Weight')\n",
        "    # plt.grid(True, linestyle='--', alpha=0.7)\n",
        "    # plt.legend()\n",
        "    # plt.show()"
      ],
      "metadata": {
        "id": "fgTQXgXRSS33"
      },
      "execution_count": null,
      "outputs": []
    },
    {
      "cell_type": "code",
      "source": [
        "# change parameters as needed\n",
        "df = pd.read_stata(\"/content/temp_yougov.dta\")\n",
        "# weights = [0.4, 0.41, 0.42, 0.43, 0.44, 0.45, 0.46, 0.47, 0.48, 0.49, 0.50, 0.51, 0.52, 0.53, 0.54, 0.55]\n",
        "weights = [0.65]\n",
        "target_correlations = [0.90]\n",
        "num_iterations = 5\n",
        "target = 'christian_nationalism'\n",
        "predictors = [\n",
        "                   'presvote20post',\n",
        "                   'housevote20post',\n",
        "                   'senvote20post',\n",
        "                   'pff_jb',\n",
        "                   'pff_dt',\n",
        "                   'pid7',\n",
        "                   'election_fairnness',\n",
        "                   'educ',\n",
        "                   'hispanic',\n",
        "                   'partisan_violence',\n",
        "                   'immigrant_citizenship',\n",
        "                   'immigrant_deport',\n",
        "                   'auth_grid_1',\n",
        "                   'auth_grid_3',\n",
        "                   'auth_grid_2',\n",
        "                   'faminc_new']\n",
        "# V202532\n",
        "run_and_visualize_monte_carlo(df, weights, num_iterations, target, target_correlations, predictors, \"GAIN\", True)"
      ],
      "metadata": {
        "id": "NdGZvvMUSzCD",
        "colab": {
          "base_uri": "https://localhost:8080/",
          "height": 1000
        },
        "outputId": "93468c93-295a-441f-cf92-e5e336cffc2f"
      },
      "execution_count": null,
      "outputs": [
        {
          "output_type": "stream",
          "name": "stdout",
          "text": [
            "Testing with orthogonality weight: 0.65\n",
            "Testing with target correlation: 0.9\n",
            "Running iteration 1/5\n"
          ]
        },
        {
          "output_type": "stream",
          "name": "stderr",
          "text": [
            "Epoch 0: 100%|██████████| 14/14 [00:00<00:00, 72.94batch/s, mse_test=nan, mse_train=0.131]\n",
            "Epoch 1: 100%|██████████| 14/14 [00:00<00:00, 82.56batch/s, mse_test=nan, mse_train=0.123]\n",
            "Epoch 2: 100%|██████████| 14/14 [00:00<00:00, 82.89batch/s, mse_test=nan, mse_train=0.115]\n",
            "Epoch 3: 100%|██████████| 14/14 [00:00<00:00, 82.78batch/s, mse_test=nan, mse_train=0.108]\n",
            "Epoch 4: 100%|██████████| 14/14 [00:00<00:00, 70.77batch/s, mse_test=nan, mse_train=0.0997]\n",
            "Epoch 5: 100%|██████████| 14/14 [00:00<00:00, 68.79batch/s, mse_test=nan, mse_train=0.0909]\n",
            "Epoch 6: 100%|██████████| 14/14 [00:00<00:00, 68.13batch/s, mse_test=nan, mse_train=0.0807]\n",
            "Epoch 7: 100%|██████████| 14/14 [00:00<00:00, 73.53batch/s, mse_test=nan, mse_train=0.0703]\n",
            "Epoch 8: 100%|██████████| 14/14 [00:00<00:00, 67.18batch/s, mse_test=nan, mse_train=0.0626]\n",
            "Epoch 9: 100%|██████████| 14/14 [00:00<00:00, 84.86batch/s, mse_test=nan, mse_train=0.0585]\n",
            "Epoch 10: 100%|██████████| 14/14 [00:00<00:00, 91.64batch/s, mse_test=nan, mse_train=0.0568]\n",
            "Epoch 11: 100%|██████████| 14/14 [00:00<00:00, 86.56batch/s, mse_test=nan, mse_train=0.056]\n",
            "Epoch 12: 100%|██████████| 14/14 [00:00<00:00, 85.71batch/s, mse_test=nan, mse_train=0.0555]\n",
            "Epoch 13: 100%|██████████| 14/14 [00:00<00:00, 92.64batch/s, mse_test=nan, mse_train=0.0552]\n",
            "Epoch 14: 100%|██████████| 14/14 [00:00<00:00, 85.18batch/s, mse_test=nan, mse_train=0.0548]\n",
            "Epoch 15: 100%|██████████| 14/14 [00:00<00:00, 55.45batch/s, mse_test=nan, mse_train=0.0545]\n",
            "Epoch 16: 100%|██████████| 14/14 [00:00<00:00, 58.53batch/s, mse_test=nan, mse_train=0.0541]\n",
            "Epoch 17: 100%|██████████| 14/14 [00:00<00:00, 74.71batch/s, mse_test=nan, mse_train=0.0538]\n",
            "Epoch 18: 100%|██████████| 14/14 [00:00<00:00, 66.06batch/s, mse_test=nan, mse_train=0.0533]\n",
            "Epoch 19: 100%|██████████| 14/14 [00:00<00:00, 68.30batch/s, mse_test=nan, mse_train=0.0528]\n",
            "Epoch 20: 100%|██████████| 14/14 [00:00<00:00, 52.16batch/s, mse_test=nan, mse_train=0.0522]\n",
            "Epoch 21: 100%|██████████| 14/14 [00:00<00:00, 70.11batch/s, mse_test=nan, mse_train=0.0515]\n",
            "Epoch 22: 100%|██████████| 14/14 [00:00<00:00, 80.04batch/s, mse_test=nan, mse_train=0.0506]\n",
            "Epoch 23: 100%|██████████| 14/14 [00:00<00:00, 79.45batch/s, mse_test=nan, mse_train=0.0496]\n",
            "Epoch 24: 100%|██████████| 14/14 [00:00<00:00, 78.81batch/s, mse_test=nan, mse_train=0.0485]\n",
            "Epoch 25: 100%|██████████| 14/14 [00:00<00:00, 70.33batch/s, mse_test=nan, mse_train=0.0472]\n",
            "Epoch 26: 100%|██████████| 14/14 [00:00<00:00, 75.62batch/s, mse_test=nan, mse_train=0.0458]\n",
            "Epoch 27: 100%|██████████| 14/14 [00:00<00:00, 71.28batch/s, mse_test=nan, mse_train=0.0445]\n",
            "Epoch 28: 100%|██████████| 14/14 [00:00<00:00, 60.68batch/s, mse_test=nan, mse_train=0.0431]\n",
            "Epoch 29: 100%|██████████| 14/14 [00:00<00:00, 57.21batch/s, mse_test=nan, mse_train=0.042]\n",
            "Epoch 30: 100%|██████████| 14/14 [00:00<00:00, 50.36batch/s, mse_test=nan, mse_train=0.0409]\n",
            "Epoch 31: 100%|██████████| 14/14 [00:00<00:00, 84.73batch/s, mse_test=nan, mse_train=0.04]\n",
            "Epoch 32: 100%|██████████| 14/14 [00:00<00:00, 75.84batch/s, mse_test=nan, mse_train=0.0392]\n",
            "Epoch 33: 100%|██████████| 14/14 [00:00<00:00, 85.84batch/s, mse_test=nan, mse_train=0.0386]\n",
            "Epoch 34: 100%|██████████| 14/14 [00:00<00:00, 84.66batch/s, mse_test=nan, mse_train=0.038]\n",
            "Epoch 35: 100%|██████████| 14/14 [00:00<00:00, 87.42batch/s, mse_test=nan, mse_train=0.0374]\n",
            "Epoch 36: 100%|██████████| 14/14 [00:00<00:00, 80.69batch/s, mse_test=nan, mse_train=0.0369]\n",
            "Epoch 37: 100%|██████████| 14/14 [00:00<00:00, 71.26batch/s, mse_test=nan, mse_train=0.0364]\n",
            "Epoch 38: 100%|██████████| 14/14 [00:00<00:00, 68.50batch/s, mse_test=nan, mse_train=0.036]\n",
            "Epoch 39: 100%|██████████| 14/14 [00:00<00:00, 76.15batch/s, mse_test=nan, mse_train=0.0356]\n",
            "Epoch 40: 100%|██████████| 14/14 [00:00<00:00, 52.01batch/s, mse_test=nan, mse_train=0.0352]\n",
            "Epoch 41: 100%|██████████| 14/14 [00:00<00:00, 48.78batch/s, mse_test=nan, mse_train=0.0349]\n",
            "Epoch 42: 100%|██████████| 14/14 [00:00<00:00, 35.92batch/s, mse_test=nan, mse_train=0.0345]\n",
            "Epoch 43: 100%|██████████| 14/14 [00:00<00:00, 45.80batch/s, mse_test=nan, mse_train=0.0342]\n",
            "Epoch 44: 100%|██████████| 14/14 [00:00<00:00, 55.40batch/s, mse_test=nan, mse_train=0.0339]\n",
            "Epoch 45: 100%|██████████| 14/14 [00:00<00:00, 65.87batch/s, mse_test=nan, mse_train=0.0336]\n",
            "Epoch 46: 100%|██████████| 14/14 [00:00<00:00, 60.01batch/s, mse_test=nan, mse_train=0.0333]\n",
            "Epoch 47: 100%|██████████| 14/14 [00:00<00:00, 51.16batch/s, mse_test=nan, mse_train=0.033]\n",
            "Epoch 48: 100%|██████████| 14/14 [00:00<00:00, 50.48batch/s, mse_test=nan, mse_train=0.0327]\n",
            "Epoch 49: 100%|██████████| 14/14 [00:00<00:00, 53.39batch/s, mse_test=nan, mse_train=0.0324]\n",
            "Epoch 50: 100%|██████████| 14/14 [00:00<00:00, 47.10batch/s, mse_test=nan, mse_train=0.0321]\n",
            "Epoch 51: 100%|██████████| 14/14 [00:00<00:00, 59.52batch/s, mse_test=nan, mse_train=0.0318]\n",
            "Epoch 52: 100%|██████████| 14/14 [00:00<00:00, 70.28batch/s, mse_test=nan, mse_train=0.0315]\n",
            "Epoch 53: 100%|██████████| 14/14 [00:00<00:00, 88.66batch/s, mse_test=nan, mse_train=0.0312]\n",
            "Epoch 54: 100%|██████████| 14/14 [00:00<00:00, 74.50batch/s, mse_test=nan, mse_train=0.0308]\n",
            "Epoch 55: 100%|██████████| 14/14 [00:00<00:00, 68.01batch/s, mse_test=nan, mse_train=0.0305]\n",
            "Epoch 56: 100%|██████████| 14/14 [00:00<00:00, 75.52batch/s, mse_test=nan, mse_train=0.0302]\n",
            "Epoch 57: 100%|██████████| 14/14 [00:00<00:00, 71.70batch/s, mse_test=nan, mse_train=0.0298]\n",
            "Epoch 58: 100%|██████████| 14/14 [00:00<00:00, 80.63batch/s, mse_test=nan, mse_train=0.0294]\n",
            "Epoch 59: 100%|██████████| 14/14 [00:00<00:00, 85.22batch/s, mse_test=nan, mse_train=0.0291]\n",
            "Epoch 60: 100%|██████████| 14/14 [00:00<00:00, 64.09batch/s, mse_test=nan, mse_train=0.0287]\n",
            "Epoch 61: 100%|██████████| 14/14 [00:00<00:00, 65.50batch/s, mse_test=nan, mse_train=0.0283]\n",
            "Epoch 62: 100%|██████████| 14/14 [00:00<00:00, 62.35batch/s, mse_test=nan, mse_train=0.0279]\n",
            "Epoch 63: 100%|██████████| 14/14 [00:00<00:00, 71.83batch/s, mse_test=nan, mse_train=0.0275]\n",
            "Epoch 64: 100%|██████████| 14/14 [00:00<00:00, 83.15batch/s, mse_test=nan, mse_train=0.0271]\n",
            "Epoch 65: 100%|██████████| 14/14 [00:00<00:00, 72.28batch/s, mse_test=nan, mse_train=0.0267]\n",
            "Epoch 66: 100%|██████████| 14/14 [00:00<00:00, 81.50batch/s, mse_test=nan, mse_train=0.0263]\n",
            "Epoch 67: 100%|██████████| 14/14 [00:00<00:00, 82.77batch/s, mse_test=nan, mse_train=0.0259]\n",
            "Epoch 68: 100%|██████████| 14/14 [00:00<00:00, 73.61batch/s, mse_test=nan, mse_train=0.0255]\n",
            "Epoch 69: 100%|██████████| 14/14 [00:00<00:00, 87.84batch/s, mse_test=nan, mse_train=0.0251]\n",
            "Epoch 70: 100%|██████████| 14/14 [00:00<00:00, 77.20batch/s, mse_test=nan, mse_train=0.0247]\n",
            "Epoch 71: 100%|██████████| 14/14 [00:00<00:00, 52.98batch/s, mse_test=nan, mse_train=0.0243]\n",
            "Epoch 72: 100%|██████████| 14/14 [00:00<00:00, 64.22batch/s, mse_test=nan, mse_train=0.0239]\n",
            "Epoch 73: 100%|██████████| 14/14 [00:00<00:00, 65.12batch/s, mse_test=nan, mse_train=0.0236]\n",
            "Epoch 74: 100%|██████████| 14/14 [00:00<00:00, 72.45batch/s, mse_test=nan, mse_train=0.0232]\n",
            "Epoch 75: 100%|██████████| 14/14 [00:00<00:00, 80.73batch/s, mse_test=nan, mse_train=0.0229]\n",
            "Epoch 76: 100%|██████████| 14/14 [00:00<00:00, 80.17batch/s, mse_test=nan, mse_train=0.0225]\n",
            "Epoch 77: 100%|██████████| 14/14 [00:00<00:00, 81.30batch/s, mse_test=nan, mse_train=0.0222]\n",
            "Epoch 78: 100%|██████████| 14/14 [00:00<00:00, 80.01batch/s, mse_test=nan, mse_train=0.0219]\n",
            "Epoch 79: 100%|██████████| 14/14 [00:00<00:00, 77.31batch/s, mse_test=nan, mse_train=0.0216]\n",
            "Epoch 80: 100%|██████████| 14/14 [00:00<00:00, 67.21batch/s, mse_test=nan, mse_train=0.0213]\n",
            "Epoch 81: 100%|██████████| 14/14 [00:00<00:00, 61.89batch/s, mse_test=nan, mse_train=0.0211]\n",
            "Epoch 82: 100%|██████████| 14/14 [00:00<00:00, 57.85batch/s, mse_test=nan, mse_train=0.0208]\n",
            "Epoch 83: 100%|██████████| 14/14 [00:00<00:00, 60.12batch/s, mse_test=nan, mse_train=0.0206]\n",
            "Epoch 84: 100%|██████████| 14/14 [00:00<00:00, 68.77batch/s, mse_test=nan, mse_train=0.0204]\n",
            "Epoch 85: 100%|██████████| 14/14 [00:00<00:00, 59.70batch/s, mse_test=nan, mse_train=0.0202]\n",
            "Epoch 86: 100%|██████████| 14/14 [00:00<00:00, 74.85batch/s, mse_test=nan, mse_train=0.02]\n",
            "Epoch 87: 100%|██████████| 14/14 [00:00<00:00, 71.81batch/s, mse_test=nan, mse_train=0.0198]\n",
            "Epoch 88: 100%|██████████| 14/14 [00:00<00:00, 67.73batch/s, mse_test=nan, mse_train=0.0197]\n",
            "Epoch 89: 100%|██████████| 14/14 [00:00<00:00, 74.82batch/s, mse_test=nan, mse_train=0.0195]\n",
            "Epoch 90: 100%|██████████| 14/14 [00:00<00:00, 60.34batch/s, mse_test=nan, mse_train=0.0194]\n",
            "Epoch 91: 100%|██████████| 14/14 [00:00<00:00, 74.11batch/s, mse_test=nan, mse_train=0.0192]\n",
            "Epoch 92: 100%|██████████| 14/14 [00:00<00:00, 63.81batch/s, mse_test=nan, mse_train=0.0191]\n",
            "Epoch 93: 100%|██████████| 14/14 [00:00<00:00, 85.13batch/s, mse_test=nan, mse_train=0.019]\n",
            "Epoch 94: 100%|██████████| 14/14 [00:00<00:00, 73.90batch/s, mse_test=nan, mse_train=0.0188]\n",
            "Epoch 95: 100%|██████████| 14/14 [00:00<00:00, 52.00batch/s, mse_test=nan, mse_train=0.0187]\n",
            "Epoch 96: 100%|██████████| 14/14 [00:00<00:00, 50.84batch/s, mse_test=nan, mse_train=0.0186]\n",
            "Epoch 97: 100%|██████████| 14/14 [00:00<00:00, 57.85batch/s, mse_test=nan, mse_train=0.0184]\n",
            "Epoch 98: 100%|██████████| 14/14 [00:00<00:00, 48.61batch/s, mse_test=nan, mse_train=0.0183]\n",
            "Epoch 99: 100%|██████████| 14/14 [00:00<00:00, 38.54batch/s, mse_test=nan, mse_train=0.0182]\n"
          ]
        },
        {
          "output_type": "stream",
          "name": "stdout",
          "text": [
            "Proxy 1 for christian_nationalism: auth_grid_1 with score: 0.043879877980376805\n",
            "Proxy 2 for christian_nationalism: proxy_0.90 with score: 0.04316022799832567\n",
            "Proxy 3 for christian_nationalism: immigrant_deport with score: 0.040138405928780485\n",
            "Proxy 4 for christian_nationalism: immigrant_citizenship with score: 0.03627107053288492\n",
            "Proxy 5 for christian_nationalism: ideo7 with score: 0.02065372585528094\n",
            "Running iteration 2/5\n"
          ]
        },
        {
          "output_type": "stream",
          "name": "stderr",
          "text": [
            "Epoch 0: 100%|██████████| 14/14 [00:00<00:00, 68.65batch/s, mse_test=nan, mse_train=0.131]\n",
            "Epoch 1: 100%|██████████| 14/14 [00:00<00:00, 57.88batch/s, mse_test=nan, mse_train=0.123]\n",
            "Epoch 2: 100%|██████████| 14/14 [00:00<00:00, 65.48batch/s, mse_test=nan, mse_train=0.115]\n",
            "Epoch 3: 100%|██████████| 14/14 [00:00<00:00, 60.36batch/s, mse_test=nan, mse_train=0.108]\n",
            "Epoch 4: 100%|██████████| 14/14 [00:00<00:00, 68.11batch/s, mse_test=nan, mse_train=0.0997]\n",
            "Epoch 5: 100%|██████████| 14/14 [00:00<00:00, 71.18batch/s, mse_test=nan, mse_train=0.0909]\n",
            "Epoch 6: 100%|██████████| 14/14 [00:00<00:00, 68.78batch/s, mse_test=nan, mse_train=0.0807]\n",
            "Epoch 7: 100%|██████████| 14/14 [00:00<00:00, 77.23batch/s, mse_test=nan, mse_train=0.0703]\n",
            "Epoch 8: 100%|██████████| 14/14 [00:00<00:00, 79.13batch/s, mse_test=nan, mse_train=0.0626]\n",
            "Epoch 9: 100%|██████████| 14/14 [00:00<00:00, 85.23batch/s, mse_test=nan, mse_train=0.0585]\n",
            "Epoch 10: 100%|██████████| 14/14 [00:00<00:00, 86.45batch/s, mse_test=nan, mse_train=0.0568]\n",
            "Epoch 11: 100%|██████████| 14/14 [00:00<00:00, 88.62batch/s, mse_test=nan, mse_train=0.056]\n",
            "Epoch 12: 100%|██████████| 14/14 [00:00<00:00, 81.46batch/s, mse_test=nan, mse_train=0.0555]\n",
            "Epoch 13: 100%|██████████| 14/14 [00:00<00:00, 74.43batch/s, mse_test=nan, mse_train=0.0552]\n",
            "Epoch 14: 100%|██████████| 14/14 [00:00<00:00, 75.52batch/s, mse_test=nan, mse_train=0.0548]\n",
            "Epoch 15: 100%|██████████| 14/14 [00:00<00:00, 79.21batch/s, mse_test=nan, mse_train=0.0545]\n",
            "Epoch 16: 100%|██████████| 14/14 [00:00<00:00, 74.88batch/s, mse_test=nan, mse_train=0.0541]\n",
            "Epoch 17: 100%|██████████| 14/14 [00:00<00:00, 80.20batch/s, mse_test=nan, mse_train=0.0538]\n",
            "Epoch 18: 100%|██████████| 14/14 [00:00<00:00, 73.54batch/s, mse_test=nan, mse_train=0.0533]\n",
            "Epoch 19: 100%|██████████| 14/14 [00:00<00:00, 73.70batch/s, mse_test=nan, mse_train=0.0528]\n",
            "Epoch 20: 100%|██████████| 14/14 [00:00<00:00, 69.95batch/s, mse_test=nan, mse_train=0.0522]\n",
            "Epoch 21: 100%|██████████| 14/14 [00:00<00:00, 71.52batch/s, mse_test=nan, mse_train=0.0515]\n",
            "Epoch 22: 100%|██████████| 14/14 [00:00<00:00, 77.68batch/s, mse_test=nan, mse_train=0.0506]\n",
            "Epoch 23: 100%|██████████| 14/14 [00:00<00:00, 84.34batch/s, mse_test=nan, mse_train=0.0496]\n",
            "Epoch 24: 100%|██████████| 14/14 [00:00<00:00, 70.94batch/s, mse_test=nan, mse_train=0.0485]\n",
            "Epoch 25: 100%|██████████| 14/14 [00:00<00:00, 63.72batch/s, mse_test=nan, mse_train=0.0472]\n",
            "Epoch 26: 100%|██████████| 14/14 [00:00<00:00, 69.10batch/s, mse_test=nan, mse_train=0.0458]\n",
            "Epoch 27: 100%|██████████| 14/14 [00:00<00:00, 67.52batch/s, mse_test=nan, mse_train=0.0445]\n",
            "Epoch 28: 100%|██████████| 14/14 [00:00<00:00, 73.16batch/s, mse_test=nan, mse_train=0.0431]\n",
            "Epoch 29: 100%|██████████| 14/14 [00:00<00:00, 64.85batch/s, mse_test=nan, mse_train=0.042]\n",
            "Epoch 30: 100%|██████████| 14/14 [00:00<00:00, 73.62batch/s, mse_test=nan, mse_train=0.0409]\n",
            "Epoch 31: 100%|██████████| 14/14 [00:00<00:00, 76.44batch/s, mse_test=nan, mse_train=0.04]\n",
            "Epoch 32: 100%|██████████| 14/14 [00:00<00:00, 70.79batch/s, mse_test=nan, mse_train=0.0392]\n",
            "Epoch 33: 100%|██████████| 14/14 [00:00<00:00, 70.53batch/s, mse_test=nan, mse_train=0.0386]\n",
            "Epoch 34:  86%|████████▌ | 12/14 [00:00<00:00, 54.46batch/s, mse_test=nan, mse_train=0.0376]\n"
          ]
        },
        {
          "output_type": "error",
          "ename": "KeyboardInterrupt",
          "evalue": "",
          "traceback": [
            "\u001b[0;31m---------------------------------------------------------------------------\u001b[0m",
            "\u001b[0;31mKeyboardInterrupt\u001b[0m                         Traceback (most recent call last)",
            "\u001b[0;32m<ipython-input-17-aebe11b77a0b>\u001b[0m in \u001b[0;36m<cell line: 0>\u001b[0;34m()\u001b[0m\n\u001b[1;32m     24\u001b[0m                    'faminc_new']\n\u001b[1;32m     25\u001b[0m \u001b[0;31m# V202532\u001b[0m\u001b[0;34m\u001b[0m\u001b[0;34m\u001b[0m\u001b[0m\n\u001b[0;32m---> 26\u001b[0;31m \u001b[0mrun_and_visualize_monte_carlo\u001b[0m\u001b[0;34m(\u001b[0m\u001b[0mdf\u001b[0m\u001b[0;34m,\u001b[0m \u001b[0mweights\u001b[0m\u001b[0;34m,\u001b[0m \u001b[0mnum_iterations\u001b[0m\u001b[0;34m,\u001b[0m \u001b[0mtarget\u001b[0m\u001b[0;34m,\u001b[0m \u001b[0mtarget_correlations\u001b[0m\u001b[0;34m,\u001b[0m \u001b[0mpredictors\u001b[0m\u001b[0;34m,\u001b[0m \u001b[0;34m\"GAIN\"\u001b[0m\u001b[0;34m,\u001b[0m \u001b[0;32mTrue\u001b[0m\u001b[0;34m)\u001b[0m\u001b[0;34m\u001b[0m\u001b[0;34m\u001b[0m\u001b[0m\n\u001b[0m",
            "\u001b[0;32m<ipython-input-12-49a4925cca81>\u001b[0m in \u001b[0;36mrun_and_visualize_monte_carlo\u001b[0;34m(df, weights, num_iterations, target, target_correlations, predictors, neural_net, drop)\u001b[0m\n\u001b[1;32m     16\u001b[0m             \u001b[0;32mfor\u001b[0m \u001b[0mi\u001b[0m \u001b[0;32min\u001b[0m \u001b[0mrange\u001b[0m\u001b[0;34m(\u001b[0m\u001b[0mnum_iterations\u001b[0m\u001b[0;34m)\u001b[0m\u001b[0;34m:\u001b[0m\u001b[0;34m\u001b[0m\u001b[0;34m\u001b[0m\u001b[0m\n\u001b[1;32m     17\u001b[0m                 \u001b[0mprint\u001b[0m\u001b[0;34m(\u001b[0m\u001b[0;34mf\"Running iteration {i+1}/{num_iterations}\"\u001b[0m\u001b[0;34m)\u001b[0m\u001b[0;34m\u001b[0m\u001b[0;34m\u001b[0m\u001b[0m\n\u001b[0;32m---> 18\u001b[0;31m                 top_proxies = proxy_finder(df_train=df_train,\n\u001b[0m\u001b[1;32m     19\u001b[0m                                          \u001b[0mdf_test\u001b[0m\u001b[0;34m=\u001b[0m\u001b[0mdf_test\u001b[0m\u001b[0;34m,\u001b[0m\u001b[0;34m\u001b[0m\u001b[0;34m\u001b[0m\u001b[0m\n\u001b[1;32m     20\u001b[0m                                          \u001b[0mtarget\u001b[0m\u001b[0;34m=\u001b[0m\u001b[0mtarget\u001b[0m\u001b[0;34m,\u001b[0m\u001b[0;34m\u001b[0m\u001b[0;34m\u001b[0m\u001b[0m\n",
            "\u001b[0;32m<ipython-input-16-8f2c603ed173>\u001b[0m in \u001b[0;36mproxy_finder\u001b[0;34m(df_train, df_test, target, predictors, num_proxies, orth_weight, candidates, orthogonal_vars, neural_net, drop)\u001b[0m\n\u001b[1;32m     17\u001b[0m       \u001b[0mpredicted_scores\u001b[0m \u001b[0;34m=\u001b[0m \u001b[0mget_predictionsTorch\u001b[0m\u001b[0;34m(\u001b[0m\u001b[0mdf_train\u001b[0m\u001b[0;34m,\u001b[0m \u001b[0mdf_test\u001b[0m\u001b[0;34m,\u001b[0m \u001b[0mpredictors\u001b[0m\u001b[0;34m,\u001b[0m \u001b[0mtarget\u001b[0m\u001b[0;34m)\u001b[0m\u001b[0;34m\u001b[0m\u001b[0;34m\u001b[0m\u001b[0m\n\u001b[1;32m     18\u001b[0m     \u001b[0;32melse\u001b[0m\u001b[0;34m:\u001b[0m\u001b[0;34m\u001b[0m\u001b[0;34m\u001b[0m\u001b[0m\n\u001b[0;32m---> 19\u001b[0;31m       \u001b[0mpredicted_scores\u001b[0m \u001b[0;34m=\u001b[0m \u001b[0mget_predictions\u001b[0m\u001b[0;34m(\u001b[0m\u001b[0mdf_train\u001b[0m\u001b[0;34m,\u001b[0m \u001b[0mdf_test\u001b[0m\u001b[0;34m,\u001b[0m \u001b[0mpredictors\u001b[0m\u001b[0;34m,\u001b[0m \u001b[0mtarget\u001b[0m\u001b[0;34m)\u001b[0m\u001b[0;34m\u001b[0m\u001b[0;34m\u001b[0m\u001b[0m\n\u001b[0m\u001b[1;32m     20\u001b[0m \u001b[0;34m\u001b[0m\u001b[0m\n\u001b[1;32m     21\u001b[0m \u001b[0;34m\u001b[0m\u001b[0m\n",
            "\u001b[0;32m<ipython-input-3-37b755b78a38>\u001b[0m in \u001b[0;36mget_predictions\u001b[0;34m(df_train, df_test, predictors, target, epochs, learning_rate, l2_lambda)\u001b[0m\n\u001b[1;32m     52\u001b[0m \u001b[0;34m\u001b[0m\u001b[0m\n\u001b[1;32m     53\u001b[0m   \u001b[0mmodel\u001b[0m\u001b[0;34m.\u001b[0m\u001b[0mto\u001b[0m\u001b[0;34m(\u001b[0m\u001b[0mDEVICE\u001b[0m\u001b[0;34m)\u001b[0m\u001b[0;34m\u001b[0m\u001b[0;34m\u001b[0m\u001b[0m\n\u001b[0;32m---> 54\u001b[0;31m   \u001b[0mmodel\u001b[0m\u001b[0;34m.\u001b[0m\u001b[0mtrain\u001b[0m\u001b[0;34m(\u001b[0m\u001b[0mn_epoches\u001b[0m\u001b[0;34m=\u001b[0m\u001b[0;36m100\u001b[0m\u001b[0;34m,\u001b[0m \u001b[0mverbose\u001b[0m\u001b[0;34m=\u001b[0m\u001b[0;32mTrue\u001b[0m\u001b[0;34m,\u001b[0m \u001b[0mstopper\u001b[0m\u001b[0;34m=\u001b[0m\u001b[0mstopper\u001b[0m\u001b[0;34m)\u001b[0m\u001b[0;34m\u001b[0m\u001b[0;34m\u001b[0m\u001b[0m\n\u001b[0m\u001b[1;32m     55\u001b[0m \u001b[0;34m\u001b[0m\u001b[0m\n\u001b[1;32m     56\u001b[0m   \u001b[0;31m# Step 5: Use the trained model to predict (impute) target values for df2\u001b[0m\u001b[0;34m\u001b[0m\u001b[0;34m\u001b[0m\u001b[0m\n",
            "\u001b[0;32m/content/gain.py\u001b[0m in \u001b[0;36mtrain\u001b[0;34m(self, n_epoches, stopper, verbose)\u001b[0m\n\u001b[1;32m    115\u001b[0m                 \u001b[0;31m# 2-й этап: оптимизация генератора при фиксированном дискриминаторе\u001b[0m\u001b[0;34m\u001b[0m\u001b[0;34m\u001b[0m\u001b[0m\n\u001b[1;32m    116\u001b[0m                 \u001b[0mG_loss\u001b[0m\u001b[0;34m,\u001b[0m \u001b[0mMSE_train\u001b[0m\u001b[0;34m,\u001b[0m \u001b[0mMSE_test\u001b[0m \u001b[0;34m=\u001b[0m \u001b[0mself\u001b[0m\u001b[0;34m.\u001b[0m\u001b[0m_generator_step\u001b[0m\u001b[0;34m(\u001b[0m\u001b[0mx_old\u001b[0m\u001b[0;34m=\u001b[0m\u001b[0mX_old\u001b[0m\u001b[0;34m,\u001b[0m \u001b[0mx_new\u001b[0m\u001b[0;34m=\u001b[0m\u001b[0mX_new\u001b[0m\u001b[0;34m,\u001b[0m \u001b[0mm\u001b[0m\u001b[0;34m=\u001b[0m\u001b[0mM\u001b[0m\u001b[0;34m,\u001b[0m \u001b[0mh\u001b[0m\u001b[0;34m=\u001b[0m\u001b[0mH\u001b[0m\u001b[0;34m)\u001b[0m\u001b[0;34m\u001b[0m\u001b[0;34m\u001b[0m\u001b[0m\n\u001b[0;32m--> 117\u001b[0;31m                 \u001b[0mG_loss\u001b[0m\u001b[0;34m.\u001b[0m\u001b[0mbackward\u001b[0m\u001b[0;34m(\u001b[0m\u001b[0;34m)\u001b[0m\u001b[0;34m\u001b[0m\u001b[0;34m\u001b[0m\u001b[0m\n\u001b[0m\u001b[1;32m    118\u001b[0m                 \u001b[0mself\u001b[0m\u001b[0;34m.\u001b[0m\u001b[0moptimizer_G\u001b[0m\u001b[0;34m.\u001b[0m\u001b[0mstep\u001b[0m\u001b[0;34m(\u001b[0m\u001b[0;34m)\u001b[0m\u001b[0;34m\u001b[0m\u001b[0;34m\u001b[0m\u001b[0m\n\u001b[1;32m    119\u001b[0m                 \u001b[0mself\u001b[0m\u001b[0;34m.\u001b[0m\u001b[0moptimizer_G\u001b[0m\u001b[0;34m.\u001b[0m\u001b[0mzero_grad\u001b[0m\u001b[0;34m(\u001b[0m\u001b[0;34m)\u001b[0m\u001b[0;34m\u001b[0m\u001b[0;34m\u001b[0m\u001b[0m\n",
            "\u001b[0;32m/usr/local/lib/python3.11/dist-packages/torch/_tensor.py\u001b[0m in \u001b[0;36mbackward\u001b[0;34m(self, gradient, retain_graph, create_graph, inputs)\u001b[0m\n\u001b[1;32m    579\u001b[0m                 \u001b[0minputs\u001b[0m\u001b[0;34m=\u001b[0m\u001b[0minputs\u001b[0m\u001b[0;34m,\u001b[0m\u001b[0;34m\u001b[0m\u001b[0;34m\u001b[0m\u001b[0m\n\u001b[1;32m    580\u001b[0m             )\n\u001b[0;32m--> 581\u001b[0;31m         torch.autograd.backward(\n\u001b[0m\u001b[1;32m    582\u001b[0m             \u001b[0mself\u001b[0m\u001b[0;34m,\u001b[0m \u001b[0mgradient\u001b[0m\u001b[0;34m,\u001b[0m \u001b[0mretain_graph\u001b[0m\u001b[0;34m,\u001b[0m \u001b[0mcreate_graph\u001b[0m\u001b[0;34m,\u001b[0m \u001b[0minputs\u001b[0m\u001b[0;34m=\u001b[0m\u001b[0minputs\u001b[0m\u001b[0;34m\u001b[0m\u001b[0;34m\u001b[0m\u001b[0m\n\u001b[1;32m    583\u001b[0m         )\n",
            "\u001b[0;32m/usr/local/lib/python3.11/dist-packages/torch/autograd/__init__.py\u001b[0m in \u001b[0;36mbackward\u001b[0;34m(tensors, grad_tensors, retain_graph, create_graph, grad_variables, inputs)\u001b[0m\n\u001b[1;32m    345\u001b[0m     \u001b[0;31m# some Python versions print out the first line of a multi-line function\u001b[0m\u001b[0;34m\u001b[0m\u001b[0;34m\u001b[0m\u001b[0m\n\u001b[1;32m    346\u001b[0m     \u001b[0;31m# calls in the traceback and some print out the last line\u001b[0m\u001b[0;34m\u001b[0m\u001b[0;34m\u001b[0m\u001b[0m\n\u001b[0;32m--> 347\u001b[0;31m     _engine_run_backward(\n\u001b[0m\u001b[1;32m    348\u001b[0m         \u001b[0mtensors\u001b[0m\u001b[0;34m,\u001b[0m\u001b[0;34m\u001b[0m\u001b[0;34m\u001b[0m\u001b[0m\n\u001b[1;32m    349\u001b[0m         \u001b[0mgrad_tensors_\u001b[0m\u001b[0;34m,\u001b[0m\u001b[0;34m\u001b[0m\u001b[0;34m\u001b[0m\u001b[0m\n",
            "\u001b[0;32m/usr/local/lib/python3.11/dist-packages/torch/autograd/graph.py\u001b[0m in \u001b[0;36m_engine_run_backward\u001b[0;34m(t_outputs, *args, **kwargs)\u001b[0m\n\u001b[1;32m    823\u001b[0m         \u001b[0munregister_hooks\u001b[0m \u001b[0;34m=\u001b[0m \u001b[0m_register_logging_hooks_on_whole_graph\u001b[0m\u001b[0;34m(\u001b[0m\u001b[0mt_outputs\u001b[0m\u001b[0;34m)\u001b[0m\u001b[0;34m\u001b[0m\u001b[0;34m\u001b[0m\u001b[0m\n\u001b[1;32m    824\u001b[0m     \u001b[0;32mtry\u001b[0m\u001b[0;34m:\u001b[0m\u001b[0;34m\u001b[0m\u001b[0;34m\u001b[0m\u001b[0m\n\u001b[0;32m--> 825\u001b[0;31m         return Variable._execution_engine.run_backward(  # Calls into the C++ engine to run the backward pass\n\u001b[0m\u001b[1;32m    826\u001b[0m             \u001b[0mt_outputs\u001b[0m\u001b[0;34m,\u001b[0m \u001b[0;34m*\u001b[0m\u001b[0margs\u001b[0m\u001b[0;34m,\u001b[0m \u001b[0;34m**\u001b[0m\u001b[0mkwargs\u001b[0m\u001b[0;34m\u001b[0m\u001b[0;34m\u001b[0m\u001b[0m\n\u001b[1;32m    827\u001b[0m         )  # Calls into the C++ engine to run the backward pass\n",
            "\u001b[0;31mKeyboardInterrupt\u001b[0m: "
          ]
        }
      ]
    },
    {
      "cell_type": "markdown",
      "source": [
        "# Stage 2: Testing Threshold-Based Penalty Approach with Several Tau Values\n"
      ],
      "metadata": {
        "id": "JPugIRS29hmf"
      }
    },
    {
      "cell_type": "code",
      "source": [
        "from proxy_finder_threshold_orthogonalization1 import proxy_finder_threshold_ortho as pf\n",
        "import pandas as pd\n",
        "import numpy as np\n",
        "import matplotlib.pyplot as plt"
      ],
      "metadata": {
        "id": "62vByBEy8c7O",
        "colab": {
          "base_uri": "https://localhost:8080/"
        },
        "outputId": "2db0c7f0-74f1-426a-9687-a085690ac177"
      },
      "execution_count": null,
      "outputs": [
        {
          "output_type": "stream",
          "name": "stderr",
          "text": [
            "/usr/local/lib/python3.10/dist-packages/keras/src/layers/core/dense.py:87: UserWarning: Do not pass an `input_shape`/`input_dim` argument to a layer. When using Sequential models, prefer using an `Input(shape)` object as the first layer in the model instead.\n",
            "  super().__init__(activity_regularizer=activity_regularizer, **kwargs)\n"
          ]
        },
        {
          "output_type": "stream",
          "name": "stdout",
          "text": [
            "\u001b[1m107/107\u001b[0m \u001b[32m━━━━━━━━━━━━━━━━━━━━\u001b[0m\u001b[37m\u001b[0m \u001b[1m0s\u001b[0m 3ms/step\n",
            "\u001b[1m22/22\u001b[0m \u001b[32m━━━━━━━━━━━━━━━━━━━━\u001b[0m\u001b[37m\u001b[0m \u001b[1m0s\u001b[0m 2ms/step \n",
            "Debug statement: Neural Net test MSE = 0.015790658249321195\n",
            "Proxy 1 for christian_nationalism: christian_nationalism with score: 0.03886556131412594\n",
            "Proxy 2 for christian_nationalism: index with score: 0.00249156039780819\n",
            "Proxy 3 for christian_nationalism: hispanic with score: 0.0009433580646889039\n",
            "Proxy 4 for christian_nationalism: auth_grid_1 with score: -0.006496961107809562\n",
            "Proxy 5 for christian_nationalism: auth_grid_3 with score: -0.011481241975279985\n",
            "Proxy 6 for christian_nationalism: ideo7 with score: -0.013375356616428025\n",
            "Proxy 7 for christian_nationalism: pff_dt with score: -0.016776623171550487\n",
            "Proxy 8 for christian_nationalism: immigrant_deport with score: -0.021799249569553203\n",
            "Proxy 9 for christian_nationalism: auth_grid_2 with score: -0.02539523247065939\n",
            "Proxy 10 for christian_nationalism: white with score: -0.03193742053904329\n",
            "Proxy 11 for christian_nationalism: turnout20post with score: -0.05225609520288257\n",
            "Proxy 12 for christian_nationalism: immigrant_citizenship with score: -0.052383492558551015\n",
            "Proxy 13 for christian_nationalism: election_fairnness with score: -0.06065963529971388\n",
            "Proxy 14 for christian_nationalism: educ with score: -0.09135788939587197\n",
            "Proxy 15 for christian_nationalism: presvote20post with score: -0.09702378341982443\n",
            "Proxy 16 for christian_nationalism: senvote20post with score: -0.10272457252134665\n",
            "Proxy 17 for christian_nationalism: housevote20post with score: -0.10328341147232509\n",
            "Proxy 18 for christian_nationalism: pid7 with score: -0.12621732653121717\n",
            "Proxy 19 for christian_nationalism: pff_jb with score: -0.15619305425061025\n",
            "Proxy 20 for christian_nationalism: partisan_violence with score: -0.6451761679080853\n"
          ]
        }
      ]
    },
    {
      "cell_type": "code",
      "source": [
        "def run_and_visualize_monte_carlo2(df, weights, num_iterations, target, target_correlation, predictors, taus):\n",
        "    selection_trackers = []\n",
        "    proxy_name = (f'proxy_{target_correlation:.2f}')\n",
        "    tau_names = [f'tau_{tau:.2f}' for tau in taus]\n",
        "\n",
        "    # Run Monte Carlo for each target correlation\n",
        "    for tau in taus:\n",
        "        # Prepare dataset\n",
        "        df_train, df_test = prepare_dataset(df, target, target_correlation)\n",
        "        selection_tracker = {orth_weight: {} for orth_weight in weights}\n",
        "\n",
        "        # Run iterations for each weight\n",
        "        for orth_weight in weights:\n",
        "            print(f\"Testing with orthogonality weight: {orth_weight}\")\n",
        "            print(f\"Testing with tau: {tau}\")\n",
        "\n",
        "            for i in range(num_iterations):\n",
        "                print(f\"Running iteration {i+1}/{num_iterations}\")\n",
        "                top_proxies = pf(df_train=df_train,\n",
        "                                         df_test=df_test,\n",
        "                                         target=target,\n",
        "                                         predictors=predictors,\n",
        "                                         num_proxies=5,\n",
        "                                         orth_weight=orth_weight,\n",
        "                                         orthogonal_vars=predictors)\n",
        "\n",
        "                # Update selection tracker for top pick\n",
        "                for rank, proxy in enumerate(top_proxies, 1):\n",
        "                    if rank == 1:\n",
        "                        selection_tracker[orth_weight][proxy] = selection_tracker[orth_weight].get(proxy, 0) + 1\n",
        "\n",
        "        selection_trackers.append(selection_tracker)\n",
        "\n",
        "    # Visualization\n",
        "    plt.figure(figsize=(10, 6))\n",
        "\n",
        "    # Plot results for each target correlation\n",
        "    for index, tracker in enumerate(selection_trackers):\n",
        "        results = []\n",
        "        for orth_weight, proxies in tracker.items():\n",
        "            for proxy, frequency in proxies.items():\n",
        "                results.append({\n",
        "                    'orth_weight': orth_weight,\n",
        "                    'proxy': proxy,\n",
        "                    'frequency': (frequency / num_iterations) * 100\n",
        "                })\n",
        "\n",
        "        results_df = pd.DataFrame(results)\n",
        "        pivot_data = results_df.pivot(index='orth_weight', columns='proxy', values='frequency')\n",
        "        pivot_data.fillna(0, inplace=True)\n",
        "        print(pivot_data)\n",
        "\n",
        "        # Plot each proxy as a separate line\n",
        "        name = tau_names[index]\n",
        "        plt.plot(pivot_data.index, pivot_data[proxy_name], marker='o', label=name, linewidth=2)\n",
        "\n",
        "    # Create the line plot\n",
        "    plt.xlabel('Orthogonality Weight')\n",
        "    plt.ylabel('Selection Frequency')\n",
        "    plt.title('Selection Frequency vs Orthogonality Weight')\n",
        "    plt.grid(True, linestyle='--', alpha=0.7)\n",
        "    plt.legend()\n",
        "    plt.show()"
      ],
      "metadata": {
        "id": "PanVMmWXZzos"
      },
      "execution_count": null,
      "outputs": []
    },
    {
      "cell_type": "code",
      "source": [
        "df = pd.read_stata(\"/content/temp_yougov.dta\")\n",
        "weights = np.arange(0.40, 0.75, 0.05)\n",
        "taus = [0.00, 0.05, 0.15]\n",
        "num_iterations = 5\n",
        "target_correlation = 0.90\n",
        "target = 'christian_nationalism'\n",
        "predictors = [\n",
        "                   'presvote20post',\n",
        "                   'housevote20post',\n",
        "                   'senvote20post',\n",
        "                   'pff_jb',\n",
        "                   'pff_dt',\n",
        "                   'pid7',\n",
        "                   'election_fairnness',\n",
        "                   'educ',\n",
        "                   'hispanic',\n",
        "                   'partisan_violence',\n",
        "                   'immigrant_citizenship',\n",
        "                   'immigrant_deport',\n",
        "                   'auth_grid_1',\n",
        "                   'auth_grid_3',\n",
        "                   'auth_grid_2',\n",
        "                   'faminc_new']\n",
        "\n",
        "run_and_visualize_monte_carlo2(df, weights, num_iterations, target, target_correlation, predictors, taus)"
      ],
      "metadata": {
        "id": "6cHbI1W-Z28Y",
        "colab": {
          "base_uri": "https://localhost:8080/",
          "height": 1000
        },
        "outputId": "9fdeb588-132f-42ab-c07f-07f5889b22ee"
      },
      "execution_count": null,
      "outputs": [
        {
          "output_type": "stream",
          "name": "stdout",
          "text": [
            "Testing with orthogonality weight: 0.4\n",
            "Testing with tau: 0.0\n",
            "Running iteration 1/5\n"
          ]
        },
        {
          "output_type": "stream",
          "name": "stderr",
          "text": [
            "/usr/local/lib/python3.10/dist-packages/keras/src/layers/core/dense.py:87: UserWarning: Do not pass an `input_shape`/`input_dim` argument to a layer. When using Sequential models, prefer using an `Input(shape)` object as the first layer in the model instead.\n",
            "  super().__init__(activity_regularizer=activity_regularizer, **kwargs)\n"
          ]
        },
        {
          "output_type": "stream",
          "name": "stdout",
          "text": [
            "\u001b[1m54/54\u001b[0m \u001b[32m━━━━━━━━━━━━━━━━━━━━\u001b[0m\u001b[37m\u001b[0m \u001b[1m0s\u001b[0m 3ms/step\n",
            "\u001b[1m11/11\u001b[0m \u001b[32m━━━━━━━━━━━━━━━━━━━━\u001b[0m\u001b[37m\u001b[0m \u001b[1m0s\u001b[0m 2ms/step \n",
            "Debug statement: Neural Net test MSE = 0.017678916113245288\n",
            "Proxy 1 for christian_nationalism: pff_dt with score: 0.25640196561651524\n",
            "Proxy 2 for christian_nationalism: presvote20post with score: 0.2289237540324809\n",
            "Proxy 3 for christian_nationalism: proxy_0.90 with score: 0.22339841142516176\n",
            "Proxy 4 for christian_nationalism: immigrant_deport with score: 0.2170973605768162\n",
            "Proxy 5 for christian_nationalism: senvote20post with score: 0.21099390145580538\n",
            "Running iteration 2/5\n"
          ]
        },
        {
          "output_type": "stream",
          "name": "stderr",
          "text": [
            "/usr/local/lib/python3.10/dist-packages/keras/src/layers/core/dense.py:87: UserWarning: Do not pass an `input_shape`/`input_dim` argument to a layer. When using Sequential models, prefer using an `Input(shape)` object as the first layer in the model instead.\n",
            "  super().__init__(activity_regularizer=activity_regularizer, **kwargs)\n"
          ]
        },
        {
          "output_type": "stream",
          "name": "stdout",
          "text": [
            "\u001b[1m54/54\u001b[0m \u001b[32m━━━━━━━━━━━━━━━━━━━━\u001b[0m\u001b[37m\u001b[0m \u001b[1m0s\u001b[0m 3ms/step\n",
            "\u001b[1m11/11\u001b[0m \u001b[32m━━━━━━━━━━━━━━━━━━━━\u001b[0m\u001b[37m\u001b[0m \u001b[1m0s\u001b[0m 2ms/step \n",
            "Debug statement: Neural Net test MSE = 0.017532541427914515\n",
            "Proxy 1 for christian_nationalism: pff_dt with score: 0.27468780945900645\n",
            "Proxy 2 for christian_nationalism: presvote20post with score: 0.2442451314760794\n",
            "Proxy 3 for christian_nationalism: senvote20post with score: 0.23542643514559053\n",
            "Proxy 4 for christian_nationalism: housevote20post with score: 0.23492017273407528\n",
            "Proxy 5 for christian_nationalism: proxy_0.90 with score: 0.22150511635059955\n",
            "Running iteration 3/5\n"
          ]
        },
        {
          "output_type": "stream",
          "name": "stderr",
          "text": [
            "/usr/local/lib/python3.10/dist-packages/keras/src/layers/core/dense.py:87: UserWarning: Do not pass an `input_shape`/`input_dim` argument to a layer. When using Sequential models, prefer using an `Input(shape)` object as the first layer in the model instead.\n",
            "  super().__init__(activity_regularizer=activity_regularizer, **kwargs)\n"
          ]
        },
        {
          "output_type": "stream",
          "name": "stdout",
          "text": [
            "\u001b[1m54/54\u001b[0m \u001b[32m━━━━━━━━━━━━━━━━━━━━\u001b[0m\u001b[37m\u001b[0m \u001b[1m0s\u001b[0m 2ms/step\n",
            "\u001b[1m11/11\u001b[0m \u001b[32m━━━━━━━━━━━━━━━━━━━━\u001b[0m\u001b[37m\u001b[0m \u001b[1m0s\u001b[0m 2ms/step \n",
            "Debug statement: Neural Net test MSE = 0.01727082662932807\n",
            "Proxy 1 for christian_nationalism: pff_dt with score: 0.25006309640249635\n",
            "Proxy 2 for christian_nationalism: presvote20post with score: 0.2331165288137444\n",
            "Proxy 3 for christian_nationalism: senvote20post with score: 0.22715399153312682\n",
            "Proxy 4 for christian_nationalism: housevote20post with score: 0.22482130735710876\n",
            "Proxy 5 for christian_nationalism: proxy_0.90 with score: 0.22036566202087443\n",
            "Running iteration 4/5\n"
          ]
        },
        {
          "output_type": "stream",
          "name": "stderr",
          "text": [
            "/usr/local/lib/python3.10/dist-packages/keras/src/layers/core/dense.py:87: UserWarning: Do not pass an `input_shape`/`input_dim` argument to a layer. When using Sequential models, prefer using an `Input(shape)` object as the first layer in the model instead.\n",
            "  super().__init__(activity_regularizer=activity_regularizer, **kwargs)\n"
          ]
        },
        {
          "output_type": "stream",
          "name": "stdout",
          "text": [
            "\u001b[1m54/54\u001b[0m \u001b[32m━━━━━━━━━━━━━━━━━━━━\u001b[0m\u001b[37m\u001b[0m \u001b[1m0s\u001b[0m 3ms/step\n",
            "\u001b[1m11/11\u001b[0m \u001b[32m━━━━━━━━━━━━━━━━━━━━\u001b[0m\u001b[37m\u001b[0m \u001b[1m0s\u001b[0m 2ms/step \n",
            "Debug statement: Neural Net test MSE = 0.017828406493834003\n",
            "Proxy 1 for christian_nationalism: presvote20post with score: 0.2462968567352421\n",
            "Proxy 2 for christian_nationalism: pff_dt with score: 0.2382116006025406\n",
            "Proxy 3 for christian_nationalism: senvote20post with score: 0.23812321157258198\n",
            "Proxy 4 for christian_nationalism: housevote20post with score: 0.23376386807318295\n",
            "Proxy 5 for christian_nationalism: ideo7 with score: 0.21698375633331551\n",
            "Running iteration 5/5\n"
          ]
        },
        {
          "output_type": "stream",
          "name": "stderr",
          "text": [
            "/usr/local/lib/python3.10/dist-packages/keras/src/layers/core/dense.py:87: UserWarning: Do not pass an `input_shape`/`input_dim` argument to a layer. When using Sequential models, prefer using an `Input(shape)` object as the first layer in the model instead.\n",
            "  super().__init__(activity_regularizer=activity_regularizer, **kwargs)\n"
          ]
        },
        {
          "output_type": "stream",
          "name": "stdout",
          "text": [
            "\u001b[1m54/54\u001b[0m \u001b[32m━━━━━━━━━━━━━━━━━━━━\u001b[0m\u001b[37m\u001b[0m \u001b[1m0s\u001b[0m 3ms/step\n",
            "\u001b[1m11/11\u001b[0m \u001b[32m━━━━━━━━━━━━━━━━━━━━\u001b[0m\u001b[37m\u001b[0m \u001b[1m0s\u001b[0m 2ms/step \n",
            "Debug statement: Neural Net test MSE = 0.01807044183277217\n",
            "Proxy 1 for christian_nationalism: pff_dt with score: 0.2579507750144261\n",
            "Proxy 2 for christian_nationalism: presvote20post with score: 0.22542130255202852\n",
            "Proxy 3 for christian_nationalism: proxy_0.90 with score: 0.21615010988109273\n",
            "Proxy 4 for christian_nationalism: senvote20post with score: 0.21384475279004717\n",
            "Proxy 5 for christian_nationalism: housevote20post with score: 0.21346378744190792\n",
            "Testing with orthogonality weight: 0.45\n",
            "Testing with tau: 0.0\n",
            "Running iteration 1/5\n"
          ]
        },
        {
          "output_type": "stream",
          "name": "stderr",
          "text": [
            "/usr/local/lib/python3.10/dist-packages/keras/src/layers/core/dense.py:87: UserWarning: Do not pass an `input_shape`/`input_dim` argument to a layer. When using Sequential models, prefer using an `Input(shape)` object as the first layer in the model instead.\n",
            "  super().__init__(activity_regularizer=activity_regularizer, **kwargs)\n"
          ]
        },
        {
          "output_type": "stream",
          "name": "stdout",
          "text": [
            "\u001b[1m54/54\u001b[0m \u001b[32m━━━━━━━━━━━━━━━━━━━━\u001b[0m\u001b[37m\u001b[0m \u001b[1m0s\u001b[0m 2ms/step\n",
            "\u001b[1m11/11\u001b[0m \u001b[32m━━━━━━━━━━━━━━━━━━━━\u001b[0m\u001b[37m\u001b[0m \u001b[1m0s\u001b[0m 2ms/step \n",
            "Debug statement: Neural Net test MSE = 0.017569167027675473\n",
            "Proxy 1 for christian_nationalism: pff_dt with score: 0.1901713536402293\n",
            "Proxy 2 for christian_nationalism: proxy_0.90 with score: 0.18009122402139388\n",
            "Proxy 3 for christian_nationalism: presvote20post with score: 0.178156190360605\n",
            "Proxy 4 for christian_nationalism: senvote20post with score: 0.17224959181606697\n",
            "Proxy 5 for christian_nationalism: housevote20post with score: 0.16892000241201316\n",
            "Running iteration 2/5\n"
          ]
        },
        {
          "output_type": "stream",
          "name": "stderr",
          "text": [
            "/usr/local/lib/python3.10/dist-packages/keras/src/layers/core/dense.py:87: UserWarning: Do not pass an `input_shape`/`input_dim` argument to a layer. When using Sequential models, prefer using an `Input(shape)` object as the first layer in the model instead.\n",
            "  super().__init__(activity_regularizer=activity_regularizer, **kwargs)\n"
          ]
        },
        {
          "output_type": "stream",
          "name": "stdout",
          "text": [
            "\u001b[1m54/54\u001b[0m \u001b[32m━━━━━━━━━━━━━━━━━━━━\u001b[0m\u001b[37m\u001b[0m \u001b[1m0s\u001b[0m 4ms/step\n",
            "\u001b[1m11/11\u001b[0m \u001b[32m━━━━━━━━━━━━━━━━━━━━\u001b[0m\u001b[37m\u001b[0m \u001b[1m0s\u001b[0m 2ms/step \n",
            "Debug statement: Neural Net test MSE = 0.01702735859395514\n",
            "Proxy 1 for christian_nationalism: pff_dt with score: 0.2047098347484811\n",
            "Proxy 2 for christian_nationalism: presvote20post with score: 0.17972985887261275\n",
            "Proxy 3 for christian_nationalism: proxy_0.90 with score: 0.17905843012137607\n",
            "Proxy 4 for christian_nationalism: senvote20post with score: 0.17438213838964178\n",
            "Proxy 5 for christian_nationalism: housevote20post with score: 0.1733587416326549\n",
            "Running iteration 3/5\n"
          ]
        },
        {
          "output_type": "stream",
          "name": "stderr",
          "text": [
            "/usr/local/lib/python3.10/dist-packages/keras/src/layers/core/dense.py:87: UserWarning: Do not pass an `input_shape`/`input_dim` argument to a layer. When using Sequential models, prefer using an `Input(shape)` object as the first layer in the model instead.\n",
            "  super().__init__(activity_regularizer=activity_regularizer, **kwargs)\n"
          ]
        },
        {
          "output_type": "stream",
          "name": "stdout",
          "text": [
            "\u001b[1m54/54\u001b[0m \u001b[32m━━━━━━━━━━━━━━━━━━━━\u001b[0m\u001b[37m\u001b[0m \u001b[1m0s\u001b[0m 3ms/step\n",
            "\u001b[1m11/11\u001b[0m \u001b[32m━━━━━━━━━━━━━━━━━━━━\u001b[0m\u001b[37m\u001b[0m \u001b[1m0s\u001b[0m 3ms/step \n",
            "Debug statement: Neural Net test MSE = 0.017946673957741348\n",
            "Proxy 1 for christian_nationalism: pff_dt with score: 0.20151322543808342\n",
            "Proxy 2 for christian_nationalism: proxy_0.90 with score: 0.18344836882180393\n",
            "Proxy 3 for christian_nationalism: immigrant_deport with score: 0.1633906433557399\n",
            "Proxy 4 for christian_nationalism: presvote20post with score: 0.16184616563815582\n",
            "Proxy 5 for christian_nationalism: ideo7 with score: 0.1608748485395389\n",
            "Running iteration 4/5\n"
          ]
        },
        {
          "output_type": "stream",
          "name": "stderr",
          "text": [
            "/usr/local/lib/python3.10/dist-packages/keras/src/layers/core/dense.py:87: UserWarning: Do not pass an `input_shape`/`input_dim` argument to a layer. When using Sequential models, prefer using an `Input(shape)` object as the first layer in the model instead.\n",
            "  super().__init__(activity_regularizer=activity_regularizer, **kwargs)\n"
          ]
        },
        {
          "output_type": "stream",
          "name": "stdout",
          "text": [
            "\u001b[1m54/54\u001b[0m \u001b[32m━━━━━━━━━━━━━━━━━━━━\u001b[0m\u001b[37m\u001b[0m \u001b[1m0s\u001b[0m 3ms/step\n",
            "\u001b[1m11/11\u001b[0m \u001b[32m━━━━━━━━━━━━━━━━━━━━\u001b[0m\u001b[37m\u001b[0m \u001b[1m0s\u001b[0m 2ms/step \n",
            "Debug statement: Neural Net test MSE = 0.01735203147158507\n",
            "Proxy 1 for christian_nationalism: pff_dt with score: 0.20730051088724255\n",
            "Proxy 2 for christian_nationalism: presvote20post with score: 0.1737357957734497\n",
            "Proxy 3 for christian_nationalism: senvote20post with score: 0.17254765432482994\n",
            "Proxy 4 for christian_nationalism: election_fairnness with score: 0.17067041262654864\n",
            "Proxy 5 for christian_nationalism: immigrant_deport with score: 0.17061528259462758\n",
            "Running iteration 5/5\n"
          ]
        },
        {
          "output_type": "stream",
          "name": "stderr",
          "text": [
            "/usr/local/lib/python3.10/dist-packages/keras/src/layers/core/dense.py:87: UserWarning: Do not pass an `input_shape`/`input_dim` argument to a layer. When using Sequential models, prefer using an `Input(shape)` object as the first layer in the model instead.\n",
            "  super().__init__(activity_regularizer=activity_regularizer, **kwargs)\n"
          ]
        },
        {
          "output_type": "stream",
          "name": "stdout",
          "text": [
            "\u001b[1m54/54\u001b[0m \u001b[32m━━━━━━━━━━━━━━━━━━━━\u001b[0m\u001b[37m\u001b[0m \u001b[1m0s\u001b[0m 2ms/step\n",
            "\u001b[1m11/11\u001b[0m \u001b[32m━━━━━━━━━━━━━━━━━━━━\u001b[0m\u001b[37m\u001b[0m \u001b[1m0s\u001b[0m 2ms/step \n",
            "Debug statement: Neural Net test MSE = 0.018546486441886313\n",
            "Proxy 1 for christian_nationalism: pff_dt with score: 0.20233108032914582\n",
            "Proxy 2 for christian_nationalism: proxy_0.90 with score: 0.18025892576351232\n",
            "Proxy 3 for christian_nationalism: presvote20post with score: 0.17299181645349962\n",
            "Proxy 4 for christian_nationalism: senvote20post with score: 0.16740059795039774\n",
            "Proxy 5 for christian_nationalism: housevote20post with score: 0.16543046435407466\n",
            "Testing with orthogonality weight: 0.5\n",
            "Testing with tau: 0.0\n",
            "Running iteration 1/5\n"
          ]
        },
        {
          "output_type": "stream",
          "name": "stderr",
          "text": [
            "/usr/local/lib/python3.10/dist-packages/keras/src/layers/core/dense.py:87: UserWarning: Do not pass an `input_shape`/`input_dim` argument to a layer. When using Sequential models, prefer using an `Input(shape)` object as the first layer in the model instead.\n",
            "  super().__init__(activity_regularizer=activity_regularizer, **kwargs)\n"
          ]
        },
        {
          "output_type": "stream",
          "name": "stdout",
          "text": [
            "\u001b[1m54/54\u001b[0m \u001b[32m━━━━━━━━━━━━━━━━━━━━\u001b[0m\u001b[37m\u001b[0m \u001b[1m0s\u001b[0m 2ms/step\n",
            "\u001b[1m11/11\u001b[0m \u001b[32m━━━━━━━━━━━━━━━━━━━━\u001b[0m\u001b[37m\u001b[0m \u001b[1m0s\u001b[0m 2ms/step \n",
            "Debug statement: Neural Net test MSE = 0.017035042957472244\n",
            "Proxy 1 for christian_nationalism: proxy_0.90 with score: 0.13972528991673\n",
            "Proxy 2 for christian_nationalism: immigrant_deport with score: 0.12755437442899986\n",
            "Proxy 3 for christian_nationalism: pff_dt with score: 0.12223809051076345\n",
            "Proxy 4 for christian_nationalism: ideo7 with score: 0.11862676661103838\n",
            "Proxy 5 for christian_nationalism: election_fairnness with score: 0.1077944571392051\n",
            "Running iteration 2/5\n"
          ]
        },
        {
          "output_type": "stream",
          "name": "stderr",
          "text": [
            "/usr/local/lib/python3.10/dist-packages/keras/src/layers/core/dense.py:87: UserWarning: Do not pass an `input_shape`/`input_dim` argument to a layer. When using Sequential models, prefer using an `Input(shape)` object as the first layer in the model instead.\n",
            "  super().__init__(activity_regularizer=activity_regularizer, **kwargs)\n"
          ]
        },
        {
          "output_type": "stream",
          "name": "stdout",
          "text": [
            "\u001b[1m54/54\u001b[0m \u001b[32m━━━━━━━━━━━━━━━━━━━━\u001b[0m\u001b[37m\u001b[0m \u001b[1m0s\u001b[0m 2ms/step\n",
            "\u001b[1m11/11\u001b[0m \u001b[32m━━━━━━━━━━━━━━━━━━━━\u001b[0m\u001b[37m\u001b[0m \u001b[1m0s\u001b[0m 2ms/step \n",
            "Debug statement: Neural Net test MSE = 0.017520753616083753\n",
            "Proxy 1 for christian_nationalism: pff_dt with score: 0.14326062446718624\n",
            "Proxy 2 for christian_nationalism: proxy_0.90 with score: 0.13944606911075702\n",
            "Proxy 3 for christian_nationalism: presvote20post with score: 0.12871537135183905\n",
            "Proxy 4 for christian_nationalism: housevote20post with score: 0.12446191768965464\n",
            "Proxy 5 for christian_nationalism: senvote20post with score: 0.1243007375521063\n",
            "Running iteration 3/5\n"
          ]
        },
        {
          "output_type": "stream",
          "name": "stderr",
          "text": [
            "/usr/local/lib/python3.10/dist-packages/keras/src/layers/core/dense.py:87: UserWarning: Do not pass an `input_shape`/`input_dim` argument to a layer. When using Sequential models, prefer using an `Input(shape)` object as the first layer in the model instead.\n",
            "  super().__init__(activity_regularizer=activity_regularizer, **kwargs)\n"
          ]
        },
        {
          "output_type": "stream",
          "name": "stdout",
          "text": [
            "\u001b[1m54/54\u001b[0m \u001b[32m━━━━━━━━━━━━━━━━━━━━\u001b[0m\u001b[37m\u001b[0m \u001b[1m1s\u001b[0m 13ms/step\n",
            "\u001b[1m11/11\u001b[0m \u001b[32m━━━━━━━━━━━━━━━━━━━━\u001b[0m\u001b[37m\u001b[0m \u001b[1m0s\u001b[0m 2ms/step \n",
            "Debug statement: Neural Net test MSE = 0.017558467145331505\n",
            "Proxy 1 for christian_nationalism: proxy_0.90 with score: 0.13858485760080036\n",
            "Proxy 2 for christian_nationalism: pff_dt with score: 0.13780486043289658\n",
            "Proxy 3 for christian_nationalism: immigrant_deport with score: 0.12336899779017613\n",
            "Proxy 4 for christian_nationalism: ideo7 with score: 0.12024153963465262\n",
            "Proxy 5 for christian_nationalism: presvote20post with score: 0.11726980122731293\n",
            "Running iteration 4/5\n"
          ]
        },
        {
          "output_type": "stream",
          "name": "stderr",
          "text": [
            "/usr/local/lib/python3.10/dist-packages/keras/src/layers/core/dense.py:87: UserWarning: Do not pass an `input_shape`/`input_dim` argument to a layer. When using Sequential models, prefer using an `Input(shape)` object as the first layer in the model instead.\n",
            "  super().__init__(activity_regularizer=activity_regularizer, **kwargs)\n"
          ]
        },
        {
          "output_type": "stream",
          "name": "stdout",
          "text": [
            "\u001b[1m54/54\u001b[0m \u001b[32m━━━━━━━━━━━━━━━━━━━━\u001b[0m\u001b[37m\u001b[0m \u001b[1m0s\u001b[0m 2ms/step\n",
            "\u001b[1m11/11\u001b[0m \u001b[32m━━━━━━━━━━━━━━━━━━━━\u001b[0m\u001b[37m\u001b[0m \u001b[1m0s\u001b[0m 2ms/step \n",
            "Debug statement: Neural Net test MSE = 0.018367673232414342\n",
            "Proxy 1 for christian_nationalism: pff_dt with score: 0.14539773416927376\n",
            "Proxy 2 for christian_nationalism: proxy_0.90 with score: 0.13610761059181636\n",
            "Proxy 3 for christian_nationalism: presvote20post with score: 0.12235180595892245\n",
            "Proxy 4 for christian_nationalism: ideo7 with score: 0.11768582858568938\n",
            "Proxy 5 for christian_nationalism: election_fairnness with score: 0.11718977382946599\n",
            "Running iteration 5/5\n"
          ]
        },
        {
          "output_type": "stream",
          "name": "stderr",
          "text": [
            "/usr/local/lib/python3.10/dist-packages/keras/src/layers/core/dense.py:87: UserWarning: Do not pass an `input_shape`/`input_dim` argument to a layer. When using Sequential models, prefer using an `Input(shape)` object as the first layer in the model instead.\n",
            "  super().__init__(activity_regularizer=activity_regularizer, **kwargs)\n"
          ]
        },
        {
          "output_type": "stream",
          "name": "stdout",
          "text": [
            "\u001b[1m54/54\u001b[0m \u001b[32m━━━━━━━━━━━━━━━━━━━━\u001b[0m\u001b[37m\u001b[0m \u001b[1m0s\u001b[0m 2ms/step\n",
            "\u001b[1m11/11\u001b[0m \u001b[32m━━━━━━━━━━━━━━━━━━━━\u001b[0m\u001b[37m\u001b[0m \u001b[1m0s\u001b[0m 2ms/step \n",
            "Debug statement: Neural Net test MSE = 0.017114488269950885\n",
            "Proxy 1 for christian_nationalism: pff_dt with score: 0.15038385109185587\n",
            "Proxy 2 for christian_nationalism: proxy_0.90 with score: 0.14063787440121495\n",
            "Proxy 3 for christian_nationalism: ideo7 with score: 0.11897560879024155\n",
            "Proxy 4 for christian_nationalism: immigrant_deport with score: 0.11598959906244027\n",
            "Proxy 5 for christian_nationalism: presvote20post with score: 0.11246171868047447\n",
            "Testing with orthogonality weight: 0.55\n",
            "Testing with tau: 0.0\n",
            "Running iteration 1/5\n"
          ]
        },
        {
          "output_type": "stream",
          "name": "stderr",
          "text": [
            "/usr/local/lib/python3.10/dist-packages/keras/src/layers/core/dense.py:87: UserWarning: Do not pass an `input_shape`/`input_dim` argument to a layer. When using Sequential models, prefer using an `Input(shape)` object as the first layer in the model instead.\n",
            "  super().__init__(activity_regularizer=activity_regularizer, **kwargs)\n"
          ]
        },
        {
          "output_type": "stream",
          "name": "stdout",
          "text": [
            "\u001b[1m54/54\u001b[0m \u001b[32m━━━━━━━━━━━━━━━━━━━━\u001b[0m\u001b[37m\u001b[0m \u001b[1m0s\u001b[0m 2ms/step\n",
            "\u001b[1m11/11\u001b[0m \u001b[32m━━━━━━━━━━━━━━━━━━━━\u001b[0m\u001b[37m\u001b[0m \u001b[1m0s\u001b[0m 2ms/step \n",
            "Debug statement: Neural Net test MSE = 0.017435408668077253\n",
            "Proxy 1 for christian_nationalism: proxy_0.90 with score: 0.09897614346681494\n",
            "Proxy 2 for christian_nationalism: pff_dt with score: 0.0911804555456214\n",
            "Proxy 3 for christian_nationalism: ideo7 with score: 0.07727640305845901\n",
            "Proxy 4 for christian_nationalism: immigrant_deport with score: 0.0666413967757595\n",
            "Proxy 5 for christian_nationalism: presvote20post with score: 0.062378324678114105\n",
            "Running iteration 2/5\n"
          ]
        },
        {
          "output_type": "stream",
          "name": "stderr",
          "text": [
            "/usr/local/lib/python3.10/dist-packages/keras/src/layers/core/dense.py:87: UserWarning: Do not pass an `input_shape`/`input_dim` argument to a layer. When using Sequential models, prefer using an `Input(shape)` object as the first layer in the model instead.\n",
            "  super().__init__(activity_regularizer=activity_regularizer, **kwargs)\n"
          ]
        },
        {
          "output_type": "stream",
          "name": "stdout",
          "text": [
            "\u001b[1m54/54\u001b[0m \u001b[32m━━━━━━━━━━━━━━━━━━━━\u001b[0m\u001b[37m\u001b[0m \u001b[1m0s\u001b[0m 2ms/step\n",
            "\u001b[1m11/11\u001b[0m \u001b[32m━━━━━━━━━━━━━━━━━━━━\u001b[0m\u001b[37m\u001b[0m \u001b[1m0s\u001b[0m 2ms/step \n",
            "Debug statement: Neural Net test MSE = 0.017079322763369258\n",
            "Proxy 1 for christian_nationalism: proxy_0.90 with score: 0.10077172079213981\n",
            "Proxy 2 for christian_nationalism: pff_dt with score: 0.09327558651735471\n",
            "Proxy 3 for christian_nationalism: ideo7 with score: 0.07730868500595389\n",
            "Proxy 4 for christian_nationalism: immigrant_deport with score: 0.06742341850637049\n",
            "Proxy 5 for christian_nationalism: presvote20post with score: 0.06013358929326457\n",
            "Running iteration 3/5\n"
          ]
        },
        {
          "output_type": "stream",
          "name": "stderr",
          "text": [
            "/usr/local/lib/python3.10/dist-packages/keras/src/layers/core/dense.py:87: UserWarning: Do not pass an `input_shape`/`input_dim` argument to a layer. When using Sequential models, prefer using an `Input(shape)` object as the first layer in the model instead.\n",
            "  super().__init__(activity_regularizer=activity_regularizer, **kwargs)\n"
          ]
        },
        {
          "output_type": "stream",
          "name": "stdout",
          "text": [
            "\u001b[1m54/54\u001b[0m \u001b[32m━━━━━━━━━━━━━━━━━━━━\u001b[0m\u001b[37m\u001b[0m \u001b[1m0s\u001b[0m 3ms/step\n",
            "\u001b[1m11/11\u001b[0m \u001b[32m━━━━━━━━━━━━━━━━━━━━\u001b[0m\u001b[37m\u001b[0m \u001b[1m0s\u001b[0m 2ms/step \n",
            "Debug statement: Neural Net test MSE = 0.01848507248064373\n",
            "Proxy 1 for christian_nationalism: pff_dt with score: 0.10128310403208127\n",
            "Proxy 2 for christian_nationalism: proxy_0.90 with score: 0.09929587059455416\n",
            "Proxy 3 for christian_nationalism: ideo7 with score: 0.07583681298194933\n",
            "Proxy 4 for christian_nationalism: immigrant_deport with score: 0.07405417201025333\n",
            "Proxy 5 for christian_nationalism: presvote20post with score: 0.06046267062420835\n",
            "Running iteration 4/5\n"
          ]
        },
        {
          "output_type": "stream",
          "name": "stderr",
          "text": [
            "/usr/local/lib/python3.10/dist-packages/keras/src/layers/core/dense.py:87: UserWarning: Do not pass an `input_shape`/`input_dim` argument to a layer. When using Sequential models, prefer using an `Input(shape)` object as the first layer in the model instead.\n",
            "  super().__init__(activity_regularizer=activity_regularizer, **kwargs)\n"
          ]
        },
        {
          "output_type": "stream",
          "name": "stdout",
          "text": [
            "\u001b[1m54/54\u001b[0m \u001b[32m━━━━━━━━━━━━━━━━━━━━\u001b[0m\u001b[37m\u001b[0m \u001b[1m0s\u001b[0m 2ms/step\n",
            "\u001b[1m11/11\u001b[0m \u001b[32m━━━━━━━━━━━━━━━━━━━━\u001b[0m\u001b[37m\u001b[0m \u001b[1m0s\u001b[0m 2ms/step \n",
            "Debug statement: Neural Net test MSE = 0.01841845522106443\n",
            "Proxy 1 for christian_nationalism: proxy_0.90 with score: 0.0970409541585846\n",
            "Proxy 2 for christian_nationalism: pff_dt with score: 0.0880455079567318\n",
            "Proxy 3 for christian_nationalism: ideo7 with score: 0.07537112071206359\n",
            "Proxy 4 for christian_nationalism: immigrant_deport with score: 0.07247956950943218\n",
            "Proxy 5 for christian_nationalism: election_fairnness with score: 0.06629012032520412\n",
            "Running iteration 5/5\n"
          ]
        },
        {
          "output_type": "stream",
          "name": "stderr",
          "text": [
            "/usr/local/lib/python3.10/dist-packages/keras/src/layers/core/dense.py:87: UserWarning: Do not pass an `input_shape`/`input_dim` argument to a layer. When using Sequential models, prefer using an `Input(shape)` object as the first layer in the model instead.\n",
            "  super().__init__(activity_regularizer=activity_regularizer, **kwargs)\n"
          ]
        },
        {
          "output_type": "stream",
          "name": "stdout",
          "text": [
            "\u001b[1m54/54\u001b[0m \u001b[32m━━━━━━━━━━━━━━━━━━━━\u001b[0m\u001b[37m\u001b[0m \u001b[1m0s\u001b[0m 3ms/step\n",
            "\u001b[1m11/11\u001b[0m \u001b[32m━━━━━━━━━━━━━━━━━━━━\u001b[0m\u001b[37m\u001b[0m \u001b[1m0s\u001b[0m 2ms/step \n",
            "Debug statement: Neural Net test MSE = 0.01737554336032942\n",
            "Proxy 1 for christian_nationalism: proxy_0.90 with score: 0.10002176846478247\n",
            "Proxy 2 for christian_nationalism: pff_dt with score: 0.08535432332996432\n",
            "Proxy 3 for christian_nationalism: immigrant_deport with score: 0.08432087115802522\n",
            "Proxy 4 for christian_nationalism: ideo7 with score: 0.07421468317138341\n",
            "Proxy 5 for christian_nationalism: auth_grid_1 with score: 0.04954770853016913\n",
            "Testing with orthogonality weight: 0.6\n",
            "Testing with tau: 0.0\n",
            "Running iteration 1/5\n"
          ]
        },
        {
          "output_type": "stream",
          "name": "stderr",
          "text": [
            "/usr/local/lib/python3.10/dist-packages/keras/src/layers/core/dense.py:87: UserWarning: Do not pass an `input_shape`/`input_dim` argument to a layer. When using Sequential models, prefer using an `Input(shape)` object as the first layer in the model instead.\n",
            "  super().__init__(activity_regularizer=activity_regularizer, **kwargs)\n"
          ]
        },
        {
          "output_type": "stream",
          "name": "stdout",
          "text": [
            "\u001b[1m54/54\u001b[0m \u001b[32m━━━━━━━━━━━━━━━━━━━━\u001b[0m\u001b[37m\u001b[0m \u001b[1m0s\u001b[0m 3ms/step\n",
            "\u001b[1m11/11\u001b[0m \u001b[32m━━━━━━━━━━━━━━━━━━━━\u001b[0m\u001b[37m\u001b[0m \u001b[1m0s\u001b[0m 2ms/step \n",
            "Debug statement: Neural Net test MSE = 0.017208514807916298\n",
            "Proxy 1 for christian_nationalism: proxy_0.90 with score: 0.05828467546296465\n",
            "Proxy 2 for christian_nationalism: pff_dt with score: 0.041535144091066345\n",
            "Proxy 3 for christian_nationalism: ideo7 with score: 0.03716869942313211\n",
            "Proxy 4 for christian_nationalism: immigrant_deport with score: 0.03246089334868835\n",
            "Proxy 5 for christian_nationalism: auth_grid_3 with score: 0.021170614643563346\n",
            "Running iteration 2/5\n"
          ]
        },
        {
          "output_type": "stream",
          "name": "stderr",
          "text": [
            "/usr/local/lib/python3.10/dist-packages/keras/src/layers/core/dense.py:87: UserWarning: Do not pass an `input_shape`/`input_dim` argument to a layer. When using Sequential models, prefer using an `Input(shape)` object as the first layer in the model instead.\n",
            "  super().__init__(activity_regularizer=activity_regularizer, **kwargs)\n"
          ]
        },
        {
          "output_type": "stream",
          "name": "stdout",
          "text": [
            "\u001b[1m54/54\u001b[0m \u001b[32m━━━━━━━━━━━━━━━━━━━━\u001b[0m\u001b[37m\u001b[0m \u001b[1m0s\u001b[0m 4ms/step\n",
            "\u001b[1m11/11\u001b[0m \u001b[32m━━━━━━━━━━━━━━━━━━━━\u001b[0m\u001b[37m\u001b[0m \u001b[1m0s\u001b[0m 3ms/step \n",
            "Debug statement: Neural Net test MSE = 0.019160672504647314\n",
            "Proxy 1 for christian_nationalism: proxy_0.90 with score: 0.06087899194982735\n",
            "Proxy 2 for christian_nationalism: immigrant_deport with score: 0.03664727469565621\n",
            "Proxy 3 for christian_nationalism: auth_grid_1 with score: 0.03348009827907153\n",
            "Proxy 4 for christian_nationalism: ideo7 with score: 0.029804036453566995\n",
            "Proxy 5 for christian_nationalism: pff_dt with score: 0.017642526687990157\n",
            "Running iteration 3/5\n"
          ]
        },
        {
          "output_type": "stream",
          "name": "stderr",
          "text": [
            "/usr/local/lib/python3.10/dist-packages/keras/src/layers/core/dense.py:87: UserWarning: Do not pass an `input_shape`/`input_dim` argument to a layer. When using Sequential models, prefer using an `Input(shape)` object as the first layer in the model instead.\n",
            "  super().__init__(activity_regularizer=activity_regularizer, **kwargs)\n"
          ]
        },
        {
          "output_type": "stream",
          "name": "stdout",
          "text": [
            "\u001b[1m54/54\u001b[0m \u001b[32m━━━━━━━━━━━━━━━━━━━━\u001b[0m\u001b[37m\u001b[0m \u001b[1m0s\u001b[0m 2ms/step\n",
            "\u001b[1m11/11\u001b[0m \u001b[32m━━━━━━━━━━━━━━━━━━━━\u001b[0m\u001b[37m\u001b[0m \u001b[1m0s\u001b[0m 2ms/step \n",
            "Debug statement: Neural Net test MSE = 0.01779026980714203\n",
            "Proxy 1 for christian_nationalism: proxy_0.90 with score: 0.0572917844493486\n",
            "Proxy 2 for christian_nationalism: pff_dt with score: 0.03738934587043058\n",
            "Proxy 3 for christian_nationalism: ideo7 with score: 0.0365556775903203\n",
            "Proxy 4 for christian_nationalism: immigrant_deport with score: 0.02455258731697421\n",
            "Proxy 5 for christian_nationalism: auth_grid_1 with score: 0.021709544664854308\n",
            "Running iteration 4/5\n"
          ]
        },
        {
          "output_type": "stream",
          "name": "stderr",
          "text": [
            "/usr/local/lib/python3.10/dist-packages/keras/src/layers/core/dense.py:87: UserWarning: Do not pass an `input_shape`/`input_dim` argument to a layer. When using Sequential models, prefer using an `Input(shape)` object as the first layer in the model instead.\n",
            "  super().__init__(activity_regularizer=activity_regularizer, **kwargs)\n"
          ]
        },
        {
          "output_type": "stream",
          "name": "stdout",
          "text": [
            "\u001b[1m54/54\u001b[0m \u001b[32m━━━━━━━━━━━━━━━━━━━━\u001b[0m\u001b[37m\u001b[0m \u001b[1m0s\u001b[0m 2ms/step\n",
            "\u001b[1m11/11\u001b[0m \u001b[32m━━━━━━━━━━━━━━━━━━━━\u001b[0m\u001b[37m\u001b[0m \u001b[1m0s\u001b[0m 2ms/step \n",
            "Debug statement: Neural Net test MSE = 0.01757376708762248\n",
            "Proxy 1 for christian_nationalism: proxy_0.90 with score: 0.05851484150098221\n",
            "Proxy 2 for christian_nationalism: pff_dt with score: 0.040337340058393845\n",
            "Proxy 3 for christian_nationalism: ideo7 with score: 0.034271137221093206\n",
            "Proxy 4 for christian_nationalism: immigrant_deport with score: 0.03198558521303371\n",
            "Proxy 5 for christian_nationalism: auth_grid_1 with score: 0.028239258488887087\n",
            "Running iteration 5/5\n"
          ]
        },
        {
          "output_type": "stream",
          "name": "stderr",
          "text": [
            "/usr/local/lib/python3.10/dist-packages/keras/src/layers/core/dense.py:87: UserWarning: Do not pass an `input_shape`/`input_dim` argument to a layer. When using Sequential models, prefer using an `Input(shape)` object as the first layer in the model instead.\n",
            "  super().__init__(activity_regularizer=activity_regularizer, **kwargs)\n"
          ]
        },
        {
          "output_type": "stream",
          "name": "stdout",
          "text": [
            "\u001b[1m54/54\u001b[0m \u001b[32m━━━━━━━━━━━━━━━━━━━━\u001b[0m\u001b[37m\u001b[0m \u001b[1m0s\u001b[0m 2ms/step\n",
            "\u001b[1m11/11\u001b[0m \u001b[32m━━━━━━━━━━━━━━━━━━━━\u001b[0m\u001b[37m\u001b[0m \u001b[1m0s\u001b[0m 2ms/step \n",
            "Debug statement: Neural Net test MSE = 0.016940668255090493\n",
            "Proxy 1 for christian_nationalism: proxy_0.90 with score: 0.0585134102885273\n",
            "Proxy 2 for christian_nationalism: pff_dt with score: 0.04034198560266222\n",
            "Proxy 3 for christian_nationalism: immigrant_deport with score: 0.03289350552174192\n",
            "Proxy 4 for christian_nationalism: ideo7 with score: 0.032109976679161295\n",
            "Proxy 5 for christian_nationalism: auth_grid_1 with score: 0.02634858623295523\n",
            "Testing with orthogonality weight: 0.6499999999999999\n",
            "Testing with tau: 0.0\n",
            "Running iteration 1/5\n"
          ]
        },
        {
          "output_type": "stream",
          "name": "stderr",
          "text": [
            "/usr/local/lib/python3.10/dist-packages/keras/src/layers/core/dense.py:87: UserWarning: Do not pass an `input_shape`/`input_dim` argument to a layer. When using Sequential models, prefer using an `Input(shape)` object as the first layer in the model instead.\n",
            "  super().__init__(activity_regularizer=activity_regularizer, **kwargs)\n"
          ]
        },
        {
          "output_type": "stream",
          "name": "stdout",
          "text": [
            "\u001b[1m54/54\u001b[0m \u001b[32m━━━━━━━━━━━━━━━━━━━━\u001b[0m\u001b[37m\u001b[0m \u001b[1m0s\u001b[0m 3ms/step\n",
            "\u001b[1m11/11\u001b[0m \u001b[32m━━━━━━━━━━━━━━━━━━━━\u001b[0m\u001b[37m\u001b[0m \u001b[1m0s\u001b[0m 2ms/step \n",
            "Debug statement: Neural Net test MSE = 0.017567131940832974\n",
            "Proxy 1 for christian_nationalism: proxy_0.90 with score: 0.017021217135736122\n",
            "Proxy 2 for christian_nationalism: index with score: 0.001385759268741749\n",
            "Proxy 3 for christian_nationalism: auth_grid_1 with score: -0.00494618065415324\n",
            "Proxy 4 for christian_nationalism: immigrant_deport with score: -0.009767212547609622\n",
            "Proxy 5 for christian_nationalism: pff_dt with score: -0.013499760193763866\n",
            "Running iteration 2/5\n"
          ]
        },
        {
          "output_type": "stream",
          "name": "stderr",
          "text": [
            "/usr/local/lib/python3.10/dist-packages/keras/src/layers/core/dense.py:87: UserWarning: Do not pass an `input_shape`/`input_dim` argument to a layer. When using Sequential models, prefer using an `Input(shape)` object as the first layer in the model instead.\n",
            "  super().__init__(activity_regularizer=activity_regularizer, **kwargs)\n"
          ]
        },
        {
          "output_type": "stream",
          "name": "stdout",
          "text": [
            "\u001b[1m54/54\u001b[0m \u001b[32m━━━━━━━━━━━━━━━━━━━━\u001b[0m\u001b[37m\u001b[0m \u001b[1m0s\u001b[0m 2ms/step\n",
            "\u001b[1m11/11\u001b[0m \u001b[32m━━━━━━━━━━━━━━━━━━━━\u001b[0m\u001b[37m\u001b[0m \u001b[1m0s\u001b[0m 2ms/step \n",
            "Debug statement: Neural Net test MSE = 0.01737318349920511\n",
            "Proxy 1 for christian_nationalism: proxy_0.90 with score: 0.02057672524823817\n",
            "Proxy 2 for christian_nationalism: auth_grid_1 with score: 0.007600906771027829\n",
            "Proxy 3 for christian_nationalism: index with score: 0.0011732586774696188\n",
            "Proxy 4 for christian_nationalism: auth_grid_3 with score: -0.0013384127927600908\n",
            "Proxy 5 for christian_nationalism: ideo7 with score: -0.015110663782225947\n",
            "Running iteration 3/5\n"
          ]
        },
        {
          "output_type": "stream",
          "name": "stderr",
          "text": [
            "/usr/local/lib/python3.10/dist-packages/keras/src/layers/core/dense.py:87: UserWarning: Do not pass an `input_shape`/`input_dim` argument to a layer. When using Sequential models, prefer using an `Input(shape)` object as the first layer in the model instead.\n",
            "  super().__init__(activity_regularizer=activity_regularizer, **kwargs)\n"
          ]
        },
        {
          "output_type": "stream",
          "name": "stdout",
          "text": [
            "\u001b[1m54/54\u001b[0m \u001b[32m━━━━━━━━━━━━━━━━━━━━\u001b[0m\u001b[37m\u001b[0m \u001b[1m0s\u001b[0m 2ms/step\n",
            "\u001b[1m11/11\u001b[0m \u001b[32m━━━━━━━━━━━━━━━━━━━━\u001b[0m\u001b[37m\u001b[0m \u001b[1m0s\u001b[0m 2ms/step \n",
            "Debug statement: Neural Net test MSE = 0.018858155016311537\n",
            "Proxy 1 for christian_nationalism: proxy_0.90 with score: 0.017747402078886226\n",
            "Proxy 2 for christian_nationalism: index with score: 0.0012955353659845018\n",
            "Proxy 3 for christian_nationalism: auth_grid_3 with score: -0.007606040732343999\n",
            "Proxy 4 for christian_nationalism: auth_grid_1 with score: -0.007792382968937847\n",
            "Proxy 5 for christian_nationalism: ideo7 with score: -0.009220789578448657\n",
            "Running iteration 4/5\n"
          ]
        },
        {
          "output_type": "stream",
          "name": "stderr",
          "text": [
            "/usr/local/lib/python3.10/dist-packages/keras/src/layers/core/dense.py:87: UserWarning: Do not pass an `input_shape`/`input_dim` argument to a layer. When using Sequential models, prefer using an `Input(shape)` object as the first layer in the model instead.\n",
            "  super().__init__(activity_regularizer=activity_regularizer, **kwargs)\n"
          ]
        },
        {
          "output_type": "stream",
          "name": "stdout",
          "text": [
            "\u001b[1m54/54\u001b[0m \u001b[32m━━━━━━━━━━━━━━━━━━━━\u001b[0m\u001b[37m\u001b[0m \u001b[1m0s\u001b[0m 3ms/step\n",
            "\u001b[1m11/11\u001b[0m \u001b[32m━━━━━━━━━━━━━━━━━━━━\u001b[0m\u001b[37m\u001b[0m \u001b[1m0s\u001b[0m 2ms/step \n",
            "Debug statement: Neural Net test MSE = 0.017457246369290164\n",
            "Proxy 1 for christian_nationalism: proxy_0.90 with score: 0.016356938518271358\n",
            "Proxy 2 for christian_nationalism: auth_grid_1 with score: 0.004464790457353318\n",
            "Proxy 3 for christian_nationalism: index with score: 0.0021067296675951314\n",
            "Proxy 4 for christian_nationalism: immigrant_deport with score: -0.003538022323479467\n",
            "Proxy 5 for christian_nationalism: auth_grid_3 with score: -0.004319845390733365\n",
            "Running iteration 5/5\n"
          ]
        },
        {
          "output_type": "stream",
          "name": "stderr",
          "text": [
            "/usr/local/lib/python3.10/dist-packages/keras/src/layers/core/dense.py:87: UserWarning: Do not pass an `input_shape`/`input_dim` argument to a layer. When using Sequential models, prefer using an `Input(shape)` object as the first layer in the model instead.\n",
            "  super().__init__(activity_regularizer=activity_regularizer, **kwargs)\n"
          ]
        },
        {
          "output_type": "stream",
          "name": "stdout",
          "text": [
            "\u001b[1m54/54\u001b[0m \u001b[32m━━━━━━━━━━━━━━━━━━━━\u001b[0m\u001b[37m\u001b[0m \u001b[1m0s\u001b[0m 3ms/step\n",
            "\u001b[1m11/11\u001b[0m \u001b[32m━━━━━━━━━━━━━━━━━━━━\u001b[0m\u001b[37m\u001b[0m \u001b[1m0s\u001b[0m 2ms/step \n",
            "Debug statement: Neural Net test MSE = 0.017181142552640204\n",
            "Proxy 1 for christian_nationalism: proxy_0.90 with score: 0.0216928177140151\n",
            "Proxy 2 for christian_nationalism: auth_grid_1 with score: 0.005979153103438856\n",
            "Proxy 3 for christian_nationalism: auth_grid_3 with score: 0.0020355838344808114\n",
            "Proxy 4 for christian_nationalism: index with score: 0.0007690999750974316\n",
            "Proxy 5 for christian_nationalism: immigrant_deport with score: -0.003806802714651558\n",
            "Testing with orthogonality weight: 0.7\n",
            "Testing with tau: 0.0\n",
            "Running iteration 1/5\n"
          ]
        },
        {
          "output_type": "stream",
          "name": "stderr",
          "text": [
            "/usr/local/lib/python3.10/dist-packages/keras/src/layers/core/dense.py:87: UserWarning: Do not pass an `input_shape`/`input_dim` argument to a layer. When using Sequential models, prefer using an `Input(shape)` object as the first layer in the model instead.\n",
            "  super().__init__(activity_regularizer=activity_regularizer, **kwargs)\n"
          ]
        },
        {
          "output_type": "stream",
          "name": "stdout",
          "text": [
            "\u001b[1m54/54\u001b[0m \u001b[32m━━━━━━━━━━━━━━━━━━━━\u001b[0m\u001b[37m\u001b[0m \u001b[1m0s\u001b[0m 3ms/step\n",
            "\u001b[1m11/11\u001b[0m \u001b[32m━━━━━━━━━━━━━━━━━━━━\u001b[0m\u001b[37m\u001b[0m \u001b[1m0s\u001b[0m 2ms/step \n",
            "Debug statement: Neural Net test MSE = 0.01708635359369735\n",
            "Proxy 1 for christian_nationalism: index with score: 0.0007980160921479463\n",
            "Proxy 2 for christian_nationalism: auth_grid_1 with score: -0.01266233327151825\n",
            "Proxy 3 for christian_nationalism: auth_grid_3 with score: -0.020189156390976362\n",
            "Proxy 4 for christian_nationalism: proxy_0.90 with score: -0.020630293599824878\n",
            "Proxy 5 for christian_nationalism: educ with score: -0.031323454723777934\n",
            "Running iteration 2/5\n"
          ]
        },
        {
          "output_type": "stream",
          "name": "stderr",
          "text": [
            "/usr/local/lib/python3.10/dist-packages/keras/src/layers/core/dense.py:87: UserWarning: Do not pass an `input_shape`/`input_dim` argument to a layer. When using Sequential models, prefer using an `Input(shape)` object as the first layer in the model instead.\n",
            "  super().__init__(activity_regularizer=activity_regularizer, **kwargs)\n"
          ]
        },
        {
          "output_type": "stream",
          "name": "stdout",
          "text": [
            "\u001b[1m54/54\u001b[0m \u001b[32m━━━━━━━━━━━━━━━━━━━━\u001b[0m\u001b[37m\u001b[0m \u001b[1m0s\u001b[0m 3ms/step\n",
            "\u001b[1m11/11\u001b[0m \u001b[32m━━━━━━━━━━━━━━━━━━━━\u001b[0m\u001b[37m\u001b[0m \u001b[1m0s\u001b[0m 2ms/step \n",
            "Debug statement: Neural Net test MSE = 0.019269496298894205\n",
            "Proxy 1 for christian_nationalism: index with score: 0.0009112859652563478\n",
            "Proxy 2 for christian_nationalism: auth_grid_1 with score: -0.017290524212293087\n",
            "Proxy 3 for christian_nationalism: proxy_0.90 with score: -0.020807749478423593\n",
            "Proxy 4 for christian_nationalism: auth_grid_3 with score: -0.024056215563362904\n",
            "Proxy 5 for christian_nationalism: educ with score: -0.03297589213519948\n",
            "Running iteration 3/5\n"
          ]
        },
        {
          "output_type": "stream",
          "name": "stderr",
          "text": [
            "/usr/local/lib/python3.10/dist-packages/keras/src/layers/core/dense.py:87: UserWarning: Do not pass an `input_shape`/`input_dim` argument to a layer. When using Sequential models, prefer using an `Input(shape)` object as the first layer in the model instead.\n",
            "  super().__init__(activity_regularizer=activity_regularizer, **kwargs)\n"
          ]
        },
        {
          "output_type": "stream",
          "name": "stdout",
          "text": [
            "\u001b[1m54/54\u001b[0m \u001b[32m━━━━━━━━━━━━━━━━━━━━\u001b[0m\u001b[37m\u001b[0m \u001b[1m0s\u001b[0m 3ms/step\n",
            "\u001b[1m11/11\u001b[0m \u001b[32m━━━━━━━━━━━━━━━━━━━━\u001b[0m\u001b[37m\u001b[0m \u001b[1m0s\u001b[0m 2ms/step \n",
            "Debug statement: Neural Net test MSE = 0.017573078165275563\n",
            "Proxy 1 for christian_nationalism: index with score: 0.0008540491286499475\n",
            "Proxy 2 for christian_nationalism: proxy_0.90 with score: -0.021332846522981674\n",
            "Proxy 3 for christian_nationalism: auth_grid_1 with score: -0.022252081815554978\n",
            "Proxy 4 for christian_nationalism: auth_grid_3 with score: -0.026515922233361744\n",
            "Proxy 5 for christian_nationalism: educ with score: -0.03798835038941755\n",
            "Running iteration 4/5\n"
          ]
        },
        {
          "output_type": "stream",
          "name": "stderr",
          "text": [
            "/usr/local/lib/python3.10/dist-packages/keras/src/layers/core/dense.py:87: UserWarning: Do not pass an `input_shape`/`input_dim` argument to a layer. When using Sequential models, prefer using an `Input(shape)` object as the first layer in the model instead.\n",
            "  super().__init__(activity_regularizer=activity_regularizer, **kwargs)\n"
          ]
        },
        {
          "output_type": "stream",
          "name": "stdout",
          "text": [
            "\u001b[1m54/54\u001b[0m \u001b[32m━━━━━━━━━━━━━━━━━━━━\u001b[0m\u001b[37m\u001b[0m \u001b[1m0s\u001b[0m 3ms/step\n",
            "\u001b[1m11/11\u001b[0m \u001b[32m━━━━━━━━━━━━━━━━━━━━\u001b[0m\u001b[37m\u001b[0m \u001b[1m0s\u001b[0m 2ms/step \n",
            "Debug statement: Neural Net test MSE = 0.017891220004546567\n",
            "Proxy 1 for christian_nationalism: index with score: 0.0005172005495365007\n",
            "Proxy 2 for christian_nationalism: auth_grid_3 with score: -0.021696692698151637\n",
            "Proxy 3 for christian_nationalism: proxy_0.90 with score: -0.025499793666529325\n",
            "Proxy 4 for christian_nationalism: auth_grid_1 with score: -0.035607004871146763\n",
            "Proxy 5 for christian_nationalism: auth_grid_2 with score: -0.039638223999301024\n",
            "Running iteration 5/5\n"
          ]
        },
        {
          "output_type": "stream",
          "name": "stderr",
          "text": [
            "/usr/local/lib/python3.10/dist-packages/keras/src/layers/core/dense.py:87: UserWarning: Do not pass an `input_shape`/`input_dim` argument to a layer. When using Sequential models, prefer using an `Input(shape)` object as the first layer in the model instead.\n",
            "  super().__init__(activity_regularizer=activity_regularizer, **kwargs)\n"
          ]
        },
        {
          "output_type": "stream",
          "name": "stdout",
          "text": [
            "\u001b[1m54/54\u001b[0m \u001b[32m━━━━━━━━━━━━━━━━━━━━\u001b[0m\u001b[37m\u001b[0m \u001b[1m0s\u001b[0m 4ms/step\n",
            "\u001b[1m11/11\u001b[0m \u001b[32m━━━━━━━━━━━━━━━━━━━━\u001b[0m\u001b[37m\u001b[0m \u001b[1m0s\u001b[0m 2ms/step \n",
            "Debug statement: Neural Net test MSE = 0.017475211249005602\n",
            "Proxy 1 for christian_nationalism: index with score: 0.0009438922736915157\n",
            "Proxy 2 for christian_nationalism: proxy_0.90 with score: -0.020026005583341583\n",
            "Proxy 3 for christian_nationalism: auth_grid_1 with score: -0.02281138142942213\n",
            "Proxy 4 for christian_nationalism: auth_grid_3 with score: -0.028650223206990857\n",
            "Proxy 5 for christian_nationalism: educ with score: -0.03904492901797971\n",
            "Testing with orthogonality weight: 0.4\n",
            "Testing with tau: 0.05\n",
            "Running iteration 1/5\n"
          ]
        },
        {
          "output_type": "stream",
          "name": "stderr",
          "text": [
            "/usr/local/lib/python3.10/dist-packages/keras/src/layers/core/dense.py:87: UserWarning: Do not pass an `input_shape`/`input_dim` argument to a layer. When using Sequential models, prefer using an `Input(shape)` object as the first layer in the model instead.\n",
            "  super().__init__(activity_regularizer=activity_regularizer, **kwargs)\n"
          ]
        },
        {
          "output_type": "stream",
          "name": "stdout",
          "text": [
            "\u001b[1m54/54\u001b[0m \u001b[32m━━━━━━━━━━━━━━━━━━━━\u001b[0m\u001b[37m\u001b[0m \u001b[1m0s\u001b[0m 2ms/step\n",
            "\u001b[1m11/11\u001b[0m \u001b[32m━━━━━━━━━━━━━━━━━━━━\u001b[0m\u001b[37m\u001b[0m \u001b[1m0s\u001b[0m 2ms/step \n",
            "Debug statement: Neural Net test MSE = 0.01689126664876995\n",
            "Proxy 1 for christian_nationalism: pff_dt with score: 0.24515575925504196\n",
            "Proxy 2 for christian_nationalism: proxy_0.90 with score: 0.22745083150048478\n",
            "Proxy 3 for christian_nationalism: presvote20post with score: 0.22190464408915933\n",
            "Proxy 4 for christian_nationalism: senvote20post with score: 0.21309798201549557\n",
            "Proxy 5 for christian_nationalism: housevote20post with score: 0.2121388495975035\n",
            "Running iteration 2/5\n"
          ]
        },
        {
          "output_type": "stream",
          "name": "stderr",
          "text": [
            "/usr/local/lib/python3.10/dist-packages/keras/src/layers/core/dense.py:87: UserWarning: Do not pass an `input_shape`/`input_dim` argument to a layer. When using Sequential models, prefer using an `Input(shape)` object as the first layer in the model instead.\n",
            "  super().__init__(activity_regularizer=activity_regularizer, **kwargs)\n"
          ]
        },
        {
          "output_type": "stream",
          "name": "stdout",
          "text": [
            "\u001b[1m54/54\u001b[0m \u001b[32m━━━━━━━━━━━━━━━━━━━━\u001b[0m\u001b[37m\u001b[0m \u001b[1m0s\u001b[0m 4ms/step\n",
            "\u001b[1m11/11\u001b[0m \u001b[32m━━━━━━━━━━━━━━━━━━━━\u001b[0m\u001b[37m\u001b[0m \u001b[1m0s\u001b[0m 2ms/step \n",
            "Debug statement: Neural Net test MSE = 0.01813675942679294\n",
            "Proxy 1 for christian_nationalism: pff_dt with score: 0.28469895366883907\n",
            "Proxy 2 for christian_nationalism: presvote20post with score: 0.24859596934889328\n",
            "Proxy 3 for christian_nationalism: senvote20post with score: 0.24356499395736309\n",
            "Proxy 4 for christian_nationalism: housevote20post with score: 0.24171903779318032\n",
            "Proxy 5 for christian_nationalism: proxy_0.90 with score: 0.22099833865276652\n",
            "Running iteration 3/5\n"
          ]
        },
        {
          "output_type": "stream",
          "name": "stderr",
          "text": [
            "/usr/local/lib/python3.10/dist-packages/keras/src/layers/core/dense.py:87: UserWarning: Do not pass an `input_shape`/`input_dim` argument to a layer. When using Sequential models, prefer using an `Input(shape)` object as the first layer in the model instead.\n",
            "  super().__init__(activity_regularizer=activity_regularizer, **kwargs)\n"
          ]
        },
        {
          "output_type": "stream",
          "name": "stdout",
          "text": [
            "\u001b[1m54/54\u001b[0m \u001b[32m━━━━━━━━━━━━━━━━━━━━\u001b[0m\u001b[37m\u001b[0m \u001b[1m0s\u001b[0m 2ms/step\n",
            "\u001b[1m11/11\u001b[0m \u001b[32m━━━━━━━━━━━━━━━━━━━━\u001b[0m\u001b[37m\u001b[0m \u001b[1m0s\u001b[0m 3ms/step \n",
            "Debug statement: Neural Net test MSE = 0.01846630236843622\n",
            "Proxy 1 for christian_nationalism: pff_dt with score: 0.27091552272751507\n",
            "Proxy 2 for christian_nationalism: presvote20post with score: 0.2438794531887684\n",
            "Proxy 3 for christian_nationalism: senvote20post with score: 0.2388245651668926\n",
            "Proxy 4 for christian_nationalism: housevote20post with score: 0.2354909864711145\n",
            "Proxy 5 for christian_nationalism: proxy_0.90 with score: 0.22268909972626044\n",
            "Running iteration 4/5\n"
          ]
        },
        {
          "output_type": "stream",
          "name": "stderr",
          "text": [
            "/usr/local/lib/python3.10/dist-packages/keras/src/layers/core/dense.py:87: UserWarning: Do not pass an `input_shape`/`input_dim` argument to a layer. When using Sequential models, prefer using an `Input(shape)` object as the first layer in the model instead.\n",
            "  super().__init__(activity_regularizer=activity_regularizer, **kwargs)\n"
          ]
        },
        {
          "output_type": "stream",
          "name": "stdout",
          "text": [
            "\u001b[1m54/54\u001b[0m \u001b[32m━━━━━━━━━━━━━━━━━━━━\u001b[0m\u001b[37m\u001b[0m \u001b[1m0s\u001b[0m 3ms/step\n",
            "\u001b[1m11/11\u001b[0m \u001b[32m━━━━━━━━━━━━━━━━━━━━\u001b[0m\u001b[37m\u001b[0m \u001b[1m0s\u001b[0m 2ms/step \n",
            "Debug statement: Neural Net test MSE = 0.017329950432714233\n",
            "Proxy 1 for christian_nationalism: pff_dt with score: 0.24063146367121452\n",
            "Proxy 2 for christian_nationalism: proxy_0.90 with score: 0.22645663275613775\n",
            "Proxy 3 for christian_nationalism: presvote20post with score: 0.21962503776301667\n",
            "Proxy 4 for christian_nationalism: housevote20post with score: 0.21391927823803802\n",
            "Proxy 5 for christian_nationalism: senvote20post with score: 0.21202826562356553\n",
            "Running iteration 5/5\n"
          ]
        },
        {
          "output_type": "stream",
          "name": "stderr",
          "text": [
            "/usr/local/lib/python3.10/dist-packages/keras/src/layers/core/dense.py:87: UserWarning: Do not pass an `input_shape`/`input_dim` argument to a layer. When using Sequential models, prefer using an `Input(shape)` object as the first layer in the model instead.\n",
            "  super().__init__(activity_regularizer=activity_regularizer, **kwargs)\n"
          ]
        },
        {
          "output_type": "stream",
          "name": "stdout",
          "text": [
            "\u001b[1m54/54\u001b[0m \u001b[32m━━━━━━━━━━━━━━━━━━━━\u001b[0m\u001b[37m\u001b[0m \u001b[1m0s\u001b[0m 2ms/step\n",
            "\u001b[1m11/11\u001b[0m \u001b[32m━━━━━━━━━━━━━━━━━━━━\u001b[0m\u001b[37m\u001b[0m \u001b[1m0s\u001b[0m 2ms/step \n",
            "Debug statement: Neural Net test MSE = 0.018408899041729456\n",
            "Proxy 1 for christian_nationalism: pff_dt with score: 0.2563908553215597\n",
            "Proxy 2 for christian_nationalism: presvote20post with score: 0.24403067876182816\n",
            "Proxy 3 for christian_nationalism: senvote20post with score: 0.22996032415162782\n",
            "Proxy 4 for christian_nationalism: housevote20post with score: 0.22895654132986681\n",
            "Proxy 5 for christian_nationalism: proxy_0.90 with score: 0.22231316667914086\n",
            "Testing with orthogonality weight: 0.45\n",
            "Testing with tau: 0.05\n",
            "Running iteration 1/5\n"
          ]
        },
        {
          "output_type": "stream",
          "name": "stderr",
          "text": [
            "/usr/local/lib/python3.10/dist-packages/keras/src/layers/core/dense.py:87: UserWarning: Do not pass an `input_shape`/`input_dim` argument to a layer. When using Sequential models, prefer using an `Input(shape)` object as the first layer in the model instead.\n",
            "  super().__init__(activity_regularizer=activity_regularizer, **kwargs)\n"
          ]
        },
        {
          "output_type": "stream",
          "name": "stdout",
          "text": [
            "\u001b[1m54/54\u001b[0m \u001b[32m━━━━━━━━━━━━━━━━━━━━\u001b[0m\u001b[37m\u001b[0m \u001b[1m0s\u001b[0m 3ms/step\n",
            "\u001b[1m11/11\u001b[0m \u001b[32m━━━━━━━━━━━━━━━━━━━━\u001b[0m\u001b[37m\u001b[0m \u001b[1m0s\u001b[0m 2ms/step \n",
            "Debug statement: Neural Net test MSE = 0.018157776177663072\n",
            "Proxy 1 for christian_nationalism: pff_dt with score: 0.20597153550723574\n",
            "Proxy 2 for christian_nationalism: presvote20post with score: 0.18389300751183305\n",
            "Proxy 3 for christian_nationalism: senvote20post with score: 0.1836302695715119\n",
            "Proxy 4 for christian_nationalism: housevote20post with score: 0.17960260330726668\n",
            "Proxy 5 for christian_nationalism: proxy_0.90 with score: 0.17784364888963733\n",
            "Running iteration 2/5\n"
          ]
        },
        {
          "output_type": "stream",
          "name": "stderr",
          "text": [
            "/usr/local/lib/python3.10/dist-packages/keras/src/layers/core/dense.py:87: UserWarning: Do not pass an `input_shape`/`input_dim` argument to a layer. When using Sequential models, prefer using an `Input(shape)` object as the first layer in the model instead.\n",
            "  super().__init__(activity_regularizer=activity_regularizer, **kwargs)\n"
          ]
        },
        {
          "output_type": "stream",
          "name": "stdout",
          "text": [
            "\u001b[1m54/54\u001b[0m \u001b[32m━━━━━━━━━━━━━━━━━━━━\u001b[0m\u001b[37m\u001b[0m \u001b[1m0s\u001b[0m 3ms/step\n",
            "\u001b[1m11/11\u001b[0m \u001b[32m━━━━━━━━━━━━━━━━━━━━\u001b[0m\u001b[37m\u001b[0m \u001b[1m0s\u001b[0m 2ms/step \n",
            "Debug statement: Neural Net test MSE = 0.017817765681989683\n",
            "Proxy 1 for christian_nationalism: pff_dt with score: 0.21067660656744053\n",
            "Proxy 2 for christian_nationalism: proxy_0.90 with score: 0.18359252042050095\n",
            "Proxy 3 for christian_nationalism: presvote20post with score: 0.1785683407311208\n",
            "Proxy 4 for christian_nationalism: senvote20post with score: 0.16940760054211385\n",
            "Proxy 5 for christian_nationalism: housevote20post with score: 0.1684937541371636\n",
            "Running iteration 3/5\n"
          ]
        },
        {
          "output_type": "stream",
          "name": "stderr",
          "text": [
            "/usr/local/lib/python3.10/dist-packages/keras/src/layers/core/dense.py:87: UserWarning: Do not pass an `input_shape`/`input_dim` argument to a layer. When using Sequential models, prefer using an `Input(shape)` object as the first layer in the model instead.\n",
            "  super().__init__(activity_regularizer=activity_regularizer, **kwargs)\n"
          ]
        },
        {
          "output_type": "stream",
          "name": "stdout",
          "text": [
            "\u001b[1m54/54\u001b[0m \u001b[32m━━━━━━━━━━━━━━━━━━━━\u001b[0m\u001b[37m\u001b[0m \u001b[1m0s\u001b[0m 3ms/step\n",
            "\u001b[1m11/11\u001b[0m \u001b[32m━━━━━━━━━━━━━━━━━━━━\u001b[0m\u001b[37m\u001b[0m \u001b[1m0s\u001b[0m 2ms/step \n",
            "Debug statement: Neural Net test MSE = 0.01774812164849716\n",
            "Proxy 1 for christian_nationalism: pff_dt with score: 0.22282688734199402\n",
            "Proxy 2 for christian_nationalism: housevote20post with score: 0.18428923972301414\n",
            "Proxy 3 for christian_nationalism: presvote20post with score: 0.1833186921538079\n",
            "Proxy 4 for christian_nationalism: senvote20post with score: 0.18328486903605767\n",
            "Proxy 5 for christian_nationalism: proxy_0.90 with score: 0.18174966321914693\n",
            "Running iteration 4/5\n"
          ]
        },
        {
          "output_type": "stream",
          "name": "stderr",
          "text": [
            "/usr/local/lib/python3.10/dist-packages/keras/src/layers/core/dense.py:87: UserWarning: Do not pass an `input_shape`/`input_dim` argument to a layer. When using Sequential models, prefer using an `Input(shape)` object as the first layer in the model instead.\n",
            "  super().__init__(activity_regularizer=activity_regularizer, **kwargs)\n"
          ]
        },
        {
          "output_type": "stream",
          "name": "stdout",
          "text": [
            "\u001b[1m54/54\u001b[0m \u001b[32m━━━━━━━━━━━━━━━━━━━━\u001b[0m\u001b[37m\u001b[0m \u001b[1m0s\u001b[0m 3ms/step\n",
            "\u001b[1m11/11\u001b[0m \u001b[32m━━━━━━━━━━━━━━━━━━━━\u001b[0m\u001b[37m\u001b[0m \u001b[1m0s\u001b[0m 2ms/step \n",
            "Debug statement: Neural Net test MSE = 0.017730683368832774\n",
            "Proxy 1 for christian_nationalism: pff_dt with score: 0.20152379142862498\n",
            "Proxy 2 for christian_nationalism: proxy_0.90 with score: 0.1827540441222979\n",
            "Proxy 3 for christian_nationalism: presvote20post with score: 0.1785228205832978\n",
            "Proxy 4 for christian_nationalism: senvote20post with score: 0.1709216663500958\n",
            "Proxy 5 for christian_nationalism: housevote20post with score: 0.17070344731943948\n",
            "Running iteration 5/5\n"
          ]
        },
        {
          "output_type": "stream",
          "name": "stderr",
          "text": [
            "/usr/local/lib/python3.10/dist-packages/keras/src/layers/core/dense.py:87: UserWarning: Do not pass an `input_shape`/`input_dim` argument to a layer. When using Sequential models, prefer using an `Input(shape)` object as the first layer in the model instead.\n",
            "  super().__init__(activity_regularizer=activity_regularizer, **kwargs)\n"
          ]
        },
        {
          "output_type": "stream",
          "name": "stdout",
          "text": [
            "\u001b[1m54/54\u001b[0m \u001b[32m━━━━━━━━━━━━━━━━━━━━\u001b[0m\u001b[37m\u001b[0m \u001b[1m0s\u001b[0m 3ms/step\n",
            "\u001b[1m11/11\u001b[0m \u001b[32m━━━━━━━━━━━━━━━━━━━━\u001b[0m\u001b[37m\u001b[0m \u001b[1m0s\u001b[0m 2ms/step \n",
            "Debug statement: Neural Net test MSE = 0.01783340125765069\n",
            "Proxy 1 for christian_nationalism: pff_dt with score: 0.20900447234218816\n",
            "Proxy 2 for christian_nationalism: proxy_0.90 with score: 0.18744892481541414\n",
            "Proxy 3 for christian_nationalism: presvote20post with score: 0.18219914069768664\n",
            "Proxy 4 for christian_nationalism: senvote20post with score: 0.17484243733828247\n",
            "Proxy 5 for christian_nationalism: housevote20post with score: 0.17411199580759562\n",
            "Testing with orthogonality weight: 0.5\n",
            "Testing with tau: 0.05\n",
            "Running iteration 1/5\n"
          ]
        },
        {
          "output_type": "stream",
          "name": "stderr",
          "text": [
            "/usr/local/lib/python3.10/dist-packages/keras/src/layers/core/dense.py:87: UserWarning: Do not pass an `input_shape`/`input_dim` argument to a layer. When using Sequential models, prefer using an `Input(shape)` object as the first layer in the model instead.\n",
            "  super().__init__(activity_regularizer=activity_regularizer, **kwargs)\n"
          ]
        },
        {
          "output_type": "stream",
          "name": "stdout",
          "text": [
            "\u001b[1m54/54\u001b[0m \u001b[32m━━━━━━━━━━━━━━━━━━━━\u001b[0m\u001b[37m\u001b[0m \u001b[1m0s\u001b[0m 3ms/step\n",
            "\u001b[1m11/11\u001b[0m \u001b[32m━━━━━━━━━━━━━━━━━━━━\u001b[0m\u001b[37m\u001b[0m \u001b[1m0s\u001b[0m 2ms/step \n",
            "Debug statement: Neural Net test MSE = 0.017851366894953966\n",
            "Proxy 1 for christian_nationalism: pff_dt with score: 0.1574327874209775\n",
            "Proxy 2 for christian_nationalism: proxy_0.90 with score: 0.14453532117270135\n",
            "Proxy 3 for christian_nationalism: presvote20post with score: 0.12429488603666886\n",
            "Proxy 4 for christian_nationalism: ideo7 with score: 0.12096178146807418\n",
            "Proxy 5 for christian_nationalism: housevote20post with score: 0.11566829185974647\n",
            "Running iteration 2/5\n"
          ]
        },
        {
          "output_type": "stream",
          "name": "stderr",
          "text": [
            "/usr/local/lib/python3.10/dist-packages/keras/src/layers/core/dense.py:87: UserWarning: Do not pass an `input_shape`/`input_dim` argument to a layer. When using Sequential models, prefer using an `Input(shape)` object as the first layer in the model instead.\n",
            "  super().__init__(activity_regularizer=activity_regularizer, **kwargs)\n"
          ]
        },
        {
          "output_type": "stream",
          "name": "stdout",
          "text": [
            "\u001b[1m54/54\u001b[0m \u001b[32m━━━━━━━━━━━━━━━━━━━━\u001b[0m\u001b[37m\u001b[0m \u001b[1m0s\u001b[0m 2ms/step\n",
            "\u001b[1m11/11\u001b[0m \u001b[32m━━━━━━━━━━━━━━━━━━━━\u001b[0m\u001b[37m\u001b[0m \u001b[1m0s\u001b[0m 2ms/step \n",
            "Debug statement: Neural Net test MSE = 0.016487630029274256\n",
            "Proxy 1 for christian_nationalism: pff_dt with score: 0.14755649268627508\n",
            "Proxy 2 for christian_nationalism: proxy_0.90 with score: 0.14341891920537042\n",
            "Proxy 3 for christian_nationalism: ideo7 with score: 0.12414270868995664\n",
            "Proxy 4 for christian_nationalism: immigrant_deport with score: 0.12359333794018501\n",
            "Proxy 5 for christian_nationalism: presvote20post with score: 0.12047618124679058\n",
            "Running iteration 3/5\n"
          ]
        },
        {
          "output_type": "stream",
          "name": "stderr",
          "text": [
            "/usr/local/lib/python3.10/dist-packages/keras/src/layers/core/dense.py:87: UserWarning: Do not pass an `input_shape`/`input_dim` argument to a layer. When using Sequential models, prefer using an `Input(shape)` object as the first layer in the model instead.\n",
            "  super().__init__(activity_regularizer=activity_regularizer, **kwargs)\n"
          ]
        },
        {
          "output_type": "stream",
          "name": "stdout",
          "text": [
            "\u001b[1m54/54\u001b[0m \u001b[32m━━━━━━━━━━━━━━━━━━━━\u001b[0m\u001b[37m\u001b[0m \u001b[1m0s\u001b[0m 3ms/step\n",
            "\u001b[1m11/11\u001b[0m \u001b[32m━━━━━━━━━━━━━━━━━━━━\u001b[0m\u001b[37m\u001b[0m \u001b[1m0s\u001b[0m 3ms/step \n",
            "Debug statement: Neural Net test MSE = 0.017676082846004477\n",
            "Proxy 1 for christian_nationalism: proxy_0.90 with score: 0.14579162477740343\n",
            "Proxy 2 for christian_nationalism: pff_dt with score: 0.14062047193679655\n",
            "Proxy 3 for christian_nationalism: ideo7 with score: 0.12037776403389294\n",
            "Proxy 4 for christian_nationalism: immigrant_deport with score: 0.11358894444164447\n",
            "Proxy 5 for christian_nationalism: presvote20post with score: 0.11253796515309691\n",
            "Running iteration 4/5\n"
          ]
        },
        {
          "output_type": "stream",
          "name": "stderr",
          "text": [
            "/usr/local/lib/python3.10/dist-packages/keras/src/layers/core/dense.py:87: UserWarning: Do not pass an `input_shape`/`input_dim` argument to a layer. When using Sequential models, prefer using an `Input(shape)` object as the first layer in the model instead.\n",
            "  super().__init__(activity_regularizer=activity_regularizer, **kwargs)\n"
          ]
        },
        {
          "output_type": "stream",
          "name": "stdout",
          "text": [
            "\u001b[1m54/54\u001b[0m \u001b[32m━━━━━━━━━━━━━━━━━━━━\u001b[0m\u001b[37m\u001b[0m \u001b[1m0s\u001b[0m 2ms/step\n",
            "\u001b[1m11/11\u001b[0m \u001b[32m━━━━━━━━━━━━━━━━━━━━\u001b[0m\u001b[37m\u001b[0m \u001b[1m0s\u001b[0m 2ms/step \n",
            "Debug statement: Neural Net test MSE = 0.017358517514674248\n",
            "Proxy 1 for christian_nationalism: pff_dt with score: 0.1482168476934551\n",
            "Proxy 2 for christian_nationalism: proxy_0.90 with score: 0.1470461998252287\n",
            "Proxy 3 for christian_nationalism: immigrant_deport with score: 0.12929247157499413\n",
            "Proxy 4 for christian_nationalism: ideo7 with score: 0.12266142984823264\n",
            "Proxy 5 for christian_nationalism: presvote20post with score: 0.11553932598354347\n",
            "Running iteration 5/5\n"
          ]
        },
        {
          "output_type": "stream",
          "name": "stderr",
          "text": [
            "/usr/local/lib/python3.10/dist-packages/keras/src/layers/core/dense.py:87: UserWarning: Do not pass an `input_shape`/`input_dim` argument to a layer. When using Sequential models, prefer using an `Input(shape)` object as the first layer in the model instead.\n",
            "  super().__init__(activity_regularizer=activity_regularizer, **kwargs)\n"
          ]
        },
        {
          "output_type": "stream",
          "name": "stdout",
          "text": [
            "\u001b[1m54/54\u001b[0m \u001b[32m━━━━━━━━━━━━━━━━━━━━\u001b[0m\u001b[37m\u001b[0m \u001b[1m0s\u001b[0m 3ms/step\n",
            "\u001b[1m11/11\u001b[0m \u001b[32m━━━━━━━━━━━━━━━━━━━━\u001b[0m\u001b[37m\u001b[0m \u001b[1m0s\u001b[0m 2ms/step \n",
            "Debug statement: Neural Net test MSE = 0.017479954211816875\n",
            "Proxy 1 for christian_nationalism: pff_dt with score: 0.15507658869304358\n",
            "Proxy 2 for christian_nationalism: proxy_0.90 with score: 0.1461503450385373\n",
            "Proxy 3 for christian_nationalism: presvote20post with score: 0.12437045879077466\n",
            "Proxy 4 for christian_nationalism: ideo7 with score: 0.1234424669277227\n",
            "Proxy 5 for christian_nationalism: immigrant_deport with score: 0.1173139318639701\n",
            "Testing with orthogonality weight: 0.55\n",
            "Testing with tau: 0.05\n",
            "Running iteration 1/5\n"
          ]
        },
        {
          "output_type": "stream",
          "name": "stderr",
          "text": [
            "/usr/local/lib/python3.10/dist-packages/keras/src/layers/core/dense.py:87: UserWarning: Do not pass an `input_shape`/`input_dim` argument to a layer. When using Sequential models, prefer using an `Input(shape)` object as the first layer in the model instead.\n",
            "  super().__init__(activity_regularizer=activity_regularizer, **kwargs)\n"
          ]
        },
        {
          "output_type": "stream",
          "name": "stdout",
          "text": [
            "\u001b[1m54/54\u001b[0m \u001b[32m━━━━━━━━━━━━━━━━━━━━\u001b[0m\u001b[37m\u001b[0m \u001b[1m0s\u001b[0m 2ms/step\n",
            "\u001b[1m11/11\u001b[0m \u001b[32m━━━━━━━━━━━━━━━━━━━━\u001b[0m\u001b[37m\u001b[0m \u001b[1m0s\u001b[0m 2ms/step \n",
            "Debug statement: Neural Net test MSE = 0.017235483210519768\n",
            "Proxy 1 for christian_nationalism: proxy_0.90 with score: 0.10326256846621551\n",
            "Proxy 2 for christian_nationalism: pff_dt with score: 0.09763854088696386\n",
            "Proxy 3 for christian_nationalism: immigrant_deport with score: 0.07823905049152402\n",
            "Proxy 4 for christian_nationalism: ideo7 with score: 0.07105273958534836\n",
            "Proxy 5 for christian_nationalism: presvote20post with score: 0.0540743120617479\n",
            "Running iteration 2/5\n"
          ]
        },
        {
          "output_type": "stream",
          "name": "stderr",
          "text": [
            "/usr/local/lib/python3.10/dist-packages/keras/src/layers/core/dense.py:87: UserWarning: Do not pass an `input_shape`/`input_dim` argument to a layer. When using Sequential models, prefer using an `Input(shape)` object as the first layer in the model instead.\n",
            "  super().__init__(activity_regularizer=activity_regularizer, **kwargs)\n"
          ]
        },
        {
          "output_type": "stream",
          "name": "stdout",
          "text": [
            "\u001b[1m54/54\u001b[0m \u001b[32m━━━━━━━━━━━━━━━━━━━━\u001b[0m\u001b[37m\u001b[0m \u001b[1m0s\u001b[0m 2ms/step\n",
            "\u001b[1m11/11\u001b[0m \u001b[32m━━━━━━━━━━━━━━━━━━━━\u001b[0m\u001b[37m\u001b[0m \u001b[1m0s\u001b[0m 2ms/step \n",
            "Debug statement: Neural Net test MSE = 0.01786409058832475\n",
            "Proxy 1 for christian_nationalism: proxy_0.90 with score: 0.10157310701114833\n",
            "Proxy 2 for christian_nationalism: pff_dt with score: 0.07980906735844487\n",
            "Proxy 3 for christian_nationalism: immigrant_deport with score: 0.07830877409238418\n",
            "Proxy 4 for christian_nationalism: ideo7 with score: 0.07105833611093298\n",
            "Proxy 5 for christian_nationalism: auth_grid_1 with score: 0.06086925224306222\n",
            "Running iteration 3/5\n"
          ]
        },
        {
          "output_type": "stream",
          "name": "stderr",
          "text": [
            "/usr/local/lib/python3.10/dist-packages/keras/src/layers/core/dense.py:87: UserWarning: Do not pass an `input_shape`/`input_dim` argument to a layer. When using Sequential models, prefer using an `Input(shape)` object as the first layer in the model instead.\n",
            "  super().__init__(activity_regularizer=activity_regularizer, **kwargs)\n"
          ]
        },
        {
          "output_type": "stream",
          "name": "stdout",
          "text": [
            "\u001b[1m54/54\u001b[0m \u001b[32m━━━━━━━━━━━━━━━━━━━━\u001b[0m\u001b[37m\u001b[0m \u001b[1m0s\u001b[0m 3ms/step\n",
            "\u001b[1m11/11\u001b[0m \u001b[32m━━━━━━━━━━━━━━━━━━━━\u001b[0m\u001b[37m\u001b[0m \u001b[1m0s\u001b[0m 2ms/step \n",
            "Debug statement: Neural Net test MSE = 0.017800699355170136\n",
            "Proxy 1 for christian_nationalism: pff_dt with score: 0.10130862303095131\n",
            "Proxy 2 for christian_nationalism: proxy_0.90 with score: 0.10008476099743197\n",
            "Proxy 3 for christian_nationalism: immigrant_deport with score: 0.0793665679628377\n",
            "Proxy 4 for christian_nationalism: ideo7 with score: 0.07747661765739727\n",
            "Proxy 5 for christian_nationalism: election_fairnness with score: 0.06938642208609039\n",
            "Running iteration 4/5\n"
          ]
        },
        {
          "output_type": "stream",
          "name": "stderr",
          "text": [
            "/usr/local/lib/python3.10/dist-packages/keras/src/layers/core/dense.py:87: UserWarning: Do not pass an `input_shape`/`input_dim` argument to a layer. When using Sequential models, prefer using an `Input(shape)` object as the first layer in the model instead.\n",
            "  super().__init__(activity_regularizer=activity_regularizer, **kwargs)\n"
          ]
        },
        {
          "output_type": "stream",
          "name": "stdout",
          "text": [
            "\u001b[1m54/54\u001b[0m \u001b[32m━━━━━━━━━━━━━━━━━━━━\u001b[0m\u001b[37m\u001b[0m \u001b[1m0s\u001b[0m 3ms/step\n",
            "\u001b[1m11/11\u001b[0m \u001b[32m━━━━━━━━━━━━━━━━━━━━\u001b[0m\u001b[37m\u001b[0m \u001b[1m0s\u001b[0m 2ms/step \n",
            "Debug statement: Neural Net test MSE = 0.017687215347189277\n",
            "Proxy 1 for christian_nationalism: pff_dt with score: 0.10572684002189561\n",
            "Proxy 2 for christian_nationalism: proxy_0.90 with score: 0.10280464586689173\n",
            "Proxy 3 for christian_nationalism: ideo7 with score: 0.07647242524300357\n",
            "Proxy 4 for christian_nationalism: immigrant_deport with score: 0.07391618931260369\n",
            "Proxy 5 for christian_nationalism: presvote20post with score: 0.06641384892715985\n",
            "Running iteration 5/5\n"
          ]
        },
        {
          "output_type": "stream",
          "name": "stderr",
          "text": [
            "/usr/local/lib/python3.10/dist-packages/keras/src/layers/core/dense.py:87: UserWarning: Do not pass an `input_shape`/`input_dim` argument to a layer. When using Sequential models, prefer using an `Input(shape)` object as the first layer in the model instead.\n",
            "  super().__init__(activity_regularizer=activity_regularizer, **kwargs)\n"
          ]
        },
        {
          "output_type": "stream",
          "name": "stdout",
          "text": [
            "\u001b[1m54/54\u001b[0m \u001b[32m━━━━━━━━━━━━━━━━━━━━\u001b[0m\u001b[37m\u001b[0m \u001b[1m0s\u001b[0m 3ms/step\n",
            "\u001b[1m11/11\u001b[0m \u001b[32m━━━━━━━━━━━━━━━━━━━━\u001b[0m\u001b[37m\u001b[0m \u001b[1m0s\u001b[0m 3ms/step \n",
            "Debug statement: Neural Net test MSE = 0.01830066602584438\n",
            "Proxy 1 for christian_nationalism: proxy_0.90 with score: 0.10117038882651863\n",
            "Proxy 2 for christian_nationalism: pff_dt with score: 0.08601593631848128\n",
            "Proxy 3 for christian_nationalism: ideo7 with score: 0.07358858708302296\n",
            "Proxy 4 for christian_nationalism: immigrant_deport with score: 0.06331666889489679\n",
            "Proxy 5 for christian_nationalism: auth_grid_1 with score: 0.06307862190453617\n",
            "Testing with orthogonality weight: 0.6\n",
            "Testing with tau: 0.05\n",
            "Running iteration 1/5\n"
          ]
        },
        {
          "output_type": "stream",
          "name": "stderr",
          "text": [
            "/usr/local/lib/python3.10/dist-packages/keras/src/layers/core/dense.py:87: UserWarning: Do not pass an `input_shape`/`input_dim` argument to a layer. When using Sequential models, prefer using an `Input(shape)` object as the first layer in the model instead.\n",
            "  super().__init__(activity_regularizer=activity_regularizer, **kwargs)\n"
          ]
        },
        {
          "output_type": "stream",
          "name": "stdout",
          "text": [
            "\u001b[1m54/54\u001b[0m \u001b[32m━━━━━━━━━━━━━━━━━━━━\u001b[0m\u001b[37m\u001b[0m \u001b[1m0s\u001b[0m 3ms/step\n",
            "\u001b[1m11/11\u001b[0m \u001b[32m━━━━━━━━━━━━━━━━━━━━\u001b[0m\u001b[37m\u001b[0m \u001b[1m0s\u001b[0m 2ms/step \n",
            "Debug statement: Neural Net test MSE = 0.018395906605933647\n",
            "Proxy 1 for christian_nationalism: proxy_0.90 with score: 0.06577800436542569\n",
            "Proxy 2 for christian_nationalism: auth_grid_1 with score: 0.041125166348975783\n",
            "Proxy 3 for christian_nationalism: ideo7 with score: 0.032884465556898085\n",
            "Proxy 4 for christian_nationalism: pff_dt with score: 0.030492885715174833\n",
            "Proxy 5 for christian_nationalism: immigrant_deport with score: 0.02942467188437986\n",
            "Running iteration 2/5\n"
          ]
        },
        {
          "output_type": "stream",
          "name": "stderr",
          "text": [
            "/usr/local/lib/python3.10/dist-packages/keras/src/layers/core/dense.py:87: UserWarning: Do not pass an `input_shape`/`input_dim` argument to a layer. When using Sequential models, prefer using an `Input(shape)` object as the first layer in the model instead.\n",
            "  super().__init__(activity_regularizer=activity_regularizer, **kwargs)\n"
          ]
        },
        {
          "output_type": "stream",
          "name": "stdout",
          "text": [
            "\u001b[1m54/54\u001b[0m \u001b[32m━━━━━━━━━━━━━━━━━━━━\u001b[0m\u001b[37m\u001b[0m \u001b[1m0s\u001b[0m 2ms/step\n",
            "\u001b[1m11/11\u001b[0m \u001b[32m━━━━━━━━━━━━━━━━━━━━\u001b[0m\u001b[37m\u001b[0m \u001b[1m0s\u001b[0m 2ms/step \n",
            "Debug statement: Neural Net test MSE = 0.017308158339071098\n",
            "Proxy 1 for christian_nationalism: proxy_0.90 with score: 0.06523820170033653\n",
            "Proxy 2 for christian_nationalism: pff_dt with score: 0.044865456157082984\n",
            "Proxy 3 for christian_nationalism: ideo7 with score: 0.03401123322504096\n",
            "Proxy 4 for christian_nationalism: immigrant_deport with score: 0.03066268587216095\n",
            "Proxy 5 for christian_nationalism: auth_grid_1 with score: 0.025601304939429734\n",
            "Running iteration 3/5\n"
          ]
        },
        {
          "output_type": "stream",
          "name": "stderr",
          "text": [
            "/usr/local/lib/python3.10/dist-packages/keras/src/layers/core/dense.py:87: UserWarning: Do not pass an `input_shape`/`input_dim` argument to a layer. When using Sequential models, prefer using an `Input(shape)` object as the first layer in the model instead.\n",
            "  super().__init__(activity_regularizer=activity_regularizer, **kwargs)\n"
          ]
        },
        {
          "output_type": "stream",
          "name": "stdout",
          "text": [
            "\u001b[1m54/54\u001b[0m \u001b[32m━━━━━━━━━━━━━━━━━━━━\u001b[0m\u001b[37m\u001b[0m \u001b[1m0s\u001b[0m 2ms/step\n",
            "\u001b[1m11/11\u001b[0m \u001b[32m━━━━━━━━━━━━━━━━━━━━\u001b[0m\u001b[37m\u001b[0m \u001b[1m0s\u001b[0m 2ms/step \n",
            "Debug statement: Neural Net test MSE = 0.017405106505950913\n",
            "Proxy 1 for christian_nationalism: proxy_0.90 with score: 0.061519309984386095\n",
            "Proxy 2 for christian_nationalism: pff_dt with score: 0.0503657874172298\n",
            "Proxy 3 for christian_nationalism: ideo7 with score: 0.03327540787100086\n",
            "Proxy 4 for christian_nationalism: immigrant_deport with score: 0.024887326741696525\n",
            "Proxy 5 for christian_nationalism: auth_grid_1 with score: 0.022124774940328912\n",
            "Running iteration 4/5\n"
          ]
        },
        {
          "output_type": "stream",
          "name": "stderr",
          "text": [
            "/usr/local/lib/python3.10/dist-packages/keras/src/layers/core/dense.py:87: UserWarning: Do not pass an `input_shape`/`input_dim` argument to a layer. When using Sequential models, prefer using an `Input(shape)` object as the first layer in the model instead.\n",
            "  super().__init__(activity_regularizer=activity_regularizer, **kwargs)\n"
          ]
        },
        {
          "output_type": "stream",
          "name": "stdout",
          "text": [
            "\u001b[1m54/54\u001b[0m \u001b[32m━━━━━━━━━━━━━━━━━━━━\u001b[0m\u001b[37m\u001b[0m \u001b[1m0s\u001b[0m 3ms/step\n",
            "\u001b[1m11/11\u001b[0m \u001b[32m━━━━━━━━━━━━━━━━━━━━\u001b[0m\u001b[37m\u001b[0m \u001b[1m0s\u001b[0m 2ms/step \n",
            "Debug statement: Neural Net test MSE = 0.017690028898050207\n",
            "Proxy 1 for christian_nationalism: proxy_0.90 with score: 0.0644758259902993\n",
            "Proxy 2 for christian_nationalism: pff_dt with score: 0.039386265753559135\n",
            "Proxy 3 for christian_nationalism: immigrant_deport with score: 0.03513074726243806\n",
            "Proxy 4 for christian_nationalism: ideo7 with score: 0.030523434178117037\n",
            "Proxy 5 for christian_nationalism: auth_grid_1 with score: 0.02907184344403793\n",
            "Running iteration 5/5\n"
          ]
        },
        {
          "output_type": "stream",
          "name": "stderr",
          "text": [
            "/usr/local/lib/python3.10/dist-packages/keras/src/layers/core/dense.py:87: UserWarning: Do not pass an `input_shape`/`input_dim` argument to a layer. When using Sequential models, prefer using an `Input(shape)` object as the first layer in the model instead.\n",
            "  super().__init__(activity_regularizer=activity_regularizer, **kwargs)\n"
          ]
        },
        {
          "output_type": "stream",
          "name": "stdout",
          "text": [
            "\u001b[1m54/54\u001b[0m \u001b[32m━━━━━━━━━━━━━━━━━━━━\u001b[0m\u001b[37m\u001b[0m \u001b[1m0s\u001b[0m 2ms/step\n",
            "\u001b[1m11/11\u001b[0m \u001b[32m━━━━━━━━━━━━━━━━━━━━\u001b[0m\u001b[37m\u001b[0m \u001b[1m0s\u001b[0m 2ms/step \n",
            "Debug statement: Neural Net test MSE = 0.017878493153561735\n",
            "Proxy 1 for christian_nationalism: proxy_0.90 with score: 0.061116109978230526\n",
            "Proxy 2 for christian_nationalism: immigrant_deport with score: 0.037396018040020906\n",
            "Proxy 3 for christian_nationalism: ideo7 with score: 0.035765416939599115\n",
            "Proxy 4 for christian_nationalism: auth_grid_1 with score: 0.02774525770072822\n",
            "Proxy 5 for christian_nationalism: pff_dt with score: 0.025723373959869678\n",
            "Testing with orthogonality weight: 0.6499999999999999\n",
            "Testing with tau: 0.05\n",
            "Running iteration 1/5\n"
          ]
        },
        {
          "output_type": "stream",
          "name": "stderr",
          "text": [
            "/usr/local/lib/python3.10/dist-packages/keras/src/layers/core/dense.py:87: UserWarning: Do not pass an `input_shape`/`input_dim` argument to a layer. When using Sequential models, prefer using an `Input(shape)` object as the first layer in the model instead.\n",
            "  super().__init__(activity_regularizer=activity_regularizer, **kwargs)\n"
          ]
        },
        {
          "output_type": "stream",
          "name": "stdout",
          "text": [
            "\u001b[1m54/54\u001b[0m \u001b[32m━━━━━━━━━━━━━━━━━━━━\u001b[0m\u001b[37m\u001b[0m \u001b[1m0s\u001b[0m 4ms/step\n",
            "\u001b[1m11/11\u001b[0m \u001b[32m━━━━━━━━━━━━━━━━━━━━\u001b[0m\u001b[37m\u001b[0m \u001b[1m0s\u001b[0m 2ms/step \n",
            "Debug statement: Neural Net test MSE = 0.01778502354500671\n",
            "Proxy 1 for christian_nationalism: proxy_0.90 with score: 0.02144181800964079\n",
            "Proxy 2 for christian_nationalism: auth_grid_3 with score: 0.0016168551405054687\n",
            "Proxy 3 for christian_nationalism: index with score: 0.0009023040692276554\n",
            "Proxy 4 for christian_nationalism: auth_grid_1 with score: -0.003812244358979089\n",
            "Proxy 5 for christian_nationalism: ideo7 with score: -0.011214918477523317\n",
            "Running iteration 2/5\n"
          ]
        },
        {
          "output_type": "stream",
          "name": "stderr",
          "text": [
            "/usr/local/lib/python3.10/dist-packages/keras/src/layers/core/dense.py:87: UserWarning: Do not pass an `input_shape`/`input_dim` argument to a layer. When using Sequential models, prefer using an `Input(shape)` object as the first layer in the model instead.\n",
            "  super().__init__(activity_regularizer=activity_regularizer, **kwargs)\n"
          ]
        },
        {
          "output_type": "stream",
          "name": "stdout",
          "text": [
            "\u001b[1m54/54\u001b[0m \u001b[32m━━━━━━━━━━━━━━━━━━━━\u001b[0m\u001b[37m\u001b[0m \u001b[1m0s\u001b[0m 3ms/step\n",
            "\u001b[1m11/11\u001b[0m \u001b[32m━━━━━━━━━━━━━━━━━━━━\u001b[0m\u001b[37m\u001b[0m \u001b[1m0s\u001b[0m 2ms/step \n",
            "Debug statement: Neural Net test MSE = 0.01746611585435751\n",
            "Proxy 1 for christian_nationalism: proxy_0.90 with score: 0.02117474993974866\n",
            "Proxy 2 for christian_nationalism: index with score: 0.001277845925053112\n",
            "Proxy 3 for christian_nationalism: immigrant_deport with score: 0.0011324156098824756\n",
            "Proxy 4 for christian_nationalism: auth_grid_3 with score: -0.006338592793861911\n",
            "Proxy 5 for christian_nationalism: ideo7 with score: -0.008731365798078983\n",
            "Running iteration 3/5\n"
          ]
        },
        {
          "output_type": "stream",
          "name": "stderr",
          "text": [
            "/usr/local/lib/python3.10/dist-packages/keras/src/layers/core/dense.py:87: UserWarning: Do not pass an `input_shape`/`input_dim` argument to a layer. When using Sequential models, prefer using an `Input(shape)` object as the first layer in the model instead.\n",
            "  super().__init__(activity_regularizer=activity_regularizer, **kwargs)\n"
          ]
        },
        {
          "output_type": "stream",
          "name": "stdout",
          "text": [
            "\u001b[1m54/54\u001b[0m \u001b[32m━━━━━━━━━━━━━━━━━━━━\u001b[0m\u001b[37m\u001b[0m \u001b[1m0s\u001b[0m 3ms/step\n",
            "\u001b[1m11/11\u001b[0m \u001b[32m━━━━━━━━━━━━━━━━━━━━\u001b[0m\u001b[37m\u001b[0m \u001b[1m0s\u001b[0m 2ms/step \n",
            "Debug statement: Neural Net test MSE = 0.017919908886965482\n",
            "Proxy 1 for christian_nationalism: proxy_0.90 with score: 0.02167113065375484\n",
            "Proxy 2 for christian_nationalism: auth_grid_1 with score: 0.002636480739440686\n",
            "Proxy 3 for christian_nationalism: index with score: 0.0009048690989518273\n",
            "Proxy 4 for christian_nationalism: auth_grid_3 with score: -0.009396417816399355\n",
            "Proxy 5 for christian_nationalism: ideo7 with score: -0.012526293882949902\n",
            "Running iteration 4/5\n"
          ]
        },
        {
          "output_type": "stream",
          "name": "stderr",
          "text": [
            "/usr/local/lib/python3.10/dist-packages/keras/src/layers/core/dense.py:87: UserWarning: Do not pass an `input_shape`/`input_dim` argument to a layer. When using Sequential models, prefer using an `Input(shape)` object as the first layer in the model instead.\n",
            "  super().__init__(activity_regularizer=activity_regularizer, **kwargs)\n"
          ]
        },
        {
          "output_type": "stream",
          "name": "stdout",
          "text": [
            "\u001b[1m54/54\u001b[0m \u001b[32m━━━━━━━━━━━━━━━━━━━━\u001b[0m\u001b[37m\u001b[0m \u001b[1m0s\u001b[0m 3ms/step\n",
            "\u001b[1m11/11\u001b[0m \u001b[32m━━━━━━━━━━━━━━━━━━━━\u001b[0m\u001b[37m\u001b[0m \u001b[1m0s\u001b[0m 2ms/step \n",
            "Debug statement: Neural Net test MSE = 0.019447091573079413\n",
            "Proxy 1 for christian_nationalism: proxy_0.90 with score: 0.01779576677028291\n",
            "Proxy 2 for christian_nationalism: index with score: 0.0007434590228580786\n",
            "Proxy 3 for christian_nationalism: auth_grid_1 with score: -0.0009654151228259134\n",
            "Proxy 4 for christian_nationalism: auth_grid_3 with score: -0.011044902607453985\n",
            "Proxy 5 for christian_nationalism: ideo7 with score: -0.011267702327366985\n",
            "Running iteration 5/5\n"
          ]
        },
        {
          "output_type": "stream",
          "name": "stderr",
          "text": [
            "/usr/local/lib/python3.10/dist-packages/keras/src/layers/core/dense.py:87: UserWarning: Do not pass an `input_shape`/`input_dim` argument to a layer. When using Sequential models, prefer using an `Input(shape)` object as the first layer in the model instead.\n",
            "  super().__init__(activity_regularizer=activity_regularizer, **kwargs)\n"
          ]
        },
        {
          "output_type": "stream",
          "name": "stdout",
          "text": [
            "\u001b[1m54/54\u001b[0m \u001b[32m━━━━━━━━━━━━━━━━━━━━\u001b[0m\u001b[37m\u001b[0m \u001b[1m0s\u001b[0m 3ms/step\n",
            "\u001b[1m11/11\u001b[0m \u001b[32m━━━━━━━━━━━━━━━━━━━━\u001b[0m\u001b[37m\u001b[0m \u001b[1m0s\u001b[0m 2ms/step \n",
            "Debug statement: Neural Net test MSE = 0.01707786430656805\n",
            "Proxy 1 for christian_nationalism: proxy_0.90 with score: 0.022415482532126413\n",
            "Proxy 2 for christian_nationalism: index with score: 0.0011908637241464517\n",
            "Proxy 3 for christian_nationalism: auth_grid_3 with score: -0.000518815549341356\n",
            "Proxy 4 for christian_nationalism: auth_grid_1 with score: -0.004674840901536817\n",
            "Proxy 5 for christian_nationalism: ideo7 with score: -0.009250617524486415\n",
            "Testing with orthogonality weight: 0.7\n",
            "Testing with tau: 0.05\n",
            "Running iteration 1/5\n"
          ]
        },
        {
          "output_type": "stream",
          "name": "stderr",
          "text": [
            "/usr/local/lib/python3.10/dist-packages/keras/src/layers/core/dense.py:87: UserWarning: Do not pass an `input_shape`/`input_dim` argument to a layer. When using Sequential models, prefer using an `Input(shape)` object as the first layer in the model instead.\n",
            "  super().__init__(activity_regularizer=activity_regularizer, **kwargs)\n"
          ]
        },
        {
          "output_type": "stream",
          "name": "stdout",
          "text": [
            "\u001b[1m54/54\u001b[0m \u001b[32m━━━━━━━━━━━━━━━━━━━━\u001b[0m\u001b[37m\u001b[0m \u001b[1m0s\u001b[0m 3ms/step\n",
            "\u001b[1m11/11\u001b[0m \u001b[32m━━━━━━━━━━━━━━━━━━━━\u001b[0m\u001b[37m\u001b[0m \u001b[1m0s\u001b[0m 2ms/step \n",
            "Debug statement: Neural Net test MSE = 0.017657229203485194\n",
            "Proxy 1 for christian_nationalism: index with score: 0.0009995088102422224\n",
            "Proxy 2 for christian_nationalism: proxy_0.90 with score: -0.018381789517143032\n",
            "Proxy 3 for christian_nationalism: auth_grid_1 with score: -0.01980808632030799\n",
            "Proxy 4 for christian_nationalism: auth_grid_3 with score: -0.026816996554303252\n",
            "Proxy 5 for christian_nationalism: educ with score: -0.036896001036429954\n",
            "Running iteration 2/5\n"
          ]
        },
        {
          "output_type": "stream",
          "name": "stderr",
          "text": [
            "/usr/local/lib/python3.10/dist-packages/keras/src/layers/core/dense.py:87: UserWarning: Do not pass an `input_shape`/`input_dim` argument to a layer. When using Sequential models, prefer using an `Input(shape)` object as the first layer in the model instead.\n",
            "  super().__init__(activity_regularizer=activity_regularizer, **kwargs)\n"
          ]
        },
        {
          "output_type": "stream",
          "name": "stdout",
          "text": [
            "\u001b[1m54/54\u001b[0m \u001b[32m━━━━━━━━━━━━━━━━━━━━\u001b[0m\u001b[37m\u001b[0m \u001b[1m0s\u001b[0m 2ms/step\n",
            "\u001b[1m11/11\u001b[0m \u001b[32m━━━━━━━━━━━━━━━━━━━━\u001b[0m\u001b[37m\u001b[0m \u001b[1m0s\u001b[0m 2ms/step \n",
            "Debug statement: Neural Net test MSE = 0.01697214782044943\n",
            "Proxy 1 for christian_nationalism: index with score: 0.0009423241922532856\n",
            "Proxy 2 for christian_nationalism: proxy_0.90 with score: -0.01928936103273901\n",
            "Proxy 3 for christian_nationalism: auth_grid_3 with score: -0.022192528124993324\n",
            "Proxy 4 for christian_nationalism: auth_grid_1 with score: -0.03369096735365379\n",
            "Proxy 5 for christian_nationalism: auth_grid_2 with score: -0.03918002804863852\n",
            "Running iteration 3/5\n"
          ]
        },
        {
          "output_type": "stream",
          "name": "stderr",
          "text": [
            "/usr/local/lib/python3.10/dist-packages/keras/src/layers/core/dense.py:87: UserWarning: Do not pass an `input_shape`/`input_dim` argument to a layer. When using Sequential models, prefer using an `Input(shape)` object as the first layer in the model instead.\n",
            "  super().__init__(activity_regularizer=activity_regularizer, **kwargs)\n"
          ]
        },
        {
          "output_type": "stream",
          "name": "stdout",
          "text": [
            "\u001b[1m54/54\u001b[0m \u001b[32m━━━━━━━━━━━━━━━━━━━━\u001b[0m\u001b[37m\u001b[0m \u001b[1m0s\u001b[0m 4ms/step\n",
            "\u001b[1m11/11\u001b[0m \u001b[32m━━━━━━━━━━━━━━━━━━━━\u001b[0m\u001b[37m\u001b[0m \u001b[1m0s\u001b[0m 2ms/step \n",
            "Debug statement: Neural Net test MSE = 0.01783491288414275\n",
            "Proxy 1 for christian_nationalism: index with score: 0.0013575824512736092\n",
            "Proxy 2 for christian_nationalism: proxy_0.90 with score: -0.019306406289717498\n",
            "Proxy 3 for christian_nationalism: auth_grid_1 with score: -0.021478336196091713\n",
            "Proxy 4 for christian_nationalism: auth_grid_3 with score: -0.02754544003155908\n",
            "Proxy 5 for christian_nationalism: educ with score: -0.029454611450667016\n",
            "Running iteration 4/5\n"
          ]
        },
        {
          "output_type": "stream",
          "name": "stderr",
          "text": [
            "/usr/local/lib/python3.10/dist-packages/keras/src/layers/core/dense.py:87: UserWarning: Do not pass an `input_shape`/`input_dim` argument to a layer. When using Sequential models, prefer using an `Input(shape)` object as the first layer in the model instead.\n",
            "  super().__init__(activity_regularizer=activity_regularizer, **kwargs)\n"
          ]
        },
        {
          "output_type": "stream",
          "name": "stdout",
          "text": [
            "\u001b[1m54/54\u001b[0m \u001b[32m━━━━━━━━━━━━━━━━━━━━\u001b[0m\u001b[37m\u001b[0m \u001b[1m0s\u001b[0m 2ms/step\n",
            "\u001b[1m11/11\u001b[0m \u001b[32m━━━━━━━━━━━━━━━━━━━━\u001b[0m\u001b[37m\u001b[0m \u001b[1m0s\u001b[0m 2ms/step \n",
            "Debug statement: Neural Net test MSE = 0.016853266508744955\n",
            "Proxy 1 for christian_nationalism: index with score: 0.0014330549987959132\n",
            "Proxy 2 for christian_nationalism: proxy_0.90 with score: -0.016687766421354916\n",
            "Proxy 3 for christian_nationalism: auth_grid_3 with score: -0.022610873387131872\n",
            "Proxy 4 for christian_nationalism: auth_grid_1 with score: -0.024751857810778377\n",
            "Proxy 5 for christian_nationalism: educ with score: -0.0412207888974793\n",
            "Running iteration 5/5\n"
          ]
        },
        {
          "output_type": "stream",
          "name": "stderr",
          "text": [
            "/usr/local/lib/python3.10/dist-packages/keras/src/layers/core/dense.py:87: UserWarning: Do not pass an `input_shape`/`input_dim` argument to a layer. When using Sequential models, prefer using an `Input(shape)` object as the first layer in the model instead.\n",
            "  super().__init__(activity_regularizer=activity_regularizer, **kwargs)\n"
          ]
        },
        {
          "output_type": "stream",
          "name": "stdout",
          "text": [
            "\u001b[1m54/54\u001b[0m \u001b[32m━━━━━━━━━━━━━━━━━━━━\u001b[0m\u001b[37m\u001b[0m \u001b[1m0s\u001b[0m 3ms/step\n",
            "\u001b[1m11/11\u001b[0m \u001b[32m━━━━━━━━━━━━━━━━━━━━\u001b[0m\u001b[37m\u001b[0m \u001b[1m0s\u001b[0m 2ms/step \n",
            "Debug statement: Neural Net test MSE = 0.017829891147956176\n",
            "Proxy 1 for christian_nationalism: index with score: 0.0009772705737890466\n",
            "Proxy 2 for christian_nationalism: auth_grid_1 with score: -0.018687500217394487\n",
            "Proxy 3 for christian_nationalism: proxy_0.90 with score: -0.018852286192515944\n",
            "Proxy 4 for christian_nationalism: auth_grid_3 with score: -0.03475967612370534\n",
            "Proxy 5 for christian_nationalism: educ with score: -0.0366402310051504\n",
            "Testing with orthogonality weight: 0.4\n",
            "Testing with tau: 0.15\n",
            "Running iteration 1/5\n"
          ]
        },
        {
          "output_type": "stream",
          "name": "stderr",
          "text": [
            "/usr/local/lib/python3.10/dist-packages/keras/src/layers/core/dense.py:87: UserWarning: Do not pass an `input_shape`/`input_dim` argument to a layer. When using Sequential models, prefer using an `Input(shape)` object as the first layer in the model instead.\n",
            "  super().__init__(activity_regularizer=activity_regularizer, **kwargs)\n"
          ]
        },
        {
          "output_type": "stream",
          "name": "stdout",
          "text": [
            "\u001b[1m54/54\u001b[0m \u001b[32m━━━━━━━━━━━━━━━━━━━━\u001b[0m\u001b[37m\u001b[0m \u001b[1m0s\u001b[0m 2ms/step\n",
            "\u001b[1m11/11\u001b[0m \u001b[32m━━━━━━━━━━━━━━━━━━━━\u001b[0m\u001b[37m\u001b[0m \u001b[1m0s\u001b[0m 2ms/step \n",
            "Debug statement: Neural Net test MSE = 0.017906852021954696\n",
            "Proxy 1 for christian_nationalism: pff_dt with score: 0.26830038514507487\n",
            "Proxy 2 for christian_nationalism: presvote20post with score: 0.2442197902261921\n",
            "Proxy 3 for christian_nationalism: senvote20post with score: 0.2389791566605255\n",
            "Proxy 4 for christian_nationalism: housevote20post with score: 0.2387322624285111\n",
            "Proxy 5 for christian_nationalism: proxy_0.90 with score: 0.2185893689177925\n",
            "Running iteration 2/5\n"
          ]
        },
        {
          "output_type": "stream",
          "name": "stderr",
          "text": [
            "/usr/local/lib/python3.10/dist-packages/keras/src/layers/core/dense.py:87: UserWarning: Do not pass an `input_shape`/`input_dim` argument to a layer. When using Sequential models, prefer using an `Input(shape)` object as the first layer in the model instead.\n",
            "  super().__init__(activity_regularizer=activity_regularizer, **kwargs)\n"
          ]
        },
        {
          "output_type": "stream",
          "name": "stdout",
          "text": [
            "\u001b[1m54/54\u001b[0m \u001b[32m━━━━━━━━━━━━━━━━━━━━\u001b[0m\u001b[37m\u001b[0m \u001b[1m0s\u001b[0m 3ms/step\n",
            "\u001b[1m11/11\u001b[0m \u001b[32m━━━━━━━━━━━━━━━━━━━━\u001b[0m\u001b[37m\u001b[0m \u001b[1m0s\u001b[0m 2ms/step \n",
            "Debug statement: Neural Net test MSE = 0.018392608892087336\n",
            "Proxy 1 for christian_nationalism: pff_dt with score: 0.2589634486204004\n",
            "Proxy 2 for christian_nationalism: presvote20post with score: 0.22815578671689674\n",
            "Proxy 3 for christian_nationalism: proxy_0.90 with score: 0.2207887222213664\n",
            "Proxy 4 for christian_nationalism: senvote20post with score: 0.2174391422650203\n",
            "Proxy 5 for christian_nationalism: housevote20post with score: 0.2147268431061241\n",
            "Running iteration 3/5\n"
          ]
        },
        {
          "output_type": "stream",
          "name": "stderr",
          "text": [
            "/usr/local/lib/python3.10/dist-packages/keras/src/layers/core/dense.py:87: UserWarning: Do not pass an `input_shape`/`input_dim` argument to a layer. When using Sequential models, prefer using an `Input(shape)` object as the first layer in the model instead.\n",
            "  super().__init__(activity_regularizer=activity_regularizer, **kwargs)\n"
          ]
        },
        {
          "output_type": "stream",
          "name": "stdout",
          "text": [
            "\u001b[1m54/54\u001b[0m \u001b[32m━━━━━━━━━━━━━━━━━━━━\u001b[0m\u001b[37m\u001b[0m \u001b[1m0s\u001b[0m 2ms/step\n",
            "\u001b[1m11/11\u001b[0m \u001b[32m━━━━━━━━━━━━━━━━━━━━\u001b[0m\u001b[37m\u001b[0m \u001b[1m0s\u001b[0m 2ms/step \n",
            "Debug statement: Neural Net test MSE = 0.01717304032946691\n",
            "Proxy 1 for christian_nationalism: pff_dt with score: 0.27469000891542666\n",
            "Proxy 2 for christian_nationalism: presvote20post with score: 0.2429483309783929\n",
            "Proxy 3 for christian_nationalism: senvote20post with score: 0.2315527335485011\n",
            "Proxy 4 for christian_nationalism: housevote20post with score: 0.2285940270397288\n",
            "Proxy 5 for christian_nationalism: proxy_0.90 with score: 0.21952886329983248\n",
            "Running iteration 4/5\n"
          ]
        },
        {
          "output_type": "stream",
          "name": "stderr",
          "text": [
            "/usr/local/lib/python3.10/dist-packages/keras/src/layers/core/dense.py:87: UserWarning: Do not pass an `input_shape`/`input_dim` argument to a layer. When using Sequential models, prefer using an `Input(shape)` object as the first layer in the model instead.\n",
            "  super().__init__(activity_regularizer=activity_regularizer, **kwargs)\n"
          ]
        },
        {
          "output_type": "stream",
          "name": "stdout",
          "text": [
            "\u001b[1m54/54\u001b[0m \u001b[32m━━━━━━━━━━━━━━━━━━━━\u001b[0m\u001b[37m\u001b[0m \u001b[1m0s\u001b[0m 3ms/step\n",
            "\u001b[1m11/11\u001b[0m \u001b[32m━━━━━━━━━━━━━━━━━━━━\u001b[0m\u001b[37m\u001b[0m \u001b[1m0s\u001b[0m 2ms/step \n",
            "Debug statement: Neural Net test MSE = 0.017540381726625316\n",
            "Proxy 1 for christian_nationalism: pff_dt with score: 0.24467948203043188\n",
            "Proxy 2 for christian_nationalism: presvote20post with score: 0.23704041348182464\n",
            "Proxy 3 for christian_nationalism: housevote20post with score: 0.22831106793150036\n",
            "Proxy 4 for christian_nationalism: senvote20post with score: 0.2274206028652146\n",
            "Proxy 5 for christian_nationalism: proxy_0.90 with score: 0.2239634936521452\n",
            "Running iteration 5/5\n"
          ]
        },
        {
          "output_type": "stream",
          "name": "stderr",
          "text": [
            "/usr/local/lib/python3.10/dist-packages/keras/src/layers/core/dense.py:87: UserWarning: Do not pass an `input_shape`/`input_dim` argument to a layer. When using Sequential models, prefer using an `Input(shape)` object as the first layer in the model instead.\n",
            "  super().__init__(activity_regularizer=activity_regularizer, **kwargs)\n"
          ]
        },
        {
          "output_type": "stream",
          "name": "stdout",
          "text": [
            "\u001b[1m54/54\u001b[0m \u001b[32m━━━━━━━━━━━━━━━━━━━━\u001b[0m\u001b[37m\u001b[0m \u001b[1m0s\u001b[0m 3ms/step\n",
            "\u001b[1m11/11\u001b[0m \u001b[32m━━━━━━━━━━━━━━━━━━━━\u001b[0m\u001b[37m\u001b[0m \u001b[1m0s\u001b[0m 2ms/step \n",
            "Debug statement: Neural Net test MSE = 0.01701480899776123\n",
            "Proxy 1 for christian_nationalism: pff_dt with score: 0.27144445215327284\n",
            "Proxy 2 for christian_nationalism: presvote20post with score: 0.24651484229873583\n",
            "Proxy 3 for christian_nationalism: senvote20post with score: 0.2403627230242395\n",
            "Proxy 4 for christian_nationalism: housevote20post with score: 0.23752265422428503\n",
            "Proxy 5 for christian_nationalism: proxy_0.90 with score: 0.21890392249196758\n",
            "Testing with orthogonality weight: 0.45\n",
            "Testing with tau: 0.15\n",
            "Running iteration 1/5\n"
          ]
        },
        {
          "output_type": "stream",
          "name": "stderr",
          "text": [
            "/usr/local/lib/python3.10/dist-packages/keras/src/layers/core/dense.py:87: UserWarning: Do not pass an `input_shape`/`input_dim` argument to a layer. When using Sequential models, prefer using an `Input(shape)` object as the first layer in the model instead.\n",
            "  super().__init__(activity_regularizer=activity_regularizer, **kwargs)\n"
          ]
        },
        {
          "output_type": "stream",
          "name": "stdout",
          "text": [
            "\u001b[1m54/54\u001b[0m \u001b[32m━━━━━━━━━━━━━━━━━━━━\u001b[0m\u001b[37m\u001b[0m \u001b[1m0s\u001b[0m 3ms/step\n",
            "\u001b[1m11/11\u001b[0m \u001b[32m━━━━━━━━━━━━━━━━━━━━\u001b[0m\u001b[37m\u001b[0m \u001b[1m0s\u001b[0m 2ms/step \n",
            "Debug statement: Neural Net test MSE = 0.017398113576075947\n",
            "Proxy 1 for christian_nationalism: pff_dt with score: 0.2224456623118451\n",
            "Proxy 2 for christian_nationalism: presvote20post with score: 0.18639487467658114\n",
            "Proxy 3 for christian_nationalism: proxy_0.90 with score: 0.18060444160542266\n",
            "Proxy 4 for christian_nationalism: senvote20post with score: 0.17621516527245196\n",
            "Proxy 5 for christian_nationalism: housevote20post with score: 0.17208617629700018\n",
            "Running iteration 2/5\n"
          ]
        },
        {
          "output_type": "stream",
          "name": "stderr",
          "text": [
            "/usr/local/lib/python3.10/dist-packages/keras/src/layers/core/dense.py:87: UserWarning: Do not pass an `input_shape`/`input_dim` argument to a layer. When using Sequential models, prefer using an `Input(shape)` object as the first layer in the model instead.\n",
            "  super().__init__(activity_regularizer=activity_regularizer, **kwargs)\n"
          ]
        },
        {
          "output_type": "stream",
          "name": "stdout",
          "text": [
            "\u001b[1m54/54\u001b[0m \u001b[32m━━━━━━━━━━━━━━━━━━━━\u001b[0m\u001b[37m\u001b[0m \u001b[1m0s\u001b[0m 2ms/step\n",
            "\u001b[1m11/11\u001b[0m \u001b[32m━━━━━━━━━━━━━━━━━━━━\u001b[0m\u001b[37m\u001b[0m \u001b[1m0s\u001b[0m 2ms/step \n",
            "Debug statement: Neural Net test MSE = 0.016868144701109915\n",
            "Proxy 1 for christian_nationalism: pff_dt with score: 0.21693968825485221\n",
            "Proxy 2 for christian_nationalism: presvote20post with score: 0.19609897405225082\n",
            "Proxy 3 for christian_nationalism: senvote20post with score: 0.19103710180639283\n",
            "Proxy 4 for christian_nationalism: housevote20post with score: 0.18962707621111535\n",
            "Proxy 5 for christian_nationalism: proxy_0.90 with score: 0.178496506680827\n",
            "Running iteration 3/5\n"
          ]
        },
        {
          "output_type": "stream",
          "name": "stderr",
          "text": [
            "/usr/local/lib/python3.10/dist-packages/keras/src/layers/core/dense.py:87: UserWarning: Do not pass an `input_shape`/`input_dim` argument to a layer. When using Sequential models, prefer using an `Input(shape)` object as the first layer in the model instead.\n",
            "  super().__init__(activity_regularizer=activity_regularizer, **kwargs)\n"
          ]
        },
        {
          "output_type": "stream",
          "name": "stdout",
          "text": [
            "\u001b[1m54/54\u001b[0m \u001b[32m━━━━━━━━━━━━━━━━━━━━\u001b[0m\u001b[37m\u001b[0m \u001b[1m0s\u001b[0m 2ms/step\n",
            "\u001b[1m11/11\u001b[0m \u001b[32m━━━━━━━━━━━━━━━━━━━━\u001b[0m\u001b[37m\u001b[0m \u001b[1m0s\u001b[0m 2ms/step \n",
            "Debug statement: Neural Net test MSE = 0.017706202515918874\n",
            "Proxy 1 for christian_nationalism: pff_dt with score: 0.20014151373371797\n",
            "Proxy 2 for christian_nationalism: proxy_0.90 with score: 0.1827590294161336\n",
            "Proxy 3 for christian_nationalism: presvote20post with score: 0.1814808508654279\n",
            "Proxy 4 for christian_nationalism: housevote20post with score: 0.17343991123697505\n",
            "Proxy 5 for christian_nationalism: senvote20post with score: 0.1715943034596118\n",
            "Running iteration 4/5\n"
          ]
        },
        {
          "output_type": "stream",
          "name": "stderr",
          "text": [
            "/usr/local/lib/python3.10/dist-packages/keras/src/layers/core/dense.py:87: UserWarning: Do not pass an `input_shape`/`input_dim` argument to a layer. When using Sequential models, prefer using an `Input(shape)` object as the first layer in the model instead.\n",
            "  super().__init__(activity_regularizer=activity_regularizer, **kwargs)\n"
          ]
        },
        {
          "output_type": "stream",
          "name": "stdout",
          "text": [
            "\u001b[1m54/54\u001b[0m \u001b[32m━━━━━━━━━━━━━━━━━━━━\u001b[0m\u001b[37m\u001b[0m \u001b[1m0s\u001b[0m 2ms/step\n",
            "\u001b[1m11/11\u001b[0m \u001b[32m━━━━━━━━━━━━━━━━━━━━\u001b[0m\u001b[37m\u001b[0m \u001b[1m0s\u001b[0m 2ms/step \n",
            "Debug statement: Neural Net test MSE = 0.017831936224331962\n",
            "Proxy 1 for christian_nationalism: pff_dt with score: 0.21962135150864803\n",
            "Proxy 2 for christian_nationalism: proxy_0.90 with score: 0.18170672136442695\n",
            "Proxy 3 for christian_nationalism: presvote20post with score: 0.17259327906171337\n",
            "Proxy 4 for christian_nationalism: immigrant_deport with score: 0.1671257837593574\n",
            "Proxy 5 for christian_nationalism: senvote20post with score: 0.16652993199538263\n",
            "Running iteration 5/5\n"
          ]
        },
        {
          "output_type": "stream",
          "name": "stderr",
          "text": [
            "/usr/local/lib/python3.10/dist-packages/keras/src/layers/core/dense.py:87: UserWarning: Do not pass an `input_shape`/`input_dim` argument to a layer. When using Sequential models, prefer using an `Input(shape)` object as the first layer in the model instead.\n",
            "  super().__init__(activity_regularizer=activity_regularizer, **kwargs)\n"
          ]
        },
        {
          "output_type": "stream",
          "name": "stdout",
          "text": [
            "\u001b[1m54/54\u001b[0m \u001b[32m━━━━━━━━━━━━━━━━━━━━\u001b[0m\u001b[37m\u001b[0m \u001b[1m0s\u001b[0m 2ms/step\n",
            "\u001b[1m11/11\u001b[0m \u001b[32m━━━━━━━━━━━━━━━━━━━━\u001b[0m\u001b[37m\u001b[0m \u001b[1m0s\u001b[0m 2ms/step \n",
            "Debug statement: Neural Net test MSE = 0.018152158930839327\n",
            "Proxy 1 for christian_nationalism: pff_dt with score: 0.2195716320294287\n",
            "Proxy 2 for christian_nationalism: presvote20post with score: 0.183162745896042\n",
            "Proxy 3 for christian_nationalism: senvote20post with score: 0.18033355308831367\n",
            "Proxy 4 for christian_nationalism: proxy_0.90 with score: 0.17980757970687106\n",
            "Proxy 5 for christian_nationalism: housevote20post with score: 0.17724844073720392\n",
            "Testing with orthogonality weight: 0.5\n",
            "Testing with tau: 0.15\n",
            "Running iteration 1/5\n"
          ]
        },
        {
          "output_type": "stream",
          "name": "stderr",
          "text": [
            "/usr/local/lib/python3.10/dist-packages/keras/src/layers/core/dense.py:87: UserWarning: Do not pass an `input_shape`/`input_dim` argument to a layer. When using Sequential models, prefer using an `Input(shape)` object as the first layer in the model instead.\n",
            "  super().__init__(activity_regularizer=activity_regularizer, **kwargs)\n"
          ]
        },
        {
          "output_type": "stream",
          "name": "stdout",
          "text": [
            "\u001b[1m54/54\u001b[0m \u001b[32m━━━━━━━━━━━━━━━━━━━━\u001b[0m\u001b[37m\u001b[0m \u001b[1m0s\u001b[0m 4ms/step\n",
            "\u001b[1m11/11\u001b[0m \u001b[32m━━━━━━━━━━━━━━━━━━━━\u001b[0m\u001b[37m\u001b[0m \u001b[1m0s\u001b[0m 3ms/step \n",
            "Debug statement: Neural Net test MSE = 0.01776051057861851\n",
            "Proxy 1 for christian_nationalism: pff_dt with score: 0.1500908653677619\n",
            "Proxy 2 for christian_nationalism: proxy_0.90 with score: 0.13840058724148907\n",
            "Proxy 3 for christian_nationalism: presvote20post with score: 0.13736718577477167\n",
            "Proxy 4 for christian_nationalism: senvote20post with score: 0.13000889199658056\n",
            "Proxy 5 for christian_nationalism: housevote20post with score: 0.12669070254012255\n",
            "Running iteration 2/5\n"
          ]
        },
        {
          "output_type": "stream",
          "name": "stderr",
          "text": [
            "/usr/local/lib/python3.10/dist-packages/keras/src/layers/core/dense.py:87: UserWarning: Do not pass an `input_shape`/`input_dim` argument to a layer. When using Sequential models, prefer using an `Input(shape)` object as the first layer in the model instead.\n",
            "  super().__init__(activity_regularizer=activity_regularizer, **kwargs)\n"
          ]
        },
        {
          "output_type": "stream",
          "name": "stdout",
          "text": [
            "\u001b[1m54/54\u001b[0m \u001b[32m━━━━━━━━━━━━━━━━━━━━\u001b[0m\u001b[37m\u001b[0m \u001b[1m0s\u001b[0m 2ms/step\n",
            "\u001b[1m11/11\u001b[0m \u001b[32m━━━━━━━━━━━━━━━━━━━━\u001b[0m\u001b[37m\u001b[0m \u001b[1m0s\u001b[0m 2ms/step \n",
            "Debug statement: Neural Net test MSE = 0.016805015654055584\n",
            "Proxy 1 for christian_nationalism: pff_dt with score: 0.1411811684079975\n",
            "Proxy 2 for christian_nationalism: proxy_0.90 with score: 0.13979155081972433\n",
            "Proxy 3 for christian_nationalism: ideo7 with score: 0.12203632678364823\n",
            "Proxy 4 for christian_nationalism: immigrant_deport with score: 0.11945329354294515\n",
            "Proxy 5 for christian_nationalism: presvote20post with score: 0.1185777846200464\n",
            "Running iteration 3/5\n"
          ]
        },
        {
          "output_type": "stream",
          "name": "stderr",
          "text": [
            "/usr/local/lib/python3.10/dist-packages/keras/src/layers/core/dense.py:87: UserWarning: Do not pass an `input_shape`/`input_dim` argument to a layer. When using Sequential models, prefer using an `Input(shape)` object as the first layer in the model instead.\n",
            "  super().__init__(activity_regularizer=activity_regularizer, **kwargs)\n"
          ]
        },
        {
          "output_type": "stream",
          "name": "stdout",
          "text": [
            "\u001b[1m54/54\u001b[0m \u001b[32m━━━━━━━━━━━━━━━━━━━━\u001b[0m\u001b[37m\u001b[0m \u001b[1m0s\u001b[0m 3ms/step\n",
            "\u001b[1m11/11\u001b[0m \u001b[32m━━━━━━━━━━━━━━━━━━━━\u001b[0m\u001b[37m\u001b[0m \u001b[1m0s\u001b[0m 2ms/step \n",
            "Debug statement: Neural Net test MSE = 0.017195527902171867\n",
            "Proxy 1 for christian_nationalism: pff_dt with score: 0.14080389066320764\n",
            "Proxy 2 for christian_nationalism: proxy_0.90 with score: 0.1376652787985655\n",
            "Proxy 3 for christian_nationalism: immigrant_deport with score: 0.12937893809354584\n",
            "Proxy 4 for christian_nationalism: ideo7 with score: 0.12347277488375036\n",
            "Proxy 5 for christian_nationalism: presvote20post with score: 0.11989252831808103\n",
            "Running iteration 4/5\n"
          ]
        },
        {
          "output_type": "stream",
          "name": "stderr",
          "text": [
            "/usr/local/lib/python3.10/dist-packages/keras/src/layers/core/dense.py:87: UserWarning: Do not pass an `input_shape`/`input_dim` argument to a layer. When using Sequential models, prefer using an `Input(shape)` object as the first layer in the model instead.\n",
            "  super().__init__(activity_regularizer=activity_regularizer, **kwargs)\n"
          ]
        },
        {
          "output_type": "stream",
          "name": "stdout",
          "text": [
            "\u001b[1m54/54\u001b[0m \u001b[32m━━━━━━━━━━━━━━━━━━━━\u001b[0m\u001b[37m\u001b[0m \u001b[1m0s\u001b[0m 3ms/step\n",
            "\u001b[1m11/11\u001b[0m \u001b[32m━━━━━━━━━━━━━━━━━━━━\u001b[0m\u001b[37m\u001b[0m \u001b[1m0s\u001b[0m 2ms/step \n",
            "Debug statement: Neural Net test MSE = 0.017975519807425414\n",
            "Proxy 1 for christian_nationalism: pff_dt with score: 0.16058275915158965\n",
            "Proxy 2 for christian_nationalism: proxy_0.90 with score: 0.1400394181350214\n",
            "Proxy 3 for christian_nationalism: immigrant_deport with score: 0.1266750477308924\n",
            "Proxy 4 for christian_nationalism: presvote20post with score: 0.1186400369331809\n",
            "Proxy 5 for christian_nationalism: ideo7 with score: 0.1157679278680781\n",
            "Running iteration 5/5\n"
          ]
        },
        {
          "output_type": "stream",
          "name": "stderr",
          "text": [
            "/usr/local/lib/python3.10/dist-packages/keras/src/layers/core/dense.py:87: UserWarning: Do not pass an `input_shape`/`input_dim` argument to a layer. When using Sequential models, prefer using an `Input(shape)` object as the first layer in the model instead.\n",
            "  super().__init__(activity_regularizer=activity_regularizer, **kwargs)\n"
          ]
        },
        {
          "output_type": "stream",
          "name": "stdout",
          "text": [
            "\u001b[1m54/54\u001b[0m \u001b[32m━━━━━━━━━━━━━━━━━━━━\u001b[0m\u001b[37m\u001b[0m \u001b[1m0s\u001b[0m 2ms/step\n",
            "\u001b[1m11/11\u001b[0m \u001b[32m━━━━━━━━━━━━━━━━━━━━\u001b[0m\u001b[37m\u001b[0m \u001b[1m0s\u001b[0m 1ms/step \n",
            "Debug statement: Neural Net test MSE = 0.016934538371135118\n",
            "Proxy 1 for christian_nationalism: proxy_0.90 with score: 0.14310430058985069\n",
            "Proxy 2 for christian_nationalism: pff_dt with score: 0.14095734575505653\n",
            "Proxy 3 for christian_nationalism: ideo7 with score: 0.11970948867997994\n",
            "Proxy 4 for christian_nationalism: immigrant_deport with score: 0.11809113426930445\n",
            "Proxy 5 for christian_nationalism: presvote20post with score: 0.1158022712768946\n",
            "Testing with orthogonality weight: 0.55\n",
            "Testing with tau: 0.15\n",
            "Running iteration 1/5\n"
          ]
        },
        {
          "output_type": "stream",
          "name": "stderr",
          "text": [
            "/usr/local/lib/python3.10/dist-packages/keras/src/layers/core/dense.py:87: UserWarning: Do not pass an `input_shape`/`input_dim` argument to a layer. When using Sequential models, prefer using an `Input(shape)` object as the first layer in the model instead.\n",
            "  super().__init__(activity_regularizer=activity_regularizer, **kwargs)\n"
          ]
        },
        {
          "output_type": "stream",
          "name": "stdout",
          "text": [
            "\u001b[1m54/54\u001b[0m \u001b[32m━━━━━━━━━━━━━━━━━━━━\u001b[0m\u001b[37m\u001b[0m \u001b[1m0s\u001b[0m 3ms/step\n",
            "\u001b[1m11/11\u001b[0m \u001b[32m━━━━━━━━━━━━━━━━━━━━\u001b[0m\u001b[37m\u001b[0m \u001b[1m0s\u001b[0m 2ms/step \n",
            "Debug statement: Neural Net test MSE = 0.019077141941185434\n",
            "Proxy 1 for christian_nationalism: proxy_0.90 with score: 0.09619049229143847\n",
            "Proxy 2 for christian_nationalism: pff_dt with score: 0.08740372108742131\n",
            "Proxy 3 for christian_nationalism: immigrant_deport with score: 0.07827091219983723\n",
            "Proxy 4 for christian_nationalism: ideo7 with score: 0.07739853861447094\n",
            "Proxy 5 for christian_nationalism: presvote20post with score: 0.07704377980834581\n",
            "Running iteration 2/5\n"
          ]
        },
        {
          "output_type": "stream",
          "name": "stderr",
          "text": [
            "/usr/local/lib/python3.10/dist-packages/keras/src/layers/core/dense.py:87: UserWarning: Do not pass an `input_shape`/`input_dim` argument to a layer. When using Sequential models, prefer using an `Input(shape)` object as the first layer in the model instead.\n",
            "  super().__init__(activity_regularizer=activity_regularizer, **kwargs)\n"
          ]
        },
        {
          "output_type": "stream",
          "name": "stdout",
          "text": [
            "\u001b[1m54/54\u001b[0m \u001b[32m━━━━━━━━━━━━━━━━━━━━\u001b[0m\u001b[37m\u001b[0m \u001b[1m0s\u001b[0m 3ms/step\n",
            "\u001b[1m11/11\u001b[0m \u001b[32m━━━━━━━━━━━━━━━━━━━━\u001b[0m\u001b[37m\u001b[0m \u001b[1m0s\u001b[0m 2ms/step \n",
            "Debug statement: Neural Net test MSE = 0.017405202036219234\n",
            "Proxy 1 for christian_nationalism: proxy_0.90 with score: 0.10128330570603353\n",
            "Proxy 2 for christian_nationalism: pff_dt with score: 0.08878164888166865\n",
            "Proxy 3 for christian_nationalism: immigrant_deport with score: 0.07968080357605017\n",
            "Proxy 4 for christian_nationalism: ideo7 with score: 0.07772492632223149\n",
            "Proxy 5 for christian_nationalism: presvote20post with score: 0.06396310714145981\n",
            "Running iteration 3/5\n"
          ]
        },
        {
          "output_type": "stream",
          "name": "stderr",
          "text": [
            "/usr/local/lib/python3.10/dist-packages/keras/src/layers/core/dense.py:87: UserWarning: Do not pass an `input_shape`/`input_dim` argument to a layer. When using Sequential models, prefer using an `Input(shape)` object as the first layer in the model instead.\n",
            "  super().__init__(activity_regularizer=activity_regularizer, **kwargs)\n"
          ]
        },
        {
          "output_type": "stream",
          "name": "stdout",
          "text": [
            "\u001b[1m54/54\u001b[0m \u001b[32m━━━━━━━━━━━━━━━━━━━━\u001b[0m\u001b[37m\u001b[0m \u001b[1m0s\u001b[0m 3ms/step\n",
            "\u001b[1m11/11\u001b[0m \u001b[32m━━━━━━━━━━━━━━━━━━━━\u001b[0m\u001b[37m\u001b[0m \u001b[1m0s\u001b[0m 2ms/step \n",
            "Debug statement: Neural Net test MSE = 0.01623578539206984\n",
            "Proxy 1 for christian_nationalism: proxy_0.90 with score: 0.10622812901783857\n",
            "Proxy 2 for christian_nationalism: pff_dt with score: 0.09006122265964459\n",
            "Proxy 3 for christian_nationalism: ideo7 with score: 0.07692005185871192\n",
            "Proxy 4 for christian_nationalism: immigrant_deport with score: 0.07651713880510724\n",
            "Proxy 5 for christian_nationalism: auth_grid_1 with score: 0.052929756890819885\n",
            "Running iteration 4/5\n"
          ]
        },
        {
          "output_type": "stream",
          "name": "stderr",
          "text": [
            "/usr/local/lib/python3.10/dist-packages/keras/src/layers/core/dense.py:87: UserWarning: Do not pass an `input_shape`/`input_dim` argument to a layer. When using Sequential models, prefer using an `Input(shape)` object as the first layer in the model instead.\n",
            "  super().__init__(activity_regularizer=activity_regularizer, **kwargs)\n"
          ]
        },
        {
          "output_type": "stream",
          "name": "stdout",
          "text": [
            "\u001b[1m54/54\u001b[0m \u001b[32m━━━━━━━━━━━━━━━━━━━━\u001b[0m\u001b[37m\u001b[0m \u001b[1m0s\u001b[0m 3ms/step\n",
            "\u001b[1m11/11\u001b[0m \u001b[32m━━━━━━━━━━━━━━━━━━━━\u001b[0m\u001b[37m\u001b[0m \u001b[1m0s\u001b[0m 2ms/step \n",
            "Debug statement: Neural Net test MSE = 0.01788625837063714\n",
            "Proxy 1 for christian_nationalism: proxy_0.90 with score: 0.10339671739833278\n",
            "Proxy 2 for christian_nationalism: pff_dt with score: 0.09341934650166286\n",
            "Proxy 3 for christian_nationalism: ideo7 with score: 0.07578090714361385\n",
            "Proxy 4 for christian_nationalism: immigrant_deport with score: 0.0718366368677589\n",
            "Proxy 5 for christian_nationalism: presvote20post with score: 0.05932204872817498\n",
            "Running iteration 5/5\n"
          ]
        },
        {
          "output_type": "stream",
          "name": "stderr",
          "text": [
            "/usr/local/lib/python3.10/dist-packages/keras/src/layers/core/dense.py:87: UserWarning: Do not pass an `input_shape`/`input_dim` argument to a layer. When using Sequential models, prefer using an `Input(shape)` object as the first layer in the model instead.\n",
            "  super().__init__(activity_regularizer=activity_regularizer, **kwargs)\n"
          ]
        },
        {
          "output_type": "stream",
          "name": "stdout",
          "text": [
            "\u001b[1m54/54\u001b[0m \u001b[32m━━━━━━━━━━━━━━━━━━━━\u001b[0m\u001b[37m\u001b[0m \u001b[1m0s\u001b[0m 3ms/step\n",
            "\u001b[1m11/11\u001b[0m \u001b[32m━━━━━━━━━━━━━━━━━━━━\u001b[0m\u001b[37m\u001b[0m \u001b[1m0s\u001b[0m 2ms/step \n",
            "Debug statement: Neural Net test MSE = 0.018104170147654166\n",
            "Proxy 1 for christian_nationalism: pff_dt with score: 0.10348080696736076\n",
            "Proxy 2 for christian_nationalism: proxy_0.90 with score: 0.10113367320105637\n",
            "Proxy 3 for christian_nationalism: ideo7 with score: 0.07116292516503775\n",
            "Proxy 4 for christian_nationalism: immigrant_deport with score: 0.06515942807229716\n",
            "Proxy 5 for christian_nationalism: auth_grid_1 with score: 0.056307450292544664\n",
            "Testing with orthogonality weight: 0.6\n",
            "Testing with tau: 0.15\n",
            "Running iteration 1/5\n"
          ]
        },
        {
          "output_type": "stream",
          "name": "stderr",
          "text": [
            "/usr/local/lib/python3.10/dist-packages/keras/src/layers/core/dense.py:87: UserWarning: Do not pass an `input_shape`/`input_dim` argument to a layer. When using Sequential models, prefer using an `Input(shape)` object as the first layer in the model instead.\n",
            "  super().__init__(activity_regularizer=activity_regularizer, **kwargs)\n"
          ]
        },
        {
          "output_type": "stream",
          "name": "stdout",
          "text": [
            "\u001b[1m54/54\u001b[0m \u001b[32m━━━━━━━━━━━━━━━━━━━━\u001b[0m\u001b[37m\u001b[0m \u001b[1m0s\u001b[0m 3ms/step\n",
            "\u001b[1m11/11\u001b[0m \u001b[32m━━━━━━━━━━━━━━━━━━━━\u001b[0m\u001b[37m\u001b[0m \u001b[1m0s\u001b[0m 2ms/step \n",
            "Debug statement: Neural Net test MSE = 0.019230551132443624\n",
            "Proxy 1 for christian_nationalism: proxy_0.90 with score: 0.06230260153515979\n",
            "Proxy 2 for christian_nationalism: pff_dt with score: 0.038854768633262926\n",
            "Proxy 3 for christian_nationalism: immigrant_deport with score: 0.03670060657385346\n",
            "Proxy 4 for christian_nationalism: ideo7 with score: 0.030799167660442023\n",
            "Proxy 5 for christian_nationalism: auth_grid_1 with score: 0.026344147503326754\n",
            "Running iteration 2/5\n"
          ]
        },
        {
          "output_type": "stream",
          "name": "stderr",
          "text": [
            "/usr/local/lib/python3.10/dist-packages/keras/src/layers/core/dense.py:87: UserWarning: Do not pass an `input_shape`/`input_dim` argument to a layer. When using Sequential models, prefer using an `Input(shape)` object as the first layer in the model instead.\n",
            "  super().__init__(activity_regularizer=activity_regularizer, **kwargs)\n"
          ]
        },
        {
          "output_type": "stream",
          "name": "stdout",
          "text": [
            "\u001b[1m54/54\u001b[0m \u001b[32m━━━━━━━━━━━━━━━━━━━━\u001b[0m\u001b[37m\u001b[0m \u001b[1m0s\u001b[0m 3ms/step\n",
            "\u001b[1m11/11\u001b[0m \u001b[32m━━━━━━━━━━━━━━━━━━━━\u001b[0m\u001b[37m\u001b[0m \u001b[1m0s\u001b[0m 2ms/step \n",
            "Debug statement: Neural Net test MSE = 0.017595109073583394\n",
            "Proxy 1 for christian_nationalism: proxy_0.90 with score: 0.05940493793087015\n",
            "Proxy 2 for christian_nationalism: ideo7 with score: 0.03765244256875866\n",
            "Proxy 3 for christian_nationalism: auth_grid_1 with score: 0.02959196127515104\n",
            "Proxy 4 for christian_nationalism: pff_dt with score: 0.02935803809574078\n",
            "Proxy 5 for christian_nationalism: immigrant_deport with score: 0.027157696621989275\n",
            "Running iteration 3/5\n"
          ]
        },
        {
          "output_type": "stream",
          "name": "stderr",
          "text": [
            "/usr/local/lib/python3.10/dist-packages/keras/src/layers/core/dense.py:87: UserWarning: Do not pass an `input_shape`/`input_dim` argument to a layer. When using Sequential models, prefer using an `Input(shape)` object as the first layer in the model instead.\n",
            "  super().__init__(activity_regularizer=activity_regularizer, **kwargs)\n"
          ]
        },
        {
          "output_type": "stream",
          "name": "stdout",
          "text": [
            "\u001b[1m54/54\u001b[0m \u001b[32m━━━━━━━━━━━━━━━━━━━━\u001b[0m\u001b[37m\u001b[0m \u001b[1m0s\u001b[0m 3ms/step\n",
            "\u001b[1m11/11\u001b[0m \u001b[32m━━━━━━━━━━━━━━━━━━━━\u001b[0m\u001b[37m\u001b[0m \u001b[1m0s\u001b[0m 2ms/step \n",
            "Debug statement: Neural Net test MSE = 0.01805764610211039\n",
            "Proxy 1 for christian_nationalism: proxy_0.90 with score: 0.06280163632308933\n",
            "Proxy 2 for christian_nationalism: pff_dt with score: 0.04579048917531148\n",
            "Proxy 3 for christian_nationalism: immigrant_deport with score: 0.038538789443292976\n",
            "Proxy 4 for christian_nationalism: ideo7 with score: 0.03264919266371957\n",
            "Proxy 5 for christian_nationalism: auth_grid_1 with score: 0.02058273370633658\n",
            "Running iteration 4/5\n"
          ]
        },
        {
          "output_type": "stream",
          "name": "stderr",
          "text": [
            "/usr/local/lib/python3.10/dist-packages/keras/src/layers/core/dense.py:87: UserWarning: Do not pass an `input_shape`/`input_dim` argument to a layer. When using Sequential models, prefer using an `Input(shape)` object as the first layer in the model instead.\n",
            "  super().__init__(activity_regularizer=activity_regularizer, **kwargs)\n"
          ]
        },
        {
          "output_type": "stream",
          "name": "stdout",
          "text": [
            "\u001b[1m54/54\u001b[0m \u001b[32m━━━━━━━━━━━━━━━━━━━━\u001b[0m\u001b[37m\u001b[0m \u001b[1m0s\u001b[0m 3ms/step\n",
            "\u001b[1m11/11\u001b[0m \u001b[32m━━━━━━━━━━━━━━━━━━━━\u001b[0m\u001b[37m\u001b[0m \u001b[1m0s\u001b[0m 2ms/step \n",
            "Debug statement: Neural Net test MSE = 0.018542574499894875\n",
            "Proxy 1 for christian_nationalism: proxy_0.90 with score: 0.05907856156758651\n",
            "Proxy 2 for christian_nationalism: pff_dt with score: 0.04926019779959867\n",
            "Proxy 3 for christian_nationalism: ideo7 with score: 0.029649479504495035\n",
            "Proxy 4 for christian_nationalism: auth_grid_1 with score: 0.029336282843105493\n",
            "Proxy 5 for christian_nationalism: immigrant_deport with score: 0.023575487411150564\n",
            "Running iteration 5/5\n"
          ]
        },
        {
          "output_type": "stream",
          "name": "stderr",
          "text": [
            "/usr/local/lib/python3.10/dist-packages/keras/src/layers/core/dense.py:87: UserWarning: Do not pass an `input_shape`/`input_dim` argument to a layer. When using Sequential models, prefer using an `Input(shape)` object as the first layer in the model instead.\n",
            "  super().__init__(activity_regularizer=activity_regularizer, **kwargs)\n"
          ]
        },
        {
          "output_type": "stream",
          "name": "stdout",
          "text": [
            "\u001b[1m54/54\u001b[0m \u001b[32m━━━━━━━━━━━━━━━━━━━━\u001b[0m\u001b[37m\u001b[0m \u001b[1m0s\u001b[0m 3ms/step\n",
            "\u001b[1m11/11\u001b[0m \u001b[32m━━━━━━━━━━━━━━━━━━━━\u001b[0m\u001b[37m\u001b[0m \u001b[1m0s\u001b[0m 2ms/step \n",
            "Debug statement: Neural Net test MSE = 0.016517807335640053\n",
            "Proxy 1 for christian_nationalism: proxy_0.90 with score: 0.06256896988663649\n",
            "Proxy 2 for christian_nationalism: pff_dt with score: 0.03710803153059772\n",
            "Proxy 3 for christian_nationalism: immigrant_deport with score: 0.036224911380041275\n",
            "Proxy 4 for christian_nationalism: ideo7 with score: 0.03319963707265039\n",
            "Proxy 5 for christian_nationalism: auth_grid_1 with score: 0.02610269681634096\n",
            "Testing with orthogonality weight: 0.6499999999999999\n",
            "Testing with tau: 0.15\n",
            "Running iteration 1/5\n"
          ]
        },
        {
          "output_type": "stream",
          "name": "stderr",
          "text": [
            "/usr/local/lib/python3.10/dist-packages/keras/src/layers/core/dense.py:87: UserWarning: Do not pass an `input_shape`/`input_dim` argument to a layer. When using Sequential models, prefer using an `Input(shape)` object as the first layer in the model instead.\n",
            "  super().__init__(activity_regularizer=activity_regularizer, **kwargs)\n"
          ]
        },
        {
          "output_type": "stream",
          "name": "stdout",
          "text": [
            "\u001b[1m54/54\u001b[0m \u001b[32m━━━━━━━━━━━━━━━━━━━━\u001b[0m\u001b[37m\u001b[0m \u001b[1m0s\u001b[0m 3ms/step\n",
            "\u001b[1m11/11\u001b[0m \u001b[32m━━━━━━━━━━━━━━━━━━━━\u001b[0m\u001b[37m\u001b[0m \u001b[1m0s\u001b[0m 2ms/step \n",
            "Debug statement: Neural Net test MSE = 0.01721088446277994\n",
            "Proxy 1 for christian_nationalism: proxy_0.90 with score: 0.026148479089086407\n",
            "Proxy 2 for christian_nationalism: auth_grid_1 with score: 0.009943824043528712\n",
            "Proxy 3 for christian_nationalism: index with score: 0.0006947194176632644\n",
            "Proxy 4 for christian_nationalism: auth_grid_3 with score: -0.0003311607220098933\n",
            "Proxy 5 for christian_nationalism: ideo7 with score: -0.014728090952109696\n",
            "Running iteration 2/5\n"
          ]
        },
        {
          "output_type": "stream",
          "name": "stderr",
          "text": [
            "/usr/local/lib/python3.10/dist-packages/keras/src/layers/core/dense.py:87: UserWarning: Do not pass an `input_shape`/`input_dim` argument to a layer. When using Sequential models, prefer using an `Input(shape)` object as the first layer in the model instead.\n",
            "  super().__init__(activity_regularizer=activity_regularizer, **kwargs)\n"
          ]
        },
        {
          "output_type": "stream",
          "name": "stdout",
          "text": [
            "\u001b[1m54/54\u001b[0m \u001b[32m━━━━━━━━━━━━━━━━━━━━\u001b[0m\u001b[37m\u001b[0m \u001b[1m0s\u001b[0m 3ms/step\n",
            "\u001b[1m11/11\u001b[0m \u001b[32m━━━━━━━━━━━━━━━━━━━━\u001b[0m\u001b[37m\u001b[0m \u001b[1m0s\u001b[0m 2ms/step \n",
            "Debug statement: Neural Net test MSE = 0.01747038255904159\n",
            "Proxy 1 for christian_nationalism: proxy_0.90 with score: 0.026046201186267465\n",
            "Proxy 2 for christian_nationalism: auth_grid_1 with score: 0.005455972783992444\n",
            "Proxy 3 for christian_nationalism: index with score: 0.0009368368933250995\n",
            "Proxy 4 for christian_nationalism: auth_grid_3 with score: -0.00975788105577162\n",
            "Proxy 5 for christian_nationalism: immigrant_deport with score: -0.01128662475579631\n",
            "Running iteration 3/5\n"
          ]
        },
        {
          "output_type": "stream",
          "name": "stderr",
          "text": [
            "/usr/local/lib/python3.10/dist-packages/keras/src/layers/core/dense.py:87: UserWarning: Do not pass an `input_shape`/`input_dim` argument to a layer. When using Sequential models, prefer using an `Input(shape)` object as the first layer in the model instead.\n",
            "  super().__init__(activity_regularizer=activity_regularizer, **kwargs)\n"
          ]
        },
        {
          "output_type": "stream",
          "name": "stdout",
          "text": [
            "\u001b[1m54/54\u001b[0m \u001b[32m━━━━━━━━━━━━━━━━━━━━\u001b[0m\u001b[37m\u001b[0m \u001b[1m0s\u001b[0m 3ms/step\n",
            "\u001b[1m11/11\u001b[0m \u001b[32m━━━━━━━━━━━━━━━━━━━━\u001b[0m\u001b[37m\u001b[0m \u001b[1m0s\u001b[0m 2ms/step \n",
            "Debug statement: Neural Net test MSE = 0.01828048995554189\n",
            "Proxy 1 for christian_nationalism: proxy_0.90 with score: 0.02411908532024301\n",
            "Proxy 2 for christian_nationalism: index with score: 0.0016777388612019333\n",
            "Proxy 3 for christian_nationalism: auth_grid_1 with score: -0.00015010949717582378\n",
            "Proxy 4 for christian_nationalism: pff_dt with score: -0.007722395494165701\n",
            "Proxy 5 for christian_nationalism: ideo7 with score: -0.011022852209983641\n",
            "Running iteration 4/5\n"
          ]
        },
        {
          "output_type": "stream",
          "name": "stderr",
          "text": [
            "/usr/local/lib/python3.10/dist-packages/keras/src/layers/core/dense.py:87: UserWarning: Do not pass an `input_shape`/`input_dim` argument to a layer. When using Sequential models, prefer using an `Input(shape)` object as the first layer in the model instead.\n",
            "  super().__init__(activity_regularizer=activity_regularizer, **kwargs)\n"
          ]
        },
        {
          "output_type": "stream",
          "name": "stdout",
          "text": [
            "\u001b[1m54/54\u001b[0m \u001b[32m━━━━━━━━━━━━━━━━━━━━\u001b[0m\u001b[37m\u001b[0m \u001b[1m0s\u001b[0m 3ms/step\n",
            "\u001b[1m11/11\u001b[0m \u001b[32m━━━━━━━━━━━━━━━━━━━━\u001b[0m\u001b[37m\u001b[0m \u001b[1m0s\u001b[0m 2ms/step \n",
            "Debug statement: Neural Net test MSE = 0.017733522480283623\n",
            "Proxy 1 for christian_nationalism: proxy_0.90 with score: 0.02368146775923949\n",
            "Proxy 2 for christian_nationalism: index with score: 0.001445918329338131\n",
            "Proxy 3 for christian_nationalism: auth_grid_1 with score: -0.0011431527679311715\n",
            "Proxy 4 for christian_nationalism: auth_grid_3 with score: -0.008869122031949339\n",
            "Proxy 5 for christian_nationalism: immigrant_deport with score: -0.01267635851027496\n",
            "Running iteration 5/5\n"
          ]
        },
        {
          "output_type": "stream",
          "name": "stderr",
          "text": [
            "/usr/local/lib/python3.10/dist-packages/keras/src/layers/core/dense.py:87: UserWarning: Do not pass an `input_shape`/`input_dim` argument to a layer. When using Sequential models, prefer using an `Input(shape)` object as the first layer in the model instead.\n",
            "  super().__init__(activity_regularizer=activity_regularizer, **kwargs)\n"
          ]
        },
        {
          "output_type": "stream",
          "name": "stdout",
          "text": [
            "\u001b[1m54/54\u001b[0m \u001b[32m━━━━━━━━━━━━━━━━━━━━\u001b[0m\u001b[37m\u001b[0m \u001b[1m0s\u001b[0m 3ms/step\n",
            "\u001b[1m11/11\u001b[0m \u001b[32m━━━━━━━━━━━━━━━━━━━━\u001b[0m\u001b[37m\u001b[0m \u001b[1m0s\u001b[0m 2ms/step \n",
            "Debug statement: Neural Net test MSE = 0.017632346246720568\n",
            "Proxy 1 for christian_nationalism: proxy_0.90 with score: 0.023059088271927958\n",
            "Proxy 2 for christian_nationalism: index with score: 0.0014007027207397719\n",
            "Proxy 3 for christian_nationalism: auth_grid_1 with score: -0.000911059371271894\n",
            "Proxy 4 for christian_nationalism: ideo7 with score: -0.010060019714111745\n",
            "Proxy 5 for christian_nationalism: auth_grid_3 with score: -0.01240649229315341\n",
            "Testing with orthogonality weight: 0.7\n",
            "Testing with tau: 0.15\n",
            "Running iteration 1/5\n"
          ]
        },
        {
          "output_type": "stream",
          "name": "stderr",
          "text": [
            "/usr/local/lib/python3.10/dist-packages/keras/src/layers/core/dense.py:87: UserWarning: Do not pass an `input_shape`/`input_dim` argument to a layer. When using Sequential models, prefer using an `Input(shape)` object as the first layer in the model instead.\n",
            "  super().__init__(activity_regularizer=activity_regularizer, **kwargs)\n"
          ]
        },
        {
          "output_type": "stream",
          "name": "stdout",
          "text": [
            "\u001b[1m54/54\u001b[0m \u001b[32m━━━━━━━━━━━━━━━━━━━━\u001b[0m\u001b[37m\u001b[0m \u001b[1m0s\u001b[0m 3ms/step\n",
            "\u001b[1m11/11\u001b[0m \u001b[32m━━━━━━━━━━━━━━━━━━━━\u001b[0m\u001b[37m\u001b[0m \u001b[1m0s\u001b[0m 2ms/step \n",
            "Debug statement: Neural Net test MSE = 0.017814168768931115\n",
            "Proxy 1 for christian_nationalism: index with score: 0.0015945794082432355\n",
            "Proxy 2 for christian_nationalism: proxy_0.90 with score: -0.018636905792864034\n",
            "Proxy 3 for christian_nationalism: auth_grid_3 with score: -0.02852312746299615\n",
            "Proxy 4 for christian_nationalism: auth_grid_1 with score: -0.034644929664100835\n",
            "Proxy 5 for christian_nationalism: educ with score: -0.040411767066847265\n",
            "Running iteration 2/5\n"
          ]
        },
        {
          "output_type": "stream",
          "name": "stderr",
          "text": [
            "/usr/local/lib/python3.10/dist-packages/keras/src/layers/core/dense.py:87: UserWarning: Do not pass an `input_shape`/`input_dim` argument to a layer. When using Sequential models, prefer using an `Input(shape)` object as the first layer in the model instead.\n",
            "  super().__init__(activity_regularizer=activity_regularizer, **kwargs)\n"
          ]
        },
        {
          "output_type": "stream",
          "name": "stdout",
          "text": [
            "\u001b[1m54/54\u001b[0m \u001b[32m━━━━━━━━━━━━━━━━━━━━\u001b[0m\u001b[37m\u001b[0m \u001b[1m0s\u001b[0m 3ms/step\n",
            "\u001b[1m11/11\u001b[0m \u001b[32m━━━━━━━━━━━━━━━━━━━━\u001b[0m\u001b[37m\u001b[0m \u001b[1m0s\u001b[0m 2ms/step \n",
            "Debug statement: Neural Net test MSE = 0.017444678437802806\n",
            "Proxy 1 for christian_nationalism: index with score: 0.0007891378448119713\n",
            "Proxy 2 for christian_nationalism: proxy_0.90 with score: -0.014859156346078178\n",
            "Proxy 3 for christian_nationalism: auth_grid_3 with score: -0.02394652344637936\n",
            "Proxy 4 for christian_nationalism: auth_grid_1 with score: -0.027254205438214787\n",
            "Proxy 5 for christian_nationalism: educ with score: -0.034552801659590286\n",
            "Running iteration 3/5\n"
          ]
        },
        {
          "output_type": "stream",
          "name": "stderr",
          "text": [
            "/usr/local/lib/python3.10/dist-packages/keras/src/layers/core/dense.py:87: UserWarning: Do not pass an `input_shape`/`input_dim` argument to a layer. When using Sequential models, prefer using an `Input(shape)` object as the first layer in the model instead.\n",
            "  super().__init__(activity_regularizer=activity_regularizer, **kwargs)\n"
          ]
        },
        {
          "output_type": "stream",
          "name": "stdout",
          "text": [
            "\u001b[1m54/54\u001b[0m \u001b[32m━━━━━━━━━━━━━━━━━━━━\u001b[0m\u001b[37m\u001b[0m \u001b[1m0s\u001b[0m 4ms/step\n",
            "\u001b[1m11/11\u001b[0m \u001b[32m━━━━━━━━━━━━━━━━━━━━\u001b[0m\u001b[37m\u001b[0m \u001b[1m0s\u001b[0m 2ms/step \n",
            "Debug statement: Neural Net test MSE = 0.016887812880600653\n",
            "Proxy 1 for christian_nationalism: index with score: 0.0009498901010994155\n",
            "Proxy 2 for christian_nationalism: proxy_0.90 with score: -0.014413097471952296\n",
            "Proxy 3 for christian_nationalism: auth_grid_1 with score: -0.018390683572337224\n",
            "Proxy 4 for christian_nationalism: auth_grid_3 with score: -0.029545486148506023\n",
            "Proxy 5 for christian_nationalism: educ with score: -0.0334747131744101\n",
            "Running iteration 4/5\n"
          ]
        },
        {
          "output_type": "stream",
          "name": "stderr",
          "text": [
            "/usr/local/lib/python3.10/dist-packages/keras/src/layers/core/dense.py:87: UserWarning: Do not pass an `input_shape`/`input_dim` argument to a layer. When using Sequential models, prefer using an `Input(shape)` object as the first layer in the model instead.\n",
            "  super().__init__(activity_regularizer=activity_regularizer, **kwargs)\n"
          ]
        },
        {
          "output_type": "stream",
          "name": "stdout",
          "text": [
            "\u001b[1m54/54\u001b[0m \u001b[32m━━━━━━━━━━━━━━━━━━━━\u001b[0m\u001b[37m\u001b[0m \u001b[1m0s\u001b[0m 3ms/step\n",
            "\u001b[1m11/11\u001b[0m \u001b[32m━━━━━━━━━━━━━━━━━━━━\u001b[0m\u001b[37m\u001b[0m \u001b[1m0s\u001b[0m 2ms/step \n",
            "Debug statement: Neural Net test MSE = 0.018087989060194008\n",
            "Proxy 1 for christian_nationalism: index with score: 0.0008529345497011455\n",
            "Proxy 2 for christian_nationalism: proxy_0.90 with score: -0.01440299316935495\n",
            "Proxy 3 for christian_nationalism: auth_grid_1 with score: -0.017250795281451348\n",
            "Proxy 4 for christian_nationalism: auth_grid_3 with score: -0.028336600279149\n",
            "Proxy 5 for christian_nationalism: educ with score: -0.028525676681846017\n",
            "Running iteration 5/5\n"
          ]
        },
        {
          "output_type": "stream",
          "name": "stderr",
          "text": [
            "/usr/local/lib/python3.10/dist-packages/keras/src/layers/core/dense.py:87: UserWarning: Do not pass an `input_shape`/`input_dim` argument to a layer. When using Sequential models, prefer using an `Input(shape)` object as the first layer in the model instead.\n",
            "  super().__init__(activity_regularizer=activity_regularizer, **kwargs)\n"
          ]
        },
        {
          "output_type": "stream",
          "name": "stdout",
          "text": [
            "\u001b[1m54/54\u001b[0m \u001b[32m━━━━━━━━━━━━━━━━━━━━\u001b[0m\u001b[37m\u001b[0m \u001b[1m0s\u001b[0m 4ms/step\n",
            "\u001b[1m11/11\u001b[0m \u001b[32m━━━━━━━━━━━━━━━━━━━━\u001b[0m\u001b[37m\u001b[0m \u001b[1m0s\u001b[0m 3ms/step \n",
            "Debug statement: Neural Net test MSE = 0.01809930498208847\n",
            "Proxy 1 for christian_nationalism: index with score: 0.000983096159135033\n",
            "Proxy 2 for christian_nationalism: proxy_0.90 with score: -0.014715851359153542\n",
            "Proxy 3 for christian_nationalism: auth_grid_1 with score: -0.0202970865228653\n",
            "Proxy 4 for christian_nationalism: auth_grid_3 with score: -0.030281984537223403\n",
            "Proxy 5 for christian_nationalism: educ with score: -0.033940006808075296\n",
            "proxy        index  pff_dt  presvote20post  proxy_0.90\n",
            "orth_weight                                           \n",
            "0.40           0.0    80.0            20.0         0.0\n",
            "0.45           0.0   100.0             0.0         0.0\n",
            "0.50           0.0    60.0             0.0        40.0\n",
            "0.55           0.0    20.0             0.0        80.0\n",
            "0.60           0.0     0.0             0.0       100.0\n",
            "0.65           0.0     0.0             0.0       100.0\n",
            "0.70         100.0     0.0             0.0         0.0\n",
            "proxy        index  pff_dt  proxy_0.90\n",
            "orth_weight                           \n",
            "0.40           0.0   100.0         0.0\n",
            "0.45           0.0   100.0         0.0\n",
            "0.50           0.0    80.0        20.0\n",
            "0.55           0.0    40.0        60.0\n",
            "0.60           0.0     0.0       100.0\n",
            "0.65           0.0     0.0       100.0\n",
            "0.70         100.0     0.0         0.0\n",
            "proxy        index  pff_dt  proxy_0.90\n",
            "orth_weight                           \n",
            "0.40           0.0   100.0         0.0\n",
            "0.45           0.0   100.0         0.0\n",
            "0.50           0.0    80.0        20.0\n",
            "0.55           0.0    20.0        80.0\n",
            "0.60           0.0     0.0       100.0\n",
            "0.65           0.0     0.0       100.0\n",
            "0.70         100.0     0.0         0.0\n"
          ]
        },
        {
          "output_type": "display_data",
          "data": {
            "text/plain": [
              "<Figure size 1000x600 with 1 Axes>"
            ],
            "image/png": "[encoded data removed]"
          },
          "metadata": {}
        }
      ]
    },
    {
      "cell_type": "markdown",
      "source": [
        "## Stage 3: Testing the Elastic Net Implementation With Different Lambda Values"
      ],
      "metadata": {
        "id": "8Oe40lN8MQxE"
      }
    },
    {
      "cell_type": "code",
      "source": [
        "from proxy_finder_elasticnet_orthogonalization import proxy_finder_elasticnet as pf_elasticnet\n",
        "from itertools import product\n",
        "import seaborn as sns"
      ],
      "metadata": {
        "id": "uVBL5aPPMa08",
        "colab": {
          "base_uri": "https://localhost:8080/"
        },
        "outputId": "0a7ba7e0-02ab-4488-8db2-503278dd659b"
      },
      "execution_count": null,
      "outputs": [
        {
          "output_type": "stream",
          "name": "stderr",
          "text": [
            "/usr/local/lib/python3.10/dist-packages/keras/src/layers/core/dense.py:87: UserWarning: Do not pass an `input_shape`/`input_dim` argument to a layer. When using Sequential models, prefer using an `Input(shape)` object as the first layer in the model instead.\n",
            "  super().__init__(activity_regularizer=activity_regularizer, **kwargs)\n"
          ]
        },
        {
          "output_type": "stream",
          "name": "stdout",
          "text": [
            "\u001b[1m107/107\u001b[0m \u001b[32m━━━━━━━━━━━━━━━━━━━━\u001b[0m\u001b[37m\u001b[0m \u001b[1m0s\u001b[0m 3ms/step\n",
            "\u001b[1m22/22\u001b[0m \u001b[32m━━━━━━━━━━━━━━━━━━━━\u001b[0m\u001b[37m\u001b[0m \u001b[1m0s\u001b[0m 1ms/step \n",
            "Debug statement: Neural Net test MSE = 0.015091979486534858\n",
            "Proxy 1 for christian_nationalism: hispanic with score: -0.04095691799272644\n",
            "Proxy 2 for christian_nationalism: turnout20post with score: -0.051654872747420165\n",
            "Proxy 3 for christian_nationalism: index with score: -0.07263134738938155\n",
            "Proxy 4 for christian_nationalism: partisan_violence with score: -0.11039048863906588\n",
            "Proxy 5 for christian_nationalism: faminc_new with score: -0.12052104209802791\n",
            "Proxy 6 for christian_nationalism: white with score: -0.1367539275110811\n",
            "Proxy 7 for christian_nationalism: educ with score: -0.15683572105295168\n",
            "Proxy 8 for christian_nationalism: auth_grid_2 with score: -0.17198121240853795\n",
            "Proxy 9 for christian_nationalism: auth_grid_1 with score: -0.20087090338405791\n",
            "Proxy 10 for christian_nationalism: auth_grid_3 with score: -0.20613049545065126\n",
            "Proxy 11 for christian_nationalism: christian_nationalism with score: -0.25773045543758377\n",
            "Proxy 12 for christian_nationalism: immigrant_deport with score: -0.28858078980687085\n",
            "Proxy 13 for christian_nationalism: immigrant_citizenship with score: -0.29306645334745507\n",
            "Proxy 14 for christian_nationalism: ideo7 with score: -0.29376681038221786\n",
            "Proxy 15 for christian_nationalism: pff_dt with score: -0.2960048294711306\n",
            "Proxy 16 for christian_nationalism: election_fairnness with score: -0.32606024410641454\n",
            "Proxy 17 for christian_nationalism: pid7 with score: -0.33842340554199996\n",
            "Proxy 18 for christian_nationalism: presvote20post with score: -0.3390976346982878\n",
            "Proxy 19 for christian_nationalism: senvote20post with score: -0.3417439315542108\n",
            "Proxy 20 for christian_nationalism: housevote20post with score: -0.34326781946245216\n"
          ]
        }
      ]
    },
    {
      "cell_type": "code",
      "source": [
        "def run_and_visualize_monte_carlo3(df, weight, num_iterations, target, target_correlation, predictors, pairs):\n",
        "    proxy_name = (f'proxy_{target_correlation:.2f}')\n",
        "\n",
        "    # Prepare dataset\n",
        "    df_train, df_test = prepare_dataset(df, target, target_correlation)\n",
        "    selection_tracker = {pair: 0 for pair in pairs}\n",
        "\n",
        "    # Run iterations for each pair of lambdas\n",
        "    for pair in pairs:\n",
        "      print(f\"Testing with lambda pair: {pair}\")\n",
        "\n",
        "      for i in range(num_iterations):\n",
        "        print(f\"Running iteration {i+1}/{num_iterations}\")\n",
        "        top_proxies = pf_elasticnet(df_train=df_train,\n",
        "                                         df_test=df_test,\n",
        "                                         target=target,\n",
        "                                         predictors=predictors,\n",
        "                                         num_proxies=10,\n",
        "                                         orth_weight=weight,\n",
        "                                         orthogonal_vars=predictors,\n",
        "                                         lambda1=pair[0],\n",
        "                                         lambda2=pair[1])\n",
        "\n",
        "          # Update selection tracker for top pick\n",
        "        if top_proxies[0] == proxy_name:\n",
        "            selection_tracker[pair] += 1\n",
        "\n",
        "    selection_frequencies = {pair: (count / num_iterations) * 100 for pair, count in selection_tracker.items()}\n",
        "\n",
        "    # Create a grid of lambda values\n",
        "    sorted_lambdas = sorted(pairs)\n",
        "    n_lambdas = len(sorted_lambdas)\n",
        "    heatmap_data = np.zeros((n_lambdas, n_lambdas))\n",
        "\n",
        "    # Fill the heatmap data matrix\n",
        "    for i, lambda1 in enumerate(sorted_lambdas):\n",
        "        for j, lambda2 in enumerate(sorted_lambdas):\n",
        "            heatmap_data[i, j] = selection_frequencies.get((lambda1, lambda2), 0)\n",
        "\n",
        "    # Create the heatmap\n",
        "    plt.figure(figsize=(10, 8))\n",
        "    sns.heatmap(heatmap_data,\n",
        "                xticklabels=sorted_lambdas,\n",
        "                yticklabels=sorted_lambdas,\n",
        "                vmin=0,\n",
        "                vmax=100,\n",
        "                cmap='YlOrRd',\n",
        "                annot=True,\n",
        "                fmt='.1f',\n",
        "                cbar_kws={'label': 'Selection Frequency (%)'},\n",
        "                square=True)\n",
        "\n",
        "    plt.xlabel('Lambda 2')\n",
        "    plt.ylabel('Lambda 1')\n",
        "    plt.title(f'Selection Frequency vs Lambda Pairs\\nProxy: {proxy_name}, Orthogonality Weight: {weight}')\n",
        "    plt.tight_layout()\n",
        "    plt.show()"
      ],
      "metadata": {
        "id": "W97rLFqYMtOD"
      },
      "execution_count": null,
      "outputs": []
    },
    {
      "cell_type": "code",
      "source": [
        "df = pd.read_stata(\"/content/temp_yougov.dta\")\n",
        "weight = 0.60\n",
        "pairs = [(0.001, 0.2), (0.001, 0.3), (0.001, 0.4), (0.001, 0.5), (0.005, 0.2), (0.005, 0.3), (0.005, 0.4), (0.005, 0.5), (0.01, 0.2), (0.01, 0.3), (0.01, 0.4), (0.01, 0.5)]\n",
        "num_iterations = 7\n",
        "target_correlation = 0.90\n",
        "target = 'christian_nationalism'\n",
        "predictors = [\n",
        "                   'presvote20post',\n",
        "                   'housevote20post',\n",
        "                   'senvote20post',\n",
        "                   'pff_jb',\n",
        "                   'pff_dt',\n",
        "                   'pid7',\n",
        "                   'election_fairnness',\n",
        "                   'educ',\n",
        "                   'hispanic',\n",
        "                   'partisan_violence',\n",
        "                   'immigrant_citizenship',\n",
        "                   'immigrant_deport',\n",
        "                   'auth_grid_1',\n",
        "                   'auth_grid_3',\n",
        "                   'auth_grid_2',\n",
        "                   'faminc_new']\n",
        "\n",
        "run_and_visualize_monte_carlo3(df, weight, num_iterations, target, target_correlation, predictors, pairs)\n",
        "\n"
      ],
      "metadata": {
        "colab": {
          "base_uri": "https://localhost:8080/",
          "height": 1000
        },
        "id": "luaZ9LA5OFS8",
        "outputId": "6c144afb-4309-455a-a50d-b050977b7345"
      },
      "execution_count": null,
      "outputs": [
        {
          "output_type": "stream",
          "name": "stdout",
          "text": [
            "Testing with lambda pair: (0.001, 0.2)\n",
            "Running iteration 1/7\n"
          ]
        },
        {
          "output_type": "stream",
          "name": "stderr",
          "text": [
            "/usr/local/lib/python3.10/dist-packages/keras/src/layers/core/dense.py:87: UserWarning: Do not pass an `input_shape`/`input_dim` argument to a layer. When using Sequential models, prefer using an `Input(shape)` object as the first layer in the model instead.\n",
            "  super().__init__(activity_regularizer=activity_regularizer, **kwargs)\n"
          ]
        },
        {
          "output_type": "stream",
          "name": "stdout",
          "text": [
            "\u001b[1m54/54\u001b[0m \u001b[32m━━━━━━━━━━━━━━━━━━━━\u001b[0m\u001b[37m\u001b[0m \u001b[1m0s\u001b[0m 2ms/step\n",
            "\u001b[1m11/11\u001b[0m \u001b[32m━━━━━━━━━━━━━━━━━━━━\u001b[0m\u001b[37m\u001b[0m \u001b[1m0s\u001b[0m 2ms/step \n",
            "Debug statement: Neural Net test MSE = 0.01764365404962748\n",
            "Proxy 1 for christian_nationalism: presvote20post with score: 0.13453467362501992\n",
            "Proxy 2 for christian_nationalism: pff_dt with score: 0.13423078145525436\n",
            "Proxy 3 for christian_nationalism: senvote20post with score: 0.13233325869753668\n",
            "Proxy 4 for christian_nationalism: housevote20post with score: 0.13005267183765207\n",
            "Proxy 5 for christian_nationalism: proxy_0.90 with score: 0.1252381316813019\n",
            "Proxy 6 for christian_nationalism: ideo7 with score: 0.12052370783411845\n",
            "Proxy 7 for christian_nationalism: pid7 with score: 0.1034296293256036\n",
            "Proxy 8 for christian_nationalism: immigrant_deport with score: 0.10244690491316434\n",
            "Proxy 9 for christian_nationalism: election_fairnness with score: 0.0974112884096544\n",
            "Proxy 10 for christian_nationalism: immigrant_citizenship with score: 0.075916817850527\n",
            "Running iteration 2/7\n"
          ]
        },
        {
          "output_type": "stream",
          "name": "stderr",
          "text": [
            "/usr/local/lib/python3.10/dist-packages/keras/src/layers/core/dense.py:87: UserWarning: Do not pass an `input_shape`/`input_dim` argument to a layer. When using Sequential models, prefer using an `Input(shape)` object as the first layer in the model instead.\n",
            "  super().__init__(activity_regularizer=activity_regularizer, **kwargs)\n"
          ]
        },
        {
          "output_type": "stream",
          "name": "stdout",
          "text": [
            "\u001b[1m54/54\u001b[0m \u001b[32m━━━━━━━━━━━━━━━━━━━━\u001b[0m\u001b[37m\u001b[0m \u001b[1m0s\u001b[0m 3ms/step\n",
            "\u001b[1m11/11\u001b[0m \u001b[32m━━━━━━━━━━━━━━━━━━━━\u001b[0m\u001b[37m\u001b[0m \u001b[1m0s\u001b[0m 2ms/step \n",
            "Debug statement: Neural Net test MSE = 0.017411620081125997\n",
            "Proxy 1 for christian_nationalism: pff_dt with score: 0.15471334643132884\n",
            "Proxy 2 for christian_nationalism: presvote20post with score: 0.1295023820357295\n",
            "Proxy 3 for christian_nationalism: proxy_0.90 with score: 0.12918585522445716\n",
            "Proxy 4 for christian_nationalism: housevote20post with score: 0.12683977203801083\n",
            "Proxy 5 for christian_nationalism: senvote20post with score: 0.12552535833307418\n",
            "Proxy 6 for christian_nationalism: ideo7 with score: 0.12153639828360849\n",
            "Proxy 7 for christian_nationalism: immigrant_deport with score: 0.11925417281309299\n",
            "Proxy 8 for christian_nationalism: election_fairnness with score: 0.11358659287289913\n",
            "Proxy 9 for christian_nationalism: pid7 with score: 0.08436861159464476\n",
            "Proxy 10 for christian_nationalism: immigrant_citizenship with score: 0.0747113781693819\n",
            "Running iteration 3/7\n"
          ]
        },
        {
          "output_type": "stream",
          "name": "stderr",
          "text": [
            "/usr/local/lib/python3.10/dist-packages/keras/src/layers/core/dense.py:87: UserWarning: Do not pass an `input_shape`/`input_dim` argument to a layer. When using Sequential models, prefer using an `Input(shape)` object as the first layer in the model instead.\n",
            "  super().__init__(activity_regularizer=activity_regularizer, **kwargs)\n"
          ]
        },
        {
          "output_type": "stream",
          "name": "stdout",
          "text": [
            "\u001b[1m54/54\u001b[0m \u001b[32m━━━━━━━━━━━━━━━━━━━━\u001b[0m\u001b[37m\u001b[0m \u001b[1m0s\u001b[0m 3ms/step\n",
            "\u001b[1m11/11\u001b[0m \u001b[32m━━━━━━━━━━━━━━━━━━━━\u001b[0m\u001b[37m\u001b[0m \u001b[1m0s\u001b[0m 2ms/step \n",
            "Debug statement: Neural Net test MSE = 0.018733983177450016\n",
            "Proxy 1 for christian_nationalism: pff_dt with score: 0.14320336833748826\n",
            "Proxy 2 for christian_nationalism: proxy_0.90 with score: 0.12863629355706133\n",
            "Proxy 3 for christian_nationalism: presvote20post with score: 0.11898213161094284\n",
            "Proxy 4 for christian_nationalism: immigrant_deport with score: 0.11794483878677624\n",
            "Proxy 5 for christian_nationalism: senvote20post with score: 0.11470806414690624\n",
            "Proxy 6 for christian_nationalism: housevote20post with score: 0.11397084792441747\n",
            "Proxy 7 for christian_nationalism: ideo7 with score: 0.11394110853857403\n",
            "Proxy 8 for christian_nationalism: election_fairnness with score: 0.10314207977586662\n",
            "Proxy 9 for christian_nationalism: auth_grid_1 with score: 0.07957910782792593\n",
            "Proxy 10 for christian_nationalism: pid7 with score: 0.0691296492709404\n",
            "Running iteration 4/7\n"
          ]
        },
        {
          "output_type": "stream",
          "name": "stderr",
          "text": [
            "/usr/local/lib/python3.10/dist-packages/keras/src/layers/core/dense.py:87: UserWarning: Do not pass an `input_shape`/`input_dim` argument to a layer. When using Sequential models, prefer using an `Input(shape)` object as the first layer in the model instead.\n",
            "  super().__init__(activity_regularizer=activity_regularizer, **kwargs)\n"
          ]
        },
        {
          "output_type": "stream",
          "name": "stdout",
          "text": [
            "\u001b[1m54/54\u001b[0m \u001b[32m━━━━━━━━━━━━━━━━━━━━\u001b[0m\u001b[37m\u001b[0m \u001b[1m0s\u001b[0m 3ms/step\n",
            "\u001b[1m11/11\u001b[0m \u001b[32m━━━━━━━━━━━━━━━━━━━━\u001b[0m\u001b[37m\u001b[0m \u001b[1m0s\u001b[0m 2ms/step \n",
            "Debug statement: Neural Net test MSE = 0.01817779959683108\n",
            "Proxy 1 for christian_nationalism: pff_dt with score: 0.16461243803598524\n",
            "Proxy 2 for christian_nationalism: presvote20post with score: 0.13957257502725084\n",
            "Proxy 3 for christian_nationalism: election_fairnness with score: 0.13061793813533243\n",
            "Proxy 4 for christian_nationalism: senvote20post with score: 0.1294263109318531\n",
            "Proxy 5 for christian_nationalism: proxy_0.90 with score: 0.128833422894259\n",
            "Proxy 6 for christian_nationalism: housevote20post with score: 0.12725898606661357\n",
            "Proxy 7 for christian_nationalism: ideo7 with score: 0.12148695562308998\n",
            "Proxy 8 for christian_nationalism: immigrant_deport with score: 0.11108522211753787\n",
            "Proxy 9 for christian_nationalism: pid7 with score: 0.08605098649760579\n",
            "Proxy 10 for christian_nationalism: immigrant_citizenship with score: 0.08039921650606842\n",
            "Running iteration 5/7\n"
          ]
        },
        {
          "output_type": "stream",
          "name": "stderr",
          "text": [
            "/usr/local/lib/python3.10/dist-packages/keras/src/layers/core/dense.py:87: UserWarning: Do not pass an `input_shape`/`input_dim` argument to a layer. When using Sequential models, prefer using an `Input(shape)` object as the first layer in the model instead.\n",
            "  super().__init__(activity_regularizer=activity_regularizer, **kwargs)\n"
          ]
        },
        {
          "output_type": "stream",
          "name": "stdout",
          "text": [
            "\u001b[1m54/54\u001b[0m \u001b[32m━━━━━━━━━━━━━━━━━━━━\u001b[0m\u001b[37m\u001b[0m \u001b[1m0s\u001b[0m 2ms/step\n",
            "\u001b[1m11/11\u001b[0m \u001b[32m━━━━━━━━━━━━━━━━━━━━\u001b[0m\u001b[37m\u001b[0m \u001b[1m0s\u001b[0m 2ms/step \n",
            "Debug statement: Neural Net test MSE = 0.017960787885037424\n",
            "Proxy 1 for christian_nationalism: pff_dt with score: 0.14242872397013567\n",
            "Proxy 2 for christian_nationalism: presvote20post with score: 0.13859315263271843\n",
            "Proxy 3 for christian_nationalism: senvote20post with score: 0.13411833144023858\n",
            "Proxy 4 for christian_nationalism: housevote20post with score: 0.1335078993314947\n",
            "Proxy 5 for christian_nationalism: proxy_0.90 with score: 0.12633522869956912\n",
            "Proxy 6 for christian_nationalism: election_fairnness with score: 0.12390408888738721\n",
            "Proxy 7 for christian_nationalism: ideo7 with score: 0.11911260932423057\n",
            "Proxy 8 for christian_nationalism: immigrant_deport with score: 0.11478161281784922\n",
            "Proxy 9 for christian_nationalism: pid7 with score: 0.09988529969430765\n",
            "Proxy 10 for christian_nationalism: auth_grid_1 with score: 0.07651683381893831\n",
            "Running iteration 6/7\n"
          ]
        },
        {
          "output_type": "stream",
          "name": "stderr",
          "text": [
            "/usr/local/lib/python3.10/dist-packages/keras/src/layers/core/dense.py:87: UserWarning: Do not pass an `input_shape`/`input_dim` argument to a layer. When using Sequential models, prefer using an `Input(shape)` object as the first layer in the model instead.\n",
            "  super().__init__(activity_regularizer=activity_regularizer, **kwargs)\n"
          ]
        },
        {
          "output_type": "stream",
          "name": "stdout",
          "text": [
            "\u001b[1m54/54\u001b[0m \u001b[32m━━━━━━━━━━━━━━━━━━━━\u001b[0m\u001b[37m\u001b[0m \u001b[1m0s\u001b[0m 2ms/step\n",
            "\u001b[1m11/11\u001b[0m \u001b[32m━━━━━━━━━━━━━━━━━━━━\u001b[0m\u001b[37m\u001b[0m \u001b[1m0s\u001b[0m 2ms/step \n",
            "Debug statement: Neural Net test MSE = 0.01720265082040147\n",
            "Proxy 1 for christian_nationalism: pff_dt with score: 0.1589079057258576\n",
            "Proxy 2 for christian_nationalism: presvote20post with score: 0.1375882826746006\n",
            "Proxy 3 for christian_nationalism: senvote20post with score: 0.13368506997434534\n",
            "Proxy 4 for christian_nationalism: housevote20post with score: 0.1326152427053306\n",
            "Proxy 5 for christian_nationalism: proxy_0.90 with score: 0.13050388734344273\n",
            "Proxy 6 for christian_nationalism: ideo7 with score: 0.12565815568501662\n",
            "Proxy 7 for christian_nationalism: immigrant_deport with score: 0.11535248100128549\n",
            "Proxy 8 for christian_nationalism: election_fairnness with score: 0.10468647509423945\n",
            "Proxy 9 for christian_nationalism: pid7 with score: 0.09279165465968112\n",
            "Proxy 10 for christian_nationalism: immigrant_citizenship with score: 0.0895568532554973\n",
            "Running iteration 7/7\n"
          ]
        },
        {
          "output_type": "stream",
          "name": "stderr",
          "text": [
            "/usr/local/lib/python3.10/dist-packages/keras/src/layers/core/dense.py:87: UserWarning: Do not pass an `input_shape`/`input_dim` argument to a layer. When using Sequential models, prefer using an `Input(shape)` object as the first layer in the model instead.\n",
            "  super().__init__(activity_regularizer=activity_regularizer, **kwargs)\n"
          ]
        },
        {
          "output_type": "stream",
          "name": "stdout",
          "text": [
            "\u001b[1m54/54\u001b[0m \u001b[32m━━━━━━━━━━━━━━━━━━━━\u001b[0m\u001b[37m\u001b[0m \u001b[1m0s\u001b[0m 4ms/step\n",
            "\u001b[1m11/11\u001b[0m \u001b[32m━━━━━━━━━━━━━━━━━━━━\u001b[0m\u001b[37m\u001b[0m \u001b[1m0s\u001b[0m 3ms/step \n",
            "Debug statement: Neural Net test MSE = 0.017528332760120665\n",
            "Proxy 1 for christian_nationalism: pff_dt with score: 0.13691708096974736\n",
            "Proxy 2 for christian_nationalism: proxy_0.90 with score: 0.13059815714119993\n",
            "Proxy 3 for christian_nationalism: ideo7 with score: 0.11972216751574064\n",
            "Proxy 4 for christian_nationalism: immigrant_deport with score: 0.11960680012617066\n",
            "Proxy 5 for christian_nationalism: presvote20post with score: 0.11909562352466885\n",
            "Proxy 6 for christian_nationalism: senvote20post with score: 0.11316205178826369\n",
            "Proxy 7 for christian_nationalism: housevote20post with score: 0.1128317599334211\n",
            "Proxy 8 for christian_nationalism: election_fairnness with score: 0.11079577170982233\n",
            "Proxy 9 for christian_nationalism: auth_grid_1 with score: 0.08048393008167773\n",
            "Proxy 10 for christian_nationalism: immigrant_citizenship with score: 0.07829048414754781\n",
            "Testing with lambda pair: (0.001, 0.3)\n",
            "Running iteration 1/7\n"
          ]
        },
        {
          "output_type": "stream",
          "name": "stderr",
          "text": [
            "/usr/local/lib/python3.10/dist-packages/keras/src/layers/core/dense.py:87: UserWarning: Do not pass an `input_shape`/`input_dim` argument to a layer. When using Sequential models, prefer using an `Input(shape)` object as the first layer in the model instead.\n",
            "  super().__init__(activity_regularizer=activity_regularizer, **kwargs)\n"
          ]
        },
        {
          "output_type": "stream",
          "name": "stdout",
          "text": [
            "\u001b[1m54/54\u001b[0m \u001b[32m━━━━━━━━━━━━━━━━━━━━\u001b[0m\u001b[37m\u001b[0m \u001b[1m0s\u001b[0m 2ms/step\n",
            "\u001b[1m11/11\u001b[0m \u001b[32m━━━━━━━━━━━━━━━━━━━━\u001b[0m\u001b[37m\u001b[0m \u001b[1m0s\u001b[0m 2ms/step \n",
            "Debug statement: Neural Net test MSE = 0.017736707911430855\n",
            "Proxy 1 for christian_nationalism: proxy_0.90 with score: 0.0252215949104152\n",
            "Proxy 2 for christian_nationalism: ideo7 with score: -0.002411421524607771\n",
            "Proxy 3 for christian_nationalism: pff_dt with score: -0.0033465415963167544\n",
            "Proxy 4 for christian_nationalism: auth_grid_1 with score: -0.0052756721696749775\n",
            "Proxy 5 for christian_nationalism: index with score: -0.00537226058620446\n",
            "Proxy 6 for christian_nationalism: turnout20post with score: -0.00578984351250268\n",
            "Proxy 7 for christian_nationalism: immigrant_deport with score: -0.007801696792978291\n",
            "Proxy 8 for christian_nationalism: auth_grid_3 with score: -0.015597503118187167\n",
            "Proxy 9 for christian_nationalism: auth_grid_2 with score: -0.019976389164225866\n",
            "Proxy 10 for christian_nationalism: educ with score: -0.020951084972484935\n",
            "Running iteration 2/7\n"
          ]
        },
        {
          "output_type": "stream",
          "name": "stderr",
          "text": [
            "/usr/local/lib/python3.10/dist-packages/keras/src/layers/core/dense.py:87: UserWarning: Do not pass an `input_shape`/`input_dim` argument to a layer. When using Sequential models, prefer using an `Input(shape)` object as the first layer in the model instead.\n",
            "  super().__init__(activity_regularizer=activity_regularizer, **kwargs)\n"
          ]
        },
        {
          "output_type": "stream",
          "name": "stdout",
          "text": [
            "\u001b[1m54/54\u001b[0m \u001b[32m━━━━━━━━━━━━━━━━━━━━\u001b[0m\u001b[37m\u001b[0m \u001b[1m0s\u001b[0m 3ms/step\n",
            "\u001b[1m11/11\u001b[0m \u001b[32m━━━━━━━━━━━━━━━━━━━━\u001b[0m\u001b[37m\u001b[0m \u001b[1m0s\u001b[0m 2ms/step \n",
            "Debug statement: Neural Net test MSE = 0.01795403207303711\n",
            "Proxy 1 for christian_nationalism: proxy_0.90 with score: 0.02803780561979391\n",
            "Proxy 2 for christian_nationalism: auth_grid_3 with score: 0.005630661999444911\n",
            "Proxy 3 for christian_nationalism: auth_grid_1 with score: 0.00015065443337959616\n",
            "Proxy 4 for christian_nationalism: immigrant_deport with score: -0.002211585942734018\n",
            "Proxy 5 for christian_nationalism: index with score: -0.004340628220604261\n",
            "Proxy 6 for christian_nationalism: turnout20post with score: -0.006665593786019643\n",
            "Proxy 7 for christian_nationalism: ideo7 with score: -0.007912076350087976\n",
            "Proxy 8 for christian_nationalism: pff_dt with score: -0.014810191658547633\n",
            "Proxy 9 for christian_nationalism: auth_grid_2 with score: -0.02223979085302004\n",
            "Proxy 10 for christian_nationalism: educ with score: -0.028215802464510664\n",
            "Running iteration 3/7\n"
          ]
        },
        {
          "output_type": "stream",
          "name": "stderr",
          "text": [
            "/usr/local/lib/python3.10/dist-packages/keras/src/layers/core/dense.py:87: UserWarning: Do not pass an `input_shape`/`input_dim` argument to a layer. When using Sequential models, prefer using an `Input(shape)` object as the first layer in the model instead.\n",
            "  super().__init__(activity_regularizer=activity_regularizer, **kwargs)\n"
          ]
        },
        {
          "output_type": "stream",
          "name": "stdout",
          "text": [
            "\u001b[1m54/54\u001b[0m \u001b[32m━━━━━━━━━━━━━━━━━━━━\u001b[0m\u001b[37m\u001b[0m \u001b[1m0s\u001b[0m 3ms/step\n",
            "\u001b[1m11/11\u001b[0m \u001b[32m━━━━━━━━━━━━━━━━━━━━\u001b[0m\u001b[37m\u001b[0m \u001b[1m0s\u001b[0m 2ms/step \n",
            "Debug statement: Neural Net test MSE = 0.017145502145137534\n",
            "Proxy 1 for christian_nationalism: proxy_0.90 with score: 0.026585715138547517\n",
            "Proxy 2 for christian_nationalism: auth_grid_1 with score: 0.0025623881053729175\n",
            "Proxy 3 for christian_nationalism: auth_grid_3 with score: -0.0020851966251829723\n",
            "Proxy 4 for christian_nationalism: turnout20post with score: -0.00359468798264614\n",
            "Proxy 5 for christian_nationalism: ideo7 with score: -0.004471806186821831\n",
            "Proxy 6 for christian_nationalism: index with score: -0.005798846486536259\n",
            "Proxy 7 for christian_nationalism: immigrant_deport with score: -0.009888604961887953\n",
            "Proxy 8 for christian_nationalism: pff_dt with score: -0.015827132999003846\n",
            "Proxy 9 for christian_nationalism: auth_grid_2 with score: -0.02102101912445002\n",
            "Proxy 10 for christian_nationalism: educ with score: -0.023369025599820223\n",
            "Running iteration 4/7\n"
          ]
        },
        {
          "output_type": "stream",
          "name": "stderr",
          "text": [
            "/usr/local/lib/python3.10/dist-packages/keras/src/layers/core/dense.py:87: UserWarning: Do not pass an `input_shape`/`input_dim` argument to a layer. When using Sequential models, prefer using an `Input(shape)` object as the first layer in the model instead.\n",
            "  super().__init__(activity_regularizer=activity_regularizer, **kwargs)\n"
          ]
        },
        {
          "output_type": "stream",
          "name": "stdout",
          "text": [
            "\u001b[1m54/54\u001b[0m \u001b[32m━━━━━━━━━━━━━━━━━━━━\u001b[0m\u001b[37m\u001b[0m \u001b[1m0s\u001b[0m 2ms/step\n",
            "\u001b[1m11/11\u001b[0m \u001b[32m━━━━━━━━━━━━━━━━━━━━\u001b[0m\u001b[37m\u001b[0m \u001b[1m0s\u001b[0m 2ms/step \n",
            "Debug statement: Neural Net test MSE = 0.017370185504245014\n",
            "Proxy 1 for christian_nationalism: proxy_0.90 with score: 0.02658200030044841\n",
            "Proxy 2 for christian_nationalism: turnout20post with score: -0.0034811983945931225\n",
            "Proxy 3 for christian_nationalism: ideo7 with score: -0.004150859407119817\n",
            "Proxy 4 for christian_nationalism: index with score: -0.005562341261158156\n",
            "Proxy 5 for christian_nationalism: auth_grid_1 with score: -0.005809662156568848\n",
            "Proxy 6 for christian_nationalism: auth_grid_3 with score: -0.007730425136128594\n",
            "Proxy 7 for christian_nationalism: immigrant_deport with score: -0.008274909119218854\n",
            "Proxy 8 for christian_nationalism: auth_grid_2 with score: -0.016089106527529567\n",
            "Proxy 9 for christian_nationalism: pff_dt with score: -0.022761046213425395\n",
            "Proxy 10 for christian_nationalism: immigrant_citizenship with score: -0.02342083771472553\n",
            "Running iteration 5/7\n"
          ]
        },
        {
          "output_type": "stream",
          "name": "stderr",
          "text": [
            "/usr/local/lib/python3.10/dist-packages/keras/src/layers/core/dense.py:87: UserWarning: Do not pass an `input_shape`/`input_dim` argument to a layer. When using Sequential models, prefer using an `Input(shape)` object as the first layer in the model instead.\n",
            "  super().__init__(activity_regularizer=activity_regularizer, **kwargs)\n"
          ]
        },
        {
          "output_type": "stream",
          "name": "stdout",
          "text": [
            "\u001b[1m54/54\u001b[0m \u001b[32m━━━━━━━━━━━━━━━━━━━━\u001b[0m\u001b[37m\u001b[0m \u001b[1m0s\u001b[0m 2ms/step\n",
            "\u001b[1m11/11\u001b[0m \u001b[32m━━━━━━━━━━━━━━━━━━━━\u001b[0m\u001b[37m\u001b[0m \u001b[1m0s\u001b[0m 2ms/step \n",
            "Debug statement: Neural Net test MSE = 0.018503156553450615\n",
            "Proxy 1 for christian_nationalism: proxy_0.90 with score: 0.03000046435709372\n",
            "Proxy 2 for christian_nationalism: auth_grid_1 with score: 0.013920772459615732\n",
            "Proxy 3 for christian_nationalism: auth_grid_3 with score: 0.007776084610119208\n",
            "Proxy 4 for christian_nationalism: immigrant_deport with score: -0.002971344840910134\n",
            "Proxy 5 for christian_nationalism: index with score: -0.005498888043811824\n",
            "Proxy 6 for christian_nationalism: turnout20post with score: -0.0058902044787311324\n",
            "Proxy 7 for christian_nationalism: ideo7 with score: -0.008359615560684097\n",
            "Proxy 8 for christian_nationalism: auth_grid_2 with score: -0.014720365899281426\n",
            "Proxy 9 for christian_nationalism: pff_dt with score: -0.022312659021473058\n",
            "Proxy 10 for christian_nationalism: immigrant_citizenship with score: -0.02603499109884616\n",
            "Running iteration 6/7\n"
          ]
        },
        {
          "output_type": "stream",
          "name": "stderr",
          "text": [
            "/usr/local/lib/python3.10/dist-packages/keras/src/layers/core/dense.py:87: UserWarning: Do not pass an `input_shape`/`input_dim` argument to a layer. When using Sequential models, prefer using an `Input(shape)` object as the first layer in the model instead.\n",
            "  super().__init__(activity_regularizer=activity_regularizer, **kwargs)\n"
          ]
        },
        {
          "output_type": "stream",
          "name": "stdout",
          "text": [
            "\u001b[1m54/54\u001b[0m \u001b[32m━━━━━━━━━━━━━━━━━━━━\u001b[0m\u001b[37m\u001b[0m \u001b[1m0s\u001b[0m 3ms/step\n",
            "\u001b[1m11/11\u001b[0m \u001b[32m━━━━━━━━━━━━━━━━━━━━\u001b[0m\u001b[37m\u001b[0m \u001b[1m0s\u001b[0m 2ms/step \n",
            "Debug statement: Neural Net test MSE = 0.017406840099552158\n",
            "Proxy 1 for christian_nationalism: proxy_0.90 with score: 0.030156782810554505\n",
            "Proxy 2 for christian_nationalism: auth_grid_1 with score: 0.005061783708105921\n",
            "Proxy 3 for christian_nationalism: auth_grid_3 with score: -0.004884482336457441\n",
            "Proxy 4 for christian_nationalism: turnout20post with score: -0.005101279986525666\n",
            "Proxy 5 for christian_nationalism: index with score: -0.006050101608310101\n",
            "Proxy 6 for christian_nationalism: ideo7 with score: -0.009175934660885843\n",
            "Proxy 7 for christian_nationalism: pff_dt with score: -0.012971519707479784\n",
            "Proxy 8 for christian_nationalism: auth_grid_2 with score: -0.015439613802078964\n",
            "Proxy 9 for christian_nationalism: immigrant_deport with score: -0.016889352731857904\n",
            "Proxy 10 for christian_nationalism: educ with score: -0.02046543614840622\n",
            "Running iteration 7/7\n"
          ]
        },
        {
          "output_type": "stream",
          "name": "stderr",
          "text": [
            "/usr/local/lib/python3.10/dist-packages/keras/src/layers/core/dense.py:87: UserWarning: Do not pass an `input_shape`/`input_dim` argument to a layer. When using Sequential models, prefer using an `Input(shape)` object as the first layer in the model instead.\n",
            "  super().__init__(activity_regularizer=activity_regularizer, **kwargs)\n"
          ]
        },
        {
          "output_type": "stream",
          "name": "stdout",
          "text": [
            "\u001b[1m54/54\u001b[0m \u001b[32m━━━━━━━━━━━━━━━━━━━━\u001b[0m\u001b[37m\u001b[0m \u001b[1m0s\u001b[0m 4ms/step\n",
            "\u001b[1m11/11\u001b[0m \u001b[32m━━━━━━━━━━━━━━━━━━━━\u001b[0m\u001b[37m\u001b[0m \u001b[1m0s\u001b[0m 3ms/step \n",
            "Debug statement: Neural Net test MSE = 0.017207733046245167\n",
            "Proxy 1 for christian_nationalism: proxy_0.90 with score: 0.03212273308667635\n",
            "Proxy 2 for christian_nationalism: auth_grid_1 with score: 0.007588885069285151\n",
            "Proxy 3 for christian_nationalism: auth_grid_3 with score: -0.0005612265565921593\n",
            "Proxy 4 for christian_nationalism: immigrant_deport with score: -0.00228603850182324\n",
            "Proxy 5 for christian_nationalism: ideo7 with score: -0.005140855497171637\n",
            "Proxy 6 for christian_nationalism: turnout20post with score: -0.005774100880349166\n",
            "Proxy 7 for christian_nationalism: index with score: -0.005922918257629252\n",
            "Proxy 8 for christian_nationalism: pff_dt with score: -0.012587178133741272\n",
            "Proxy 9 for christian_nationalism: auth_grid_2 with score: -0.016781157912638095\n",
            "Proxy 10 for christian_nationalism: immigrant_citizenship with score: -0.022647955168845463\n",
            "Testing with lambda pair: (0.001, 0.4)\n",
            "Running iteration 1/7\n"
          ]
        },
        {
          "output_type": "stream",
          "name": "stderr",
          "text": [
            "/usr/local/lib/python3.10/dist-packages/keras/src/layers/core/dense.py:87: UserWarning: Do not pass an `input_shape`/`input_dim` argument to a layer. When using Sequential models, prefer using an `Input(shape)` object as the first layer in the model instead.\n",
            "  super().__init__(activity_regularizer=activity_regularizer, **kwargs)\n"
          ]
        },
        {
          "output_type": "stream",
          "name": "stdout",
          "text": [
            "\u001b[1m54/54\u001b[0m \u001b[32m━━━━━━━━━━━━━━━━━━━━\u001b[0m\u001b[37m\u001b[0m \u001b[1m0s\u001b[0m 3ms/step\n",
            "\u001b[1m11/11\u001b[0m \u001b[32m━━━━━━━━━━━━━━━━━━━━\u001b[0m\u001b[37m\u001b[0m \u001b[1m0s\u001b[0m 2ms/step \n",
            "Debug statement: Neural Net test MSE = 0.01844650884475857\n",
            "Proxy 1 for christian_nationalism: index with score: -0.00988566035300881\n",
            "Proxy 2 for christian_nationalism: turnout20post with score: -0.013077295841040129\n",
            "Proxy 3 for christian_nationalism: white with score: -0.05458569733047245\n",
            "Proxy 4 for christian_nationalism: auth_grid_1 with score: -0.07748928606737407\n",
            "Proxy 5 for christian_nationalism: auth_grid_2 with score: -0.08004244576890619\n",
            "Proxy 6 for christian_nationalism: educ with score: -0.09359766140108247\n",
            "Proxy 7 for christian_nationalism: faminc_new with score: -0.09691208396569866\n",
            "Proxy 8 for christian_nationalism: auth_grid_3 with score: -0.09810218730772523\n",
            "Proxy 9 for christian_nationalism: partisan_violence with score: -0.10043095788165197\n",
            "Proxy 10 for christian_nationalism: hispanic with score: -0.10205188709328228\n",
            "Running iteration 2/7\n"
          ]
        },
        {
          "output_type": "stream",
          "name": "stderr",
          "text": [
            "/usr/local/lib/python3.10/dist-packages/keras/src/layers/core/dense.py:87: UserWarning: Do not pass an `input_shape`/`input_dim` argument to a layer. When using Sequential models, prefer using an `Input(shape)` object as the first layer in the model instead.\n",
            "  super().__init__(activity_regularizer=activity_regularizer, **kwargs)\n"
          ]
        },
        {
          "output_type": "stream",
          "name": "stdout",
          "text": [
            "\u001b[1m54/54\u001b[0m \u001b[32m━━━━━━━━━━━━━━━━━━━━\u001b[0m\u001b[37m\u001b[0m \u001b[1m0s\u001b[0m 2ms/step\n",
            "\u001b[1m11/11\u001b[0m \u001b[32m━━━━━━━━━━━━━━━━━━━━\u001b[0m\u001b[37m\u001b[0m \u001b[1m0s\u001b[0m 2ms/step \n",
            "Debug statement: Neural Net test MSE = 0.01793877164701243\n",
            "Proxy 1 for christian_nationalism: index with score: -0.010493574484725423\n",
            "Proxy 2 for christian_nationalism: turnout20post with score: -0.01161098390529284\n",
            "Proxy 3 for christian_nationalism: white with score: -0.055494696469953995\n",
            "Proxy 4 for christian_nationalism: educ with score: -0.08049543788867235\n",
            "Proxy 5 for christian_nationalism: auth_grid_2 with score: -0.0848379885243115\n",
            "Proxy 6 for christian_nationalism: auth_grid_1 with score: -0.09276536488409848\n",
            "Proxy 7 for christian_nationalism: faminc_new with score: -0.09676818394680382\n",
            "Proxy 8 for christian_nationalism: partisan_violence with score: -0.09984854024755219\n",
            "Proxy 9 for christian_nationalism: auth_grid_3 with score: -0.10033119185002634\n",
            "Proxy 10 for christian_nationalism: hispanic with score: -0.10174682228454372\n",
            "Running iteration 3/7\n"
          ]
        },
        {
          "output_type": "stream",
          "name": "stderr",
          "text": [
            "/usr/local/lib/python3.10/dist-packages/keras/src/layers/core/dense.py:87: UserWarning: Do not pass an `input_shape`/`input_dim` argument to a layer. When using Sequential models, prefer using an `Input(shape)` object as the first layer in the model instead.\n",
            "  super().__init__(activity_regularizer=activity_regularizer, **kwargs)\n"
          ]
        },
        {
          "output_type": "stream",
          "name": "stdout",
          "text": [
            "\u001b[1m54/54\u001b[0m \u001b[32m━━━━━━━━━━━━━━━━━━━━\u001b[0m\u001b[37m\u001b[0m \u001b[1m0s\u001b[0m 3ms/step\n",
            "\u001b[1m11/11\u001b[0m \u001b[32m━━━━━━━━━━━━━━━━━━━━\u001b[0m\u001b[37m\u001b[0m \u001b[1m0s\u001b[0m 2ms/step \n",
            "Debug statement: Neural Net test MSE = 0.01766591207808476\n",
            "Proxy 1 for christian_nationalism: index with score: -0.010616285753919232\n",
            "Proxy 2 for christian_nationalism: turnout20post with score: -0.012378654935060955\n",
            "Proxy 3 for christian_nationalism: white with score: -0.05599937724283248\n",
            "Proxy 4 for christian_nationalism: auth_grid_2 with score: -0.06824503651642756\n",
            "Proxy 5 for christian_nationalism: educ with score: -0.07815926776774351\n",
            "Proxy 6 for christian_nationalism: auth_grid_1 with score: -0.08368737969142277\n",
            "Proxy 7 for christian_nationalism: auth_grid_3 with score: -0.09077066432740842\n",
            "Proxy 8 for christian_nationalism: faminc_new with score: -0.09614287255818048\n",
            "Proxy 9 for christian_nationalism: partisan_violence with score: -0.10037481296896421\n",
            "Proxy 10 for christian_nationalism: hispanic with score: -0.1017103909514474\n",
            "Running iteration 4/7\n"
          ]
        },
        {
          "output_type": "stream",
          "name": "stderr",
          "text": [
            "/usr/local/lib/python3.10/dist-packages/keras/src/layers/core/dense.py:87: UserWarning: Do not pass an `input_shape`/`input_dim` argument to a layer. When using Sequential models, prefer using an `Input(shape)` object as the first layer in the model instead.\n",
            "  super().__init__(activity_regularizer=activity_regularizer, **kwargs)\n"
          ]
        },
        {
          "output_type": "stream",
          "name": "stdout",
          "text": [
            "\u001b[1m54/54\u001b[0m \u001b[32m━━━━━━━━━━━━━━━━━━━━\u001b[0m\u001b[37m\u001b[0m \u001b[1m0s\u001b[0m 3ms/step\n",
            "\u001b[1m11/11\u001b[0m \u001b[32m━━━━━━━━━━━━━━━━━━━━\u001b[0m\u001b[37m\u001b[0m \u001b[1m0s\u001b[0m 2ms/step \n",
            "Debug statement: Neural Net test MSE = 0.017928484179229404\n",
            "Proxy 1 for christian_nationalism: index with score: -0.009776586953375369\n",
            "Proxy 2 for christian_nationalism: turnout20post with score: -0.013461047296497344\n",
            "Proxy 3 for christian_nationalism: white with score: -0.052600748744642226\n",
            "Proxy 4 for christian_nationalism: auth_grid_1 with score: -0.08287792304818731\n",
            "Proxy 5 for christian_nationalism: educ with score: -0.08854075155195285\n",
            "Proxy 6 for christian_nationalism: auth_grid_2 with score: -0.0933328519774532\n",
            "Proxy 7 for christian_nationalism: auth_grid_3 with score: -0.09428152750884931\n",
            "Proxy 8 for christian_nationalism: faminc_new with score: -0.09807636032603775\n",
            "Proxy 9 for christian_nationalism: hispanic with score: -0.10160331165747208\n",
            "Proxy 10 for christian_nationalism: partisan_violence with score: -0.10163488168649537\n",
            "Running iteration 5/7\n"
          ]
        },
        {
          "output_type": "stream",
          "name": "stderr",
          "text": [
            "/usr/local/lib/python3.10/dist-packages/keras/src/layers/core/dense.py:87: UserWarning: Do not pass an `input_shape`/`input_dim` argument to a layer. When using Sequential models, prefer using an `Input(shape)` object as the first layer in the model instead.\n",
            "  super().__init__(activity_regularizer=activity_regularizer, **kwargs)\n"
          ]
        },
        {
          "output_type": "stream",
          "name": "stdout",
          "text": [
            "\u001b[1m54/54\u001b[0m \u001b[32m━━━━━━━━━━━━━━━━━━━━\u001b[0m\u001b[37m\u001b[0m \u001b[1m0s\u001b[0m 4ms/step\n",
            "\u001b[1m11/11\u001b[0m \u001b[32m━━━━━━━━━━━━━━━━━━━━\u001b[0m\u001b[37m\u001b[0m \u001b[1m0s\u001b[0m 2ms/step \n",
            "Debug statement: Neural Net test MSE = 0.01859324298624074\n",
            "Proxy 1 for christian_nationalism: index with score: -0.010461887457993804\n",
            "Proxy 2 for christian_nationalism: turnout20post with score: -0.012138597185466586\n",
            "Proxy 3 for christian_nationalism: white with score: -0.054077124048898154\n",
            "Proxy 4 for christian_nationalism: auth_grid_1 with score: -0.07652934623791596\n",
            "Proxy 5 for christian_nationalism: auth_grid_2 with score: -0.0812072009082304\n",
            "Proxy 6 for christian_nationalism: educ with score: -0.08220999327297485\n",
            "Proxy 7 for christian_nationalism: auth_grid_3 with score: -0.08907628630946646\n",
            "Proxy 8 for christian_nationalism: faminc_new with score: -0.09763273978497555\n",
            "Proxy 9 for christian_nationalism: partisan_violence with score: -0.09898280017801904\n",
            "Proxy 10 for christian_nationalism: hispanic with score: -0.10206292429646098\n",
            "Running iteration 6/7\n"
          ]
        },
        {
          "output_type": "stream",
          "name": "stderr",
          "text": [
            "/usr/local/lib/python3.10/dist-packages/keras/src/layers/core/dense.py:87: UserWarning: Do not pass an `input_shape`/`input_dim` argument to a layer. When using Sequential models, prefer using an `Input(shape)` object as the first layer in the model instead.\n",
            "  super().__init__(activity_regularizer=activity_regularizer, **kwargs)\n"
          ]
        },
        {
          "output_type": "stream",
          "name": "stdout",
          "text": [
            "\u001b[1m54/54\u001b[0m \u001b[32m━━━━━━━━━━━━━━━━━━━━\u001b[0m\u001b[37m\u001b[0m \u001b[1m0s\u001b[0m 2ms/step\n",
            "\u001b[1m11/11\u001b[0m \u001b[32m━━━━━━━━━━━━━━━━━━━━\u001b[0m\u001b[37m\u001b[0m \u001b[1m0s\u001b[0m 2ms/step \n",
            "Debug statement: Neural Net test MSE = 0.017841681117526726\n",
            "Proxy 1 for christian_nationalism: index with score: -0.010812303471569732\n",
            "Proxy 2 for christian_nationalism: turnout20post with score: -0.01180665722481368\n",
            "Proxy 3 for christian_nationalism: white with score: -0.05472294753648051\n",
            "Proxy 4 for christian_nationalism: auth_grid_2 with score: -0.07746728214777684\n",
            "Proxy 5 for christian_nationalism: educ with score: -0.08152269960472333\n",
            "Proxy 6 for christian_nationalism: auth_grid_1 with score: -0.09180001621824144\n",
            "Proxy 7 for christian_nationalism: faminc_new with score: -0.09703325466071042\n",
            "Proxy 8 for christian_nationalism: partisan_violence with score: -0.1005976840630361\n",
            "Proxy 9 for christian_nationalism: auth_grid_3 with score: -0.1016482958120056\n",
            "Proxy 10 for christian_nationalism: hispanic with score: -0.10202892935876999\n",
            "Running iteration 7/7\n"
          ]
        },
        {
          "output_type": "stream",
          "name": "stderr",
          "text": [
            "/usr/local/lib/python3.10/dist-packages/keras/src/layers/core/dense.py:87: UserWarning: Do not pass an `input_shape`/`input_dim` argument to a layer. When using Sequential models, prefer using an `Input(shape)` object as the first layer in the model instead.\n",
            "  super().__init__(activity_regularizer=activity_regularizer, **kwargs)\n"
          ]
        },
        {
          "output_type": "stream",
          "name": "stdout",
          "text": [
            "\u001b[1m54/54\u001b[0m \u001b[32m━━━━━━━━━━━━━━━━━━━━\u001b[0m\u001b[37m\u001b[0m \u001b[1m0s\u001b[0m 3ms/step\n",
            "\u001b[1m11/11\u001b[0m \u001b[32m━━━━━━━━━━━━━━━━━━━━\u001b[0m\u001b[37m\u001b[0m \u001b[1m0s\u001b[0m 2ms/step \n",
            "Debug statement: Neural Net test MSE = 0.018056960570778227\n",
            "Proxy 1 for christian_nationalism: index with score: -0.01042211019308085\n",
            "Proxy 2 for christian_nationalism: turnout20post with score: -0.013240471284758928\n",
            "Proxy 3 for christian_nationalism: white with score: -0.05574428890386054\n",
            "Proxy 4 for christian_nationalism: auth_grid_2 with score: -0.08222816095428818\n",
            "Proxy 5 for christian_nationalism: auth_grid_1 with score: -0.08863050057883433\n",
            "Proxy 6 for christian_nationalism: educ with score: -0.09000152326207622\n",
            "Proxy 7 for christian_nationalism: auth_grid_3 with score: -0.09726081087823249\n",
            "Proxy 8 for christian_nationalism: faminc_new with score: -0.09798467876868597\n",
            "Proxy 9 for christian_nationalism: partisan_violence with score: -0.09987940480336835\n",
            "Proxy 10 for christian_nationalism: hispanic with score: -0.10151884952832405\n",
            "Testing with lambda pair: (0.001, 0.5)\n",
            "Running iteration 1/7\n"
          ]
        },
        {
          "output_type": "stream",
          "name": "stderr",
          "text": [
            "/usr/local/lib/python3.10/dist-packages/keras/src/layers/core/dense.py:87: UserWarning: Do not pass an `input_shape`/`input_dim` argument to a layer. When using Sequential models, prefer using an `Input(shape)` object as the first layer in the model instead.\n",
            "  super().__init__(activity_regularizer=activity_regularizer, **kwargs)\n"
          ]
        },
        {
          "output_type": "stream",
          "name": "stdout",
          "text": [
            "\u001b[1m54/54\u001b[0m \u001b[32m━━━━━━━━━━━━━━━━━━━━\u001b[0m\u001b[37m\u001b[0m \u001b[1m0s\u001b[0m 2ms/step\n",
            "\u001b[1m11/11\u001b[0m \u001b[32m━━━━━━━━━━━━━━━━━━━━\u001b[0m\u001b[37m\u001b[0m \u001b[1m0s\u001b[0m 2ms/step \n",
            "Debug statement: Neural Net test MSE = 0.018807544826393484\n",
            "Proxy 1 for christian_nationalism: index with score: -0.01645444666739176\n",
            "Proxy 2 for christian_nationalism: turnout20post with score: -0.02026008166280798\n",
            "Proxy 3 for christian_nationalism: white with score: -0.08843918716521917\n",
            "Proxy 4 for christian_nationalism: faminc_new with score: -0.15302380474773844\n",
            "Proxy 5 for christian_nationalism: hispanic with score: -0.15860442385238815\n",
            "Proxy 6 for christian_nationalism: partisan_violence with score: -0.1599591766235145\n",
            "Proxy 7 for christian_nationalism: auth_grid_2 with score: -0.16152518766577417\n",
            "Proxy 8 for christian_nationalism: educ with score: -0.16177552663025552\n",
            "Proxy 9 for christian_nationalism: auth_grid_1 with score: -0.197965765880713\n",
            "Proxy 10 for christian_nationalism: auth_grid_3 with score: -0.21110397663521713\n",
            "Running iteration 2/7\n"
          ]
        },
        {
          "output_type": "stream",
          "name": "stderr",
          "text": [
            "/usr/local/lib/python3.10/dist-packages/keras/src/layers/core/dense.py:87: UserWarning: Do not pass an `input_shape`/`input_dim` argument to a layer. When using Sequential models, prefer using an `Input(shape)` object as the first layer in the model instead.\n",
            "  super().__init__(activity_regularizer=activity_regularizer, **kwargs)\n"
          ]
        },
        {
          "output_type": "stream",
          "name": "stdout",
          "text": [
            "\u001b[1m54/54\u001b[0m \u001b[32m━━━━━━━━━━━━━━━━━━━━\u001b[0m\u001b[37m\u001b[0m \u001b[1m0s\u001b[0m 2ms/step\n",
            "\u001b[1m11/11\u001b[0m \u001b[32m━━━━━━━━━━━━━━━━━━━━\u001b[0m\u001b[37m\u001b[0m \u001b[1m0s\u001b[0m 2ms/step \n",
            "Debug statement: Neural Net test MSE = 0.016819159448103086\n",
            "Proxy 1 for christian_nationalism: index with score: -0.0162644876215143\n",
            "Proxy 2 for christian_nationalism: turnout20post with score: -0.020355601452066593\n",
            "Proxy 3 for christian_nationalism: white with score: -0.08815159901953812\n",
            "Proxy 4 for christian_nationalism: faminc_new with score: -0.15155703416985392\n",
            "Proxy 5 for christian_nationalism: auth_grid_2 with score: -0.1524090605409563\n",
            "Proxy 6 for christian_nationalism: hispanic with score: -0.1587847265531025\n",
            "Proxy 7 for christian_nationalism: partisan_violence with score: -0.16016272995160225\n",
            "Proxy 8 for christian_nationalism: educ with score: -0.16900604677947906\n",
            "Proxy 9 for christian_nationalism: auth_grid_3 with score: -0.18928551276576144\n",
            "Proxy 10 for christian_nationalism: auth_grid_1 with score: -0.20352866503481215\n",
            "Running iteration 3/7\n"
          ]
        },
        {
          "output_type": "stream",
          "name": "stderr",
          "text": [
            "/usr/local/lib/python3.10/dist-packages/keras/src/layers/core/dense.py:87: UserWarning: Do not pass an `input_shape`/`input_dim` argument to a layer. When using Sequential models, prefer using an `Input(shape)` object as the first layer in the model instead.\n",
            "  super().__init__(activity_regularizer=activity_regularizer, **kwargs)\n"
          ]
        },
        {
          "output_type": "stream",
          "name": "stdout",
          "text": [
            "\u001b[1m54/54\u001b[0m \u001b[32m━━━━━━━━━━━━━━━━━━━━\u001b[0m\u001b[37m\u001b[0m \u001b[1m0s\u001b[0m 2ms/step\n",
            "\u001b[1m11/11\u001b[0m \u001b[32m━━━━━━━━━━━━━━━━━━━━\u001b[0m\u001b[37m\u001b[0m \u001b[1m0s\u001b[0m 2ms/step \n",
            "Debug statement: Neural Net test MSE = 0.01708351489818257\n",
            "Proxy 1 for christian_nationalism: index with score: -0.016978006876592754\n",
            "Proxy 2 for christian_nationalism: turnout20post with score: -0.02080014391643626\n",
            "Proxy 3 for christian_nationalism: white with score: -0.08876817412146427\n",
            "Proxy 4 for christian_nationalism: faminc_new with score: -0.15185778930157162\n",
            "Proxy 5 for christian_nationalism: hispanic with score: -0.1587232888656553\n",
            "Proxy 6 for christian_nationalism: auth_grid_2 with score: -0.1590580447902533\n",
            "Proxy 7 for christian_nationalism: partisan_violence with score: -0.15927600654927382\n",
            "Proxy 8 for christian_nationalism: educ with score: -0.1696942489311719\n",
            "Proxy 9 for christian_nationalism: auth_grid_3 with score: -0.18990122853981792\n",
            "Proxy 10 for christian_nationalism: auth_grid_1 with score: -0.19904147737219652\n",
            "Running iteration 4/7\n"
          ]
        },
        {
          "output_type": "stream",
          "name": "stderr",
          "text": [
            "/usr/local/lib/python3.10/dist-packages/keras/src/layers/core/dense.py:87: UserWarning: Do not pass an `input_shape`/`input_dim` argument to a layer. When using Sequential models, prefer using an `Input(shape)` object as the first layer in the model instead.\n",
            "  super().__init__(activity_regularizer=activity_regularizer, **kwargs)\n"
          ]
        },
        {
          "output_type": "stream",
          "name": "stdout",
          "text": [
            "\u001b[1m54/54\u001b[0m \u001b[32m━━━━━━━━━━━━━━━━━━━━\u001b[0m\u001b[37m\u001b[0m \u001b[1m0s\u001b[0m 3ms/step\n",
            "\u001b[1m11/11\u001b[0m \u001b[32m━━━━━━━━━━━━━━━━━━━━\u001b[0m\u001b[37m\u001b[0m \u001b[1m0s\u001b[0m 2ms/step \n",
            "Debug statement: Neural Net test MSE = 0.01804962409807051\n",
            "Proxy 1 for christian_nationalism: index with score: -0.01576218718078045\n",
            "Proxy 2 for christian_nationalism: turnout20post with score: -0.022119105708474605\n",
            "Proxy 3 for christian_nationalism: white with score: -0.08709769930737897\n",
            "Proxy 4 for christian_nationalism: faminc_new with score: -0.15267035763470155\n",
            "Proxy 5 for christian_nationalism: partisan_violence with score: -0.15854551222551178\n",
            "Proxy 6 for christian_nationalism: hispanic with score: -0.15877897692011322\n",
            "Proxy 7 for christian_nationalism: educ with score: -0.1640388954477211\n",
            "Proxy 8 for christian_nationalism: auth_grid_2 with score: -0.17381698270500084\n",
            "Proxy 9 for christian_nationalism: auth_grid_1 with score: -0.21048738842317177\n",
            "Proxy 10 for christian_nationalism: auth_grid_3 with score: -0.21430413082788802\n",
            "Running iteration 5/7\n"
          ]
        },
        {
          "output_type": "stream",
          "name": "stderr",
          "text": [
            "/usr/local/lib/python3.10/dist-packages/keras/src/layers/core/dense.py:87: UserWarning: Do not pass an `input_shape`/`input_dim` argument to a layer. When using Sequential models, prefer using an `Input(shape)` object as the first layer in the model instead.\n",
            "  super().__init__(activity_regularizer=activity_regularizer, **kwargs)\n"
          ]
        },
        {
          "output_type": "stream",
          "name": "stdout",
          "text": [
            "\u001b[1m54/54\u001b[0m \u001b[32m━━━━━━━━━━━━━━━━━━━━\u001b[0m\u001b[37m\u001b[0m \u001b[1m0s\u001b[0m 4ms/step\n",
            "\u001b[1m11/11\u001b[0m \u001b[32m━━━━━━━━━━━━━━━━━━━━\u001b[0m\u001b[37m\u001b[0m \u001b[1m0s\u001b[0m 3ms/step \n",
            "Debug statement: Neural Net test MSE = 0.018168399573364493\n",
            "Proxy 1 for christian_nationalism: index with score: -0.016459343820547954\n",
            "Proxy 2 for christian_nationalism: turnout20post with score: -0.019776945366890307\n",
            "Proxy 3 for christian_nationalism: white with score: -0.08773960379598905\n",
            "Proxy 4 for christian_nationalism: faminc_new with score: -0.15363298184736926\n",
            "Proxy 5 for christian_nationalism: auth_grid_2 with score: -0.15750688896415682\n",
            "Proxy 6 for christian_nationalism: hispanic with score: -0.15890601301219717\n",
            "Proxy 7 for christian_nationalism: partisan_violence with score: -0.1609580911642475\n",
            "Proxy 8 for christian_nationalism: educ with score: -0.16143952858823918\n",
            "Proxy 9 for christian_nationalism: auth_grid_1 with score: -0.19827285260170582\n",
            "Proxy 10 for christian_nationalism: auth_grid_3 with score: -0.20771672609633382\n",
            "Running iteration 6/7\n"
          ]
        },
        {
          "output_type": "stream",
          "name": "stderr",
          "text": [
            "/usr/local/lib/python3.10/dist-packages/keras/src/layers/core/dense.py:87: UserWarning: Do not pass an `input_shape`/`input_dim` argument to a layer. When using Sequential models, prefer using an `Input(shape)` object as the first layer in the model instead.\n",
            "  super().__init__(activity_regularizer=activity_regularizer, **kwargs)\n"
          ]
        },
        {
          "output_type": "stream",
          "name": "stdout",
          "text": [
            "\u001b[1m54/54\u001b[0m \u001b[32m━━━━━━━━━━━━━━━━━━━━\u001b[0m\u001b[37m\u001b[0m \u001b[1m0s\u001b[0m 3ms/step\n",
            "\u001b[1m11/11\u001b[0m \u001b[32m━━━━━━━━━━━━━━━━━━━━\u001b[0m\u001b[37m\u001b[0m \u001b[1m0s\u001b[0m 2ms/step \n",
            "Debug statement: Neural Net test MSE = 0.01759285541132881\n",
            "Proxy 1 for christian_nationalism: index with score: -0.015993983912950024\n",
            "Proxy 2 for christian_nationalism: turnout20post with score: -0.020885296448888643\n",
            "Proxy 3 for christian_nationalism: white with score: -0.08757545835892669\n",
            "Proxy 4 for christian_nationalism: faminc_new with score: -0.1520639801013815\n",
            "Proxy 5 for christian_nationalism: hispanic with score: -0.15896084322752968\n",
            "Proxy 6 for christian_nationalism: partisan_violence with score: -0.1604364005675199\n",
            "Proxy 7 for christian_nationalism: auth_grid_2 with score: -0.1635136386173387\n",
            "Proxy 8 for christian_nationalism: educ with score: -0.1681692469018483\n",
            "Proxy 9 for christian_nationalism: auth_grid_3 with score: -0.2003908737309282\n",
            "Proxy 10 for christian_nationalism: auth_grid_1 with score: -0.20249231738182344\n",
            "Running iteration 7/7\n"
          ]
        },
        {
          "output_type": "stream",
          "name": "stderr",
          "text": [
            "/usr/local/lib/python3.10/dist-packages/keras/src/layers/core/dense.py:87: UserWarning: Do not pass an `input_shape`/`input_dim` argument to a layer. When using Sequential models, prefer using an `Input(shape)` object as the first layer in the model instead.\n",
            "  super().__init__(activity_regularizer=activity_regularizer, **kwargs)\n"
          ]
        },
        {
          "output_type": "stream",
          "name": "stdout",
          "text": [
            "\u001b[1m54/54\u001b[0m \u001b[32m━━━━━━━━━━━━━━━━━━━━\u001b[0m\u001b[37m\u001b[0m \u001b[1m0s\u001b[0m 3ms/step\n",
            "\u001b[1m11/11\u001b[0m \u001b[32m━━━━━━━━━━━━━━━━━━━━\u001b[0m\u001b[37m\u001b[0m \u001b[1m0s\u001b[0m 2ms/step \n",
            "Debug statement: Neural Net test MSE = 0.018029886294372455\n",
            "Proxy 1 for christian_nationalism: index with score: -0.01581469098138225\n",
            "Proxy 2 for christian_nationalism: turnout20post with score: -0.020401204657403013\n",
            "Proxy 3 for christian_nationalism: white with score: -0.08754636775799152\n",
            "Proxy 4 for christian_nationalism: faminc_new with score: -0.1520220758285414\n",
            "Proxy 5 for christian_nationalism: hispanic with score: -0.15890251465299274\n",
            "Proxy 6 for christian_nationalism: partisan_violence with score: -0.1619023621373133\n",
            "Proxy 7 for christian_nationalism: educ with score: -0.16562349297002604\n",
            "Proxy 8 for christian_nationalism: auth_grid_2 with score: -0.1759987641754284\n",
            "Proxy 9 for christian_nationalism: auth_grid_3 with score: -0.19101101592522257\n",
            "Proxy 10 for christian_nationalism: auth_grid_1 with score: -0.20397847555474025\n",
            "Testing with lambda pair: (0.005, 0.2)\n",
            "Running iteration 1/7\n"
          ]
        },
        {
          "output_type": "stream",
          "name": "stderr",
          "text": [
            "/usr/local/lib/python3.10/dist-packages/keras/src/layers/core/dense.py:87: UserWarning: Do not pass an `input_shape`/`input_dim` argument to a layer. When using Sequential models, prefer using an `Input(shape)` object as the first layer in the model instead.\n",
            "  super().__init__(activity_regularizer=activity_regularizer, **kwargs)\n"
          ]
        },
        {
          "output_type": "stream",
          "name": "stdout",
          "text": [
            "\u001b[1m54/54\u001b[0m \u001b[32m━━━━━━━━━━━━━━━━━━━━\u001b[0m\u001b[37m\u001b[0m \u001b[1m0s\u001b[0m 3ms/step\n",
            "\u001b[1m11/11\u001b[0m \u001b[32m━━━━━━━━━━━━━━━━━━━━\u001b[0m\u001b[37m\u001b[0m \u001b[1m0s\u001b[0m 2ms/step \n",
            "Debug statement: Neural Net test MSE = 0.01742975025134766\n",
            "Proxy 1 for christian_nationalism: pff_dt with score: 0.14388347128724208\n",
            "Proxy 2 for christian_nationalism: presvote20post with score: 0.12552761183637415\n",
            "Proxy 3 for christian_nationalism: senvote20post with score: 0.11460157024253692\n",
            "Proxy 4 for christian_nationalism: proxy_0.90 with score: 0.11308559489089323\n",
            "Proxy 5 for christian_nationalism: housevote20post with score: 0.11244719600789799\n",
            "Proxy 6 for christian_nationalism: ideo7 with score: 0.1076978931788624\n",
            "Proxy 7 for christian_nationalism: election_fairnness with score: 0.10719966718268689\n",
            "Proxy 8 for christian_nationalism: immigrant_deport with score: 0.09208332956532325\n",
            "Proxy 9 for christian_nationalism: pid7 with score: 0.08420361506527263\n",
            "Proxy 10 for christian_nationalism: immigrant_citizenship with score: 0.06282381438069015\n",
            "Running iteration 2/7\n"
          ]
        },
        {
          "output_type": "stream",
          "name": "stderr",
          "text": [
            "/usr/local/lib/python3.10/dist-packages/keras/src/layers/core/dense.py:87: UserWarning: Do not pass an `input_shape`/`input_dim` argument to a layer. When using Sequential models, prefer using an `Input(shape)` object as the first layer in the model instead.\n",
            "  super().__init__(activity_regularizer=activity_regularizer, **kwargs)\n"
          ]
        },
        {
          "output_type": "stream",
          "name": "stdout",
          "text": [
            "\u001b[1m54/54\u001b[0m \u001b[32m━━━━━━━━━━━━━━━━━━━━\u001b[0m\u001b[37m\u001b[0m \u001b[1m0s\u001b[0m 3ms/step\n",
            "\u001b[1m11/11\u001b[0m \u001b[32m━━━━━━━━━━━━━━━━━━━━\u001b[0m\u001b[37m\u001b[0m \u001b[1m0s\u001b[0m 2ms/step \n",
            "Debug statement: Neural Net test MSE = 0.01743709527111386\n",
            "Proxy 1 for christian_nationalism: pff_dt with score: 0.12343758678450975\n",
            "Proxy 2 for christian_nationalism: senvote20post with score: 0.11408104007741038\n",
            "Proxy 3 for christian_nationalism: housevote20post with score: 0.11334436852818858\n",
            "Proxy 4 for christian_nationalism: presvote20post with score: 0.11243037199403441\n",
            "Proxy 5 for christian_nationalism: proxy_0.90 with score: 0.11174672232973584\n",
            "Proxy 6 for christian_nationalism: ideo7 with score: 0.10366375409036234\n",
            "Proxy 7 for christian_nationalism: immigrant_deport with score: 0.10003886596180953\n",
            "Proxy 8 for christian_nationalism: election_fairnness with score: 0.08987357683086755\n",
            "Proxy 9 for christian_nationalism: pid7 with score: 0.07408977182702989\n",
            "Proxy 10 for christian_nationalism: auth_grid_1 with score: 0.06324306585636333\n",
            "Running iteration 3/7\n"
          ]
        },
        {
          "output_type": "stream",
          "name": "stderr",
          "text": [
            "/usr/local/lib/python3.10/dist-packages/keras/src/layers/core/dense.py:87: UserWarning: Do not pass an `input_shape`/`input_dim` argument to a layer. When using Sequential models, prefer using an `Input(shape)` object as the first layer in the model instead.\n",
            "  super().__init__(activity_regularizer=activity_regularizer, **kwargs)\n"
          ]
        },
        {
          "output_type": "stream",
          "name": "stdout",
          "text": [
            "\u001b[1m54/54\u001b[0m \u001b[32m━━━━━━━━━━━━━━━━━━━━\u001b[0m\u001b[37m\u001b[0m \u001b[1m0s\u001b[0m 3ms/step\n",
            "\u001b[1m11/11\u001b[0m \u001b[32m━━━━━━━━━━━━━━━━━━━━\u001b[0m\u001b[37m\u001b[0m \u001b[1m0s\u001b[0m 2ms/step \n",
            "Debug statement: Neural Net test MSE = 0.019018947159802835\n",
            "Proxy 1 for christian_nationalism: pff_dt with score: 0.14456819862991913\n",
            "Proxy 2 for christian_nationalism: presvote20post with score: 0.11969632779337905\n",
            "Proxy 3 for christian_nationalism: senvote20post with score: 0.11514095177815653\n",
            "Proxy 4 for christian_nationalism: housevote20post with score: 0.1122205478182034\n",
            "Proxy 5 for christian_nationalism: proxy_0.90 with score: 0.11094564496271\n",
            "Proxy 6 for christian_nationalism: ideo7 with score: 0.10524322142176644\n",
            "Proxy 7 for christian_nationalism: immigrant_deport with score: 0.09742488985502021\n",
            "Proxy 8 for christian_nationalism: election_fairnness with score: 0.09147698163682136\n",
            "Proxy 9 for christian_nationalism: pid7 with score: 0.08096108951667744\n",
            "Proxy 10 for christian_nationalism: auth_grid_1 with score: 0.06429788000010164\n",
            "Running iteration 4/7\n"
          ]
        },
        {
          "output_type": "stream",
          "name": "stderr",
          "text": [
            "/usr/local/lib/python3.10/dist-packages/keras/src/layers/core/dense.py:87: UserWarning: Do not pass an `input_shape`/`input_dim` argument to a layer. When using Sequential models, prefer using an `Input(shape)` object as the first layer in the model instead.\n",
            "  super().__init__(activity_regularizer=activity_regularizer, **kwargs)\n"
          ]
        },
        {
          "output_type": "stream",
          "name": "stdout",
          "text": [
            "\u001b[1m54/54\u001b[0m \u001b[32m━━━━━━━━━━━━━━━━━━━━\u001b[0m\u001b[37m\u001b[0m \u001b[1m0s\u001b[0m 3ms/step\n",
            "\u001b[1m11/11\u001b[0m \u001b[32m━━━━━━━━━━━━━━━━━━━━\u001b[0m\u001b[37m\u001b[0m \u001b[1m0s\u001b[0m 2ms/step \n",
            "Debug statement: Neural Net test MSE = 0.017590248032713685\n",
            "Proxy 1 for christian_nationalism: pff_dt with score: 0.13406490657368322\n",
            "Proxy 2 for christian_nationalism: presvote20post with score: 0.1189083383881385\n",
            "Proxy 3 for christian_nationalism: proxy_0.90 with score: 0.11471235731986096\n",
            "Proxy 4 for christian_nationalism: immigrant_deport with score: 0.11204220110027482\n",
            "Proxy 5 for christian_nationalism: senvote20post with score: 0.11030023326820859\n",
            "Proxy 6 for christian_nationalism: housevote20post with score: 0.10706734087802972\n",
            "Proxy 7 for christian_nationalism: ideo7 with score: 0.10702408132529444\n",
            "Proxy 8 for christian_nationalism: election_fairnness with score: 0.09111523889092749\n",
            "Proxy 9 for christian_nationalism: pid7 with score: 0.07033451654013692\n",
            "Proxy 10 for christian_nationalism: immigrant_citizenship with score: 0.06591907368092786\n",
            "Running iteration 5/7\n"
          ]
        },
        {
          "output_type": "stream",
          "name": "stderr",
          "text": [
            "/usr/local/lib/python3.10/dist-packages/keras/src/layers/core/dense.py:87: UserWarning: Do not pass an `input_shape`/`input_dim` argument to a layer. When using Sequential models, prefer using an `Input(shape)` object as the first layer in the model instead.\n",
            "  super().__init__(activity_regularizer=activity_regularizer, **kwargs)\n"
          ]
        },
        {
          "output_type": "stream",
          "name": "stdout",
          "text": [
            "\u001b[1m54/54\u001b[0m \u001b[32m━━━━━━━━━━━━━━━━━━━━\u001b[0m\u001b[37m\u001b[0m \u001b[1m0s\u001b[0m 3ms/step\n",
            "\u001b[1m11/11\u001b[0m \u001b[32m━━━━━━━━━━━━━━━━━━━━\u001b[0m\u001b[37m\u001b[0m \u001b[1m0s\u001b[0m 2ms/step \n",
            "Debug statement: Neural Net test MSE = 0.01778718980513703\n",
            "Proxy 1 for christian_nationalism: pff_dt with score: 0.12862664185014802\n",
            "Proxy 2 for christian_nationalism: proxy_0.90 with score: 0.11634692856778117\n",
            "Proxy 3 for christian_nationalism: presvote20post with score: 0.1087555102150998\n",
            "Proxy 4 for christian_nationalism: immigrant_deport with score: 0.10732738486099938\n",
            "Proxy 5 for christian_nationalism: housevote20post with score: 0.10526060003453586\n",
            "Proxy 6 for christian_nationalism: senvote20post with score: 0.10518894664893541\n",
            "Proxy 7 for christian_nationalism: ideo7 with score: 0.10365516580023475\n",
            "Proxy 8 for christian_nationalism: election_fairnness with score: 0.0878110331674272\n",
            "Proxy 9 for christian_nationalism: auth_grid_1 with score: 0.07151750031272092\n",
            "Proxy 10 for christian_nationalism: immigrant_citizenship with score: 0.07055822234219633\n",
            "Running iteration 6/7\n"
          ]
        },
        {
          "output_type": "stream",
          "name": "stderr",
          "text": [
            "/usr/local/lib/python3.10/dist-packages/keras/src/layers/core/dense.py:87: UserWarning: Do not pass an `input_shape`/`input_dim` argument to a layer. When using Sequential models, prefer using an `Input(shape)` object as the first layer in the model instead.\n",
            "  super().__init__(activity_regularizer=activity_regularizer, **kwargs)\n"
          ]
        },
        {
          "output_type": "stream",
          "name": "stdout",
          "text": [
            "\u001b[1m54/54\u001b[0m \u001b[32m━━━━━━━━━━━━━━━━━━━━\u001b[0m\u001b[37m\u001b[0m \u001b[1m0s\u001b[0m 3ms/step\n",
            "\u001b[1m11/11\u001b[0m \u001b[32m━━━━━━━━━━━━━━━━━━━━\u001b[0m\u001b[37m\u001b[0m \u001b[1m0s\u001b[0m 2ms/step \n",
            "Debug statement: Neural Net test MSE = 0.01730119194359063\n",
            "Proxy 1 for christian_nationalism: pff_dt with score: 0.13113340970656676\n",
            "Proxy 2 for christian_nationalism: proxy_0.90 with score: 0.11546100835739384\n",
            "Proxy 3 for christian_nationalism: presvote20post with score: 0.10396369731223462\n",
            "Proxy 4 for christian_nationalism: housevote20post with score: 0.09973170936198417\n",
            "Proxy 5 for christian_nationalism: senvote20post with score: 0.09845407651049265\n",
            "Proxy 6 for christian_nationalism: ideo7 with score: 0.09819895619879475\n",
            "Proxy 7 for christian_nationalism: immigrant_deport with score: 0.09551207083628382\n",
            "Proxy 8 for christian_nationalism: election_fairnness with score: 0.08177252317418993\n",
            "Proxy 9 for christian_nationalism: auth_grid_1 with score: 0.06060185007632535\n",
            "Proxy 10 for christian_nationalism: immigrant_citizenship with score: 0.058451559628465405\n",
            "Running iteration 7/7\n"
          ]
        },
        {
          "output_type": "stream",
          "name": "stderr",
          "text": [
            "/usr/local/lib/python3.10/dist-packages/keras/src/layers/core/dense.py:87: UserWarning: Do not pass an `input_shape`/`input_dim` argument to a layer. When using Sequential models, prefer using an `Input(shape)` object as the first layer in the model instead.\n",
            "  super().__init__(activity_regularizer=activity_regularizer, **kwargs)\n"
          ]
        },
        {
          "output_type": "stream",
          "name": "stdout",
          "text": [
            "\u001b[1m54/54\u001b[0m \u001b[32m━━━━━━━━━━━━━━━━━━━━\u001b[0m\u001b[37m\u001b[0m \u001b[1m0s\u001b[0m 3ms/step\n",
            "\u001b[1m11/11\u001b[0m \u001b[32m━━━━━━━━━━━━━━━━━━━━\u001b[0m\u001b[37m\u001b[0m \u001b[1m0s\u001b[0m 2ms/step \n",
            "Debug statement: Neural Net test MSE = 0.018295006680214207\n",
            "Proxy 1 for christian_nationalism: pff_dt with score: 0.12429701803490914\n",
            "Proxy 2 for christian_nationalism: proxy_0.90 with score: 0.1169743829754529\n",
            "Proxy 3 for christian_nationalism: presvote20post with score: 0.1075750124176301\n",
            "Proxy 4 for christian_nationalism: ideo7 with score: 0.10209164472926728\n",
            "Proxy 5 for christian_nationalism: senvote20post with score: 0.09910788126451414\n",
            "Proxy 6 for christian_nationalism: housevote20post with score: 0.09832418747057792\n",
            "Proxy 7 for christian_nationalism: immigrant_deport with score: 0.09779674940158153\n",
            "Proxy 8 for christian_nationalism: election_fairnness with score: 0.09738346266634265\n",
            "Proxy 9 for christian_nationalism: auth_grid_1 with score: 0.06612031764668569\n",
            "Proxy 10 for christian_nationalism: pid7 with score: 0.06395816234775833\n",
            "Testing with lambda pair: (0.005, 0.3)\n",
            "Running iteration 1/7\n"
          ]
        },
        {
          "output_type": "stream",
          "name": "stderr",
          "text": [
            "/usr/local/lib/python3.10/dist-packages/keras/src/layers/core/dense.py:87: UserWarning: Do not pass an `input_shape`/`input_dim` argument to a layer. When using Sequential models, prefer using an `Input(shape)` object as the first layer in the model instead.\n",
            "  super().__init__(activity_regularizer=activity_regularizer, **kwargs)\n"
          ]
        },
        {
          "output_type": "stream",
          "name": "stdout",
          "text": [
            "\u001b[1m54/54\u001b[0m \u001b[32m━━━━━━━━━━━━━━━━━━━━\u001b[0m\u001b[37m\u001b[0m \u001b[1m0s\u001b[0m 3ms/step\n",
            "\u001b[1m11/11\u001b[0m \u001b[32m━━━━━━━━━━━━━━━━━━━━\u001b[0m\u001b[37m\u001b[0m \u001b[1m0s\u001b[0m 2ms/step \n",
            "Debug statement: Neural Net test MSE = 0.01819782787269349\n",
            "Proxy 1 for christian_nationalism: proxy_0.90 with score: 0.008798090625935423\n",
            "Proxy 2 for christian_nationalism: auth_grid_1 with score: -0.005474677927159666\n",
            "Proxy 3 for christian_nationalism: turnout20post with score: -0.007615706723412593\n",
            "Proxy 4 for christian_nationalism: index with score: -0.00832937767832404\n",
            "Proxy 5 for christian_nationalism: auth_grid_2 with score: -0.011120220094047159\n",
            "Proxy 6 for christian_nationalism: auth_grid_3 with score: -0.01636781307086639\n",
            "Proxy 7 for christian_nationalism: pff_dt with score: -0.02724748762291862\n",
            "Proxy 8 for christian_nationalism: ideo7 with score: -0.031113119935523625\n",
            "Proxy 9 for christian_nationalism: educ with score: -0.03427479385336534\n",
            "Proxy 10 for christian_nationalism: immigrant_deport with score: -0.03574765163799881\n",
            "Running iteration 2/7\n"
          ]
        },
        {
          "output_type": "stream",
          "name": "stderr",
          "text": [
            "/usr/local/lib/python3.10/dist-packages/keras/src/layers/core/dense.py:87: UserWarning: Do not pass an `input_shape`/`input_dim` argument to a layer. When using Sequential models, prefer using an `Input(shape)` object as the first layer in the model instead.\n",
            "  super().__init__(activity_regularizer=activity_regularizer, **kwargs)\n"
          ]
        },
        {
          "output_type": "stream",
          "name": "stdout",
          "text": [
            "\u001b[1m54/54\u001b[0m \u001b[32m━━━━━━━━━━━━━━━━━━━━\u001b[0m\u001b[37m\u001b[0m \u001b[1m0s\u001b[0m 3ms/step\n",
            "\u001b[1m11/11\u001b[0m \u001b[32m━━━━━━━━━━━━━━━━━━━━\u001b[0m\u001b[37m\u001b[0m \u001b[1m0s\u001b[0m 2ms/step \n",
            "Debug statement: Neural Net test MSE = 0.0181997230427294\n",
            "Proxy 1 for christian_nationalism: proxy_0.90 with score: 0.012650593152610773\n",
            "Proxy 2 for christian_nationalism: auth_grid_1 with score: -0.005474617954049771\n",
            "Proxy 3 for christian_nationalism: turnout20post with score: -0.007327660618290762\n",
            "Proxy 4 for christian_nationalism: index with score: -0.008891317735265874\n",
            "Proxy 5 for christian_nationalism: auth_grid_3 with score: -0.015715014395811633\n",
            "Proxy 6 for christian_nationalism: auth_grid_2 with score: -0.017291580951276878\n",
            "Proxy 7 for christian_nationalism: immigrant_deport with score: -0.023901934162738003\n",
            "Proxy 8 for christian_nationalism: ideo7 with score: -0.02828067495354869\n",
            "Proxy 9 for christian_nationalism: educ with score: -0.033754293131739194\n",
            "Proxy 10 for christian_nationalism: white with score: -0.03750547682751669\n",
            "Running iteration 3/7\n"
          ]
        },
        {
          "output_type": "stream",
          "name": "stderr",
          "text": [
            "/usr/local/lib/python3.10/dist-packages/keras/src/layers/core/dense.py:87: UserWarning: Do not pass an `input_shape`/`input_dim` argument to a layer. When using Sequential models, prefer using an `Input(shape)` object as the first layer in the model instead.\n",
            "  super().__init__(activity_regularizer=activity_regularizer, **kwargs)\n"
          ]
        },
        {
          "output_type": "stream",
          "name": "stdout",
          "text": [
            "\u001b[1m54/54\u001b[0m \u001b[32m━━━━━━━━━━━━━━━━━━━━\u001b[0m\u001b[37m\u001b[0m \u001b[1m0s\u001b[0m 3ms/step\n",
            "\u001b[1m11/11\u001b[0m \u001b[32m━━━━━━━━━━━━━━━━━━━━\u001b[0m\u001b[37m\u001b[0m \u001b[1m0s\u001b[0m 2ms/step \n",
            "Debug statement: Neural Net test MSE = 0.017507580081698153\n",
            "Proxy 1 for christian_nationalism: proxy_0.90 with score: 0.011767985293035965\n",
            "Proxy 2 for christian_nationalism: auth_grid_1 with score: -0.0013342331915284222\n",
            "Proxy 3 for christian_nationalism: auth_grid_3 with score: -0.004872591057305045\n",
            "Proxy 4 for christian_nationalism: turnout20post with score: -0.007154958186682666\n",
            "Proxy 5 for christian_nationalism: index with score: -0.008666452995531475\n",
            "Proxy 6 for christian_nationalism: auth_grid_2 with score: -0.018135801073768776\n",
            "Proxy 7 for christian_nationalism: ideo7 with score: -0.025626803311316948\n",
            "Proxy 8 for christian_nationalism: immigrant_deport with score: -0.02645045544288735\n",
            "Proxy 9 for christian_nationalism: educ with score: -0.03027602460027741\n",
            "Proxy 10 for christian_nationalism: white with score: -0.036880788131816535\n",
            "Running iteration 4/7\n"
          ]
        },
        {
          "output_type": "stream",
          "name": "stderr",
          "text": [
            "/usr/local/lib/python3.10/dist-packages/keras/src/layers/core/dense.py:87: UserWarning: Do not pass an `input_shape`/`input_dim` argument to a layer. When using Sequential models, prefer using an `Input(shape)` object as the first layer in the model instead.\n",
            "  super().__init__(activity_regularizer=activity_regularizer, **kwargs)\n"
          ]
        },
        {
          "output_type": "stream",
          "name": "stdout",
          "text": [
            "\u001b[1m54/54\u001b[0m \u001b[32m━━━━━━━━━━━━━━━━━━━━\u001b[0m\u001b[37m\u001b[0m \u001b[1m0s\u001b[0m 3ms/step\n",
            "\u001b[1m11/11\u001b[0m \u001b[32m━━━━━━━━━━━━━━━━━━━━\u001b[0m\u001b[37m\u001b[0m \u001b[1m0s\u001b[0m 2ms/step \n",
            "Debug statement: Neural Net test MSE = 0.01772941279285577\n",
            "Proxy 1 for christian_nationalism: proxy_0.90 with score: 0.013550755647309204\n",
            "Proxy 2 for christian_nationalism: auth_grid_1 with score: 0.005524916131077279\n",
            "Proxy 3 for christian_nationalism: auth_grid_3 with score: -0.006688242151598134\n",
            "Proxy 4 for christian_nationalism: index with score: -0.008448210887604118\n",
            "Proxy 5 for christian_nationalism: turnout20post with score: -0.00919255312855641\n",
            "Proxy 6 for christian_nationalism: ideo7 with score: -0.020904895791586164\n",
            "Proxy 7 for christian_nationalism: auth_grid_2 with score: -0.021580934121937012\n",
            "Proxy 8 for christian_nationalism: immigrant_deport with score: -0.021659042617805685\n",
            "Proxy 9 for christian_nationalism: white with score: -0.036337936666434735\n",
            "Proxy 10 for christian_nationalism: educ with score: -0.036651322827528324\n",
            "Running iteration 5/7\n"
          ]
        },
        {
          "output_type": "stream",
          "name": "stderr",
          "text": [
            "/usr/local/lib/python3.10/dist-packages/keras/src/layers/core/dense.py:87: UserWarning: Do not pass an `input_shape`/`input_dim` argument to a layer. When using Sequential models, prefer using an `Input(shape)` object as the first layer in the model instead.\n",
            "  super().__init__(activity_regularizer=activity_regularizer, **kwargs)\n"
          ]
        },
        {
          "output_type": "stream",
          "name": "stdout",
          "text": [
            "\u001b[1m54/54\u001b[0m \u001b[32m━━━━━━━━━━━━━━━━━━━━\u001b[0m\u001b[37m\u001b[0m \u001b[1m0s\u001b[0m 3ms/step\n",
            "\u001b[1m11/11\u001b[0m \u001b[32m━━━━━━━━━━━━━━━━━━━━\u001b[0m\u001b[37m\u001b[0m \u001b[1m0s\u001b[0m 2ms/step \n",
            "Debug statement: Neural Net test MSE = 0.018441063228548556\n",
            "Proxy 1 for christian_nationalism: proxy_0.90 with score: 0.011432300202650375\n",
            "Proxy 2 for christian_nationalism: auth_grid_1 with score: -0.0029679302437737587\n",
            "Proxy 3 for christian_nationalism: turnout20post with score: -0.0075936323647194685\n",
            "Proxy 4 for christian_nationalism: index with score: -0.008802407158402008\n",
            "Proxy 5 for christian_nationalism: auth_grid_3 with score: -0.016526893806700832\n",
            "Proxy 6 for christian_nationalism: ideo7 with score: -0.01918900745582966\n",
            "Proxy 7 for christian_nationalism: pff_dt with score: -0.02240737727702491\n",
            "Proxy 8 for christian_nationalism: auth_grid_2 with score: -0.023080101252078294\n",
            "Proxy 9 for christian_nationalism: educ with score: -0.03314409320060683\n",
            "Proxy 10 for christian_nationalism: white with score: -0.035166780909570275\n",
            "Running iteration 6/7\n"
          ]
        },
        {
          "output_type": "stream",
          "name": "stderr",
          "text": [
            "/usr/local/lib/python3.10/dist-packages/keras/src/layers/core/dense.py:87: UserWarning: Do not pass an `input_shape`/`input_dim` argument to a layer. When using Sequential models, prefer using an `Input(shape)` object as the first layer in the model instead.\n",
            "  super().__init__(activity_regularizer=activity_regularizer, **kwargs)\n"
          ]
        },
        {
          "output_type": "stream",
          "name": "stdout",
          "text": [
            "\u001b[1m54/54\u001b[0m \u001b[32m━━━━━━━━━━━━━━━━━━━━\u001b[0m\u001b[37m\u001b[0m \u001b[1m0s\u001b[0m 3ms/step\n",
            "\u001b[1m11/11\u001b[0m \u001b[32m━━━━━━━━━━━━━━━━━━━━\u001b[0m\u001b[37m\u001b[0m \u001b[1m0s\u001b[0m 2ms/step \n",
            "Debug statement: Neural Net test MSE = 0.018618677251986453\n",
            "Proxy 1 for christian_nationalism: proxy_0.90 with score: 0.008116550064870304\n",
            "Proxy 2 for christian_nationalism: auth_grid_1 with score: 0.000880645906421812\n",
            "Proxy 3 for christian_nationalism: auth_grid_3 with score: -0.0024664019323593495\n",
            "Proxy 4 for christian_nationalism: auth_grid_2 with score: -0.006280791063058566\n",
            "Proxy 5 for christian_nationalism: index with score: -0.008073190013129599\n",
            "Proxy 6 for christian_nationalism: turnout20post with score: -0.008327506650824676\n",
            "Proxy 7 for christian_nationalism: immigrant_deport with score: -0.023717536583420212\n",
            "Proxy 8 for christian_nationalism: ideo7 with score: -0.02636892670652488\n",
            "Proxy 9 for christian_nationalism: white with score: -0.03562914379976191\n",
            "Proxy 10 for christian_nationalism: educ with score: -0.037344984272230854\n",
            "Running iteration 7/7\n"
          ]
        },
        {
          "output_type": "stream",
          "name": "stderr",
          "text": [
            "/usr/local/lib/python3.10/dist-packages/keras/src/layers/core/dense.py:87: UserWarning: Do not pass an `input_shape`/`input_dim` argument to a layer. When using Sequential models, prefer using an `Input(shape)` object as the first layer in the model instead.\n",
            "  super().__init__(activity_regularizer=activity_regularizer, **kwargs)\n"
          ]
        },
        {
          "output_type": "stream",
          "name": "stdout",
          "text": [
            "\u001b[1m54/54\u001b[0m \u001b[32m━━━━━━━━━━━━━━━━━━━━\u001b[0m\u001b[37m\u001b[0m \u001b[1m0s\u001b[0m 3ms/step\n",
            "\u001b[1m11/11\u001b[0m \u001b[32m━━━━━━━━━━━━━━━━━━━━\u001b[0m\u001b[37m\u001b[0m \u001b[1m0s\u001b[0m 2ms/step \n",
            "Debug statement: Neural Net test MSE = 0.018293033701741724\n",
            "Proxy 1 for christian_nationalism: proxy_0.90 with score: 0.012222908138167954\n",
            "Proxy 2 for christian_nationalism: auth_grid_1 with score: -0.00741752156718882\n",
            "Proxy 3 for christian_nationalism: turnout20post with score: -0.007478420715886832\n",
            "Proxy 4 for christian_nationalism: index with score: -0.008662046238453118\n",
            "Proxy 5 for christian_nationalism: auth_grid_3 with score: -0.01775161842953424\n",
            "Proxy 6 for christian_nationalism: auth_grid_2 with score: -0.0231747044231857\n",
            "Proxy 7 for christian_nationalism: ideo7 with score: -0.025102114879877457\n",
            "Proxy 8 for christian_nationalism: immigrant_deport with score: -0.02672529606876578\n",
            "Proxy 9 for christian_nationalism: pff_dt with score: -0.029196510263279685\n",
            "Proxy 10 for christian_nationalism: educ with score: -0.03202495456696648\n",
            "Testing with lambda pair: (0.005, 0.4)\n",
            "Running iteration 1/7\n"
          ]
        },
        {
          "output_type": "stream",
          "name": "stderr",
          "text": [
            "/usr/local/lib/python3.10/dist-packages/keras/src/layers/core/dense.py:87: UserWarning: Do not pass an `input_shape`/`input_dim` argument to a layer. When using Sequential models, prefer using an `Input(shape)` object as the first layer in the model instead.\n",
            "  super().__init__(activity_regularizer=activity_regularizer, **kwargs)\n"
          ]
        },
        {
          "output_type": "stream",
          "name": "stdout",
          "text": [
            "\u001b[1m54/54\u001b[0m \u001b[32m━━━━━━━━━━━━━━━━━━━━\u001b[0m\u001b[37m\u001b[0m \u001b[1m0s\u001b[0m 2ms/step\n",
            "\u001b[1m11/11\u001b[0m \u001b[32m━━━━━━━━━━━━━━━━━━━━\u001b[0m\u001b[37m\u001b[0m \u001b[1m0s\u001b[0m 2ms/step \n",
            "Debug statement: Neural Net test MSE = 0.017708032226041028\n",
            "Proxy 1 for christian_nationalism: turnout20post with score: -0.013217949302839455\n",
            "Proxy 2 for christian_nationalism: index with score: -0.013332753318418038\n",
            "Proxy 3 for christian_nationalism: white with score: -0.06233961227362485\n",
            "Proxy 4 for christian_nationalism: auth_grid_3 with score: -0.09114816217432652\n",
            "Proxy 5 for christian_nationalism: auth_grid_1 with score: -0.09175958667696818\n",
            "Proxy 6 for christian_nationalism: auth_grid_2 with score: -0.09492241448915033\n",
            "Proxy 7 for christian_nationalism: educ with score: -0.09588421193541358\n",
            "Proxy 8 for christian_nationalism: faminc_new with score: -0.10123640356496956\n",
            "Proxy 9 for christian_nationalism: hispanic with score: -0.10567349008642085\n",
            "Proxy 10 for christian_nationalism: partisan_violence with score: -0.10583729400342787\n",
            "Running iteration 2/7\n"
          ]
        },
        {
          "output_type": "stream",
          "name": "stderr",
          "text": [
            "/usr/local/lib/python3.10/dist-packages/keras/src/layers/core/dense.py:87: UserWarning: Do not pass an `input_shape`/`input_dim` argument to a layer. When using Sequential models, prefer using an `Input(shape)` object as the first layer in the model instead.\n",
            "  super().__init__(activity_regularizer=activity_regularizer, **kwargs)\n"
          ]
        },
        {
          "output_type": "stream",
          "name": "stdout",
          "text": [
            "\u001b[1m54/54\u001b[0m \u001b[32m━━━━━━━━━━━━━━━━━━━━\u001b[0m\u001b[37m\u001b[0m \u001b[1m0s\u001b[0m 2ms/step\n",
            "\u001b[1m11/11\u001b[0m \u001b[32m━━━━━━━━━━━━━━━━━━━━\u001b[0m\u001b[37m\u001b[0m \u001b[1m0s\u001b[0m 2ms/step \n",
            "Debug statement: Neural Net test MSE = 0.0177871801157596\n",
            "Proxy 1 for christian_nationalism: index with score: -0.013571345573034903\n",
            "Proxy 2 for christian_nationalism: turnout20post with score: -0.014236661176591586\n",
            "Proxy 3 for christian_nationalism: white with score: -0.061254454221558834\n",
            "Proxy 4 for christian_nationalism: educ with score: -0.09329756755259894\n",
            "Proxy 5 for christian_nationalism: auth_grid_2 with score: -0.09486691342094423\n",
            "Proxy 6 for christian_nationalism: auth_grid_1 with score: -0.09768493656939198\n",
            "Proxy 7 for christian_nationalism: faminc_new with score: -0.10014499603394206\n",
            "Proxy 8 for christian_nationalism: partisan_violence with score: -0.10390338176775113\n",
            "Proxy 9 for christian_nationalism: hispanic with score: -0.10622616911795618\n",
            "Proxy 10 for christian_nationalism: auth_grid_3 with score: -0.10769510137032237\n",
            "Running iteration 3/7\n"
          ]
        },
        {
          "output_type": "stream",
          "name": "stderr",
          "text": [
            "/usr/local/lib/python3.10/dist-packages/keras/src/layers/core/dense.py:87: UserWarning: Do not pass an `input_shape`/`input_dim` argument to a layer. When using Sequential models, prefer using an `Input(shape)` object as the first layer in the model instead.\n",
            "  super().__init__(activity_regularizer=activity_regularizer, **kwargs)\n"
          ]
        },
        {
          "output_type": "stream",
          "name": "stdout",
          "text": [
            "\u001b[1m54/54\u001b[0m \u001b[32m━━━━━━━━━━━━━━━━━━━━\u001b[0m\u001b[37m\u001b[0m \u001b[1m0s\u001b[0m 3ms/step\n",
            "\u001b[1m11/11\u001b[0m \u001b[32m━━━━━━━━━━━━━━━━━━━━\u001b[0m\u001b[37m\u001b[0m \u001b[1m0s\u001b[0m 2ms/step \n",
            "Debug statement: Neural Net test MSE = 0.017947823162065626\n",
            "Proxy 1 for christian_nationalism: turnout20post with score: -0.012670168122862984\n",
            "Proxy 2 for christian_nationalism: index with score: -0.01389064600098156\n",
            "Proxy 3 for christian_nationalism: white with score: -0.06246191898479495\n",
            "Proxy 4 for christian_nationalism: educ with score: -0.0853493218166849\n",
            "Proxy 5 for christian_nationalism: auth_grid_2 with score: -0.09322473316204642\n",
            "Proxy 6 for christian_nationalism: auth_grid_3 with score: -0.09635596313984209\n",
            "Proxy 7 for christian_nationalism: auth_grid_1 with score: -0.09770821371518947\n",
            "Proxy 8 for christian_nationalism: faminc_new with score: -0.10125694252001961\n",
            "Proxy 9 for christian_nationalism: partisan_violence with score: -0.10399063653677078\n",
            "Proxy 10 for christian_nationalism: hispanic with score: -0.10631387287709354\n",
            "Running iteration 4/7\n"
          ]
        },
        {
          "output_type": "stream",
          "name": "stderr",
          "text": [
            "/usr/local/lib/python3.10/dist-packages/keras/src/layers/core/dense.py:87: UserWarning: Do not pass an `input_shape`/`input_dim` argument to a layer. When using Sequential models, prefer using an `Input(shape)` object as the first layer in the model instead.\n",
            "  super().__init__(activity_regularizer=activity_regularizer, **kwargs)\n"
          ]
        },
        {
          "output_type": "stream",
          "name": "stdout",
          "text": [
            "\u001b[1m54/54\u001b[0m \u001b[32m━━━━━━━━━━━━━━━━━━━━\u001b[0m\u001b[37m\u001b[0m \u001b[1m0s\u001b[0m 4ms/step\n",
            "\u001b[1m11/11\u001b[0m \u001b[32m━━━━━━━━━━━━━━━━━━━━\u001b[0m\u001b[37m\u001b[0m \u001b[1m0s\u001b[0m 3ms/step \n",
            "Debug statement: Neural Net test MSE = 0.017294685010867533\n",
            "Proxy 1 for christian_nationalism: index with score: -0.013193220145242317\n",
            "Proxy 2 for christian_nationalism: turnout20post with score: -0.015019873130957267\n",
            "Proxy 3 for christian_nationalism: white with score: -0.06187616537360349\n",
            "Proxy 4 for christian_nationalism: educ with score: -0.09336247044390414\n",
            "Proxy 5 for christian_nationalism: auth_grid_2 with score: -0.0958263871520257\n",
            "Proxy 6 for christian_nationalism: auth_grid_3 with score: -0.09653050084414697\n",
            "Proxy 7 for christian_nationalism: faminc_new with score: -0.10087163376150397\n",
            "Proxy 8 for christian_nationalism: auth_grid_1 with score: -0.10176360189370103\n",
            "Proxy 9 for christian_nationalism: partisan_violence with score: -0.10538927258867736\n",
            "Proxy 10 for christian_nationalism: hispanic with score: -0.10628936219658994\n",
            "Running iteration 5/7\n"
          ]
        },
        {
          "output_type": "stream",
          "name": "stderr",
          "text": [
            "/usr/local/lib/python3.10/dist-packages/keras/src/layers/core/dense.py:87: UserWarning: Do not pass an `input_shape`/`input_dim` argument to a layer. When using Sequential models, prefer using an `Input(shape)` object as the first layer in the model instead.\n",
            "  super().__init__(activity_regularizer=activity_regularizer, **kwargs)\n"
          ]
        },
        {
          "output_type": "stream",
          "name": "stdout",
          "text": [
            "\u001b[1m54/54\u001b[0m \u001b[32m━━━━━━━━━━━━━━━━━━━━\u001b[0m\u001b[37m\u001b[0m \u001b[1m0s\u001b[0m 3ms/step\n",
            "\u001b[1m11/11\u001b[0m \u001b[32m━━━━━━━━━━━━━━━━━━━━\u001b[0m\u001b[37m\u001b[0m \u001b[1m0s\u001b[0m 2ms/step \n",
            "Debug statement: Neural Net test MSE = 0.017990941750941666\n",
            "Proxy 1 for christian_nationalism: index with score: -0.01301569409366659\n",
            "Proxy 2 for christian_nationalism: turnout20post with score: -0.014382653660734074\n",
            "Proxy 3 for christian_nationalism: white with score: -0.06094771473017474\n",
            "Proxy 4 for christian_nationalism: auth_grid_1 with score: -0.09078137455162497\n",
            "Proxy 5 for christian_nationalism: educ with score: -0.09350981590370006\n",
            "Proxy 6 for christian_nationalism: auth_grid_2 with score: -0.09718288294334862\n",
            "Proxy 7 for christian_nationalism: faminc_new with score: -0.10156277686231899\n",
            "Proxy 8 for christian_nationalism: auth_grid_3 with score: -0.1026297070448571\n",
            "Proxy 9 for christian_nationalism: hispanic with score: -0.10611737215978148\n",
            "Proxy 10 for christian_nationalism: partisan_violence with score: -0.10799659100283136\n",
            "Running iteration 6/7\n"
          ]
        },
        {
          "output_type": "stream",
          "name": "stderr",
          "text": [
            "/usr/local/lib/python3.10/dist-packages/keras/src/layers/core/dense.py:87: UserWarning: Do not pass an `input_shape`/`input_dim` argument to a layer. When using Sequential models, prefer using an `Input(shape)` object as the first layer in the model instead.\n",
            "  super().__init__(activity_regularizer=activity_regularizer, **kwargs)\n"
          ]
        },
        {
          "output_type": "stream",
          "name": "stdout",
          "text": [
            "\u001b[1m54/54\u001b[0m \u001b[32m━━━━━━━━━━━━━━━━━━━━\u001b[0m\u001b[37m\u001b[0m \u001b[1m0s\u001b[0m 4ms/step\n",
            "\u001b[1m11/11\u001b[0m \u001b[32m━━━━━━━━━━━━━━━━━━━━\u001b[0m\u001b[37m\u001b[0m \u001b[1m0s\u001b[0m 3ms/step \n",
            "Debug statement: Neural Net test MSE = 0.01830083825911297\n",
            "Proxy 1 for christian_nationalism: index with score: -0.013225103933973296\n",
            "Proxy 2 for christian_nationalism: turnout20post with score: -0.015553534858502943\n",
            "Proxy 3 for christian_nationalism: white with score: -0.06240147183170112\n",
            "Proxy 4 for christian_nationalism: auth_grid_2 with score: -0.08417967492186773\n",
            "Proxy 5 for christian_nationalism: auth_grid_1 with score: -0.09251092775153058\n",
            "Proxy 6 for christian_nationalism: educ with score: -0.09859643110697058\n",
            "Proxy 7 for christian_nationalism: auth_grid_3 with score: -0.09890811390237536\n",
            "Proxy 8 for christian_nationalism: faminc_new with score: -0.1009181168885637\n",
            "Proxy 9 for christian_nationalism: partisan_violence with score: -0.1034144112267212\n",
            "Proxy 10 for christian_nationalism: hispanic with score: -0.10551707685637178\n",
            "Running iteration 7/7\n"
          ]
        },
        {
          "output_type": "stream",
          "name": "stderr",
          "text": [
            "/usr/local/lib/python3.10/dist-packages/keras/src/layers/core/dense.py:87: UserWarning: Do not pass an `input_shape`/`input_dim` argument to a layer. When using Sequential models, prefer using an `Input(shape)` object as the first layer in the model instead.\n",
            "  super().__init__(activity_regularizer=activity_regularizer, **kwargs)\n"
          ]
        },
        {
          "output_type": "stream",
          "name": "stdout",
          "text": [
            "\u001b[1m54/54\u001b[0m \u001b[32m━━━━━━━━━━━━━━━━━━━━\u001b[0m\u001b[37m\u001b[0m \u001b[1m0s\u001b[0m 3ms/step\n",
            "\u001b[1m11/11\u001b[0m \u001b[32m━━━━━━━━━━━━━━━━━━━━\u001b[0m\u001b[37m\u001b[0m \u001b[1m0s\u001b[0m 2ms/step \n",
            "Debug statement: Neural Net test MSE = 0.017578517878533585\n",
            "Proxy 1 for christian_nationalism: index with score: -0.013281231077938176\n",
            "Proxy 2 for christian_nationalism: turnout20post with score: -0.015397291302453925\n",
            "Proxy 3 for christian_nationalism: white with score: -0.06093078359305354\n",
            "Proxy 4 for christian_nationalism: auth_grid_2 with score: -0.09094528369485419\n",
            "Proxy 5 for christian_nationalism: auth_grid_3 with score: -0.09237508144766432\n",
            "Proxy 6 for christian_nationalism: auth_grid_1 with score: -0.09670172010704957\n",
            "Proxy 7 for christian_nationalism: educ with score: -0.09928475992318184\n",
            "Proxy 8 for christian_nationalism: faminc_new with score: -0.10075140704249935\n",
            "Proxy 9 for christian_nationalism: partisan_violence with score: -0.10489365612417294\n",
            "Proxy 10 for christian_nationalism: hispanic with score: -0.10632467488879883\n",
            "Testing with lambda pair: (0.005, 0.5)\n",
            "Running iteration 1/7\n"
          ]
        },
        {
          "output_type": "stream",
          "name": "stderr",
          "text": [
            "/usr/local/lib/python3.10/dist-packages/keras/src/layers/core/dense.py:87: UserWarning: Do not pass an `input_shape`/`input_dim` argument to a layer. When using Sequential models, prefer using an `Input(shape)` object as the first layer in the model instead.\n",
            "  super().__init__(activity_regularizer=activity_regularizer, **kwargs)\n"
          ]
        },
        {
          "output_type": "stream",
          "name": "stdout",
          "text": [
            "\u001b[1m54/54\u001b[0m \u001b[32m━━━━━━━━━━━━━━━━━━━━\u001b[0m\u001b[37m\u001b[0m \u001b[1m0s\u001b[0m 3ms/step\n",
            "\u001b[1m11/11\u001b[0m \u001b[32m━━━━━━━━━━━━━━━━━━━━\u001b[0m\u001b[37m\u001b[0m \u001b[1m0s\u001b[0m 2ms/step \n",
            "Debug statement: Neural Net test MSE = 0.017397399962395647\n",
            "Proxy 1 for christian_nationalism: index with score: -0.018669270011789613\n",
            "Proxy 2 for christian_nationalism: turnout20post with score: -0.02407450073720074\n",
            "Proxy 3 for christian_nationalism: white with score: -0.09401402989274361\n",
            "Proxy 4 for christian_nationalism: faminc_new with score: -0.1572540597706617\n",
            "Proxy 5 for christian_nationalism: hispanic with score: -0.16295218193814767\n",
            "Proxy 6 for christian_nationalism: partisan_violence with score: -0.16356565284041022\n",
            "Proxy 7 for christian_nationalism: educ with score: -0.17447425967681365\n",
            "Proxy 8 for christian_nationalism: auth_grid_2 with score: -0.17872540448381102\n",
            "Proxy 9 for christian_nationalism: auth_grid_1 with score: -0.20419322545264168\n",
            "Proxy 10 for christian_nationalism: auth_grid_3 with score: -0.21357091839080622\n",
            "Running iteration 2/7\n"
          ]
        },
        {
          "output_type": "stream",
          "name": "stderr",
          "text": [
            "/usr/local/lib/python3.10/dist-packages/keras/src/layers/core/dense.py:87: UserWarning: Do not pass an `input_shape`/`input_dim` argument to a layer. When using Sequential models, prefer using an `Input(shape)` object as the first layer in the model instead.\n",
            "  super().__init__(activity_regularizer=activity_regularizer, **kwargs)\n"
          ]
        },
        {
          "output_type": "stream",
          "name": "stdout",
          "text": [
            "\u001b[1m54/54\u001b[0m \u001b[32m━━━━━━━━━━━━━━━━━━━━\u001b[0m\u001b[37m\u001b[0m \u001b[1m0s\u001b[0m 3ms/step\n",
            "\u001b[1m11/11\u001b[0m \u001b[32m━━━━━━━━━━━━━━━━━━━━\u001b[0m\u001b[37m\u001b[0m \u001b[1m0s\u001b[0m 3ms/step \n",
            "Debug statement: Neural Net test MSE = 0.017437458441973773\n",
            "Proxy 1 for christian_nationalism: index with score: -0.01904470129054043\n",
            "Proxy 2 for christian_nationalism: turnout20post with score: -0.024202192717274505\n",
            "Proxy 3 for christian_nationalism: white with score: -0.09245950468833156\n",
            "Proxy 4 for christian_nationalism: faminc_new with score: -0.15221182210298548\n",
            "Proxy 5 for christian_nationalism: hispanic with score: -0.16312772007953588\n",
            "Proxy 6 for christian_nationalism: partisan_violence with score: -0.167219215696165\n",
            "Proxy 7 for christian_nationalism: educ with score: -0.16902899752083667\n",
            "Proxy 8 for christian_nationalism: auth_grid_2 with score: -0.17608906847359845\n",
            "Proxy 9 for christian_nationalism: auth_grid_3 with score: -0.19962318095207662\n",
            "Proxy 10 for christian_nationalism: auth_grid_1 with score: -0.2176896967414857\n",
            "Running iteration 3/7\n"
          ]
        },
        {
          "output_type": "stream",
          "name": "stderr",
          "text": [
            "/usr/local/lib/python3.10/dist-packages/keras/src/layers/core/dense.py:87: UserWarning: Do not pass an `input_shape`/`input_dim` argument to a layer. When using Sequential models, prefer using an `Input(shape)` object as the first layer in the model instead.\n",
            "  super().__init__(activity_regularizer=activity_regularizer, **kwargs)\n"
          ]
        },
        {
          "output_type": "stream",
          "name": "stdout",
          "text": [
            "\u001b[1m54/54\u001b[0m \u001b[32m━━━━━━━━━━━━━━━━━━━━\u001b[0m\u001b[37m\u001b[0m \u001b[1m0s\u001b[0m 3ms/step\n",
            "\u001b[1m11/11\u001b[0m \u001b[32m━━━━━━━━━━━━━━━━━━━━\u001b[0m\u001b[37m\u001b[0m \u001b[1m0s\u001b[0m 2ms/step \n",
            "Debug statement: Neural Net test MSE = 0.017399322674686742\n",
            "Proxy 1 for christian_nationalism: index with score: -0.019705896321192882\n",
            "Proxy 2 for christian_nationalism: turnout20post with score: -0.021707922236535636\n",
            "Proxy 3 for christian_nationalism: white with score: -0.09482324101208701\n",
            "Proxy 4 for christian_nationalism: faminc_new with score: -0.15653688803709115\n",
            "Proxy 5 for christian_nationalism: hispanic with score: -0.16252237713374404\n",
            "Proxy 6 for christian_nationalism: partisan_violence with score: -0.16556660877087254\n",
            "Proxy 7 for christian_nationalism: auth_grid_2 with score: -0.166759800166923\n",
            "Proxy 8 for christian_nationalism: educ with score: -0.17148965717354472\n",
            "Proxy 9 for christian_nationalism: auth_grid_3 with score: -0.20814062079661722\n",
            "Proxy 10 for christian_nationalism: auth_grid_1 with score: -0.20953857295158293\n",
            "Running iteration 4/7\n"
          ]
        },
        {
          "output_type": "stream",
          "name": "stderr",
          "text": [
            "/usr/local/lib/python3.10/dist-packages/keras/src/layers/core/dense.py:87: UserWarning: Do not pass an `input_shape`/`input_dim` argument to a layer. When using Sequential models, prefer using an `Input(shape)` object as the first layer in the model instead.\n",
            "  super().__init__(activity_regularizer=activity_regularizer, **kwargs)\n"
          ]
        },
        {
          "output_type": "stream",
          "name": "stdout",
          "text": [
            "\u001b[1m54/54\u001b[0m \u001b[32m━━━━━━━━━━━━━━━━━━━━\u001b[0m\u001b[37m\u001b[0m \u001b[1m0s\u001b[0m 3ms/step\n",
            "\u001b[1m11/11\u001b[0m \u001b[32m━━━━━━━━━━━━━━━━━━━━\u001b[0m\u001b[37m\u001b[0m \u001b[1m0s\u001b[0m 2ms/step \n",
            "Debug statement: Neural Net test MSE = 0.0169476920791085\n",
            "Proxy 1 for christian_nationalism: index with score: -0.019639117193268805\n",
            "Proxy 2 for christian_nationalism: turnout20post with score: -0.02292602350195576\n",
            "Proxy 3 for christian_nationalism: white with score: -0.09458323025249947\n",
            "Proxy 4 for christian_nationalism: faminc_new with score: -0.1566880097120125\n",
            "Proxy 5 for christian_nationalism: hispanic with score: -0.16290883885373292\n",
            "Proxy 6 for christian_nationalism: partisan_violence with score: -0.1644540640865914\n",
            "Proxy 7 for christian_nationalism: educ with score: -0.1686512140757318\n",
            "Proxy 8 for christian_nationalism: auth_grid_2 with score: -0.17066718401568257\n",
            "Proxy 9 for christian_nationalism: auth_grid_3 with score: -0.20792586528051918\n",
            "Proxy 10 for christian_nationalism: auth_grid_1 with score: -0.21463912975671595\n",
            "Running iteration 5/7\n"
          ]
        },
        {
          "output_type": "stream",
          "name": "stderr",
          "text": [
            "/usr/local/lib/python3.10/dist-packages/keras/src/layers/core/dense.py:87: UserWarning: Do not pass an `input_shape`/`input_dim` argument to a layer. When using Sequential models, prefer using an `Input(shape)` object as the first layer in the model instead.\n",
            "  super().__init__(activity_regularizer=activity_regularizer, **kwargs)\n"
          ]
        },
        {
          "output_type": "stream",
          "name": "stdout",
          "text": [
            "\u001b[1m54/54\u001b[0m \u001b[32m━━━━━━━━━━━━━━━━━━━━\u001b[0m\u001b[37m\u001b[0m \u001b[1m0s\u001b[0m 3ms/step\n",
            "\u001b[1m11/11\u001b[0m \u001b[32m━━━━━━━━━━━━━━━━━━━━\u001b[0m\u001b[37m\u001b[0m \u001b[1m0s\u001b[0m 2ms/step \n",
            "Debug statement: Neural Net test MSE = 0.01788255348366154\n",
            "Proxy 1 for christian_nationalism: index with score: -0.019637393236536634\n",
            "Proxy 2 for christian_nationalism: turnout20post with score: -0.024479103728467642\n",
            "Proxy 3 for christian_nationalism: white with score: -0.09314451452675825\n",
            "Proxy 4 for christian_nationalism: faminc_new with score: -0.15448527065777337\n",
            "Proxy 5 for christian_nationalism: hispanic with score: -0.1631423889262156\n",
            "Proxy 6 for christian_nationalism: partisan_violence with score: -0.16348670679706961\n",
            "Proxy 7 for christian_nationalism: educ with score: -0.17322665454984643\n",
            "Proxy 8 for christian_nationalism: auth_grid_2 with score: -0.1904106768420595\n",
            "Proxy 9 for christian_nationalism: auth_grid_3 with score: -0.22120750837667247\n",
            "Proxy 10 for christian_nationalism: auth_grid_1 with score: -0.22202573213940774\n",
            "Running iteration 6/7\n"
          ]
        },
        {
          "output_type": "stream",
          "name": "stderr",
          "text": [
            "/usr/local/lib/python3.10/dist-packages/keras/src/layers/core/dense.py:87: UserWarning: Do not pass an `input_shape`/`input_dim` argument to a layer. When using Sequential models, prefer using an `Input(shape)` object as the first layer in the model instead.\n",
            "  super().__init__(activity_regularizer=activity_regularizer, **kwargs)\n"
          ]
        },
        {
          "output_type": "stream",
          "name": "stdout",
          "text": [
            "\u001b[1m54/54\u001b[0m \u001b[32m━━━━━━━━━━━━━━━━━━━━\u001b[0m\u001b[37m\u001b[0m \u001b[1m0s\u001b[0m 4ms/step\n",
            "\u001b[1m11/11\u001b[0m \u001b[32m━━━━━━━━━━━━━━━━━━━━\u001b[0m\u001b[37m\u001b[0m \u001b[1m0s\u001b[0m 2ms/step \n",
            "Debug statement: Neural Net test MSE = 0.017941867396574575\n",
            "Proxy 1 for christian_nationalism: index with score: -0.02000899859805287\n",
            "Proxy 2 for christian_nationalism: turnout20post with score: -0.023017339217693507\n",
            "Proxy 3 for christian_nationalism: white with score: -0.09447727316584183\n",
            "Proxy 4 for christian_nationalism: faminc_new with score: -0.15687541058712676\n",
            "Proxy 5 for christian_nationalism: partisan_violence with score: -0.16221144089287778\n",
            "Proxy 6 for christian_nationalism: hispanic with score: -0.16296788759177702\n",
            "Proxy 7 for christian_nationalism: educ with score: -0.16680680890319438\n",
            "Proxy 8 for christian_nationalism: auth_grid_2 with score: -0.1794782855398542\n",
            "Proxy 9 for christian_nationalism: auth_grid_1 with score: -0.21795767044777004\n",
            "Proxy 10 for christian_nationalism: auth_grid_3 with score: -0.2202281270476374\n",
            "Running iteration 7/7\n"
          ]
        },
        {
          "output_type": "stream",
          "name": "stderr",
          "text": [
            "/usr/local/lib/python3.10/dist-packages/keras/src/layers/core/dense.py:87: UserWarning: Do not pass an `input_shape`/`input_dim` argument to a layer. When using Sequential models, prefer using an `Input(shape)` object as the first layer in the model instead.\n",
            "  super().__init__(activity_regularizer=activity_regularizer, **kwargs)\n"
          ]
        },
        {
          "output_type": "stream",
          "name": "stdout",
          "text": [
            "\u001b[1m54/54\u001b[0m \u001b[32m━━━━━━━━━━━━━━━━━━━━\u001b[0m\u001b[37m\u001b[0m \u001b[1m0s\u001b[0m 3ms/step\n",
            "\u001b[1m11/11\u001b[0m \u001b[32m━━━━━━━━━━━━━━━━━━━━\u001b[0m\u001b[37m\u001b[0m \u001b[1m0s\u001b[0m 2ms/step \n",
            "Debug statement: Neural Net test MSE = 0.01759000833670034\n",
            "Proxy 1 for christian_nationalism: index with score: -0.01993675520117832\n",
            "Proxy 2 for christian_nationalism: turnout20post with score: -0.02297562021603849\n",
            "Proxy 3 for christian_nationalism: white with score: -0.09393480751656283\n",
            "Proxy 4 for christian_nationalism: faminc_new with score: -0.15587149069060766\n",
            "Proxy 5 for christian_nationalism: hispanic with score: -0.1631901603136505\n",
            "Proxy 6 for christian_nationalism: partisan_violence with score: -0.16334700626635282\n",
            "Proxy 7 for christian_nationalism: educ with score: -0.17069942730409185\n",
            "Proxy 8 for christian_nationalism: auth_grid_2 with score: -0.18070111169146508\n",
            "Proxy 9 for christian_nationalism: auth_grid_1 with score: -0.21065314947795066\n",
            "Proxy 10 for christian_nationalism: auth_grid_3 with score: -0.22285832100114347\n",
            "Testing with lambda pair: (0.01, 0.2)\n",
            "Running iteration 1/7\n"
          ]
        },
        {
          "output_type": "stream",
          "name": "stderr",
          "text": [
            "/usr/local/lib/python3.10/dist-packages/keras/src/layers/core/dense.py:87: UserWarning: Do not pass an `input_shape`/`input_dim` argument to a layer. When using Sequential models, prefer using an `Input(shape)` object as the first layer in the model instead.\n",
            "  super().__init__(activity_regularizer=activity_regularizer, **kwargs)\n"
          ]
        },
        {
          "output_type": "stream",
          "name": "stdout",
          "text": [
            "\u001b[1m54/54\u001b[0m \u001b[32m━━━━━━━━━━━━━━━━━━━━\u001b[0m\u001b[37m\u001b[0m \u001b[1m0s\u001b[0m 3ms/step\n",
            "\u001b[1m11/11\u001b[0m \u001b[32m━━━━━━━━━━━━━━━━━━━━\u001b[0m\u001b[37m\u001b[0m \u001b[1m0s\u001b[0m 2ms/step \n",
            "Debug statement: Neural Net test MSE = 0.017810846831954313\n",
            "Proxy 1 for christian_nationalism: pff_dt with score: 0.11799706719534545\n",
            "Proxy 2 for christian_nationalism: presvote20post with score: 0.0955035115000922\n",
            "Proxy 3 for christian_nationalism: proxy_0.90 with score: 0.09337646768104205\n",
            "Proxy 4 for christian_nationalism: senvote20post with score: 0.08748513440229438\n",
            "Proxy 5 for christian_nationalism: housevote20post with score: 0.08465165703867092\n",
            "Proxy 6 for christian_nationalism: ideo7 with score: 0.08201480595251304\n",
            "Proxy 7 for christian_nationalism: election_fairnness with score: 0.07972980190087625\n",
            "Proxy 8 for christian_nationalism: immigrant_deport with score: 0.0683228366142263\n",
            "Proxy 9 for christian_nationalism: pid7 with score: 0.0559680864720668\n",
            "Proxy 10 for christian_nationalism: auth_grid_1 with score: 0.035943124818392985\n",
            "Running iteration 2/7\n"
          ]
        },
        {
          "output_type": "stream",
          "name": "stderr",
          "text": [
            "/usr/local/lib/python3.10/dist-packages/keras/src/layers/core/dense.py:87: UserWarning: Do not pass an `input_shape`/`input_dim` argument to a layer. When using Sequential models, prefer using an `Input(shape)` object as the first layer in the model instead.\n",
            "  super().__init__(activity_regularizer=activity_regularizer, **kwargs)\n"
          ]
        },
        {
          "output_type": "stream",
          "name": "stdout",
          "text": [
            "\u001b[1m54/54\u001b[0m \u001b[32m━━━━━━━━━━━━━━━━━━━━\u001b[0m\u001b[37m\u001b[0m \u001b[1m0s\u001b[0m 3ms/step\n",
            "\u001b[1m11/11\u001b[0m \u001b[32m━━━━━━━━━━━━━━━━━━━━\u001b[0m\u001b[37m\u001b[0m \u001b[1m0s\u001b[0m 2ms/step \n",
            "Debug statement: Neural Net test MSE = 0.016987799018228004\n",
            "Proxy 1 for christian_nationalism: pff_dt with score: 0.10987574613186282\n",
            "Proxy 2 for christian_nationalism: proxy_0.90 with score: 0.09536822334603862\n",
            "Proxy 3 for christian_nationalism: ideo7 with score: 0.08198624305323404\n",
            "Proxy 4 for christian_nationalism: presvote20post with score: 0.08170101236286517\n",
            "Proxy 5 for christian_nationalism: housevote20post with score: 0.07845372884004007\n",
            "Proxy 6 for christian_nationalism: senvote20post with score: 0.07782968240109672\n",
            "Proxy 7 for christian_nationalism: immigrant_deport with score: 0.07684381047861066\n",
            "Proxy 8 for christian_nationalism: election_fairnness with score: 0.06475903807181504\n",
            "Proxy 9 for christian_nationalism: auth_grid_1 with score: 0.0513405503159613\n",
            "Proxy 10 for christian_nationalism: pid7 with score: 0.04883714983943516\n",
            "Running iteration 3/7\n"
          ]
        },
        {
          "output_type": "stream",
          "name": "stderr",
          "text": [
            "/usr/local/lib/python3.10/dist-packages/keras/src/layers/core/dense.py:87: UserWarning: Do not pass an `input_shape`/`input_dim` argument to a layer. When using Sequential models, prefer using an `Input(shape)` object as the first layer in the model instead.\n",
            "  super().__init__(activity_regularizer=activity_regularizer, **kwargs)\n"
          ]
        },
        {
          "output_type": "stream",
          "name": "stdout",
          "text": [
            "\u001b[1m54/54\u001b[0m \u001b[32m━━━━━━━━━━━━━━━━━━━━\u001b[0m\u001b[37m\u001b[0m \u001b[1m0s\u001b[0m 3ms/step\n",
            "\u001b[1m11/11\u001b[0m \u001b[32m━━━━━━━━━━━━━━━━━━━━\u001b[0m\u001b[37m\u001b[0m \u001b[1m0s\u001b[0m 2ms/step \n",
            "Debug statement: Neural Net test MSE = 0.018341939533081525\n",
            "Proxy 1 for christian_nationalism: pff_dt with score: 0.11831237060429126\n",
            "Proxy 2 for christian_nationalism: presvote20post with score: 0.09165959403191223\n",
            "Proxy 3 for christian_nationalism: proxy_0.90 with score: 0.09112521775339666\n",
            "Proxy 4 for christian_nationalism: election_fairnness with score: 0.08740182424667936\n",
            "Proxy 5 for christian_nationalism: senvote20post with score: 0.08422045797968042\n",
            "Proxy 6 for christian_nationalism: ideo7 with score: 0.08152255372759154\n",
            "Proxy 7 for christian_nationalism: housevote20post with score: 0.08098883833460876\n",
            "Proxy 8 for christian_nationalism: immigrant_deport with score: 0.05468320335563534\n",
            "Proxy 9 for christian_nationalism: pid7 with score: 0.05223645551689313\n",
            "Proxy 10 for christian_nationalism: auth_grid_1 with score: 0.0433686326650035\n",
            "Running iteration 4/7\n"
          ]
        },
        {
          "output_type": "stream",
          "name": "stderr",
          "text": [
            "/usr/local/lib/python3.10/dist-packages/keras/src/layers/core/dense.py:87: UserWarning: Do not pass an `input_shape`/`input_dim` argument to a layer. When using Sequential models, prefer using an `Input(shape)` object as the first layer in the model instead.\n",
            "  super().__init__(activity_regularizer=activity_regularizer, **kwargs)\n"
          ]
        },
        {
          "output_type": "stream",
          "name": "stdout",
          "text": [
            "\u001b[1m54/54\u001b[0m \u001b[32m━━━━━━━━━━━━━━━━━━━━\u001b[0m\u001b[37m\u001b[0m \u001b[1m0s\u001b[0m 2ms/step\n",
            "\u001b[1m11/11\u001b[0m \u001b[32m━━━━━━━━━━━━━━━━━━━━\u001b[0m\u001b[37m\u001b[0m \u001b[1m0s\u001b[0m 2ms/step \n",
            "Debug statement: Neural Net test MSE = 0.017289381100506887\n",
            "Proxy 1 for christian_nationalism: pff_dt with score: 0.10604386455214079\n",
            "Proxy 2 for christian_nationalism: proxy_0.90 with score: 0.0941642626585942\n",
            "Proxy 3 for christian_nationalism: immigrant_deport with score: 0.08670749211893361\n",
            "Proxy 4 for christian_nationalism: presvote20post with score: 0.08655163903365806\n",
            "Proxy 5 for christian_nationalism: housevote20post with score: 0.07913254219816448\n",
            "Proxy 6 for christian_nationalism: senvote20post with score: 0.07877305051074618\n",
            "Proxy 7 for christian_nationalism: ideo7 with score: 0.0772970147539237\n",
            "Proxy 8 for christian_nationalism: election_fairnness with score: 0.06503638791775324\n",
            "Proxy 9 for christian_nationalism: auth_grid_1 with score: 0.048552517522384986\n",
            "Proxy 10 for christian_nationalism: immigrant_citizenship with score: 0.040915533716137015\n",
            "Running iteration 5/7\n"
          ]
        },
        {
          "output_type": "stream",
          "name": "stderr",
          "text": [
            "/usr/local/lib/python3.10/dist-packages/keras/src/layers/core/dense.py:87: UserWarning: Do not pass an `input_shape`/`input_dim` argument to a layer. When using Sequential models, prefer using an `Input(shape)` object as the first layer in the model instead.\n",
            "  super().__init__(activity_regularizer=activity_regularizer, **kwargs)\n"
          ]
        },
        {
          "output_type": "stream",
          "name": "stdout",
          "text": [
            "\u001b[1m54/54\u001b[0m \u001b[32m━━━━━━━━━━━━━━━━━━━━\u001b[0m\u001b[37m\u001b[0m \u001b[1m0s\u001b[0m 3ms/step\n",
            "\u001b[1m11/11\u001b[0m \u001b[32m━━━━━━━━━━━━━━━━━━━━\u001b[0m\u001b[37m\u001b[0m \u001b[1m0s\u001b[0m 2ms/step \n",
            "Debug statement: Neural Net test MSE = 0.017810429354303364\n",
            "Proxy 1 for christian_nationalism: pff_dt with score: 0.11115668902711826\n",
            "Proxy 2 for christian_nationalism: election_fairnness with score: 0.09388793592130612\n",
            "Proxy 3 for christian_nationalism: proxy_0.90 with score: 0.08988358692288848\n",
            "Proxy 4 for christian_nationalism: presvote20post with score: 0.08935235086420243\n",
            "Proxy 5 for christian_nationalism: senvote20post with score: 0.08061885293228815\n",
            "Proxy 6 for christian_nationalism: ideo7 with score: 0.08048434765951432\n",
            "Proxy 7 for christian_nationalism: housevote20post with score: 0.07761164090722303\n",
            "Proxy 8 for christian_nationalism: immigrant_deport with score: 0.07630133206553716\n",
            "Proxy 9 for christian_nationalism: auth_grid_1 with score: 0.04401324909155917\n",
            "Proxy 10 for christian_nationalism: auth_grid_3 with score: 0.04340649826484133\n",
            "Running iteration 6/7\n"
          ]
        },
        {
          "output_type": "stream",
          "name": "stderr",
          "text": [
            "/usr/local/lib/python3.10/dist-packages/keras/src/layers/core/dense.py:87: UserWarning: Do not pass an `input_shape`/`input_dim` argument to a layer. When using Sequential models, prefer using an `Input(shape)` object as the first layer in the model instead.\n",
            "  super().__init__(activity_regularizer=activity_regularizer, **kwargs)\n"
          ]
        },
        {
          "output_type": "stream",
          "name": "stdout",
          "text": [
            "\u001b[1m54/54\u001b[0m \u001b[32m━━━━━━━━━━━━━━━━━━━━\u001b[0m\u001b[37m\u001b[0m \u001b[1m0s\u001b[0m 4ms/step\n",
            "\u001b[1m11/11\u001b[0m \u001b[32m━━━━━━━━━━━━━━━━━━━━\u001b[0m\u001b[37m\u001b[0m \u001b[1m0s\u001b[0m 2ms/step \n",
            "Debug statement: Neural Net test MSE = 0.01740522108265976\n",
            "Proxy 1 for christian_nationalism: pff_dt with score: 0.10437066370787765\n",
            "Proxy 2 for christian_nationalism: proxy_0.90 with score: 0.09483747048951838\n",
            "Proxy 3 for christian_nationalism: immigrant_deport with score: 0.08460393803929975\n",
            "Proxy 4 for christian_nationalism: presvote20post with score: 0.08230282013836862\n",
            "Proxy 5 for christian_nationalism: ideo7 with score: 0.08205226195677426\n",
            "Proxy 6 for christian_nationalism: housevote20post with score: 0.07815031579421286\n",
            "Proxy 7 for christian_nationalism: senvote20post with score: 0.07763814366750454\n",
            "Proxy 8 for christian_nationalism: election_fairnness with score: 0.06135515691621887\n",
            "Proxy 9 for christian_nationalism: auth_grid_1 with score: 0.04515442116631797\n",
            "Proxy 10 for christian_nationalism: immigrant_citizenship with score: 0.04484392885893296\n",
            "Running iteration 7/7\n"
          ]
        },
        {
          "output_type": "stream",
          "name": "stderr",
          "text": [
            "/usr/local/lib/python3.10/dist-packages/keras/src/layers/core/dense.py:87: UserWarning: Do not pass an `input_shape`/`input_dim` argument to a layer. When using Sequential models, prefer using an `Input(shape)` object as the first layer in the model instead.\n",
            "  super().__init__(activity_regularizer=activity_regularizer, **kwargs)\n"
          ]
        },
        {
          "output_type": "stream",
          "name": "stdout",
          "text": [
            "\u001b[1m54/54\u001b[0m \u001b[32m━━━━━━━━━━━━━━━━━━━━\u001b[0m\u001b[37m\u001b[0m \u001b[1m0s\u001b[0m 3ms/step\n",
            "\u001b[1m11/11\u001b[0m \u001b[32m━━━━━━━━━━━━━━━━━━━━\u001b[0m\u001b[37m\u001b[0m \u001b[1m0s\u001b[0m 2ms/step \n",
            "Debug statement: Neural Net test MSE = 0.016783809922770405\n",
            "Proxy 1 for christian_nationalism: pff_dt with score: 0.1038632742457318\n",
            "Proxy 2 for christian_nationalism: proxy_0.90 with score: 0.0964879806532147\n",
            "Proxy 3 for christian_nationalism: immigrant_deport with score: 0.09221915170754755\n",
            "Proxy 4 for christian_nationalism: presvote20post with score: 0.09117319112082764\n",
            "Proxy 5 for christian_nationalism: housevote20post with score: 0.08678979825933966\n",
            "Proxy 6 for christian_nationalism: senvote20post with score: 0.08585234733429958\n",
            "Proxy 7 for christian_nationalism: ideo7 with score: 0.0836414634818188\n",
            "Proxy 8 for christian_nationalism: election_fairnness with score: 0.0713586299237853\n",
            "Proxy 9 for christian_nationalism: immigrant_citizenship with score: 0.04809238512294056\n",
            "Proxy 10 for christian_nationalism: pid7 with score: 0.043004701109775445\n",
            "Testing with lambda pair: (0.01, 0.3)\n",
            "Running iteration 1/7\n"
          ]
        },
        {
          "output_type": "stream",
          "name": "stderr",
          "text": [
            "/usr/local/lib/python3.10/dist-packages/keras/src/layers/core/dense.py:87: UserWarning: Do not pass an `input_shape`/`input_dim` argument to a layer. When using Sequential models, prefer using an `Input(shape)` object as the first layer in the model instead.\n",
            "  super().__init__(activity_regularizer=activity_regularizer, **kwargs)\n"
          ]
        },
        {
          "output_type": "stream",
          "name": "stdout",
          "text": [
            "\u001b[1m54/54\u001b[0m \u001b[32m━━━━━━━━━━━━━━━━━━━━\u001b[0m\u001b[37m\u001b[0m \u001b[1m0s\u001b[0m 3ms/step\n",
            "\u001b[1m11/11\u001b[0m \u001b[32m━━━━━━━━━━━━━━━━━━━━\u001b[0m\u001b[37m\u001b[0m \u001b[1m0s\u001b[0m 2ms/step \n",
            "Debug statement: Neural Net test MSE = 0.0175353944666014\n",
            "Proxy 1 for christian_nationalism: proxy_0.90 with score: -0.005030745641549539\n",
            "Proxy 2 for christian_nationalism: turnout20post with score: -0.010989350202643713\n",
            "Proxy 3 for christian_nationalism: index with score: -0.011860731408933189\n",
            "Proxy 4 for christian_nationalism: auth_grid_1 with score: -0.01806861810374999\n",
            "Proxy 5 for christian_nationalism: auth_grid_3 with score: -0.026937966798185872\n",
            "Proxy 6 for christian_nationalism: educ with score: -0.034586372771142695\n",
            "Proxy 7 for christian_nationalism: auth_grid_2 with score: -0.03805925821733688\n",
            "Proxy 8 for christian_nationalism: white with score: -0.043540104642704844\n",
            "Proxy 9 for christian_nationalism: ideo7 with score: -0.04583823218516778\n",
            "Proxy 10 for christian_nationalism: pff_dt with score: -0.048578475672165555\n",
            "Running iteration 2/7\n"
          ]
        },
        {
          "output_type": "stream",
          "name": "stderr",
          "text": [
            "/usr/local/lib/python3.10/dist-packages/keras/src/layers/core/dense.py:87: UserWarning: Do not pass an `input_shape`/`input_dim` argument to a layer. When using Sequential models, prefer using an `Input(shape)` object as the first layer in the model instead.\n",
            "  super().__init__(activity_regularizer=activity_regularizer, **kwargs)\n"
          ]
        },
        {
          "output_type": "stream",
          "name": "stdout",
          "text": [
            "\u001b[1m54/54\u001b[0m \u001b[32m━━━━━━━━━━━━━━━━━━━━\u001b[0m\u001b[37m\u001b[0m \u001b[1m0s\u001b[0m 3ms/step\n",
            "\u001b[1m11/11\u001b[0m \u001b[32m━━━━━━━━━━━━━━━━━━━━\u001b[0m\u001b[37m\u001b[0m \u001b[1m0s\u001b[0m 2ms/step \n",
            "Debug statement: Neural Net test MSE = 0.017479111752767108\n",
            "Proxy 1 for christian_nationalism: proxy_0.90 with score: -0.005825597704162411\n",
            "Proxy 2 for christian_nationalism: turnout20post with score: -0.011727286495826062\n",
            "Proxy 3 for christian_nationalism: index with score: -0.012238209124999743\n",
            "Proxy 4 for christian_nationalism: auth_grid_1 with score: -0.019515474254993642\n",
            "Proxy 5 for christian_nationalism: auth_grid_3 with score: -0.0203752118746319\n",
            "Proxy 6 for christian_nationalism: auth_grid_2 with score: -0.02780695578128413\n",
            "Proxy 7 for christian_nationalism: immigrant_deport with score: -0.044505019040901456\n",
            "Proxy 8 for christian_nationalism: white with score: -0.04485774028620745\n",
            "Proxy 9 for christian_nationalism: ideo7 with score: -0.0463629313745656\n",
            "Proxy 10 for christian_nationalism: educ with score: -0.047594336523028365\n",
            "Running iteration 3/7\n"
          ]
        },
        {
          "output_type": "stream",
          "name": "stderr",
          "text": [
            "/usr/local/lib/python3.10/dist-packages/keras/src/layers/core/dense.py:87: UserWarning: Do not pass an `input_shape`/`input_dim` argument to a layer. When using Sequential models, prefer using an `Input(shape)` object as the first layer in the model instead.\n",
            "  super().__init__(activity_regularizer=activity_regularizer, **kwargs)\n"
          ]
        },
        {
          "output_type": "stream",
          "name": "stdout",
          "text": [
            "\u001b[1m54/54\u001b[0m \u001b[32m━━━━━━━━━━━━━━━━━━━━\u001b[0m\u001b[37m\u001b[0m \u001b[1m0s\u001b[0m 3ms/step\n",
            "\u001b[1m11/11\u001b[0m \u001b[32m━━━━━━━━━━━━━━━━━━━━\u001b[0m\u001b[37m\u001b[0m \u001b[1m0s\u001b[0m 2ms/step \n",
            "Debug statement: Neural Net test MSE = 0.01794901157891583\n",
            "Proxy 1 for christian_nationalism: proxy_0.90 with score: -0.008288964767355356\n",
            "Proxy 2 for christian_nationalism: turnout20post with score: -0.010978632633400865\n",
            "Proxy 3 for christian_nationalism: index with score: -0.01211474206128923\n",
            "Proxy 4 for christian_nationalism: auth_grid_1 with score: -0.01232070436417132\n",
            "Proxy 5 for christian_nationalism: auth_grid_3 with score: -0.02317170837221194\n",
            "Proxy 6 for christian_nationalism: auth_grid_2 with score: -0.027171551660481325\n",
            "Proxy 7 for christian_nationalism: educ with score: -0.04152590952907003\n",
            "Proxy 8 for christian_nationalism: immigrant_deport with score: -0.04277171747608177\n",
            "Proxy 9 for christian_nationalism: white with score: -0.0442367587043431\n",
            "Proxy 10 for christian_nationalism: ideo7 with score: -0.048118241309834026\n",
            "Running iteration 4/7\n"
          ]
        },
        {
          "output_type": "stream",
          "name": "stderr",
          "text": [
            "/usr/local/lib/python3.10/dist-packages/keras/src/layers/core/dense.py:87: UserWarning: Do not pass an `input_shape`/`input_dim` argument to a layer. When using Sequential models, prefer using an `Input(shape)` object as the first layer in the model instead.\n",
            "  super().__init__(activity_regularizer=activity_regularizer, **kwargs)\n"
          ]
        },
        {
          "output_type": "stream",
          "name": "stdout",
          "text": [
            "\u001b[1m54/54\u001b[0m \u001b[32m━━━━━━━━━━━━━━━━━━━━\u001b[0m\u001b[37m\u001b[0m \u001b[1m0s\u001b[0m 3ms/step\n",
            "\u001b[1m11/11\u001b[0m \u001b[32m━━━━━━━━━━━━━━━━━━━━\u001b[0m\u001b[37m\u001b[0m \u001b[1m0s\u001b[0m 2ms/step \n",
            "Debug statement: Neural Net test MSE = 0.016788362110943325\n",
            "Proxy 1 for christian_nationalism: proxy_0.90 with score: -0.00817608189203739\n",
            "Proxy 2 for christian_nationalism: turnout20post with score: -0.011604633856336767\n",
            "Proxy 3 for christian_nationalism: index with score: -0.012542414440379767\n",
            "Proxy 4 for christian_nationalism: auth_grid_1 with score: -0.01925776269820033\n",
            "Proxy 5 for christian_nationalism: auth_grid_3 with score: -0.026600945815496393\n",
            "Proxy 6 for christian_nationalism: auth_grid_2 with score: -0.03641777572090288\n",
            "Proxy 7 for christian_nationalism: educ with score: -0.04202913017560984\n",
            "Proxy 8 for christian_nationalism: white with score: -0.04446575341242534\n",
            "Proxy 9 for christian_nationalism: ideo7 with score: -0.04618410241752538\n",
            "Proxy 10 for christian_nationalism: immigrant_deport with score: -0.04663148731022934\n",
            "Running iteration 5/7\n"
          ]
        },
        {
          "output_type": "stream",
          "name": "stderr",
          "text": [
            "/usr/local/lib/python3.10/dist-packages/keras/src/layers/core/dense.py:87: UserWarning: Do not pass an `input_shape`/`input_dim` argument to a layer. When using Sequential models, prefer using an `Input(shape)` object as the first layer in the model instead.\n",
            "  super().__init__(activity_regularizer=activity_regularizer, **kwargs)\n"
          ]
        },
        {
          "output_type": "stream",
          "name": "stdout",
          "text": [
            "\u001b[1m54/54\u001b[0m \u001b[32m━━━━━━━━━━━━━━━━━━━━\u001b[0m\u001b[37m\u001b[0m \u001b[1m0s\u001b[0m 3ms/step\n",
            "\u001b[1m11/11\u001b[0m \u001b[32m━━━━━━━━━━━━━━━━━━━━\u001b[0m\u001b[37m\u001b[0m \u001b[1m0s\u001b[0m 2ms/step \n",
            "Debug statement: Neural Net test MSE = 0.017578118223604083\n",
            "Proxy 1 for christian_nationalism: proxy_0.90 with score: -0.007665622353148632\n",
            "Proxy 2 for christian_nationalism: turnout20post with score: -0.010853477867783814\n",
            "Proxy 3 for christian_nationalism: index with score: -0.012003629796647897\n",
            "Proxy 4 for christian_nationalism: auth_grid_1 with score: -0.020929506837206013\n",
            "Proxy 5 for christian_nationalism: auth_grid_3 with score: -0.02544792094924267\n",
            "Proxy 6 for christian_nationalism: auth_grid_2 with score: -0.03156649428329332\n",
            "Proxy 7 for christian_nationalism: educ with score: -0.04154044819453156\n",
            "Proxy 8 for christian_nationalism: ideo7 with score: -0.04315288639669654\n",
            "Proxy 9 for christian_nationalism: white with score: -0.04388008893986147\n",
            "Proxy 10 for christian_nationalism: immigrant_deport with score: -0.04731732912711162\n",
            "Running iteration 6/7\n"
          ]
        },
        {
          "output_type": "stream",
          "name": "stderr",
          "text": [
            "/usr/local/lib/python3.10/dist-packages/keras/src/layers/core/dense.py:87: UserWarning: Do not pass an `input_shape`/`input_dim` argument to a layer. When using Sequential models, prefer using an `Input(shape)` object as the first layer in the model instead.\n",
            "  super().__init__(activity_regularizer=activity_regularizer, **kwargs)\n"
          ]
        },
        {
          "output_type": "stream",
          "name": "stdout",
          "text": [
            "\u001b[1m54/54\u001b[0m \u001b[32m━━━━━━━━━━━━━━━━━━━━\u001b[0m\u001b[37m\u001b[0m \u001b[1m0s\u001b[0m 4ms/step\n",
            "\u001b[1m11/11\u001b[0m \u001b[32m━━━━━━━━━━━━━━━━━━━━\u001b[0m\u001b[37m\u001b[0m \u001b[1m0s\u001b[0m 2ms/step \n",
            "Debug statement: Neural Net test MSE = 0.01707528183374536\n",
            "Proxy 1 for christian_nationalism: proxy_0.90 with score: -0.004840655139546984\n",
            "Proxy 2 for christian_nationalism: turnout20post with score: -0.010515784294858554\n",
            "Proxy 3 for christian_nationalism: index with score: -0.012147804422996355\n",
            "Proxy 4 for christian_nationalism: auth_grid_1 with score: -0.014264008356339897\n",
            "Proxy 5 for christian_nationalism: auth_grid_3 with score: -0.030568783079831602\n",
            "Proxy 6 for christian_nationalism: immigrant_deport with score: -0.03624069655059847\n",
            "Proxy 7 for christian_nationalism: auth_grid_2 with score: -0.03630105842586866\n",
            "Proxy 8 for christian_nationalism: ideo7 with score: -0.04231431150194259\n",
            "Proxy 9 for christian_nationalism: white with score: -0.0445027684418044\n",
            "Proxy 10 for christian_nationalism: educ with score: -0.049245023236743915\n",
            "Running iteration 7/7\n"
          ]
        },
        {
          "output_type": "stream",
          "name": "stderr",
          "text": [
            "/usr/local/lib/python3.10/dist-packages/keras/src/layers/core/dense.py:87: UserWarning: Do not pass an `input_shape`/`input_dim` argument to a layer. When using Sequential models, prefer using an `Input(shape)` object as the first layer in the model instead.\n",
            "  super().__init__(activity_regularizer=activity_regularizer, **kwargs)\n"
          ]
        },
        {
          "output_type": "stream",
          "name": "stdout",
          "text": [
            "\u001b[1m54/54\u001b[0m \u001b[32m━━━━━━━━━━━━━━━━━━━━\u001b[0m\u001b[37m\u001b[0m \u001b[1m0s\u001b[0m 3ms/step\n",
            "\u001b[1m11/11\u001b[0m \u001b[32m━━━━━━━━━━━━━━━━━━━━\u001b[0m\u001b[37m\u001b[0m \u001b[1m0s\u001b[0m 2ms/step \n",
            "Debug statement: Neural Net test MSE = 0.017233373381727892\n",
            "Proxy 1 for christian_nationalism: proxy_0.90 with score: -0.006599613297914669\n",
            "Proxy 2 for christian_nationalism: turnout20post with score: -0.011893719144759209\n",
            "Proxy 3 for christian_nationalism: index with score: -0.01239791801202258\n",
            "Proxy 4 for christian_nationalism: auth_grid_1 with score: -0.0183426948966936\n",
            "Proxy 5 for christian_nationalism: auth_grid_3 with score: -0.020151790704769884\n",
            "Proxy 6 for christian_nationalism: auth_grid_2 with score: -0.03698660519327894\n",
            "Proxy 7 for christian_nationalism: educ with score: -0.04123588797347611\n",
            "Proxy 8 for christian_nationalism: immigrant_deport with score: -0.041387048764918055\n",
            "Proxy 9 for christian_nationalism: ideo7 with score: -0.04324449158571392\n",
            "Proxy 10 for christian_nationalism: white with score: -0.04450895317598945\n",
            "Testing with lambda pair: (0.01, 0.4)\n",
            "Running iteration 1/7\n"
          ]
        },
        {
          "output_type": "stream",
          "name": "stderr",
          "text": [
            "/usr/local/lib/python3.10/dist-packages/keras/src/layers/core/dense.py:87: UserWarning: Do not pass an `input_shape`/`input_dim` argument to a layer. When using Sequential models, prefer using an `Input(shape)` object as the first layer in the model instead.\n",
            "  super().__init__(activity_regularizer=activity_regularizer, **kwargs)\n"
          ]
        },
        {
          "output_type": "stream",
          "name": "stdout",
          "text": [
            "\u001b[1m54/54\u001b[0m \u001b[32m━━━━━━━━━━━━━━━━━━━━\u001b[0m\u001b[37m\u001b[0m \u001b[1m0s\u001b[0m 4ms/step\n",
            "\u001b[1m11/11\u001b[0m \u001b[32m━━━━━━━━━━━━━━━━━━━━\u001b[0m\u001b[37m\u001b[0m \u001b[1m0s\u001b[0m 2ms/step \n",
            "Debug statement: Neural Net test MSE = 0.018137891984449372\n",
            "Proxy 1 for christian_nationalism: turnout20post with score: -0.016993899317713185\n",
            "Proxy 2 for christian_nationalism: index with score: -0.017862328650477103\n",
            "Proxy 3 for christian_nationalism: white with score: -0.0708100281032921\n",
            "Proxy 4 for christian_nationalism: auth_grid_2 with score: -0.09809811629382001\n",
            "Proxy 5 for christian_nationalism: faminc_new with score: -0.10746754867842806\n",
            "Proxy 6 for christian_nationalism: educ with score: -0.10781201175873653\n",
            "Proxy 7 for christian_nationalism: hispanic with score: -0.10957609592894436\n",
            "Proxy 8 for christian_nationalism: partisan_violence with score: -0.1102534833874438\n",
            "Proxy 9 for christian_nationalism: auth_grid_1 with score: -0.11042678446568491\n",
            "Proxy 10 for christian_nationalism: auth_grid_3 with score: -0.1115192800567975\n",
            "Running iteration 2/7\n"
          ]
        },
        {
          "output_type": "stream",
          "name": "stderr",
          "text": [
            "/usr/local/lib/python3.10/dist-packages/keras/src/layers/core/dense.py:87: UserWarning: Do not pass an `input_shape`/`input_dim` argument to a layer. When using Sequential models, prefer using an `Input(shape)` object as the first layer in the model instead.\n",
            "  super().__init__(activity_regularizer=activity_regularizer, **kwargs)\n"
          ]
        },
        {
          "output_type": "stream",
          "name": "stdout",
          "text": [
            "\u001b[1m54/54\u001b[0m \u001b[32m━━━━━━━━━━━━━━━━━━━━\u001b[0m\u001b[37m\u001b[0m \u001b[1m0s\u001b[0m 3ms/step\n",
            "\u001b[1m11/11\u001b[0m \u001b[32m━━━━━━━━━━━━━━━━━━━━\u001b[0m\u001b[37m\u001b[0m \u001b[1m0s\u001b[0m 2ms/step \n",
            "Debug statement: Neural Net test MSE = 0.017420895321292235\n",
            "Proxy 1 for christian_nationalism: index with score: -0.017259209192217732\n",
            "Proxy 2 for christian_nationalism: turnout20post with score: -0.017781149594201566\n",
            "Proxy 3 for christian_nationalism: white with score: -0.06966680151140046\n",
            "Proxy 4 for christian_nationalism: auth_grid_2 with score: -0.096328078269482\n",
            "Proxy 5 for christian_nationalism: educ with score: -0.09932134112642516\n",
            "Proxy 6 for christian_nationalism: faminc_new with score: -0.1042664820096182\n",
            "Proxy 7 for christian_nationalism: partisan_violence with score: -0.1085139363382068\n",
            "Proxy 8 for christian_nationalism: hispanic with score: -0.11139148569197084\n",
            "Proxy 9 for christian_nationalism: auth_grid_3 with score: -0.1129890188640815\n",
            "Proxy 10 for christian_nationalism: auth_grid_1 with score: -0.11322444512494376\n",
            "Running iteration 3/7\n"
          ]
        },
        {
          "output_type": "stream",
          "name": "stderr",
          "text": [
            "/usr/local/lib/python3.10/dist-packages/keras/src/layers/core/dense.py:87: UserWarning: Do not pass an `input_shape`/`input_dim` argument to a layer. When using Sequential models, prefer using an `Input(shape)` object as the first layer in the model instead.\n",
            "  super().__init__(activity_regularizer=activity_regularizer, **kwargs)\n"
          ]
        },
        {
          "output_type": "stream",
          "name": "stdout",
          "text": [
            "\u001b[1m54/54\u001b[0m \u001b[32m━━━━━━━━━━━━━━━━━━━━\u001b[0m\u001b[37m\u001b[0m \u001b[1m0s\u001b[0m 3ms/step\n",
            "\u001b[1m11/11\u001b[0m \u001b[32m━━━━━━━━━━━━━━━━━━━━\u001b[0m\u001b[37m\u001b[0m \u001b[1m0s\u001b[0m 2ms/step \n",
            "Debug statement: Neural Net test MSE = 0.017229226881532545\n",
            "Proxy 1 for christian_nationalism: index with score: -0.017355478437220254\n",
            "Proxy 2 for christian_nationalism: turnout20post with score: -0.017495486214195305\n",
            "Proxy 3 for christian_nationalism: white with score: -0.06971195516099718\n",
            "Proxy 4 for christian_nationalism: auth_grid_2 with score: -0.09768959277457298\n",
            "Proxy 5 for christian_nationalism: educ with score: -0.10121346932232829\n",
            "Proxy 6 for christian_nationalism: auth_grid_3 with score: -0.1047901852228668\n",
            "Proxy 7 for christian_nationalism: faminc_new with score: -0.10622188779905223\n",
            "Proxy 8 for christian_nationalism: partisan_violence with score: -0.10976763957043542\n",
            "Proxy 9 for christian_nationalism: hispanic with score: -0.11149833275538534\n",
            "Proxy 10 for christian_nationalism: auth_grid_1 with score: -0.11423722133793973\n",
            "Running iteration 4/7\n"
          ]
        },
        {
          "output_type": "stream",
          "name": "stderr",
          "text": [
            "/usr/local/lib/python3.10/dist-packages/keras/src/layers/core/dense.py:87: UserWarning: Do not pass an `input_shape`/`input_dim` argument to a layer. When using Sequential models, prefer using an `Input(shape)` object as the first layer in the model instead.\n",
            "  super().__init__(activity_regularizer=activity_regularizer, **kwargs)\n"
          ]
        },
        {
          "output_type": "stream",
          "name": "stdout",
          "text": [
            "\u001b[1m54/54\u001b[0m \u001b[32m━━━━━━━━━━━━━━━━━━━━\u001b[0m\u001b[37m\u001b[0m \u001b[1m0s\u001b[0m 3ms/step\n",
            "\u001b[1m11/11\u001b[0m \u001b[32m━━━━━━━━━━━━━━━━━━━━\u001b[0m\u001b[37m\u001b[0m \u001b[1m0s\u001b[0m 2ms/step \n",
            "Debug statement: Neural Net test MSE = 0.017396737254431114\n",
            "Proxy 1 for christian_nationalism: index with score: -0.017191379907430363\n",
            "Proxy 2 for christian_nationalism: turnout20post with score: -0.018823621692824106\n",
            "Proxy 3 for christian_nationalism: white with score: -0.06915790753775962\n",
            "Proxy 4 for christian_nationalism: auth_grid_1 with score: -0.10046373152562205\n",
            "Proxy 5 for christian_nationalism: auth_grid_2 with score: -0.10094241341213589\n",
            "Proxy 6 for christian_nationalism: educ with score: -0.10613328645593456\n",
            "Proxy 7 for christian_nationalism: faminc_new with score: -0.10677074114460271\n",
            "Proxy 8 for christian_nationalism: hispanic with score: -0.11131831895357665\n",
            "Proxy 9 for christian_nationalism: partisan_violence with score: -0.11179631532209672\n",
            "Proxy 10 for christian_nationalism: auth_grid_3 with score: -0.12608621458410388\n",
            "Running iteration 5/7\n"
          ]
        },
        {
          "output_type": "stream",
          "name": "stderr",
          "text": [
            "/usr/local/lib/python3.10/dist-packages/keras/src/layers/core/dense.py:87: UserWarning: Do not pass an `input_shape`/`input_dim` argument to a layer. When using Sequential models, prefer using an `Input(shape)` object as the first layer in the model instead.\n",
            "  super().__init__(activity_regularizer=activity_regularizer, **kwargs)\n"
          ]
        },
        {
          "output_type": "stream",
          "name": "stdout",
          "text": [
            "\u001b[1m54/54\u001b[0m \u001b[32m━━━━━━━━━━━━━━━━━━━━\u001b[0m\u001b[37m\u001b[0m \u001b[1m0s\u001b[0m 3ms/step\n",
            "\u001b[1m11/11\u001b[0m \u001b[32m━━━━━━━━━━━━━━━━━━━━\u001b[0m\u001b[37m\u001b[0m \u001b[1m0s\u001b[0m 2ms/step \n",
            "Debug statement: Neural Net test MSE = 0.017629922579957907\n",
            "Proxy 1 for christian_nationalism: index with score: -0.017108470313240434\n",
            "Proxy 2 for christian_nationalism: turnout20post with score: -0.018643087442756605\n",
            "Proxy 3 for christian_nationalism: white with score: -0.06905291927031693\n",
            "Proxy 4 for christian_nationalism: auth_grid_2 with score: -0.09426729292993435\n",
            "Proxy 5 for christian_nationalism: educ with score: -0.10280135942749863\n",
            "Proxy 6 for christian_nationalism: faminc_new with score: -0.10557889859263084\n",
            "Proxy 7 for christian_nationalism: auth_grid_3 with score: -0.10953106673840787\n",
            "Proxy 8 for christian_nationalism: auth_grid_1 with score: -0.10988164323863671\n",
            "Proxy 9 for christian_nationalism: hispanic with score: -0.1115014034708098\n",
            "Proxy 10 for christian_nationalism: partisan_violence with score: -0.11181492743556573\n",
            "Running iteration 6/7\n"
          ]
        },
        {
          "output_type": "stream",
          "name": "stderr",
          "text": [
            "/usr/local/lib/python3.10/dist-packages/keras/src/layers/core/dense.py:87: UserWarning: Do not pass an `input_shape`/`input_dim` argument to a layer. When using Sequential models, prefer using an `Input(shape)` object as the first layer in the model instead.\n",
            "  super().__init__(activity_regularizer=activity_regularizer, **kwargs)\n"
          ]
        },
        {
          "output_type": "stream",
          "name": "stdout",
          "text": [
            "\u001b[1m54/54\u001b[0m \u001b[32m━━━━━━━━━━━━━━━━━━━━\u001b[0m\u001b[37m\u001b[0m \u001b[1m0s\u001b[0m 3ms/step\n",
            "\u001b[1m11/11\u001b[0m \u001b[32m━━━━━━━━━━━━━━━━━━━━\u001b[0m\u001b[37m\u001b[0m \u001b[1m0s\u001b[0m 3ms/step \n",
            "Debug statement: Neural Net test MSE = 0.017393556905518137\n",
            "Proxy 1 for christian_nationalism: index with score: -0.017060570067581975\n",
            "Proxy 2 for christian_nationalism: turnout20post with score: -0.018862832083335418\n",
            "Proxy 3 for christian_nationalism: white with score: -0.06900242561365891\n",
            "Proxy 4 for christian_nationalism: auth_grid_2 with score: -0.09978084253163465\n",
            "Proxy 5 for christian_nationalism: auth_grid_1 with score: -0.10482444083091008\n",
            "Proxy 6 for christian_nationalism: educ with score: -0.10586597295550568\n",
            "Proxy 7 for christian_nationalism: faminc_new with score: -0.1069009243851396\n",
            "Proxy 8 for christian_nationalism: partisan_violence with score: -0.10955709924919745\n",
            "Proxy 9 for christian_nationalism: hispanic with score: -0.1112592584353365\n",
            "Proxy 10 for christian_nationalism: auth_grid_3 with score: -0.12380863605194618\n",
            "Running iteration 7/7\n"
          ]
        },
        {
          "output_type": "stream",
          "name": "stderr",
          "text": [
            "/usr/local/lib/python3.10/dist-packages/keras/src/layers/core/dense.py:87: UserWarning: Do not pass an `input_shape`/`input_dim` argument to a layer. When using Sequential models, prefer using an `Input(shape)` object as the first layer in the model instead.\n",
            "  super().__init__(activity_regularizer=activity_regularizer, **kwargs)\n"
          ]
        },
        {
          "output_type": "stream",
          "name": "stdout",
          "text": [
            "\u001b[1m54/54\u001b[0m \u001b[32m━━━━━━━━━━━━━━━━━━━━\u001b[0m\u001b[37m\u001b[0m \u001b[1m0s\u001b[0m 3ms/step\n",
            "\u001b[1m11/11\u001b[0m \u001b[32m━━━━━━━━━━━━━━━━━━━━\u001b[0m\u001b[37m\u001b[0m \u001b[1m0s\u001b[0m 2ms/step \n",
            "Debug statement: Neural Net test MSE = 0.017024881956371512\n",
            "Proxy 1 for christian_nationalism: index with score: -0.017136947771753078\n",
            "Proxy 2 for christian_nationalism: turnout20post with score: -0.01888332116926313\n",
            "Proxy 3 for christian_nationalism: white with score: -0.06964270529474469\n",
            "Proxy 4 for christian_nationalism: auth_grid_2 with score: -0.09337283750159754\n",
            "Proxy 5 for christian_nationalism: auth_grid_3 with score: -0.10294001750029151\n",
            "Proxy 6 for christian_nationalism: faminc_new with score: -0.10379507326695775\n",
            "Proxy 7 for christian_nationalism: educ with score: -0.10826994739333991\n",
            "Proxy 8 for christian_nationalism: auth_grid_1 with score: -0.10841230482799902\n",
            "Proxy 9 for christian_nationalism: hispanic with score: -0.11141747853473434\n",
            "Proxy 10 for christian_nationalism: partisan_violence with score: -0.11233106076598856\n",
            "Testing with lambda pair: (0.01, 0.5)\n",
            "Running iteration 1/7\n"
          ]
        },
        {
          "output_type": "stream",
          "name": "stderr",
          "text": [
            "/usr/local/lib/python3.10/dist-packages/keras/src/layers/core/dense.py:87: UserWarning: Do not pass an `input_shape`/`input_dim` argument to a layer. When using Sequential models, prefer using an `Input(shape)` object as the first layer in the model instead.\n",
            "  super().__init__(activity_regularizer=activity_regularizer, **kwargs)\n"
          ]
        },
        {
          "output_type": "stream",
          "name": "stdout",
          "text": [
            "\u001b[1m54/54\u001b[0m \u001b[32m━━━━━━━━━━━━━━━━━━━━\u001b[0m\u001b[37m\u001b[0m \u001b[1m0s\u001b[0m 3ms/step\n",
            "\u001b[1m11/11\u001b[0m \u001b[32m━━━━━━━━━━━━━━━━━━━━\u001b[0m\u001b[37m\u001b[0m \u001b[1m0s\u001b[0m 2ms/step \n",
            "Debug statement: Neural Net test MSE = 0.01803389264475481\n",
            "Proxy 1 for christian_nationalism: index with score: -0.023599087243943436\n",
            "Proxy 2 for christian_nationalism: turnout20post with score: -0.026440395027735823\n",
            "Proxy 3 for christian_nationalism: white with score: -0.10199174511122558\n",
            "Proxy 4 for christian_nationalism: faminc_new with score: -0.15963783648584973\n",
            "Proxy 5 for christian_nationalism: hispanic with score: -0.16802785049856725\n",
            "Proxy 6 for christian_nationalism: partisan_violence with score: -0.17023479263696242\n",
            "Proxy 7 for christian_nationalism: educ with score: -0.17939624247518907\n",
            "Proxy 8 for christian_nationalism: auth_grid_2 with score: -0.1908283902987688\n",
            "Proxy 9 for christian_nationalism: auth_grid_1 with score: -0.2295444715426433\n",
            "Proxy 10 for christian_nationalism: auth_grid_3 with score: -0.2323000332045787\n",
            "Running iteration 2/7\n"
          ]
        },
        {
          "output_type": "stream",
          "name": "stderr",
          "text": [
            "/usr/local/lib/python3.10/dist-packages/keras/src/layers/core/dense.py:87: UserWarning: Do not pass an `input_shape`/`input_dim` argument to a layer. When using Sequential models, prefer using an `Input(shape)` object as the first layer in the model instead.\n",
            "  super().__init__(activity_regularizer=activity_regularizer, **kwargs)\n"
          ]
        },
        {
          "output_type": "stream",
          "name": "stdout",
          "text": [
            "\u001b[1m54/54\u001b[0m \u001b[32m━━━━━━━━━━━━━━━━━━━━\u001b[0m\u001b[37m\u001b[0m \u001b[1m0s\u001b[0m 4ms/step\n",
            "\u001b[1m11/11\u001b[0m \u001b[32m━━━━━━━━━━━━━━━━━━━━\u001b[0m\u001b[37m\u001b[0m \u001b[1m0s\u001b[0m 2ms/step \n",
            "Debug statement: Neural Net test MSE = 0.01735762873732011\n",
            "Proxy 1 for christian_nationalism: index with score: -0.02324350495177458\n",
            "Proxy 2 for christian_nationalism: turnout20post with score: -0.026772247661992127\n",
            "Proxy 3 for christian_nationalism: white with score: -0.10281620242240173\n",
            "Proxy 4 for christian_nationalism: faminc_new with score: -0.16288349051440437\n",
            "Proxy 5 for christian_nationalism: hispanic with score: -0.167952169658648\n",
            "Proxy 6 for christian_nationalism: partisan_violence with score: -0.16944055381242962\n",
            "Proxy 7 for christian_nationalism: educ with score: -0.17869580874985808\n",
            "Proxy 8 for christian_nationalism: auth_grid_2 with score: -0.1847140365939486\n",
            "Proxy 9 for christian_nationalism: auth_grid_3 with score: -0.22535927190638602\n",
            "Proxy 10 for christian_nationalism: auth_grid_1 with score: -0.226618378440985\n",
            "Running iteration 3/7\n"
          ]
        },
        {
          "output_type": "stream",
          "name": "stderr",
          "text": [
            "/usr/local/lib/python3.10/dist-packages/keras/src/layers/core/dense.py:87: UserWarning: Do not pass an `input_shape`/`input_dim` argument to a layer. When using Sequential models, prefer using an `Input(shape)` object as the first layer in the model instead.\n",
            "  super().__init__(activity_regularizer=activity_regularizer, **kwargs)\n"
          ]
        },
        {
          "output_type": "stream",
          "name": "stdout",
          "text": [
            "\u001b[1m54/54\u001b[0m \u001b[32m━━━━━━━━━━━━━━━━━━━━\u001b[0m\u001b[37m\u001b[0m \u001b[1m0s\u001b[0m 3ms/step\n",
            "\u001b[1m11/11\u001b[0m \u001b[32m━━━━━━━━━━━━━━━━━━━━\u001b[0m\u001b[37m\u001b[0m \u001b[1m0s\u001b[0m 2ms/step \n",
            "Debug statement: Neural Net test MSE = 0.01695805496996237\n",
            "Proxy 1 for christian_nationalism: index with score: -0.022691495151114634\n",
            "Proxy 2 for christian_nationalism: turnout20post with score: -0.027053087214089094\n",
            "Proxy 3 for christian_nationalism: white with score: -0.10057054573877114\n",
            "Proxy 4 for christian_nationalism: faminc_new with score: -0.16208956937206984\n",
            "Proxy 5 for christian_nationalism: hispanic with score: -0.16843898194072257\n",
            "Proxy 6 for christian_nationalism: partisan_violence with score: -0.17002841102337848\n",
            "Proxy 7 for christian_nationalism: educ with score: -0.17753727364294747\n",
            "Proxy 8 for christian_nationalism: auth_grid_2 with score: -0.18028449416631445\n",
            "Proxy 9 for christian_nationalism: auth_grid_3 with score: -0.2307701690770924\n",
            "Proxy 10 for christian_nationalism: auth_grid_1 with score: -0.23496171416199746\n",
            "Running iteration 4/7\n"
          ]
        },
        {
          "output_type": "stream",
          "name": "stderr",
          "text": [
            "/usr/local/lib/python3.10/dist-packages/keras/src/layers/core/dense.py:87: UserWarning: Do not pass an `input_shape`/`input_dim` argument to a layer. When using Sequential models, prefer using an `Input(shape)` object as the first layer in the model instead.\n",
            "  super().__init__(activity_regularizer=activity_regularizer, **kwargs)\n"
          ]
        },
        {
          "output_type": "stream",
          "name": "stdout",
          "text": [
            "\u001b[1m54/54\u001b[0m \u001b[32m━━━━━━━━━━━━━━━━━━━━\u001b[0m\u001b[37m\u001b[0m \u001b[1m0s\u001b[0m 3ms/step\n",
            "\u001b[1m11/11\u001b[0m \u001b[32m━━━━━━━━━━━━━━━━━━━━\u001b[0m\u001b[37m\u001b[0m \u001b[1m0s\u001b[0m 2ms/step \n",
            "Debug statement: Neural Net test MSE = 0.016682479475509836\n",
            "Proxy 1 for christian_nationalism: index with score: -0.023565454458426744\n",
            "Proxy 2 for christian_nationalism: turnout20post with score: -0.02562076391752885\n",
            "Proxy 3 for christian_nationalism: white with score: -0.10191347557268328\n",
            "Proxy 4 for christian_nationalism: faminc_new with score: -0.1619341646314883\n",
            "Proxy 5 for christian_nationalism: hispanic with score: -0.1684296031122956\n",
            "Proxy 6 for christian_nationalism: partisan_violence with score: -0.16953633595987586\n",
            "Proxy 7 for christian_nationalism: educ with score: -0.18064813287204895\n",
            "Proxy 8 for christian_nationalism: auth_grid_2 with score: -0.18797017078141365\n",
            "Proxy 9 for christian_nationalism: auth_grid_1 with score: -0.22353528802145048\n",
            "Proxy 10 for christian_nationalism: auth_grid_3 with score: -0.22467409894068996\n",
            "Running iteration 5/7\n"
          ]
        },
        {
          "output_type": "stream",
          "name": "stderr",
          "text": [
            "/usr/local/lib/python3.10/dist-packages/keras/src/layers/core/dense.py:87: UserWarning: Do not pass an `input_shape`/`input_dim` argument to a layer. When using Sequential models, prefer using an `Input(shape)` object as the first layer in the model instead.\n",
            "  super().__init__(activity_regularizer=activity_regularizer, **kwargs)\n"
          ]
        },
        {
          "output_type": "stream",
          "name": "stdout",
          "text": [
            "\u001b[1m54/54\u001b[0m \u001b[32m━━━━━━━━━━━━━━━━━━━━\u001b[0m\u001b[37m\u001b[0m \u001b[1m0s\u001b[0m 3ms/step\n",
            "\u001b[1m11/11\u001b[0m \u001b[32m━━━━━━━━━━━━━━━━━━━━\u001b[0m\u001b[37m\u001b[0m \u001b[1m0s\u001b[0m 2ms/step \n",
            "Debug statement: Neural Net test MSE = 0.01687809350016737\n",
            "Proxy 1 for christian_nationalism: index with score: -0.023302458467430415\n",
            "Proxy 2 for christian_nationalism: turnout20post with score: -0.025164443071973068\n",
            "Proxy 3 for christian_nationalism: white with score: -0.10248235636886481\n",
            "Proxy 4 for christian_nationalism: faminc_new with score: -0.15993946412864557\n",
            "Proxy 5 for christian_nationalism: hispanic with score: -0.16801016648642758\n",
            "Proxy 6 for christian_nationalism: partisan_violence with score: -0.17130962974294867\n",
            "Proxy 7 for christian_nationalism: educ with score: -0.18110943630557333\n",
            "Proxy 8 for christian_nationalism: auth_grid_2 with score: -0.18395381448951115\n",
            "Proxy 9 for christian_nationalism: auth_grid_3 with score: -0.2071891120819819\n",
            "Proxy 10 for christian_nationalism: auth_grid_1 with score: -0.22538400684151128\n",
            "Running iteration 6/7\n"
          ]
        },
        {
          "output_type": "stream",
          "name": "stderr",
          "text": [
            "/usr/local/lib/python3.10/dist-packages/keras/src/layers/core/dense.py:87: UserWarning: Do not pass an `input_shape`/`input_dim` argument to a layer. When using Sequential models, prefer using an `Input(shape)` object as the first layer in the model instead.\n",
            "  super().__init__(activity_regularizer=activity_regularizer, **kwargs)\n"
          ]
        },
        {
          "output_type": "stream",
          "name": "stdout",
          "text": [
            "\u001b[1m54/54\u001b[0m \u001b[32m━━━━━━━━━━━━━━━━━━━━\u001b[0m\u001b[37m\u001b[0m \u001b[1m0s\u001b[0m 3ms/step\n",
            "\u001b[1m11/11\u001b[0m \u001b[32m━━━━━━━━━━━━━━━━━━━━\u001b[0m\u001b[37m\u001b[0m \u001b[1m0s\u001b[0m 2ms/step \n",
            "Debug statement: Neural Net test MSE = 0.01805566201376754\n",
            "Proxy 1 for christian_nationalism: index with score: -0.023806601052002135\n",
            "Proxy 2 for christian_nationalism: turnout20post with score: -0.02538043913270766\n",
            "Proxy 3 for christian_nationalism: white with score: -0.10061160002529641\n",
            "Proxy 4 for christian_nationalism: faminc_new with score: -0.15949533473158284\n",
            "Proxy 5 for christian_nationalism: hispanic with score: -0.1684212803055028\n",
            "Proxy 6 for christian_nationalism: partisan_violence with score: -0.17110264921222346\n",
            "Proxy 7 for christian_nationalism: educ with score: -0.1721512486648007\n",
            "Proxy 8 for christian_nationalism: auth_grid_2 with score: -0.19444166849617728\n",
            "Proxy 9 for christian_nationalism: auth_grid_3 with score: -0.21359906078194107\n",
            "Proxy 10 for christian_nationalism: auth_grid_1 with score: -0.22363989081957245\n",
            "Running iteration 7/7\n"
          ]
        },
        {
          "output_type": "stream",
          "name": "stderr",
          "text": [
            "/usr/local/lib/python3.10/dist-packages/keras/src/layers/core/dense.py:87: UserWarning: Do not pass an `input_shape`/`input_dim` argument to a layer. When using Sequential models, prefer using an `Input(shape)` object as the first layer in the model instead.\n",
            "  super().__init__(activity_regularizer=activity_regularizer, **kwargs)\n"
          ]
        },
        {
          "output_type": "stream",
          "name": "stdout",
          "text": [
            "\u001b[1m54/54\u001b[0m \u001b[32m━━━━━━━━━━━━━━━━━━━━\u001b[0m\u001b[37m\u001b[0m \u001b[1m0s\u001b[0m 3ms/step\n",
            "\u001b[1m11/11\u001b[0m \u001b[32m━━━━━━━━━━━━━━━━━━━━\u001b[0m\u001b[37m\u001b[0m \u001b[1m0s\u001b[0m 2ms/step \n",
            "Debug statement: Neural Net test MSE = 0.016853832990729168\n",
            "Proxy 1 for christian_nationalism: index with score: -0.022758787367887095\n",
            "Proxy 2 for christian_nationalism: turnout20post with score: -0.027110264591443826\n",
            "Proxy 3 for christian_nationalism: white with score: -0.10177688678925899\n",
            "Proxy 4 for christian_nationalism: faminc_new with score: -0.16143326659892057\n",
            "Proxy 5 for christian_nationalism: hispanic with score: -0.1682271943546219\n",
            "Proxy 6 for christian_nationalism: partisan_violence with score: -0.17151060751629338\n",
            "Proxy 7 for christian_nationalism: auth_grid_2 with score: -0.17630063882367847\n",
            "Proxy 8 for christian_nationalism: educ with score: -0.18536017149667608\n",
            "Proxy 9 for christian_nationalism: auth_grid_3 with score: -0.22648938706497274\n",
            "Proxy 10 for christian_nationalism: auth_grid_1 with score: -0.23400344215919555\n"
          ]
        },
        {
          "output_type": "display_data",
          "data": {
            "text/plain": [
              "<Figure size 1000x800 with 2 Axes>"
            ],
            "image/png": "[encoded data removed]"
          },
          "metadata": {}
        }
      ]
    }
  ],
  "metadata": {
    "colab": {
      "provenance": []
    },
    "kernelspec": {
      "display_name": "Python 3",
      "name": "python3"
    },
    "language_info": {
      "name": "python"
    }
  },
  "nbformat": 4,
  "nbformat_minor": 0
}