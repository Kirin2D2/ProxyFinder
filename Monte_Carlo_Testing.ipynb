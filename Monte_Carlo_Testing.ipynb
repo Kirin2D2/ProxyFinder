{
  "cells": [
    {
      "cell_type": "markdown",
      "metadata": {
        "id": "_uWUQYLoYUZb"
      },
      "source": [
        "# Monte Carlo Testing for Proxy Finder Algorithm\n"
      ]
    },
    {
      "cell_type": "code",
      "execution_count": 7,
      "metadata": {
        "id": "CAwEOp8GYdEY"
      },
      "outputs": [],
      "source": [
        "from proxy_finder import proxy_finder\n",
        "import pandas as pd\n",
        "import numpy as np\n",
        "import matplotlib.pyplot as plt"
      ]
    },
    {
      "cell_type": "markdown",
      "metadata": {
        "id": "qOnUMZlYeqfW"
      },
      "source": [
        "# Stage 1: Testing Orthogonality Weight"
      ]
    },
    {
      "cell_type": "code",
      "execution_count": 12,
      "metadata": {
        "id": "wIImp49Se3XQ"
      },
      "outputs": [],
      "source": [
        "def generate_synthetic_data(n_samples=1000):\n",
        "  # Generate predictors\n",
        "  pred_1 = np.random.normal(0, 1, n_samples)\n",
        "  pred_2 = np.random.normal(0, 1, n_samples)\n",
        "  pred_3 = np.random.normal(0, 1, n_samples)\n",
        "  predictors_df = pd.DataFrame({'pred_1': pred_1, 'pred_2': pred_2, 'pred_3': pred_3})\n",
        "\n",
        "  # Generate orthogonal variables\n",
        "  ortho_1 = np.random.normal(0, 1, n_samples)\n",
        "  ortho_2 = np.random.normal(0, 1, n_samples)\n",
        "  ortho_3 = np.random.normal(0, 1, n_samples)\n",
        "  orthogonals_df = pd.DataFrame({'ortho_1': ortho_1, 'ortho_2': ortho_2, 'ortho_3': ortho_3})\n",
        "\n",
        "  # Generate target (linear combination of the predictors)\n",
        "  target = 0.2 * pred_1 + 0.3 * pred_2 + 0.5 * pred_3 + np.random.normal(0, 0.1, n_samples)\n",
        "  target_df = pd.DataFrame({'target': target})\n",
        "\n",
        "  # Generate several candidates of varying quality\n",
        "  good_proxy = 0.8 * target + 0.2 * np.random.normal(0, 1, n_samples) # good candidate\n",
        "  okay_proxy = 0.5 * target + 0.5 * pred_1 + np.random.normal(0, 0.1, n_samples) # okay candidate\n",
        "  bad_proxy = np.random.normal(0, 1, n_samples) # bad candidate\n",
        "\n",
        "  # Use Graham Schmidtt to generate a proxy variable that predicts target while remaining orthogonal to given variables\n",
        "  ortho_proxy = 0.8 * target + 0.2 * np.random.normal(0, 1, n_samples)\n",
        "  for ortho_i in orthogonals_df.columns:\n",
        "    val = orthogonals_df[ortho_i].values\n",
        "    ortho_proxy = ortho_proxy - (np.dot(ortho_proxy, val) / np.dot(val, val)) * val\n",
        " \n",
        "  candidates_df = pd.DataFrame({'good_proxy': good_proxy, 'bad_proxy': bad_proxy, 'okay_proxy': okay_proxy, 'ortho_proxy': ortho_proxy,})\n",
        "\n",
        "  return predictors_df, target_df, candidates_df, orthogonals_df"
      ]
    },
    {
      "cell_type": "code",
      "execution_count": null,
      "metadata": {
        "id": "WXFZ6JjXloGe"
      },
      "outputs": [],
      "source": [
        "# Run a single iteration of the proxy finder algorithm with the provided weight\n",
        "def test_orth_weight(orth_weight, n_iterations):\n",
        "  results = []\n",
        "\n",
        "  for iter in range(n_iterations):\n",
        "    train_predictors, train_target, candidates = generate_synthetic_data()\n",
        "    test_predictors, _, _ = generate_synthetic_data()\n",
        "\n",
        "    df_train = pd.concat([train_predictors, train_target], axis=1) # training set\n",
        "    df_test = pd.concat([test_predictors, candidates], axis=1) # test set\n",
        "    \n",
        "\n",
        "\n",
        "\n",
        "  # call func to generate synthetic data\n",
        "\n",
        "  # call proxy finder with syn data and weight\n",
        "\n",
        "\n"
      ]
    },
    {
      "cell_type": "code",
      "execution_count": null,
      "metadata": {
        "id": "YBrJ4JDpgONO"
      },
      "outputs": [],
      "source": [
        "def monte_carlo(n_iterations=100, ortho_weights=np.arange(0, 1.1, 0.1)):\n",
        "  # Run the simulations, display results"
      ]
    }
  ],
  "metadata": {
    "colab": {
      "provenance": []
    },
    "kernelspec": {
      "display_name": "Python 3",
      "name": "python3"
    },
    "language_info": {
      "name": "python"
    }
  },
  "nbformat": 4,
  "nbformat_minor": 0
}
