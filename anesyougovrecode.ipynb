{
 "cells": [
  {
   "cell_type": "code",
   "execution_count": 340,
   "metadata": {},
   "outputs": [],
   "source": [
    "# Recode YouGov File to match ANES\n",
    "#including changing ANES predictor column names\n",
    "#and data from both files"
   ]
  },
  {
   "cell_type": "code",
   "execution_count": null,
   "metadata": {},
   "outputs": [],
   "source": [
    "import pandas as pd\n",
    "import numpy as np\n",
    "\n",
    "\n",
    "df_yougov_filepath = r\"C:\\Users\\kirin\\Downloads\\W1_W2_W3_Merged_saved (1).dta\" # raw .dta yougov file\n",
    "df_anes_filepath = r\"C:\\Users\\kirin\\Downloads\\anes2020\\anes_timeseries_2020_stata_20220210.dta\" # raw ANES 2020 timeseries\n",
    "\n",
    "df_yougov = pd.read_stata(df_yougov_filepath, convert_categoricals=True) # categorical data for easy recoding\n",
    "df_yougov_nums = pd.read_stata(df_yougov_filepath, convert_categoricals=False) # we set a few columns to numeric to allow for easier code matching. \n",
    "\n",
    "df_yougov['abortion'] = df_yougov_nums['abortion'] ### adding abortion\n",
    "\n",
    "\n",
    "df_anes = pd.read_stata(df_anes_filepath, convert_categoricals=False)\n",
    "### pre election variables: start with V201\n",
    "post_col_names = {'V202242x', 'V202245x', 'V202266', 'V202267', 'V202268', 'V202468x'} ## add predictors from post election . Remove these if not enough data\n",
    "mask = df_anes.columns.str.startswith(\"V201\") | df_anes.columns.isin(post_col_names) # keep pre election plus extra vars\n",
    "df_anes = df_anes.loc[:, mask]\n",
    "\n",
    "df_anes[df_anes < 0] = np.nan #negative numbers are used to signify categories like \"refused\" or \"inapplicable\"\n",
    "df_anes[(df_anes == 998) | (df_anes == 999) | (df_anes == 99)] = np.nan # 998/999 are don't know how to respond and 99 is no response"
   ]
  },
  {
   "cell_type": "code",
   "execution_count": null,
   "metadata": {},
   "outputs": [],
   "source": [
    "### todo: Racial Resentment, Moral Traditionalism, Republican Party / Democratic Party\n",
    "df_anes = df_anes.rename(columns={'V201028': 'turnout20post', \n",
    "                                  'V201029': 'presvote20post',\n",
    "                                  'V201039': 'housevote20post',\n",
    "                                  'V201049': 'senvote20post',\n",
    "                                  #'V201128': 'trump_presidential_approval',\n",
    "                                  'V201151': 'pff_jb',\n",
    "                                  'V201152': 'pff_dt',\n",
    "                                  'V201200': 'ideo7',\n",
    "                                  'V201231x': 'pid7',\n",
    "                                  #'V201234': 'para_social_grid_2',\n",
    "                                  'V201351': 'election_fairnness',\n",
    "                                 # 'V201370': 'cab_b', #w123\n",
    "                                  'V201510': 'educ',\n",
    "                                  'V201549x': 'race', \n",
    "                                  'V201558x': 'hispanic',\n",
    "                                  'V201602': 'partisan_violence',\n",
    "                                  'V201336': 'abortion',\n",
    "                                  'V202242x': 'immigrant_citizenship',\n",
    "                                  'V202245x': 'immigrant_deport',\n",
    "                                  'V202266': 'auth_grid_1',\n",
    "                                  'V202267': 'auth_grid_3',\n",
    "                                  'V202268': 'auth_grid_2', # potentially incorrect numbering\n",
    "                                  'V202468x': 'faminc_new' #reordered\n",
    "                                  #'V202483': 'wc_together', # all of these are separated by wave\n",
    "                                 # 'V202487': 'wc_jobs',\n",
    "                                 # 'V202516': 'hardworkingvlazy',\n",
    "                                  #'V202522': 'pronenot_violence',\n",
    "                                  #'V202527': 'group_disc_black',\n",
    "                                  #'V202528': 'group_disc_hispanic',\n",
    "                                  #'V202530': 'group_disc_white'\n",
    "                                  })\n",
    "combined = [\n",
    "                   'christian_nationalism',\n",
    "                   'turnout20post', \n",
    "                   'presvote20post',\n",
    "                   'housevote20post',\n",
    "                   'senvote20post',\n",
    "                   #'trump_presidential_approval',\n",
    "                   'pff_jb',\n",
    "                   'pff_dt',\n",
    "                   'ideo7',\n",
    "                   'pid7',\n",
    "                  # 'para_social_grid_2',\n",
    "                   'election_fairnness',\n",
    "                   #'cab_b', w1, w2, w3\n",
    "                   'educ',\n",
    "                   'race',\n",
    "                   'hispanic',\n",
    "                   'partisan_violence',\n",
    "                   'immigrant_citizenship',\n",
    "                   'immigrant_deport',\n",
    "                   'auth_grid_1',\n",
    "                   'auth_grid_3',\n",
    "                   'auth_grid_2',\n",
    "                   'faminc_new'\n",
    "                  # 'wc_together', w1, w2, w3\n",
    "                   #'wc_jobs',\n",
    "                   #'racial_id',\n",
    "                   #'hardworkingvlazy',\n",
    "                   #'pronenot_violence',\n",
    "                   #'group_disc_black',\n",
    "                   #'group_disc_hispanic',\n",
    "                   #'group_disc_white'\n",
    "                   ] \n",
    "df_yougov = df_yougov[combined] # disable this to generate test set"
   ]
  },
  {
   "cell_type": "code",
   "execution_count": 343,
   "metadata": {},
   "outputs": [],
   "source": [
    "#import re \n",
    "# function to extract the number from the string\n",
    "#def extract_number(entry):\n",
    "#    if isinstance(entry, str):\n",
    "#        match = re.search(r'-?\\d+(\\.\\d+)?', entry)\n",
    "#        if match:\n",
    "#            return float(match.group())  # Convert matched number to float\n",
    "#    elif isinstance(entry, (int, float)):\n",
    "#        return entry  # In case the entry already a float or int, return it as is\n",
    "#    return np.nan # if not a number , nan\n",
    "#\n",
    "# Apply function to all relevant columns\n",
    "#for column in df_anes.columns:\n",
    "#    df_anes[column] = df_anes[column].apply(extract_number).astype(float, errors='ignore')"
   ]
  },
  {
   "cell_type": "code",
   "execution_count": 344,
   "metadata": {},
   "outputs": [
    {
     "name": "stdout",
     "output_type": "stream",
     "text": [
      "[-1.  1.  2. -9.]\n"
     ]
    }
   ],
   "source": [
    "print(df_anes['turnout20post'].unique())"
   ]
  },
  {
   "cell_type": "code",
   "execution_count": 345,
   "metadata": {},
   "outputs": [],
   "source": [
    "#RACE\n",
    "#1. White, non-Hispanic\n",
    "#2. Black, non-Hispanic\n",
    "#3. Hispanic\n",
    "#4. Asian or Native Hawaiian/other Pacific Islander, non-Hispanic\n",
    "#alone\n",
    "\n",
    "\n",
    "# Create the 'white' column based on the 'race' column\n",
    "df_yougov['white'] = df_yougov['race'].apply(lambda x: 1 if x == 'White' else 0)"
   ]
  },
  {
   "cell_type": "code",
   "execution_count": 346,
   "metadata": {},
   "outputs": [
    {
     "name": "stdout",
     "output_type": "stream",
     "text": [
      "0       3.0\n",
      "1       4.0\n",
      "2       1.0\n",
      "3       4.0\n",
      "4       5.0\n",
      "       ... \n",
      "8275    1.0\n",
      "8276    1.0\n",
      "8277    3.0\n",
      "8278    1.0\n",
      "8279    4.0\n",
      "Name: race, Length: 8280, dtype: float64\n"
     ]
    }
   ],
   "source": [
    "print(df_anes['race'])"
   ]
  },
  {
   "cell_type": "code",
   "execution_count": 347,
   "metadata": {},
   "outputs": [],
   "source": [
    "df_anes['white'] = df_anes['race'].apply(lambda x: 1 if x == 1.0 else 0)"
   ]
  },
  {
   "cell_type": "code",
   "execution_count": 348,
   "metadata": {},
   "outputs": [],
   "source": [
    "#turnout20post = V201028\n",
    "# ANES: \n",
    "#-9 refused\n",
    "# -1 inapplicable\n",
    "# 1 Yes\n",
    "# 2 No\n",
    "\n",
    "mapping = {\n",
    "    'Yes': 1.0,\n",
    "    'No': 2.0\n",
    "}\n",
    "\n",
    "# Apply the mapping to the yougov column, using NaN for other entries\n",
    "df_yougov['turnout20post'] = df_yougov['turnout20post'].map(mapping).fillna(np.nan).astype('float')"
   ]
  },
  {
   "cell_type": "code",
   "execution_count": 349,
   "metadata": {},
   "outputs": [
    {
     "name": "stdout",
     "output_type": "stream",
     "text": [
      "1:  1767\n",
      "2:  645\n",
      "[nan  1.  2.]\n"
     ]
    }
   ],
   "source": [
    "# Count the number of 1.0s and 2.0s\n",
    "counts = df_yougov['turnout20post'].value_counts()\n",
    "\n",
    "# Print the counts for 1.0 and 2.0\n",
    "print('1: ', counts.get(1.0, 0))\n",
    "print('2: ', counts.get(2.0, 0))\n",
    "print(df_yougov['turnout20post'].unique())"
   ]
  },
  {
   "cell_type": "code",
   "execution_count": 350,
   "metadata": {},
   "outputs": [
    {
     "name": "stdout",
     "output_type": "stream",
     "text": [
      "[-1.  1.  2. -9.]\n"
     ]
    }
   ],
   "source": [
    "# now recode ANES\n",
    "print(df_anes['turnout20post'].unique())\n",
    "#already done; nan, 1, 2"
   ]
  },
  {
   "cell_type": "code",
   "execution_count": 351,
   "metadata": {},
   "outputs": [],
   "source": [
    "#presvote20post = V201029\n",
    "#-9. Refused\n",
    "#-1. Inapplicable\n",
    "#1. Joe Biden\n",
    "#2. Donald Trump\n",
    "#3. Jo Jorgensen\n",
    "#4. Howie Hawkins\n",
    "#5. Other candidate {SPECIFY}\n",
    "#12. Specified as refused\n",
    "\n",
    "#remapping biden = 1 trump = 2\n",
    "\n",
    "mapping = {\n",
    "    'Joe Biden': 1.0,\n",
    "    'Donald Trump': 2.0,\n",
    "}\n",
    "# Apply the mapping to the yougov column, using NaN for other entries\n",
    "df_yougov['presvote20post'] = df_yougov['presvote20post'].map(mapping).fillna(np.nan).astype('float')"
   ]
  },
  {
   "cell_type": "code",
   "execution_count": 352,
   "metadata": {},
   "outputs": [
    {
     "name": "stdout",
     "output_type": "stream",
     "text": [
      "[nan  1.  2.]\n"
     ]
    }
   ],
   "source": [
    "print(df_yougov['presvote20post'].unique())"
   ]
  },
  {
   "cell_type": "code",
   "execution_count": 353,
   "metadata": {},
   "outputs": [],
   "source": [
    "df_anes.loc[~df_anes['presvote20post'].isin([1.0, 2.0]), 'presvote20post'] = np.nan"
   ]
  },
  {
   "cell_type": "code",
   "execution_count": 354,
   "metadata": {},
   "outputs": [
    {
     "name": "stdout",
     "output_type": "stream",
     "text": [
      "[nan  1.  2.]\n"
     ]
    }
   ],
   "source": [
    "print(df_anes['presvote20post'].unique())"
   ]
  },
  {
   "cell_type": "code",
   "execution_count": 355,
   "metadata": {},
   "outputs": [],
   "source": [
    "### housevote20post = V201039\n",
    "# map 1 to democrat 2 to republican \n",
    "mapping = {\n",
    "    'Yes, I voted for the Republican candidate': 2.0,\n",
    "    'Yes, I voted for the Democratic candidate': 1.0,\n",
    "}\n",
    "# Apply the mapping to the yougov column, using NaN for other entries\n",
    "df_yougov['housevote20post'] = df_yougov['housevote20post'].map(mapping).fillna(np.nan).astype('float')"
   ]
  },
  {
   "cell_type": "code",
   "execution_count": 356,
   "metadata": {},
   "outputs": [
    {
     "name": "stdout",
     "output_type": "stream",
     "text": [
      "[nan  1.  2.]\n"
     ]
    }
   ],
   "source": [
    "print(df_yougov['housevote20post'].unique())"
   ]
  },
  {
   "cell_type": "code",
   "execution_count": 357,
   "metadata": {},
   "outputs": [],
   "source": [
    "df_anes.loc[~df_anes['housevote20post'].isin([1.0, 2.0]), 'housevote20post'] = np.nan"
   ]
  },
  {
   "cell_type": "code",
   "execution_count": 358,
   "metadata": {},
   "outputs": [
    {
     "name": "stdout",
     "output_type": "stream",
     "text": [
      "[nan  1.  2.]\n"
     ]
    }
   ],
   "source": [
    "print(df_anes['housevote20post'].unique())"
   ]
  },
  {
   "cell_type": "code",
   "execution_count": 359,
   "metadata": {},
   "outputs": [],
   "source": [
    "###senvote20post = V201049\n",
    "# 1 dem 2 rep\n",
    "\n",
    "mapping = {\n",
    "    'Yes, I voted for the Republican candidate': 2.0,\n",
    "    'Yes, I voted for the Democratic candidate': 1.0,\n",
    "}\n",
    "# Apply the mapping to the yougov column, using NaN for other entries\n",
    "df_yougov['senvote20post'] = df_yougov['senvote20post'].map(mapping).fillna(np.nan).astype('float')"
   ]
  },
  {
   "cell_type": "code",
   "execution_count": 360,
   "metadata": {},
   "outputs": [
    {
     "name": "stdout",
     "output_type": "stream",
     "text": [
      "[nan  1.  2.]\n"
     ]
    }
   ],
   "source": [
    "print(df_yougov['senvote20post'].unique())"
   ]
  },
  {
   "cell_type": "code",
   "execution_count": 361,
   "metadata": {},
   "outputs": [],
   "source": [
    "df_anes.loc[~df_anes['senvote20post'].isin([1.0, 2.0]), 'senvote20post'] = np.nan"
   ]
  },
  {
   "cell_type": "code",
   "execution_count": 362,
   "metadata": {},
   "outputs": [
    {
     "name": "stdout",
     "output_type": "stream",
     "text": [
      "[nan  1.  2.]\n"
     ]
    }
   ],
   "source": [
    "print(df_anes['senvote20post'].unique())"
   ]
  },
  {
   "cell_type": "code",
   "execution_count": 363,
   "metadata": {},
   "outputs": [],
   "source": [
    "### pff_jb = V201151\n",
    "\n",
    "mapping = {\n",
    "    'Very unfavorable': 1.0,\n",
    "    'Somewhat unfavorable': 2.0,\n",
    "    'Neutral': 3.0,\n",
    "    'Somewhat favorable': 4.0,\n",
    "    'Very favorable': 5.0\n",
    "}\n",
    "# Apply the mapping to the yougov column, using NaN for other entries\n",
    "df_yougov['pff_jb'] = df_yougov['pff_jb'].map(mapping).fillna(np.nan).astype('float')\n"
   ]
  },
  {
   "cell_type": "code",
   "execution_count": 364,
   "metadata": {},
   "outputs": [
    {
     "name": "stdout",
     "output_type": "stream",
     "text": [
      "1:  902\n",
      "2:  244\n",
      "3:  362\n",
      "4:  430\n",
      "5:  479\n"
     ]
    }
   ],
   "source": [
    "# Count the number of 1.0s and 2.0s\n",
    "counts = df_yougov['pff_jb'].value_counts()\n",
    "\n",
    "# Print the counts for 1.0 and 2.0\n",
    "print('1: ', counts.get(1.0, 0))\n",
    "print('2: ', counts.get(2.0, 0))\n",
    "print('3: ', counts.get(3.0, 0))\n",
    "print('4: ', counts.get(4.0, 0))\n",
    "print('5: ', counts.get(5.0, 0))\n"
   ]
  },
  {
   "cell_type": "code",
   "execution_count": 365,
   "metadata": {},
   "outputs": [],
   "source": [
    "#anes feeling thermom\n",
    "\n",
    "# Convert all entries to numeric, setting errors='coerce' will replace non-numeric values with NaN\n",
    "df_anes['pff_jb'] = pd.to_numeric(df_anes['pff_jb'], errors='coerce')\n",
    "\n",
    "# Replace entries that are not between 0 and 100 (inclusive) with NaN\n",
    "df_anes.loc[~((df_anes['pff_jb'] >= 0) & (df_anes['pff_jb'] <= 100)), 'pff_jb'] = np.nan"
   ]
  },
  {
   "cell_type": "code",
   "execution_count": 366,
   "metadata": {},
   "outputs": [
    {
     "name": "stdout",
     "output_type": "stream",
     "text": [
      "[  0.  65.  70.  15.  85.  50. 100.  60.  75.  40.  80.  30.  72.  nan\n",
      "  20.  90.  95.  55.  84.  35.  97.  10.  58.  96.  86.  62.   5.   1.\n",
      "  25.  51.   9.  61.  87.  49.   2.  48.  77.  66.  13.   3.  89.  45.\n",
      "   4.  88.  99.  98.  67.  11.   6.  93.  33.  31.  83.  52.  26.  12.\n",
      "  63.  73.   7.  36.  69.  29.]\n"
     ]
    }
   ],
   "source": [
    "print(df_anes['pff_jb'].unique())"
   ]
  },
  {
   "cell_type": "code",
   "execution_count": 367,
   "metadata": {},
   "outputs": [],
   "source": [
    "### V201152 = pff_dt\n",
    "mapping = {\n",
    "    'Very unfavorable': 1.0,\n",
    "    'Somewhat unfavorable': 2.0,\n",
    "    'Neutral': 3.0,\n",
    "    'Somewhat favorable': 4.0,\n",
    "    'Very favorable': 5.0\n",
    "}\n",
    "# Apply the mapping to the yougov column, using NaN for other entries\n",
    "df_yougov['pff_dt'] = df_yougov['pff_dt'].map(mapping).fillna(np.nan).astype('float')"
   ]
  },
  {
   "cell_type": "code",
   "execution_count": 368,
   "metadata": {},
   "outputs": [
    {
     "name": "stdout",
     "output_type": "stream",
     "text": [
      "1:  1111\n",
      "2:  176\n",
      "3:  283\n",
      "4:  310\n",
      "5:  535\n"
     ]
    }
   ],
   "source": [
    "# Count the number of 1.0s and 2.0s\n",
    "counts = df_yougov['pff_dt'].value_counts()\n",
    "\n",
    "# Print the counts for 1.0 and 2.0\n",
    "print('1: ', counts.get(1.0, 0))\n",
    "print('2: ', counts.get(2.0, 0))\n",
    "print('3: ', counts.get(3.0, 0))\n",
    "print('4: ', counts.get(4.0, 0))\n",
    "print('5: ', counts.get(5.0, 0))\n"
   ]
  },
  {
   "cell_type": "code",
   "execution_count": 369,
   "metadata": {},
   "outputs": [],
   "source": [
    "#anes feeling thermom\n",
    "\n",
    "# Convert all entries to numeric, setting errors='coerce' will replace non-numeric values with NaN\n",
    "df_anes['pff_dt'] = pd.to_numeric(df_anes['pff_dt'], errors='coerce')\n",
    "\n",
    "# Replace entries that are not between 0 and 100 (inclusive) with NaN\n",
    "df_anes.loc[~((df_anes['pff_dt'] >= 0) & (df_anes['pff_dt'] <= 100)), 'pff_dt'] = np.nan"
   ]
  },
  {
   "cell_type": "code",
   "execution_count": 370,
   "metadata": {},
   "outputs": [
    {
     "name": "stdout",
     "output_type": "stream",
     "text": [
      "[100.   0.  15.  85.  75.  40.  95.   5.  60.  nan  70.  98.  80.  30.\n",
      "  65.  50.  90.  10.  20.  18.  68.   3.  66.  52.  25.  55.  86.  45.\n",
      "   9.   1.  89.  99.  87.   8.   7.  88.  35.   6.  24.  69.  74.  92.\n",
      "  49.   2.  72.  77.  34.  12.  94.  91.  82.  29.  56.  51.  64.]\n"
     ]
    }
   ],
   "source": [
    "print(df_anes['pff_dt'].unique())"
   ]
  },
  {
   "cell_type": "code",
   "execution_count": 371,
   "metadata": {},
   "outputs": [],
   "source": [
    "### V201200 = ideo7\n",
    "### 1 liberal to 7 conservative \n",
    "### V201152 = pff_dt\n",
    "mapping = {\n",
    "    'Extremely liberal': 1.0,\n",
    "    'Liberal': 2.0,\n",
    "    'Slightly liberal': 3.0,\n",
    "    'Moderate; middle of the road': 4.0,\n",
    "    'Slightly conservative': 5.0,\n",
    "    'Conservative': 6.0,\n",
    "    'Extremely conservative': 7.0\n",
    "}\n",
    "# Apply the mapping to the yougov column, using NaN for other entries\n",
    "df_yougov['ideo7'] = df_yougov['ideo7'].map(mapping).fillna(np.nan).astype('float')"
   ]
  },
  {
   "cell_type": "code",
   "execution_count": 372,
   "metadata": {},
   "outputs": [
    {
     "name": "stdout",
     "output_type": "stream",
     "text": [
      "1:  202\n",
      "2:  404\n",
      "3:  159\n",
      "4:  811\n",
      "5:  190\n",
      "6:  443\n",
      "7:  233\n"
     ]
    }
   ],
   "source": [
    "# Count the number of 1.0s and 2.0s\n",
    "counts = df_yougov['ideo7'].value_counts()\n",
    "\n",
    "# Print the counts for 1.0 and 2.0\n",
    "print('1: ', counts.get(1.0, 0))\n",
    "print('2: ', counts.get(2.0, 0))\n",
    "print('3: ', counts.get(3.0, 0))\n",
    "print('4: ', counts.get(4.0, 0))\n",
    "print('5: ', counts.get(5.0, 0))\n",
    "print('6: ', counts.get(6.0, 0))\n",
    "print('7: ', counts.get(7.0, 0))\n"
   ]
  },
  {
   "cell_type": "code",
   "execution_count": 373,
   "metadata": {},
   "outputs": [],
   "source": [
    "df_anes.loc[~df_anes['ideo7'].isin([1.0, 2.0, 3.0, 4.0, 5.0, 6.0, 7.0]), 'ideo7'] = np.nan"
   ]
  },
  {
   "cell_type": "code",
   "execution_count": 374,
   "metadata": {},
   "outputs": [
    {
     "name": "stdout",
     "output_type": "stream",
     "text": [
      "[ 6.  4.  2.  3.  5. nan  1.  7.]\n"
     ]
    }
   ],
   "source": [
    "print(df_anes['ideo7'].unique())"
   ]
  },
  {
   "cell_type": "code",
   "execution_count": 375,
   "metadata": {},
   "outputs": [
    {
     "name": "stdout",
     "output_type": "stream",
     "text": [
      "[ 7.  4.  3.  6.  2.  1.  5. nan]\n"
     ]
    }
   ],
   "source": [
    "### pid7 = V201231x\n",
    "#1 dem to 7 republican\n",
    "df_anes.loc[~df_anes['pid7'].isin([1.0, 2.0, 3.0, 4.0, 5.0, 6.0, 7.0]), 'pid7'] = np.nan\n",
    "print(df_anes['pid7'].unique())"
   ]
  },
  {
   "cell_type": "code",
   "execution_count": 376,
   "metadata": {},
   "outputs": [],
   "source": [
    "\n",
    "mapping = {\n",
    "    'Strong Democrat': 1.0,\n",
    "    'Not very strong Democrat': 2.0,\n",
    "    'Lean Democrat': 3.0,\n",
    "    'Independent': 4.0,\n",
    "    'Lean Republican': 5.0,\n",
    "    'Not very strong Republican': 6.0,\n",
    "    'Strong Republican': 7.0\n",
    "}\n",
    "# Apply the mapping to the yougov column, using NaN for other entries\n",
    "df_yougov['pid7'] = df_yougov['pid7'].map(mapping).fillna(np.nan).astype('float')"
   ]
  },
  {
   "cell_type": "code",
   "execution_count": 377,
   "metadata": {},
   "outputs": [
    {
     "name": "stdout",
     "output_type": "stream",
     "text": [
      "1:  567\n",
      "2:  286\n",
      "3:  203\n",
      "4:  456\n",
      "5:  219\n",
      "6:  203\n",
      "7:  418\n"
     ]
    }
   ],
   "source": [
    "counts = df_yougov['pid7'].value_counts()\n",
    "# Print the counts \n",
    "print('1: ', counts.get(1.0, 0))\n",
    "print('2: ', counts.get(2.0, 0))\n",
    "print('3: ', counts.get(3.0, 0))\n",
    "print('4: ', counts.get(4.0, 0))\n",
    "print('5: ', counts.get(5.0, 0))\n",
    "print('6: ', counts.get(6.0, 0))\n",
    "print('7: ', counts.get(7.0, 0))"
   ]
  },
  {
   "cell_type": "code",
   "execution_count": 378,
   "metadata": {},
   "outputs": [
    {
     "name": "stdout",
     "output_type": "stream",
     "text": [
      "[ 3.  2.  4.  5.  1. nan]\n"
     ]
    }
   ],
   "source": [
    "# V201351 = election_fairnness\n",
    "#anes 1 not confident to 5 confident\n",
    "\n",
    "df_anes.loc[~df_anes['election_fairnness'].isin([1.0, 2.0, 3.0, 4.0, 5.0]), 'election_fairnness'] = np.nan\n",
    "print(df_anes['election_fairnness'].unique())\n"
   ]
  },
  {
   "cell_type": "code",
   "execution_count": 379,
   "metadata": {},
   "outputs": [],
   "source": [
    "\n",
    "mapping = {\n",
    "    'Extremely confident': 5.0,\n",
    "    'Very confident': 4.0,\n",
    "    'Moderately confident': 3.0,\n",
    "    'A little confident': 2.0,\n",
    "    'Not at all confident': 1.0\n",
    "}\n",
    "# Apply the mapping to the yougov column, using NaN for other entries\n",
    "df_yougov['election_fairnness'] = df_yougov['election_fairnness'].map(mapping).fillna(np.nan).astype('float')"
   ]
  },
  {
   "cell_type": "code",
   "execution_count": 380,
   "metadata": {},
   "outputs": [
    {
     "name": "stdout",
     "output_type": "stream",
     "text": [
      "1:  751\n",
      "2:  205\n",
      "3:  359\n",
      "4:  300\n",
      "5:  827\n"
     ]
    }
   ],
   "source": [
    "counts = df_yougov['election_fairnness'].value_counts()\n",
    "# Print the counts \n",
    "print('1: ', counts.get(1.0, 0))\n",
    "print('2: ', counts.get(2.0, 0))\n",
    "print('3: ', counts.get(3.0, 0))\n",
    "print('4: ', counts.get(4.0, 0))\n",
    "print('5: ', counts.get(5.0, 0))"
   ]
  },
  {
   "cell_type": "code",
   "execution_count": 381,
   "metadata": {},
   "outputs": [
    {
     "name": "stdout",
     "output_type": "stream",
     "text": [
      "[ 6.  3.  2.  4.  8.  7.  1.  5. nan]\n"
     ]
    }
   ],
   "source": [
    "### V201510 = educ\n",
    "# ANES : \n",
    "# 1 less than hs\n",
    "# 2. high school\n",
    "#3. some college no degree\n",
    "#4. associate degree in college - occupational/vocational\n",
    "#5. Associate degree in college - academic\n",
    "# 6. bachelor's degree \n",
    "#7. Master's degree\n",
    "# 8. Professional/doctorate degree\n",
    "\n",
    "df_anes.loc[~df_anes['educ'].isin([1.0, 2.0, 3.0, 4.0, 5.0, 6.0, 7.0, 8.0]), 'educ'] = np.nan\n",
    "print(df_anes['educ'].unique())"
   ]
  },
  {
   "cell_type": "code",
   "execution_count": 382,
   "metadata": {},
   "outputs": [],
   "source": [
    "#YG: indirect mapping where 1 is no educ and 6 is high\n",
    "\n",
    "mapping = {\n",
    "    'No HS': 1.0,\n",
    "    'High school graduate': 2.0,\n",
    "    'Some college': 3.0,\n",
    "    '2-year': 4.0,\n",
    "    '4-year': 5.0,\n",
    "    'Post-grad': 6.0\n",
    "}\n",
    "# Apply the mapping to the yougov column, using NaN for other entries\n",
    "df_yougov['educ'] = df_yougov['educ'].map(mapping).fillna(np.nan).astype('float')"
   ]
  },
  {
   "cell_type": "code",
   "execution_count": 383,
   "metadata": {},
   "outputs": [
    {
     "name": "stdout",
     "output_type": "stream",
     "text": [
      "1:  111\n",
      "2:  660\n",
      "3:  511\n",
      "4:  240\n",
      "5:  582\n"
     ]
    }
   ],
   "source": [
    "counts = df_yougov['educ'].value_counts()\n",
    "# Print the counts \n",
    "print('1: ', counts.get(1.0, 0))\n",
    "print('2: ', counts.get(2.0, 0))\n",
    "print('3: ', counts.get(3.0, 0))\n",
    "print('4: ', counts.get(4.0, 0))\n",
    "print('5: ', counts.get(5.0, 0))"
   ]
  },
  {
   "cell_type": "code",
   "execution_count": 384,
   "metadata": {},
   "outputs": [
    {
     "name": "stdout",
     "output_type": "stream",
     "text": [
      "[ 1.  2. nan]\n"
     ]
    }
   ],
   "source": [
    "### V201558x = hispanic\n",
    "# recoding all to 1. yes 2. no\n",
    "\n",
    "mapping = {\n",
    "    1.0: 1.0,\n",
    "    2.0: 1.0,\n",
    "    3.0: 1.0,\n",
    "    4.0: 1.0,\n",
    "    7.0: 2.0\n",
    "}\n",
    "df_anes['hispanic'] = df_anes['hispanic'].map(mapping).fillna(np.nan)\n",
    "df_anes.loc[~df_anes['hispanic'].isin([1.0, 2.0]), 'hispanic'] = np.nan\n",
    "print(df_anes['hispanic'].unique())\n"
   ]
  },
  {
   "cell_type": "code",
   "execution_count": 1,
   "metadata": {},
   "outputs": [
    {
     "ename": "NameError",
     "evalue": "name 'df_yougov' is not defined",
     "output_type": "error",
     "traceback": [
      "\u001b[1;31m---------------------------------------------------------------------------\u001b[0m",
      "\u001b[1;31mNameError\u001b[0m                                 Traceback (most recent call last)",
      "Cell \u001b[1;32mIn[1], line 6\u001b[0m\n\u001b[0;32m      1\u001b[0m mapping \u001b[38;5;241m=\u001b[39m {\n\u001b[0;32m      2\u001b[0m     \u001b[38;5;124m'\u001b[39m\u001b[38;5;124mYes\u001b[39m\u001b[38;5;124m'\u001b[39m: \u001b[38;5;241m1.0\u001b[39m,\n\u001b[0;32m      3\u001b[0m     \u001b[38;5;124m'\u001b[39m\u001b[38;5;124mNo\u001b[39m\u001b[38;5;124m'\u001b[39m: \u001b[38;5;241m2.0\u001b[39m\n\u001b[0;32m      4\u001b[0m }\n\u001b[0;32m      5\u001b[0m \u001b[38;5;66;03m#yougov column\u001b[39;00m\n\u001b[1;32m----> 6\u001b[0m df_yougov[\u001b[38;5;124m'\u001b[39m\u001b[38;5;124mhispanic\u001b[39m\u001b[38;5;124m'\u001b[39m] \u001b[38;5;241m=\u001b[39m \u001b[43mdf_yougov\u001b[49m[\u001b[38;5;124m'\u001b[39m\u001b[38;5;124mhispanic\u001b[39m\u001b[38;5;124m'\u001b[39m]\u001b[38;5;241m.\u001b[39mmap(mapping)\u001b[38;5;241m.\u001b[39mfillna(np\u001b[38;5;241m.\u001b[39mnan)\u001b[38;5;241m.\u001b[39mastype(\u001b[38;5;28mfloat\u001b[39m)\n",
      "\u001b[1;31mNameError\u001b[0m: name 'df_yougov' is not defined"
     ]
    }
   ],
   "source": [
    "mapping = {\n",
    "    'Yes': 1.0,\n",
    "    'No': 2.0\n",
    "}\n",
    "#yougov column\n",
    "df_yougov['hispanic'] = df_yougov['hispanic'].map(mapping).fillna(np.nan).astype(float)"
   ]
  },
  {
   "cell_type": "code",
   "execution_count": 386,
   "metadata": {},
   "outputs": [
    {
     "name": "stdout",
     "output_type": "stream",
     "text": [
      "1:  320\n",
      "2:  2122\n",
      "3:  0\n"
     ]
    }
   ],
   "source": [
    "counts = df_yougov['hispanic'].value_counts()\n",
    "# Print the counts \n",
    "print('1: ', counts.get(1.0, 0))\n",
    "print('2: ', counts.get(2.0, 0))\n",
    "print('3: ', counts.get(3.0, 0))"
   ]
  },
  {
   "cell_type": "code",
   "execution_count": 387,
   "metadata": {},
   "outputs": [
    {
     "name": "stdout",
     "output_type": "stream",
     "text": [
      "[ 1.  3.  2.  5. nan  4.]\n"
     ]
    }
   ],
   "source": [
    "# partisan_violence = V201602\n",
    "# anes 1 not at all to 5 a great deal\n",
    "df_anes.loc[~df_anes['partisan_violence'].isin([1.0, 2.0, 3.0, 4.0, 5.0]), 'partisan_violence'] = np.nan\n",
    "print(df_anes['partisan_violence'].unique())\n"
   ]
  },
  {
   "cell_type": "code",
   "execution_count": 388,
   "metadata": {},
   "outputs": [],
   "source": [
    "mapping = {\n",
    "    'Always': 1.0,\n",
    "    'Frequently': 2.0,\n",
    "    'Occasionally': 3.0,\n",
    "    'Never': 4.0\n",
    "}\n",
    "# yougov column\n",
    "df_yougov['partisan_violence'] = df_yougov['partisan_violence'].map(mapping).fillna(np.nan).astype(float)"
   ]
  },
  {
   "cell_type": "code",
   "execution_count": 389,
   "metadata": {},
   "outputs": [
    {
     "name": "stdout",
     "output_type": "stream",
     "text": [
      "1:  55\n",
      "2:  70\n",
      "3:  201\n",
      "4:  2071\n"
     ]
    }
   ],
   "source": [
    "counts = df_yougov['partisan_violence'].value_counts()\n",
    "# Print the counts \n",
    "print('1: ', counts.get(1.0, 0))\n",
    "print('2: ', counts.get(2.0, 0))\n",
    "print('3: ', counts.get(3.0, 0))\n",
    "print('4: ', counts.get(4.0, 0))"
   ]
  },
  {
   "cell_type": "code",
   "execution_count": 390,
   "metadata": {},
   "outputs": [
    {
     "name": "stdout",
     "output_type": "stream",
     "text": [
      "[ 1.  3.  2.  7.  4.  6.  5. nan]\n"
     ]
    }
   ],
   "source": [
    "### V202242x = immigrant_citizenship\n",
    "# 1 favor to 7 oppose\n",
    "\n",
    "df_anes.loc[~df_anes['immigrant_citizenship'].isin([1.0, 2.0, 3.0, 4.0, 5.0, 6.0, 7.0]), 'immigrant_citizenship'] = np.nan\n",
    "print(df_anes['immigrant_citizenship'].unique())"
   ]
  },
  {
   "cell_type": "code",
   "execution_count": 391,
   "metadata": {},
   "outputs": [],
   "source": [
    "mapping = {\n",
    "    'Favor a great deal': 1.0,\n",
    "    'Favor a moderate amount': 2.0,\n",
    "    'Favor a little': 3.0,\n",
    "    'Neither favor nor oppose': 4.0,\n",
    "    'Oppose a little': 5.0,\n",
    "    'Oppose a moderate amount': 6.0,\n",
    "    'Oppose a great deal': 7.0\n",
    "}\n",
    "#yougov column\n",
    "df_yougov['immigrant_citizenship'] = df_yougov['immigrant_citizenship'].map(mapping).fillna(np.nan).astype(float)"
   ]
  },
  {
   "cell_type": "code",
   "execution_count": 392,
   "metadata": {},
   "outputs": [
    {
     "name": "stdout",
     "output_type": "stream",
     "text": [
      "1:  657\n",
      "2:  337\n",
      "3:  295\n",
      "4:  446\n",
      "5:  131\n",
      "6:  159\n",
      "7:  417\n"
     ]
    }
   ],
   "source": [
    "counts = df_yougov['immigrant_citizenship'].value_counts()\n",
    "# Print the counts \n",
    "print('1: ', counts.get(1.0, 0))\n",
    "print('2: ', counts.get(2.0, 0))\n",
    "print('3: ', counts.get(3.0, 0))\n",
    "print('4: ', counts.get(4.0, 0))\n",
    "print('5: ', counts.get(5.0, 0))\n",
    "print('6: ', counts.get(6.0, 0))\n",
    "print('7: ', counts.get(7.0, 0))"
   ]
  },
  {
   "cell_type": "code",
   "execution_count": 393,
   "metadata": {},
   "outputs": [
    {
     "name": "stdout",
     "output_type": "stream",
     "text": [
      "[ 1.  4.  7.  2.  6.  5. nan  3.]\n"
     ]
    }
   ],
   "source": [
    "### immigrant_deport = V202245x\n",
    "# 1 favor to 7 oppose\n",
    "\n",
    "df_anes.loc[~df_anes['immigrant_deport'].isin([1.0, 2.0, 3.0, 4.0, 5.0, 6.0, 7.0]), 'immigrant_deport'] = np.nan\n",
    "print(df_anes['immigrant_deport'].unique())"
   ]
  },
  {
   "cell_type": "code",
   "execution_count": 394,
   "metadata": {},
   "outputs": [],
   "source": [
    "mapping = {\n",
    "    'Favor a great deal': 1.0,\n",
    "    'Favor a moderate amount': 2.0,\n",
    "    'Favor a little': 3.0,\n",
    "    'Neither favor nor oppose': 4.0,\n",
    "    'Oppose a little': 5.0,\n",
    "    'Oppose a moderate amount': 6.0,\n",
    "    'Oppose a great deal': 7.0\n",
    "}\n",
    "#yougov column\n",
    "df_yougov['immigrant_deport'] = df_yougov['immigrant_deport'].map(mapping).fillna(np.nan).astype(float)"
   ]
  },
  {
   "cell_type": "code",
   "execution_count": 395,
   "metadata": {},
   "outputs": [
    {
     "name": "stdout",
     "output_type": "stream",
     "text": [
      "1:  408\n",
      "2:  207\n",
      "3:  199\n",
      "4:  536\n",
      "5:  215\n",
      "6:  233\n",
      "7:  644\n"
     ]
    }
   ],
   "source": [
    "# NOTE: suspicious numbers differ from logged yougov data\n",
    "counts = df_yougov['immigrant_deport'].value_counts()\n",
    "# Print the counts \n",
    "print('1: ', counts.get(1.0, 0))\n",
    "print('2: ', counts.get(2.0, 0))\n",
    "print('3: ', counts.get(3.0, 0))\n",
    "print('4: ', counts.get(4.0, 0))\n",
    "print('5: ', counts.get(5.0, 0))\n",
    "print('6: ', counts.get(6.0, 0))\n",
    "print('7: ', counts.get(7.0, 0))"
   ]
  },
  {
   "cell_type": "code",
   "execution_count": 396,
   "metadata": {},
   "outputs": [
    {
     "name": "stdout",
     "output_type": "stream",
     "text": [
      "[ 2.  1. nan]\n"
     ]
    }
   ],
   "source": [
    "# V202266 =auth_grid_1\n",
    "# independence 1 respect for elders 2\n",
    "\n",
    "df_anes.loc[~df_anes['auth_grid_1'].isin([1.0, 2.0]), 'auth_grid_1'] = np.nan\n",
    "print(df_anes['auth_grid_1'].unique())"
   ]
  },
  {
   "cell_type": "code",
   "execution_count": 397,
   "metadata": {},
   "outputs": [],
   "source": [
    "mapping = {\n",
    "    'Independence': 1.0,\n",
    "    'Respect for Elders': 2.0\n",
    "}\n",
    "#yougov column\n",
    "df_yougov['auth_grid_1'] = df_yougov['auth_grid_1'].map(mapping).fillna(np.nan).astype(float)"
   ]
  },
  {
   "cell_type": "code",
   "execution_count": 398,
   "metadata": {},
   "outputs": [
    {
     "name": "stdout",
     "output_type": "stream",
     "text": [
      "1:  883\n",
      "2:  1559\n"
     ]
    }
   ],
   "source": [
    "counts = df_yougov['auth_grid_1'].value_counts()\n",
    "# Print the counts \n",
    "print('1: ', counts.get(1.0, 0))\n",
    "print('2: ', counts.get(2.0, 0))"
   ]
  },
  {
   "cell_type": "code",
   "execution_count": 399,
   "metadata": {},
   "outputs": [
    {
     "name": "stdout",
     "output_type": "stream",
     "text": [
      "[ 2.  1. nan]\n"
     ]
    }
   ],
   "source": [
    "### V202267= auth_grid_3\n",
    "#1. curiosity 2. good manners\n",
    "\n",
    "df_anes.loc[~df_anes['auth_grid_3'].isin([1.0, 2.0]), 'auth_grid_3'] = np.nan\n",
    "print(df_anes['auth_grid_3'].unique())\n"
   ]
  },
  {
   "cell_type": "code",
   "execution_count": 400,
   "metadata": {},
   "outputs": [],
   "source": [
    "mapping = {\n",
    "    'Curiosity': 1.0,\n",
    "    'Good Manners': 2.0\n",
    "}\n",
    "#yougov column\n",
    "df_yougov['auth_grid_3'] = df_yougov['auth_grid_3'].map(mapping).fillna(np.nan).astype(float)"
   ]
  },
  {
   "cell_type": "code",
   "execution_count": 401,
   "metadata": {},
   "outputs": [
    {
     "name": "stdout",
     "output_type": "stream",
     "text": [
      "1:  998\n",
      "2:  1444\n"
     ]
    }
   ],
   "source": [
    "counts = df_yougov['auth_grid_3'].value_counts()\n",
    "# Print the counts \n",
    "print('1: ', counts.get(1.0, 0))\n",
    "print('2: ', counts.get(2.0, 0))"
   ]
  },
  {
   "cell_type": "code",
   "execution_count": 402,
   "metadata": {},
   "outputs": [
    {
     "name": "stdout",
     "output_type": "stream",
     "text": [
      "[ 2.  1. nan]\n"
     ]
    }
   ],
   "source": [
    "### V202268 = auth_grid_2\n",
    "#1. obedience 2. self-reliance\n",
    "\n",
    "df_anes.loc[~df_anes['auth_grid_2'].isin([1.0, 2.0]), 'auth_grid_2'] = np.nan\n",
    "print(df_anes['auth_grid_2'].unique())"
   ]
  },
  {
   "cell_type": "code",
   "execution_count": 403,
   "metadata": {},
   "outputs": [],
   "source": [
    "mapping = {\n",
    "    'Obedience': 1.0,\n",
    "    'Self-reliance': 2.0\n",
    "}\n",
    "#yougov column\n",
    "df_yougov['auth_grid_2'] = df_yougov['auth_grid_2'].map(mapping).fillna(np.nan).astype(float)"
   ]
  },
  {
   "cell_type": "code",
   "execution_count": 404,
   "metadata": {},
   "outputs": [
    {
     "name": "stdout",
     "output_type": "stream",
     "text": [
      "1:  1575\n",
      "2:  867\n"
     ]
    }
   ],
   "source": [
    "#DEBUG: answers appear to be reversed \n",
    "counts = df_yougov['auth_grid_2'].value_counts()\n",
    "# Print the counts \n",
    "print('1: ', counts.get(1.0, 0))\n",
    "print('2: ', counts.get(2.0, 0))"
   ]
  },
  {
   "cell_type": "code",
   "execution_count": 405,
   "metadata": {},
   "outputs": [
    {
     "name": "stdout",
     "output_type": "stream",
     "text": [
      "[21. 13. 17.  7. 22.  3.  4. 10. 11.  9. 18.  1. 20.  5. 12.  6. 15.  8.\n",
      " nan 19. 14. 16.  2.]\n"
     ]
    }
   ],
   "source": [
    "### faminc_new = V202468x\n",
    "# ANES: 1 low through 22 high (250000)\n",
    "\n",
    "# Convert all entries to numeric, setting errors='coerce' will replace non-numeric values with NaN\n",
    "df_anes['faminc_new'] = pd.to_numeric(df_anes['faminc_new'], errors='coerce')\n",
    "\n",
    "# Replace entries that are not between 0 and 100 (inclusive) with NaN\n",
    "df_anes.loc[~((df_anes['faminc_new'] >= 0) & (df_anes['faminc_new'] <= 22)), 'faminc_new'] = np.nan\n",
    "\n",
    "print(df_anes['faminc_new'].unique())\n"
   ]
  },
  {
   "cell_type": "code",
   "execution_count": 406,
   "metadata": {},
   "outputs": [],
   "source": [
    "mapping = {\n",
    "    'Less than $10,000': 1.0,\n",
    "    '$10,000 - $19,999': 2.0,\n",
    "    '$20,000 - $29,999': 3.0,\n",
    "    '$30,000 - $39,999': 4.0,\n",
    "    '$40,000 - $49,999': 5.0,\n",
    "    '$50,000 - $59,999': 6.0,\n",
    "    '$60,000 - $69,999': 7.0,\n",
    "    '$70,000 - $79,999': 8.0,\n",
    "    '$80,000 - $99,999': 9.0,\n",
    "    '$100,000 - $119,999': 10.0,\n",
    "    '$120,000 - $149,999': 11.0,\n",
    "    '$150,000 - $199,999': 12.0,\n",
    "    '$200,000 - $249,999': 13.0,\n",
    "    '$250,000 - $349,999': 14.0,\n",
    "    '$350,000 - $499,999': 15.0,\n",
    "    '$500,000 or more': 16.0\n",
    "}\n",
    "# yougov column\n",
    "df_yougov['faminc_new'] = df_yougov['faminc_new'].map(mapping).fillna(np.nan).astype(float)"
   ]
  },
  {
   "cell_type": "code",
   "execution_count": 407,
   "metadata": {},
   "outputs": [
    {
     "name": "stdout",
     "output_type": "stream",
     "text": [
      "1:  181\n",
      "2:  118\n",
      "12:  203\n"
     ]
    }
   ],
   "source": [
    "# DEBUG: this doesn't look right either\n",
    "counts = df_yougov['faminc_new'].value_counts()\n",
    "# Print the counts \n",
    "print('1: ', counts.get(1.0, 0))\n",
    "print('2: ', counts.get(2.0, 0))\n",
    "print('12: ', counts.get(12.0, 0))"
   ]
  },
  {
   "cell_type": "code",
   "execution_count": null,
   "metadata": {},
   "outputs": [],
   "source": [
    "### RACE RESENT"
   ]
  },
  {
   "cell_type": "code",
   "execution_count": 408,
   "metadata": {},
   "outputs": [],
   "source": [
    "#DEBUG: w1, w2, w3 specifications\n",
    "### wc_together = V202483\n",
    "# 1 important to 5 not\n",
    "#df_anes.loc[~df_anes['wc_together'].isin([1.0, 2.0, 3.0, 4.0, 5.0]), 'wc_together'] = np.nan\n",
    "#print(df_anes['wc_together'].unique())"
   ]
  },
  {
   "cell_type": "code",
   "execution_count": 409,
   "metadata": {},
   "outputs": [
    {
     "data": {
      "text/plain": [
       "\"mapping = {\\n    'Extremely important': 1.0,\\n    'Very important': 2.0,\\n    'Moderately important': 3.0,\\n    'A little important': 4.0,\\n    'Not at all important': 5.0\\n}\\ndf_yougov['wc_together'] = df_yougov['wc_together'].map(mapping).fillna(np.nan)\\n\""
      ]
     },
     "execution_count": 409,
     "metadata": {},
     "output_type": "execute_result"
    }
   ],
   "source": [
    "'''mapping = {\n",
    "    'Extremely important': 1.0,\n",
    "    'Very important': 2.0,\n",
    "    'Moderately important': 3.0,\n",
    "    'A little important': 4.0,\n",
    "    'Not at all important': 5.0\n",
    "}\n",
    "df_yougov['wc_together'] = df_yougov['wc_together'].map(mapping).fillna(np.nan)\n",
    "'''"
   ]
  },
  {
   "cell_type": "code",
   "execution_count": 410,
   "metadata": {},
   "outputs": [
    {
     "data": {
      "text/plain": [
       "\"counts = df_yougov['wc_together'].value_counts()\\n# Print the counts \\nprint('1: ', counts.get(1.0, 0))\\nprint('2: ', counts.get(2.0, 0))\\nprint('3: ', counts.get(3.0, 0))\\nprint('4: ', counts.get(4.0, 0))\\nprint('5: ', counts.get(5.0, 0))\""
      ]
     },
     "execution_count": 410,
     "metadata": {},
     "output_type": "execute_result"
    }
   ],
   "source": [
    "\n",
    "'''counts = df_yougov['wc_together'].value_counts()\n",
    "# Print the counts \n",
    "print('1: ', counts.get(1.0, 0))\n",
    "print('2: ', counts.get(2.0, 0))\n",
    "print('3: ', counts.get(3.0, 0))\n",
    "print('4: ', counts.get(4.0, 0))\n",
    "print('5: ', counts.get(5.0, 0))'''\n"
   ]
  },
  {
   "cell_type": "code",
   "execution_count": 411,
   "metadata": {},
   "outputs": [],
   "source": [
    "### same with all vars past this point"
   ]
  },
  {
   "cell_type": "code",
   "execution_count": 412,
   "metadata": {},
   "outputs": [
    {
     "name": "stdout",
     "output_type": "stream",
     "text": [
      "0      -1.0\n",
      "1      -1.0\n",
      "2      -1.0\n",
      "3      -1.0\n",
      "4      -1.0\n",
      "       ... \n",
      "8275   -1.0\n",
      "8276   -1.0\n",
      "8277   -1.0\n",
      "8278    1.0\n",
      "8279   -1.0\n",
      "Name: turnout20post, Length: 8280, dtype: float64\n"
     ]
    }
   ],
   "source": [
    "# Check the data type of the column \n",
    "print(df_anes['turnout20post'])"
   ]
  },
  {
   "cell_type": "code",
   "execution_count": null,
   "metadata": {},
   "outputs": [],
   "source": [
    "# Save the DataFrames as Stata .dta files\n",
    "df_anes.to_stata('temp_anes.dta')"
   ]
  },
  {
   "cell_type": "code",
   "execution_count": 414,
   "metadata": {},
   "outputs": [
    {
     "name": "stdout",
     "output_type": "stream",
     "text": [
      "Index([], dtype='object')\n"
     ]
    }
   ],
   "source": [
    "df_yougov = df_yougov.drop(columns=['race'])\n",
    "print(df_yougov.select_dtypes(include=['category']).columns)"
   ]
  },
  {
   "cell_type": "code",
   "execution_count": 416,
   "metadata": {},
   "outputs": [],
   "source": [
    "df_yougov.to_stata('temp_yougov.dta')"
   ]
  }
 ],
 "metadata": {
  "kernelspec": {
   "display_name": "torchenv",
   "language": "python",
   "name": "python3"
  },
  "language_info": {
   "codemirror_mode": {
    "name": "ipython",
    "version": 3
   },
   "file_extension": ".py",
   "mimetype": "text/x-python",
   "name": "python",
   "nbconvert_exporter": "python",
   "pygments_lexer": "ipython3",
   "version": "3.9.15"
  }
 },
 "nbformat": 4,
 "nbformat_minor": 4
}
